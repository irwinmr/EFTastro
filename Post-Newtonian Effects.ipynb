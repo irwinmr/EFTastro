{
 "cells": [
  {
   "cell_type": "code",
   "execution_count": 2,
   "metadata": {},
   "outputs": [],
   "source": [
    "import numpy as np\n",
    "import time\n",
    "import math\n",
    "import modules as md\n",
    "%matplotlib inline\n",
    "import matplotlib.pyplot as plt\n",
    "import matplotlib as mpl\n",
    "from mpl_toolkits.mplot3d import Axes3D\n",
    "import matplotlib.pyplot as plt\n",
    "\n",
    "\n",
    "#------------------------------------------------------------------------------------------\n",
    "#Units and conversions:\n",
    "#------------------------------------------------------------------------------------------\n",
    "#code units: Rsun, Msun, G=1, ...\n",
    "c_SI       = 299792458.0        #m/s\n",
    "M_sun_SI   = 1.989*(10.**30.)   #kg\n",
    "R_sun_SI   = 695800000.         #m\n",
    "R_bull_SI = 1000 #m \n",
    "AU_SI      = 149597871000.      #m \n",
    "G_new_SI   = 6.67*(10.**(-11.)) #m**3 kg**(-1) s**(-2)\n",
    "AU_U       = AU_SI/R_sun_SI                             #from dist AU to code units (U)\n",
    "kmsec_U    = 1000./np.sqrt(G_new_SI*M_sun_SI/R_bull_SI)  #from vel km/sec to code units (U)\n",
    "time_U     = 1/np.sqrt(G_new_SI*M_sun_SI/R_bull_SI**3) #from CU to second np.sqrt((R_bull_SI)/(G_new_SI*M_sun_SI)) #from code units(U) to time sec\n",
    "#Rsch_1Msun_unitRsun = ((2.*G_new_SI*(1.*M_sun_SI))/(c_SI**2.))/R_sun_SI\n",
    "c_CU = c_SI/1000*kmsec_U"
   ]
  },
  {
   "cell_type": "markdown",
   "metadata": {},
   "source": [
    "## Newtonian "
   ]
  },
  {
   "cell_type": "code",
   "execution_count": 3,
   "metadata": {},
   "outputs": [],
   "source": [
    "#Acceleration\n",
    "\n",
    "def acc(r,m): #r position, m mass\n",
    "    a = np.zeros((len(r),3)) #Create acceleration vector\n",
    "    for i in range(len(r)): #Range is size of timesteps or position steps\n",
    "        for j in range(len(r)): #For each particle\n",
    "            if (i != j):\n",
    "                rrel = r[i]-r[j]\n",
    "                rn = (rrel**2).sum()**(1./2) \n",
    "                a[i] += -(rrel)*m[j]/(rn**3.0) #Acceleration at each time step \n",
    "    return a # return acceleration\n",
    "\n",
    "\n",
    "def Jerk(r,v,m): #position, velocity, mass\n",
    "    Je = np.zeros((len(r),3)) #Define the Jerk\n",
    "    for i in range(len(r)):\n",
    "        for j in range(len(r)):\n",
    "            if (i != j):\n",
    "                rrel = r[i]-r[j]\n",
    "                vrel = v[i]-v[j]\n",
    "                rn = (rrel**2).sum()**(1./2) # dot product\n",
    "                vn = (vrel**2).sum()**(1./2)\n",
    "                rvd = ((rrel)*(vrel)).sum()\n",
    "                Je[i] += - m[j]*((vrel)/rn**3.0 - 3.*(rvd*rrel/(rn**5.0))) \n",
    "    return Je;\n"
   ]
  },
  {
   "cell_type": "markdown",
   "metadata": {},
   "source": [
    "# Post-Newtonian "
   ]
  },
  {
   "cell_type": "code",
   "execution_count": 4,
   "metadata": {},
   "outputs": [],
   "source": [
    "#PN Acceleration\n",
    "def accPN(r,v,m): #r position, m mass, s spin, m mass of secondary\n",
    "    a = np.zeros((len(r),3)) #Create acceleration vector\n",
    "    a1 = np.zeros((len(r),3)) #Create acceleration vector\n",
    "    a2 = np.zeros((len(r),3)) #Create acceleration vector\n",
    "\n",
    "    for i in range(len(r)): #Range is size of timesteps or position steps\n",
    "        for j in range(len(r)): #For each particle           \n",
    "            if (i != j):\n",
    "                rrel = r[i]-r[j] \n",
    "                vrel = v[i]-v[j]\n",
    "                rn = ((rrel**2).sum())**(1./2) #norm\n",
    "                runi = 1.*rrel/rn\n",
    "                #rvd = ((rrel)*(vrel)).sum()\n",
    "                ruvd = ((runi)*(vrel)).sum() #dot product\n",
    "                v2d = (vrel**2).sum()\n",
    "                a1[i] += +(4./5)*(1./c_CU**5)*(m[i]*m[j]/(rn**3))*((2*m[i]/rn - 8*m[j]/rn - v2d)*vrel) #Need to divide by m[i]\n",
    "                a2[i] += +(4./5)*(1./c_CU**5)*(m[i]*m[j]/(rn**3))*(runi*ruvd*(52.0*m[j]/(3*rn) - 6*m[i]/rn + 3.0*v2d)) #Need to divide by m[i]\n",
    "                a[i] += a1[i] + a2[i] #a1[i] +  \n",
    "    return a#, a1, a2 # return acceleration\n",
    "\n",
    "\n",
    "#PN Jerk v2\n",
    "\n",
    "def JerkPN(r,v,a,m): #position, velocity, mass\n",
    "    JePNLO3 = np.zeros((len(r),3))\n",
    "    JePNLO3v2 = np.zeros((len(r),3))\n",
    "    JePNLO4 = np.zeros((len(r),3))\n",
    "    JePNLO5 = np.zeros((len(r),3))#Define the Jerk\n",
    "    for i in range(len(r)):\n",
    "        for j in range(len(r)):\n",
    "            if (i != j):\n",
    "                rrel = r[i]-r[j] \n",
    "                vrel = v[i]-v[j]\n",
    "                arel = a[i]-a[j]\n",
    "                rn = ((rrel**2).sum())**(1./2) #norm                                                    \n",
    "                vn = ((vrel**2).sum())**(1./2) \n",
    "                runi = 1.*rrel/rn\n",
    "                ruvd = (runi*vrel).sum()   \n",
    "                ruad = (runi*arel).sum()                                                  \n",
    "                vad = (vrel*arel).sum()\n",
    "                JePNLO3[i] += (4./5)*(1./(c_CU**5))*(m[j]*m[i]/(rn**3))*(-(vn**2)*arel + 2*vad*vrel + 3*((ruvd*(vn**2)*vrel) + 2*( vad*ruvd + (vn**2)*ruad)*runi))                \n",
    "                JePNLO4[i] += (4./5)*(1./(c_CU**5))*(m[j]*m[i]/(rn**4))*(3*ruvd*(vn**2)*vrel + 2*(m[i]-m[j])*arel+ 3*(vn**4)*runi - 15*(ruvd**2)*(vn**2)*runi + ((52./3)*m[j]-6*m[i])*(ruad)*runi)\n",
    "                JePNLO5[i] += (4./5)*(1./(c_CU**5))*(m[j]*m[i]/(rn**5))*(-8*(m[i] - m[j])*(ruvd)*vrel + ((52./3)*m[j]-6*m[i])*((vn**2)*runi + ruvd*vrel - 6*((ruvd**2)*runi)))\n",
    "                JePNLOt = JePNLO3 + JePNLO4 + JePNLO5 \n",
    "    return JePNLOt \n",
    "\n",
    "\n",
    "'''\n",
    "def JerkPN(r,v,a,m): #position, velocity, mass\n",
    "    JePNLO3 = np.zeros((len(r),3))\n",
    "    JePNLO4 = np.zeros((len(r),3))\n",
    "    JePNLO5 = np.zeros((len(r),3))#Define the Jerk\n",
    "    for i in range(len(r)):\n",
    "        for j in range(len(r)):\n",
    "            if (i != j):\n",
    "                rrel = r[i]-r[j] \n",
    "                vrel = v[i]-v[j]\n",
    "                arel = a[i]-a[j]\n",
    "                rn = ((rrel**2).sum())**(1./2) #norm                                                    \n",
    "                vn = ((vrel**2).sum())**(1./2) \n",
    "                runi = 1.*rrel/rn\n",
    "                #ruvd = (runi*vrel).sum()   \n",
    "                #ruad = (runi*arel).sum()                                                  \n",
    "                #vad = (vrel*arel).sum()\n",
    "                JePNLO3[i] += (4./5)*(1./(c_CU**5))*(m[j]*m[i]/(rn**3))*(-(vn**2)*arel + 2*(np.dot(vrel,arel))*vrel + 3*((np.dot(runi,vrel)*(vn**2)*vrel) + 2*( np.dot(vrel,arel)*np.dot(runi,vrel) + (vn**2)*(np.dot(runi,arel)))*runi))\n",
    "                JePNLO4[i] += (4./5)*(1./(c_CU**5))*(m[j]*m[i]/(rn**4))*(3*np.dot(runi,vrel)*(vn**2)*vrel + 2*(m[i]-m[j])*arel+ 3*(vn**4)*runi - 15*(np.dot(runi,vrel)**2)*(vn**2)*runi + ((52./3)*m[j]-6*m[i])*(np.dot(runi,arel))*runi)\n",
    "                JePNLO5[i] += (4./5)*(1./(c_CU**5))*(m[j]*m[i]/(rn**5))*(-8*(m[i] - m[j])*(np.dot(runi,vrel))*vrel + ((52./3)*m[j]-6*m[i])*((vn**2)*runi + np.dot(runi,vrel)*vrel - 6*((np.dot(runi,vrel)**2)*runi)))\n",
    "                #Need to correct the Jerks, old version is working, newone is not\n",
    "                #JePNLO3[i] += (4./5)*(1./(c_CU**5))*(m[j]*m[i]/(rn**3))*(-(vn**2)*acc[i] + 2*vad*vrel + 3*((ruvd*(vn**2)*vrel) + 2*vad*ruvd + (vn**2)*ruad*runi))\n",
    "                #JePNLO4[i] += (4./5)*(1./(c_CU**5))*(m[j]*m[i]/(rn**4))*(3*ruvd*(vn**2)*vrel + 2*(m[i]-m[j])*acc[i] + 3*(vn**4)*runi - 15*(ruvd**2)*(vn**2)*runi + ((52./3)*m[j]-6*m[i])*(ruad)*runi)\n",
    "                #JePNLO5[i] += (4./5)*(1./(c_CU**5))*(m[j]*m[i]/(rn**5))*(-8*(m[i] - m[j])*(ruvd)*vrel + ((52./3)*m[j]-6*m[i])*((vn**2)*runi + ruvd*vrel - 6*((ruvd**2)*runi))       )\n",
    "                JePNLOt = JePNLO3 + JePNLO4 + JePNLO5 \n",
    "    return JePNLOt #JePNLO3 + JePNLO4 # \n",
    "'''\n",
    "\n",
    "#PN hermite Update Dynamical Timestep\n",
    "def HermiteUpdatePNdt(dt, r, v, m): # m mass of the star\n",
    "    aN = acc(r, m)  \n",
    "    aPN = accPN(r, v, m)# current acceleration\n",
    "    a = aN + aPN\n",
    "    aNdot = Jerk(r,v,m)   # current jerks\n",
    "    aPNdot = JerkPN(r, v, a, m)\n",
    "    adot = aNdot + aPNdot\n",
    "    rp = r + dt*v + dt**2/2 * a  + (dt**3)/6*adot   # predict\n",
    "    vp = v + dt*a + dt**2/2 * adot\n",
    "\n",
    "    aNp = acc(rp, m)\n",
    "    aPNp = accPN(rp, vp, m)\n",
    "    ap = aNp + aPNp         # predicted acceleration\n",
    "\n",
    "    aNdotp = Jerk(rp, vp, m)\n",
    "    aPNdotp = JerkPN(rp, vp, ap, m)\n",
    "    adotp = aNdotp + aPNdotp  # predicted jerks \n",
    "    \n",
    "    vp = v + dt/2*(a+ap) - dt**2/12*(adotp-adot)  # correct\n",
    "    rp = r + dt/2*(v + vp) - dt**2/12 * (ap-a)\n",
    "    ac = a + (adotp+adot)*dt/2\n",
    "    aNc = aN + (aNdotp+aNdot)*dt/2\n",
    "    aPNc = aPN + (aPNdot + aPNdotp)*dt/2\n",
    "    \n",
    "    dtp = dt\n",
    "     \n",
    "    return rp,vp,ac, aNc, aPNc, dtp\n",
    "    #return rp,vp,ap,adotp,aNp,aPNp,dtp #\n",
    "\n",
    "#PN Hermite Integrator Dynamical Timestep\n",
    "def Hermite4thPNdt(pri,sec, bina, nsteps, Dt):\n",
    "    \n",
    "    N=2\n",
    "    m = np.ones(N)#/N #Remove the N if not necessary\n",
    "    m[0]=pri.mass\n",
    "    m[1]=sec.mass\n",
    "    \n",
    "    r_res = np.zeros((2,3,nsteps)) # 2 because of two bodies\n",
    "    v_res = np.zeros((2,3,nsteps))\n",
    "    \n",
    "    #Uncomment this to get a more complete output\n",
    "    ac = np.zeros((2,3,nsteps)) # 2 because of two bodies\n",
    "    #adotc = np.zeros((2,3,nsteps))    \n",
    "    aNc = np.zeros((2,3,nsteps)) # 2 because of two bodies\n",
    "    #adotN_res = np.zeros((2,3,nsteps))\n",
    "    aPNc = np.zeros((2,3,nsteps)) # 2 because of two bodies\n",
    "    #adotPN_res = np.zeros((2,3,nsteps))\n",
    "    #a_resPN = np.zeros((2,3,nsteps))\n",
    "    #a_resPN2 = np.zeros((2,3,nsteps))\n",
    "    dtp = np.zeros(nsteps)\n",
    "    time = np.zeros(nsteps)\n",
    "    r_res[:,:,0] = bina.r.copy()\n",
    "    v_res[:,:,0] = bina.v.copy()\n",
    "    dtp[0] = Dt\n",
    "    \n",
    "    for i in range(1,nsteps):\n",
    "        (r_res[:,:,i],v_res[:,:,i], ac[:,:,i], aNc[:,:,i], aPNc[:,:,i],dtp[i]  ) = HermiteUpdatePNdt(Dt, r_res[:,:,i-1], v_res[:,:,i-1], m)\n",
    "        time[i] = time[i-1] + Dt #dtp[i-1]\n",
    "        #Time limit\n",
    "        if time[i] >= timelimit:\n",
    "            break\n",
    "        #BH or NS limit: Modify this part of the code so it stops at collision of any of the objects\n",
    "                                                                  \n",
    "        elif np.linalg.norm(r_res[0].T[i] - r_res[1].T[i]) < 1.*(pri.radisch+sec.radisch): #This is when running an equal mass bbh\n",
    "        #elif np.linalg.norm(r_res[0].T[i] - r_res[1].T[i]) < 1.*(bina.tidalrsec):\n",
    "            break\n",
    "                                                                  \n",
    "    #Uncomment this for a more complete output                                                              \n",
    "    #for i in range(1,nsteps):\n",
    "    #    (r_res[:,:,i],v_res[:,:,i],a_res[:,:,i],adot_res[:,:,i],aN_res[:,:,i],aPN_res[:,:,i],dtp[i]) = HermiteUpdatePNdt(dtp[i-1], r_res[:,:,i-1], v_res[:,:,i-1], m)\n",
    "    #    time[i] = time[i-1] + dtp[i-1]\n",
    "    #    if time[i] >= timelimit:\n",
    "    #        break\n",
    "    #    #elif np.linalg.norm(r_res[0].T[i] - r_res[1].T[i]) < 1.*(bh.radi+bh.radi): #This is when running and equal mass bbh\n",
    "    #    elif np.linalg.norm(r_res[0].T[i] - r_res[1].T[i]) < 1.*(nsbh2.tidalrpri):\n",
    "    #        break\n",
    "            \n",
    "    r_res = r_res[:,:,:i]\n",
    "    v_res = v_res[:,:,:i]\n",
    "    ac = ac[:,:,:i]\n",
    "    aNc = aNc[:,:,:i]\n",
    "    aPNc = aPNc[:,:,:i]\n",
    "    #a_resPN2 = a_resPN2[:,:,:i]\n",
    "    #adot_res = adot_res[:,:,:i]\n",
    "    dtp = dtp[:i]\n",
    "    time = time[:i]\n",
    "    \n",
    "    return r_res, v_res, ac, aNc, aPNc, time\n",
    "    #return r_res, v_res, a_res, adot_res, aN_res, aPN_res, dtp, time\n"
   ]
  },
  {
   "cell_type": "markdown",
   "metadata": {},
   "source": [
    "### Test "
   ]
  },
  {
   "cell_type": "markdown",
   "metadata": {},
   "source": [
    "#### Binary Black Hole "
   ]
  },
  {
   "cell_type": "code",
   "execution_count": 5,
   "metadata": {},
   "outputs": [],
   "source": [
    "#Define black holes\n",
    "bh = md.Particle(\"BH\",20,0,0) #stellar type, mass, radius, spin. At the momento for black holes choose r=0 and will set the Schwarzchild radius\n",
    "\n",
    "#Define binary\n",
    "bhbh = md.Binary(bh, bh, bh.radisch*10, 0) ##primary, secondary, orbital distance (Rsun), eccentricity \n"
   ]
  },
  {
   "cell_type": "code",
   "execution_count": 6,
   "metadata": {},
   "outputs": [
    {
     "name": "stdout",
     "output_type": "stream",
     "text": [
      "3.931969695663048\n"
     ]
    }
   ],
   "source": [
    "#Have implemented it, need to check it\n",
    "timetomerge =  (5./256)*(bhbh.orbd**4)*(c_CU**5)*(1./(bh.mass*bh.mass*(bh.mass+bh.mass)))\n",
    "\n",
    "print(timetomerge/bhbh.periodct)\n",
    "\n",
    "#accu = 0.01 #0.0001 Set accuracy parameter\n",
    "tl = 10*bhbh.periodct #Time of the simulation in [code units]\n",
    "timelimit = tl #\n",
    "dt = 0.01 #Guess a timestep\n",
    "Nsteps = int(tl/dt)#Number of timesteps with the guessed timestep "
   ]
  },
  {
   "cell_type": "code",
   "execution_count": 7,
   "metadata": {},
   "outputs": [],
   "source": [
    "rPN,vPN,ac,aNc,aPNc,timePN = Hermite4thPNdt(bh,bh, bhbh, Nsteps, dt)"
   ]
  },
  {
   "cell_type": "code",
   "execution_count": 8,
   "metadata": {},
   "outputs": [
    {
     "name": "stderr",
     "output_type": "stream",
     "text": [
      "No handles with labels found to put in legend.\n"
     ]
    },
    {
     "data": {
      "image/png": "[encoded data removed]",
      "text/plain": [
       "<Figure size 432x288 with 1 Axes>"
      ]
     },
     "metadata": {
      "needs_background": "light"
     },
     "output_type": "display_data"
    }
   ],
   "source": [
    "fig = plt.figure()\n",
    "ax = fig.gca(projection='3d')\n",
    "ax.plot(rPN[0][0], rPN[0][1], rPN[0][2], 'c', linewidth=1)# Plot the BH orbit\n",
    "ax.plot(rPN[1][0], rPN[1][1], rPN[1][2], 'm', linewidth=1)# Plot the star orbit\n",
    "ax.scatter3D(rPN[0][0][-1], rPN[0][1][-1], rPN[0][2][-1], 'o', c='black') #s=100\n",
    "ax.scatter3D(rPN[1][0][-1], rPN[1][1][-1], rPN[1][2][-1], 'o', c='black') #s=10\n",
    "ax.legend()\n",
    "#ax.set_xticks([])\n",
    "#ax.set_yticks([])\n",
    "#ax.set_zticks([])\n",
    "#ax.set_xlim3d(-1,1)\n",
    "#ax.set_ylim3d(-1,1)\n",
    "#ax.set_xlim3d(min(min(posbh1x), min(posbh2x)), max(max(posbh1x), max(posbh2x)))\n",
    "#ax.set_ylim3d(min(min(posbh1y), min(posbh2y)), max(max(posbh1y), max(posbh2y)))\n",
    "#ax.set_zlim3d(min(min(posbh1z), min(posbh2z)), max(max(posbh1z), max(posbh2z)))\n",
    "ax.set_xlabel('x(km)')\n",
    "ax.set_ylabel('y(km)')\n",
    "ax.set_zlabel('z(km)')\n",
    "\n",
    "\n",
    "#plt.savefig('PNorbitaldecay.png', format='png', dpi=200)#, dpi=200\n",
    "#plt.savefig('PNorbitaldecay.eps', box_inches='tight', format='eps')#,\n",
    "\n",
    "plt.show()"
   ]
  },
  {
   "cell_type": "markdown",
   "metadata": {},
   "source": [
    "with v2 jerk and dt = 0.1 at 30rs"
   ]
  },
  {
   "cell_type": "code",
   "execution_count": 173,
   "metadata": {},
   "outputs": [
    {
     "name": "stdout",
     "output_type": "stream",
     "text": [
      "806292.0\n",
      "896703.4096050006\n",
      "2.2136657324955493\n",
      "2.461889253588663\n",
      "0.8991735632578591\n"
     ]
    }
   ],
   "source": [
    "print(timePN[-1])\n",
    "print(timetomerge)\n",
    "print(timePN[-1]*time_U)\n",
    "print(timetomerge*time_U)\n",
    "print(timePN[-1]*time_U/(timetomerge*time_U))"
   ]
  },
  {
   "cell_type": "markdown",
   "metadata": {},
   "source": [
    "with v2 jerk and dt = 0.01 at 20rs"
   ]
  },
  {
   "cell_type": "code",
   "execution_count": null,
   "metadata": {},
   "outputs": [],
   "source": [
    "print(timePN[-1])\n",
    "print(timetomerge)\n",
    "print(timePN[-1]*time_U)\n",
    "print(timetomerge*time_U)\n",
    "print(timePN[-1]*time_U/(timetomerge*time_U))"
   ]
  },
  {
   "cell_type": "markdown",
   "metadata": {},
   "source": [
    "with v2 jerk and dt = 1 at 20rs"
   ]
  },
  {
   "cell_type": "code",
   "execution_count": 171,
   "metadata": {},
   "outputs": [
    {
     "name": "stdout",
     "output_type": "stream",
     "text": [
      "806292.0\n",
      "896703.4096050006\n",
      "2.2136657324955493\n",
      "2.461889253588663\n",
      "0.8991735632578591\n"
     ]
    }
   ],
   "source": [
    "print(timePN[-1])\n",
    "print(timetomerge)\n",
    "print(timePN[-1]*time_U)\n",
    "print(timetomerge*time_U)\n",
    "print(timePN[-1]*time_U/(timetomerge*time_U))"
   ]
  },
  {
   "cell_type": "markdown",
   "metadata": {},
   "source": [
    "with v2 jerk and dt = 0.1 at 20rs"
   ]
  },
  {
   "cell_type": "code",
   "execution_count": 167,
   "metadata": {},
   "outputs": [
    {
     "name": "stdout",
     "output_type": "stream",
     "text": [
      "897429.099862857\n",
      "896703.4096050006\n",
      "2.463881628133149\n",
      "2.461889253588663\n",
      "1.000809286827822\n"
     ]
    }
   ],
   "source": [
    "print(timePN[-1])\n",
    "print(timetomerge)\n",
    "print(timePN[-1]*time_U)\n",
    "print(timetomerge*time_U)\n",
    "print(timePN[-1]*time_U/(timetomerge*time_U))"
   ]
  },
  {
   "cell_type": "code",
   "execution_count": null,
   "metadata": {},
   "outputs": [],
   "source": []
  },
  {
   "cell_type": "code",
   "execution_count": 168,
   "metadata": {},
   "outputs": [
    {
     "name": "stdout",
     "output_type": "stream",
     "text": [
      "118.1036628113464\n"
     ]
    }
   ],
   "source": [
    "print(np.linalg.norm(rPN[0].T[-1] - rPN[1].T[-1]))\n",
    "bh.radisch*2"
   ]
  },
  {
   "cell_type": "code",
   "execution_count": 157,
   "metadata": {},
   "outputs": [
    {
     "data": {
      "text/plain": [
       "118.08893290514095"
      ]
     },
     "execution_count": 157,
     "metadata": {},
     "output_type": "execute_result"
    }
   ],
   "source": [
    "bh.radisch*2"
   ]
  },
  {
   "cell_type": "markdown",
   "metadata": {},
   "source": [
    "with v2 jerk and dt = 0.1 at 15rs"
   ]
  },
  {
   "cell_type": "code",
   "execution_count": 7,
   "metadata": {},
   "outputs": [
    {
     "name": "stdout",
     "output_type": "stream",
     "text": [
      "284426.5000055828\n",
      "283722.5631953322\n",
      "0.7808897973389342\n",
      "0.7789571466432879\n",
      "1.0024810744775556\n"
     ]
    }
   ],
   "source": [
    "print(timePN[-1])\n",
    "print(timetomerge)\n",
    "print(timePN[-1]*time_U)\n",
    "print(timetomerge*time_U)\n",
    "print(timePN[-1]*time_U/(timetomerge*time_U))"
   ]
  },
  {
   "cell_type": "code",
   "execution_count": 8,
   "metadata": {},
   "outputs": [
    {
     "name": "stdout",
     "output_type": "stream",
     "text": [
      "118.10553359824009\n"
     ]
    },
    {
     "data": {
      "text/plain": [
       "118.08893290514095"
      ]
     },
     "execution_count": 8,
     "metadata": {},
     "output_type": "execute_result"
    }
   ],
   "source": [
    "print(np.linalg.norm(rPN[0].T[-1] - rPN[1].T[-1]))\n",
    "bh.radisch*2"
   ]
  },
  {
   "cell_type": "code",
   "execution_count": 11,
   "metadata": {},
   "outputs": [
    {
     "name": "stdout",
     "output_type": "stream",
     "text": [
      "0.1\n"
     ]
    }
   ],
   "source": [
    "print(timePN[1])"
   ]
  },
  {
   "cell_type": "markdown",
   "metadata": {},
   "source": [
    "with v2 jerk and dt = 0.1 at 10rs"
   ]
  },
  {
   "cell_type": "code",
   "execution_count": 140,
   "metadata": {},
   "outputs": [
    {
     "name": "stdout",
     "output_type": "stream",
     "text": [
      "56704.39999945534\n",
      "56043.96310031254\n",
      "0.15568130052203782\n",
      "0.15386807834929145\n",
      "1.011784264755879\n"
     ]
    }
   ],
   "source": [
    "print(timePN[-1])\n",
    "print(timetomerge)\n",
    "print(timePN[-1]*time_U)\n",
    "print(timetomerge*time_U)\n",
    "print(timePN[-1]*time_U/(timetomerge*time_U))"
   ]
  },
  {
   "cell_type": "code",
   "execution_count": null,
   "metadata": {},
   "outputs": [],
   "source": []
  },
  {
   "cell_type": "code",
   "execution_count": null,
   "metadata": {},
   "outputs": [],
   "source": []
  },
  {
   "cell_type": "markdown",
   "metadata": {},
   "source": [
    "with v2 jerk and dt = 0.1 at 7rs"
   ]
  },
  {
   "cell_type": "code",
   "execution_count": 134,
   "metadata": {},
   "outputs": [
    {
     "name": "stdout",
     "output_type": "stream",
     "text": [
      "14062.700000033628\n",
      "13456.155540385038\n",
      "0.03860898669023084\n",
      "0.03694372561166487\n",
      "1.0450756130031502\n"
     ]
    }
   ],
   "source": [
    "print(timePN[-1])\n",
    "print(timetomerge)\n",
    "print(timePN[-1]*time_U)\n",
    "print(timetomerge*time_U)\n",
    "print(timePN[-1]*time_U/(timetomerge*time_U))"
   ]
  },
  {
   "cell_type": "markdown",
   "metadata": {},
   "source": [
    "with v2 jerk and dt = 0.01 at 7rs"
   ]
  },
  {
   "cell_type": "code",
   "execution_count": 15,
   "metadata": {},
   "outputs": [
    {
     "name": "stdout",
     "output_type": "stream",
     "text": [
      "14062.790000260538\n",
      "13456.155540385038\n",
      "0.03860923378485441\n",
      "0.03694372561166487\n",
      "1.0450823014088124\n"
     ]
    }
   ],
   "source": [
    "print(timePN[-1])\n",
    "print(timetomerge)\n",
    "print(timePN[-1]*time_U)\n",
    "print(timetomerge*time_U)\n",
    "print(timePN[-1]*time_U/(timetomerge*time_U))"
   ]
  },
  {
   "cell_type": "code",
   "execution_count": null,
   "metadata": {},
   "outputs": [],
   "source": []
  },
  {
   "cell_type": "markdown",
   "metadata": {},
   "source": [
    "with v1 jerk and dt = 0.1 at 15rs"
   ]
  },
  {
   "cell_type": "code",
   "execution_count": null,
   "metadata": {},
   "outputs": [],
   "source": [
    "print(timePN[-1])\n",
    "print(timetomerge)"
   ]
  },
  {
   "cell_type": "code",
   "execution_count": 127,
   "metadata": {},
   "outputs": [
    {
     "name": "stdout",
     "output_type": "stream",
     "text": [
      "0.7189106600870864\n",
      "0.7789571466432879\n"
     ]
    }
   ],
   "source": [
    "print(timePN[-1]*time_U)\n",
    "print(timetomerge*time_U)"
   ]
  },
  {
   "cell_type": "code",
   "execution_count": 130,
   "metadata": {},
   "outputs": [
    {
     "name": "stdout",
     "output_type": "stream",
     "text": [
      "0.9229142619527196\n",
      "1.0\n"
     ]
    }
   ],
   "source": [
    "print(timePN[-1]*time_U/(timetomerge*time_U))\n",
    "print(timetomerge*time_U/(timetomerge*time_U))"
   ]
  },
  {
   "cell_type": "markdown",
   "metadata": {},
   "source": [
    " with v2 jerk and dt = 0.1 at 15rs"
   ]
  },
  {
   "cell_type": "code",
   "execution_count": 116,
   "metadata": {},
   "outputs": [
    {
     "name": "stdout",
     "output_type": "stream",
     "text": [
      "261851.60001075387\n",
      "283722.5631953322\n"
     ]
    }
   ],
   "source": [
    "print(timePN[-1])\n",
    "print(timetomerge)"
   ]
  },
  {
   "cell_type": "code",
   "execution_count": 129,
   "metadata": {},
   "outputs": [
    {
     "name": "stderr",
     "output_type": "stream",
     "text": [
      "No handles with labels found to put in legend.\n"
     ]
    },
    {
     "data": {
      "image/png": "[encoded data removed]",
      "text/plain": [
       "<Figure size 432x288 with 1 Axes>"
      ]
     },
     "metadata": {
      "needs_background": "light"
     },
     "output_type": "display_data"
    }
   ],
   "source": [
    "fig = plt.figure()\n",
    "ax = fig.gca(projection='3d')\n",
    "ax.plot(rPN[0][0], rPN[0][1], rPN[0][2], 'c', linewidth=1)# Plot the BH orbit\n",
    "ax.plot(rPN[1][0], rPN[1][1], rPN[1][2], 'm', linewidth=1)# Plot the star orbit\n",
    "ax.scatter3D(rPN[0][0][-1], rPN[0][1][-1], rPN[0][2][-1], 'o', c='black') #s=100\n",
    "ax.scatter3D(rPN[1][0][-1], rPN[1][1][-1], rPN[1][2][-1], 'o', c='black') #s=10\n",
    "ax.legend()\n",
    "#ax.set_xticks([])\n",
    "#ax.set_yticks([])\n",
    "#ax.set_zticks([])\n",
    "#ax.set_xlim3d(-1,1)\n",
    "#ax.set_ylim3d(-1,1)\n",
    "#ax.set_xlim3d(min(min(posbh1x), min(posbh2x)), max(max(posbh1x), max(posbh2x)))\n",
    "#ax.set_ylim3d(min(min(posbh1y), min(posbh2y)), max(max(posbh1y), max(posbh2y)))\n",
    "#ax.set_zlim3d(min(min(posbh1z), min(posbh2z)), max(max(posbh1z), max(posbh2z)))\n",
    "ax.set_xlabel('x(km)')\n",
    "ax.set_ylabel('y(km)')\n",
    "ax.set_zlabel('z(km)')\n",
    "\n",
    "\n",
    "#plt.savefig('PNorbitaldecay.png', format='png', dpi=200)#, dpi=200\n",
    "#plt.savefig('PNorbitaldecay.eps', box_inches='tight', format='eps')#,\n",
    "\n",
    "plt.show()"
   ]
  },
  {
   "cell_type": "code",
   "execution_count": null,
   "metadata": {},
   "outputs": [],
   "source": []
  },
  {
   "cell_type": "code",
   "execution_count": 58,
   "metadata": {},
   "outputs": [
    {
     "name": "stdout",
     "output_type": "stream",
     "text": [
      "118.0893179050539\n",
      "56043.96310031254\n",
      "56704.4800025651\n",
      "1.0117856922621675\n"
     ]
    }
   ],
   "source": [
    "print(np.linalg.norm(rPN[0].T[-1] - rPN[1].T[-1]))\n",
    "print(timetomerge)\n",
    "print(timePN[-1])\n",
    "print(timePN[-1]/timetomerge)"
   ]
  },
  {
   "cell_type": "markdown",
   "metadata": {},
   "source": [
    "Gravitational wave extraction"
   ]
  },
  {
   "cell_type": "code",
   "execution_count": 59,
   "metadata": {},
   "outputs": [],
   "source": [
    "rrelPN = rPN[0] - rPN[1]\n",
    "vrelPN = vPN[0] - vPN[1]\n",
    "#rfnsbh = rrelnsbh.T[-1]\n",
    "\n",
    "#Obtain the orbital distance\n",
    "dPN = np.zeros(len(rrelPN .T)) \n",
    "\n",
    "for i in range(len(rrelPN.T)):\n",
    "    dPN[i] = np.linalg.norm(rrelPN.T[i])\n",
    "    \n",
    "#Obtain the relative velocity\n",
    "vnrelPN = np.zeros(len(vrelPN.T))\n",
    "\n",
    "for i in range(len(rrelPN.T)):\n",
    "    vnrelPN[i] = np.linalg.norm(vrelPN.T[i])"
   ]
  },
  {
   "cell_type": "code",
   "execution_count": null,
   "metadata": {},
   "outputs": [],
   "source": []
  },
  {
   "cell_type": "code",
   "execution_count": 60,
   "metadata": {},
   "outputs": [],
   "source": [
    "vnrelPNkm = vnrelPN/kmsec_U*1000/c_SI\n",
    "timePNsec = timePN*time_U"
   ]
  },
  {
   "cell_type": "code",
   "execution_count": 62,
   "metadata": {},
   "outputs": [],
   "source": [
    "#Frequency\n",
    "wsPN = np.zeros([len(dPN)])\n",
    "\n",
    "for i in range(len(dPN)):\n",
    "    wsPN[i] = ((bh.mass+bh.mass)/dPN[i]**3)**(1./2) \n",
    "    "
   ]
  },
  {
   "cell_type": "code",
   "execution_count": 63,
   "metadata": {},
   "outputs": [],
   "source": [
    "hplusPN = np.zeros([len(dPN)]) #Could use Nsteps\n",
    "#hcrossnsbh = np.zeros([len(dsimnsbh)])\n",
    "#ro = 1.23*10**(22)#in km. LIGO's first detection, generated by two black holes some 1.3 billion light years away.\n",
    "ro = 1.23*10**(21)\n",
    "\n",
    "iangle = np.pi/2# i = pi/2 -> hx vanishes, i = 0 -> h+ and h- have the same amplitude\n",
    "\n",
    "mu = (bh.mass*bh.mass)/(bh.mass+bh.mass)\n",
    "\n",
    "for i in range(len(dPN)):\n",
    "    hplusPN[i] = (1./ro)*(4*mu*(wsPN[i]**2)*(dPN[i]**2)/c_CU**4)*((1+np.cos(iangle)**2)/2)*np.cos(2*wsPN[i]*timePN[i])\n",
    "    #hcross[i] = (1./ro)*(4*mu*(ws[i]**2)*(dsim[i]**2)/c_CU**4)*np.cos(iangle)*np.sin(2*ws[i]*timesimtp[i])"
   ]
  },
  {
   "cell_type": "code",
   "execution_count": 78,
   "metadata": {},
   "outputs": [
    {
     "data": {
      "image/png": "[encoded data removed]",
      "text/plain": [
       "<Figure size 432x288 with 1 Axes>"
      ]
     },
     "metadata": {
      "needs_background": "light"
     },
     "output_type": "display_data"
    }
   ],
   "source": [
    "plt.plot(timePNsec, hplusPN, 'y-')\n",
    "plt.axis([min(timePNsec), 1.03*max(timePNsec), 1.15*min(hplusPN), 1.15*max(hplusPN)])\n",
    "plt.xlabel('Time (s)')\n",
    "plt.ylabel('Strain (m)')\n",
    "#plt.savefig('gwbhbh-PN-20M.eps', box_inches='tight')\n",
    "plt.show()"
   ]
  },
  {
   "cell_type": "markdown",
   "metadata": {},
   "source": [
    "#### Black Hole - Neutron Star Binary "
   ]
  },
  {
   "cell_type": "code",
   "execution_count": 135,
   "metadata": {},
   "outputs": [
    {
     "name": "stdout",
     "output_type": "stream",
     "text": [
      "62.230000000000004\n",
      "0.0005592401975367406\n",
      "8.89\n",
      "14.305334381906748\n"
     ]
    }
   ],
   "source": [
    "#Define ns\n",
    "ns = md.Particle(\"NS\",1.2,8.89,0) #stellar type, mass, radius, spin. At the momento for black holes choose r=0 and will set the Schwarzchild radius\n",
    "#Define bh\n",
    "bh3 = md.Particle(\"BH\",5,0,0) #stellar type, mass, radius, spin. At the momento for black holes choose r=0 and will set the Schwarzchild radius\n",
    "\n",
    "#Define binary\n",
    "bh3nscol = md.Binary(bh3, ns, ns.radi*7, 0) ##primary, secondary, orbital distance (Rsun), eccentricity\n",
    "\n",
    "print(bh3nscol.orbd)\n",
    "print(bh3nscol.tideeffsec)\n",
    "\n",
    "print(ns.radi)\n",
    "print(bh3nscol.tidalrsec)\n"
   ]
  },
  {
   "cell_type": "code",
   "execution_count": 109,
   "metadata": {},
   "outputs": [
    {
     "name": "stdout",
     "output_type": "stream",
     "text": [
      "339.43954549817687\n"
     ]
    }
   ],
   "source": [
    "#Have implemented it, need to check it\n",
    "timetomergebhns =  (5/256)*(bh3nscol.orbd**4)*(c_CU**5)*(1./(bh3.mass*ns.mass*(bh3.mass+ns.mass)))\n",
    "\n",
    "print(timetomergebhns/bh3nscol.periodct)\n",
    "\n",
    "accu = 0.01 #0.0001 Set accuracy parameter\n",
    "tlbhns = 9*bh3nscol.periodct #Time of the simulation in [code units]\n",
    "timelimitbhns = tlbhns #\n",
    "dtbhns = 0.01 #Guess a timestep\n",
    "Nstepsbhns = int(tlbhns/dtbhns)#Number of timesteps with the guessed timestep "
   ]
  },
  {
   "cell_type": "code",
   "execution_count": 110,
   "metadata": {},
   "outputs": [],
   "source": [
    "rPNbhns,vPNbhns,timePNbhns, dtpPNbhns = Hermite4thPNdt(bh3,ns, bh3nscol, Nstepsbhns, dtbhns)"
   ]
  },
  {
   "cell_type": "code",
   "execution_count": 111,
   "metadata": {},
   "outputs": [
    {
     "name": "stdout",
     "output_type": "stream",
     "text": [
      "0.0124068793714619\n",
      "0.06891874577855127\n"
     ]
    }
   ],
   "source": [
    "print(min(dtpPNbhns[1:]))\n",
    "print(max(dtpPNbhns))"
   ]
  },
  {
   "cell_type": "code",
   "execution_count": 112,
   "metadata": {},
   "outputs": [
    {
     "name": "stdout",
     "output_type": "stream",
     "text": [
      "0.007091207210419752\n"
     ]
    }
   ],
   "source": [
    "print(timePNbhns[-1]/timetomergebhns)"
   ]
  },
  {
   "cell_type": "code",
   "execution_count": 113,
   "metadata": {},
   "outputs": [
    {
     "name": "stderr",
     "output_type": "stream",
     "text": [
      "No handles with labels found to put in legend.\n"
     ]
    },
    {
     "data": {
      "image/png": "[encoded data removed]",
      "text/plain": [
       "<Figure size 432x288 with 1 Axes>"
      ]
     },
     "metadata": {
      "needs_background": "light"
     },
     "output_type": "display_data"
    }
   ],
   "source": [
    "fig = plt.figure()\n",
    "ax = fig.gca(projection='3d')\n",
    "ax.plot(rPNbhns[0][0], rPNbhns[0][1], rPNbhns[0][2], 'r', linewidth=1)# Plot the BH orbit\n",
    "ax.plot(rPNbhns[1][0], rPNbhns[1][1], rPNbhns[1][2], 'b', linewidth=1)# Plot the star orbit\n",
    "ax.scatter3D(rPNbhns[0][0][-1], rPNbhns[0][1][-1], rPNbhns[0][2][-1], 'o', c='black') #s=100\n",
    "ax.scatter3D(rPNbhns[1][0][-1], rPNbhns[1][1][-1], rPNbhns[1][2][-1], '0', c='yellow') #s=10\n",
    "ax.legend()\n",
    "#ax.set_xticks([])\n",
    "#ax.set_yticks([])\n",
    "#ax.set_zticks([])\n",
    "#ax.set_xlim3d(-1,1)\n",
    "#ax.set_ylim3d(-1,1)\n",
    "#ax.set_xlim3d(min(min(posbh1x), min(posbh2x)), max(max(posbh1x), max(posbh2x)))\n",
    "#ax.set_ylim3d(min(min(posbh1y), min(posbh2y)), max(max(posbh1y), max(posbh2y)))\n",
    "#ax.set_zlim3d(min(min(posbh1z), min(posbh2z)), max(max(posbh1z), max(posbh2z)))\n",
    "ax.set_xlabel('x(km)')\n",
    "ax.set_ylabel('y(km)')\n",
    "ax.set_zlabel('z(km)')\n",
    "\n",
    "\n",
    "#plt.savefig('PNorbitaldecay.png', format='png', dpi=200)#, dpi=200\n",
    "#plt.savefig('PNorbitaldecay.eps', format='eps')#,\n",
    "\n",
    "plt.show()"
   ]
  },
  {
   "cell_type": "code",
   "execution_count": 114,
   "metadata": {},
   "outputs": [
    {
     "name": "stdout",
     "output_type": "stream",
     "text": [
      "23.65213271528696\n"
     ]
    }
   ],
   "source": [
    "print(np.linalg.norm(rPNbhns[0].T[-1] - rPNbhns[1].T[-1]))\n"
   ]
  },
  {
   "cell_type": "code",
   "execution_count": 115,
   "metadata": {},
   "outputs": [
    {
     "data": {
      "text/plain": [
       "14.305334381906748"
      ]
     },
     "execution_count": 115,
     "metadata": {},
     "output_type": "execute_result"
    }
   ],
   "source": [
    "bh3nscol.tidalrsec"
   ]
  },
  {
   "cell_type": "code",
   "execution_count": null,
   "metadata": {},
   "outputs": [],
   "source": []
  },
  {
   "cell_type": "code",
   "execution_count": 32,
   "metadata": {},
   "outputs": [],
   "source": [
    "cmeasure = (aPNc[0][0][1:]*(c_CU**5)/(ac[0][0][1:] - aNc[0][0][1:]))**(1./5)"
   ]
  },
  {
   "cell_type": "code",
   "execution_count": 34,
   "metadata": {},
   "outputs": [
    {
     "data": {
      "text/plain": [
       "0.9999999999994251"
      ]
     },
     "execution_count": 34,
     "metadata": {},
     "output_type": "execute_result"
    }
   ],
   "source": [
    "max(cmeasure)/c_CU\n",
    "min(cmeasure)/c_CU"
   ]
  },
  {
   "cell_type": "code",
   "execution_count": 40,
   "metadata": {},
   "outputs": [
    {
     "data": {
      "image/png": "[encoded data removed]",
      "text/plain": [
       "<Figure size 432x288 with 1 Axes>"
      ]
     },
     "metadata": {
      "needs_background": "light"
     },
     "output_type": "display_data"
    }
   ],
   "source": [
    "plt.plot(timePN[1:], cmeasurenorm, 'm-', label = r'$n_{E}$', alpha = 1)\n",
    "#plt.plot(timearrayN.T[0][2:], n_ey[1:], 'b-', label = r'$n_{Ey}$', alpha = 0.5)\n",
    "#plt.plot(timearrayT[1:], posydif, 'b-', label = r'$\\Delta y$', alpha = 0.8)\n",
    "\n",
    "#plt.plot(timeave, dynstave.T[1], 'b-', label = r'$star$', alpha = 0.8)\n",
    "#plt.plot(time[1:], n_e.T[2], 'g-', label = r'$n_{ez}$', alpha = 0.8)\n",
    "#plt.xlim(0,30)\n",
    "#plt.ylim(13917.5,13917.8)\n",
    "plt.xlabel('code time')\n",
    "plt.ylabel(r'$c$',rotation=0)\n",
    "\n",
    "plt.title(r'$c$ evolution in parabolic orbit')\n",
    "plt.legend()\n",
    "#plt.savefig('time-vs-ne-parabolicrp3rt.eps', bbox_inches='tight')#, dpi=300\n",
    "\n",
    "plt.show()"
   ]
  },
  {
   "cell_type": "markdown",
   "metadata": {},
   "source": [
    "dt = 0.01"
   ]
  },
  {
   "cell_type": "code",
   "execution_count": 29,
   "metadata": {},
   "outputs": [
    {
     "data": {
      "image/png": "[encoded data removed]",
      "text/plain": [
       "<Figure size 432x288 with 1 Axes>"
      ]
     },
     "metadata": {
      "needs_background": "light"
     },
     "output_type": "display_data"
    }
   ],
   "source": [
    "plt.plot(timePN[1:], cmeasurenorm, 'm-', label = r'$n_{E}$', alpha = 1)\n",
    "#plt.plot(timearrayN.T[0][2:], n_ey[1:], 'b-', label = r'$n_{Ey}$', alpha = 0.5)\n",
    "#plt.plot(timearrayT[1:], posydif, 'b-', label = r'$\\Delta y$', alpha = 0.8)\n",
    "\n",
    "#plt.plot(timeave, dynstave.T[1], 'b-', label = r'$star$', alpha = 0.8)\n",
    "#plt.plot(time[1:], n_e.T[2], 'g-', label = r'$n_{ez}$', alpha = 0.8)\n",
    "#plt.xlim(0,30)\n",
    "#plt.ylim(13917.5,13917.8)\n",
    "plt.xlabel('code time')\n",
    "plt.ylabel(r'$c$',rotation=0)\n",
    "\n",
    "plt.title(r'$c$ evolution in parabolic orbit')\n",
    "plt.legend()\n",
    "#plt.savefig('time-vs-ne-parabolicrp3rt.eps', bbox_inches='tight')#, dpi=300\n",
    "\n",
    "plt.show()"
   ]
  },
  {
   "cell_type": "code",
   "execution_count": 39,
   "metadata": {},
   "outputs": [
    {
     "name": "stdout",
     "output_type": "stream",
     "text": [
      "0.9999999999994251\n",
      "(array([71]),)\n"
     ]
    }
   ],
   "source": [
    "cmeasurenorm = cmeasure/c_CU \n",
    "print(min(cmeasurenorm))\n",
    "print(np.where(cmeasurenorm == min(cmeasurenorm)))\n"
   ]
  },
  {
   "cell_type": "code",
   "execution_count": null,
   "metadata": {},
   "outputs": [],
   "source": []
  },
  {
   "cell_type": "code",
   "execution_count": 24,
   "metadata": {},
   "outputs": [
    {
     "name": "stdout",
     "output_type": "stream",
     "text": [
      "567045\n",
      "[118.10631389]\n",
      "[590.44466453]\n"
     ]
    }
   ],
   "source": [
    "aratio = np.zeros_like(aNc[1].T)\n",
    "for i in range(len(aNc[1].T)-1):\n",
    "    aratio[i+1][0] = (ac[1].T[i+1][0])/(aNc[1].T[i+1][0])\n",
    "    aratio[i+1][1] = (ac[1].T[i+1][1])/(aNc[1].T[i+1][1])\n",
    "    \n",
    "    \n",
    "#define relative position\n",
    "relposTc = rPN[1].T - rPN[0].T \n",
    "#define relative velocity\n",
    "relvelTc = vPN[1].T - vPN[0].T\n",
    "\n",
    "normrelposTc = np.zeros([len(relposTc), 1]) \n",
    "normrelvelTc = np.zeros([len(relvelTc), 1]) \n",
    "rvdot =  np.zeros([len(relposTc), 1]) \n",
    "\n",
    "for i in range(len(normrelposTc)):\n",
    "    normrelposTc[i] = np.sqrt(relposTc[i][0]**2 + relposTc[i][1]**2 + relposTc[i][2]**2)\n",
    "    normrelvelTc[i] = np.sqrt(relvelTc[i][0]**2 + relvelTc[i][1]**2 + relvelTc[i][2]**2)\n",
    "    rvdot[i] = np.dot(relposTc[i],relvelTc[i])\n",
    "    \n",
    "print(len(normrelposTc.T[0]))\n",
    "print(min(normrelposTc))\n",
    "print(max(normrelposTc))"
   ]
  },
  {
   "cell_type": "code",
   "execution_count": 25,
   "metadata": {},
   "outputs": [],
   "source": [
    "rsub = normrelposTc.T[0]**5\n",
    "vsub = normrelvelTc.T[0]**5\n",
    "aPNformulax = (4/5)*(1/rsub)*((2*bh.mass/rsub - 8*bh.mass/rsub - vsub**2)*relvelTc.T[0] + rvdot.T[0]*( (52*bh.mass/(3*rsub**3)) - (6*bh.mass/rsub**3) + (3*vsub**2/rsub**2))*relposTc.T[0])"
   ]
  },
  {
   "cell_type": "code",
   "execution_count": 26,
   "metadata": {},
   "outputs": [],
   "source": [
    "c5 = aPNformulax/(aratio.T[0] - 1) "
   ]
  },
  {
   "cell_type": "code",
   "execution_count": 27,
   "metadata": {},
   "outputs": [
    {
     "name": "stdout",
     "output_type": "stream",
     "text": [
      "[ 0.00000000e+00 -1.63661874e-18  3.27324342e-18 ... -7.35768598e-14\n",
      " -7.37023793e-14 -7.38280584e-14]\n"
     ]
    }
   ],
   "source": [
    "print(c5)"
   ]
  },
  {
   "cell_type": "code",
   "execution_count": 28,
   "metadata": {},
   "outputs": [],
   "source": [
    "#print(cmeasurenorm[71011+4])"
   ]
  },
  {
   "cell_type": "markdown",
   "metadata": {},
   "source": [
    "dt = 0.05"
   ]
  },
  {
   "cell_type": "code",
   "execution_count": 29,
   "metadata": {},
   "outputs": [
    {
     "data": {
      "image/png": "[encoded data removed]",
      "text/plain": [
       "<Figure size 432x288 with 1 Axes>"
      ]
     },
     "metadata": {
      "needs_background": "light"
     },
     "output_type": "display_data"
    }
   ],
   "source": [
    "plt.plot(timePN[1:], cmeasurenorm, 'm-', label = r'$n_{E}$', alpha = 1)\n",
    "#plt.plot(timearrayN.T[0][2:], n_ey[1:], 'b-', label = r'$n_{Ey}$', alpha = 0.5)\n",
    "#plt.plot(timearrayT[1:], posydif, 'b-', label = r'$\\Delta y$', alpha = 0.8)\n",
    "\n",
    "#plt.plot(timeave, dynstave.T[1], 'b-', label = r'$star$', alpha = 0.8)\n",
    "#plt.plot(time[1:], n_e.T[2], 'g-', label = r'$n_{ez}$', alpha = 0.8)\n",
    "#plt.xlim(0,30)\n",
    "#plt.ylim(13917.5,13917.8)\n",
    "plt.xlabel('code time')\n",
    "plt.ylabel(r'$c$',rotation=0)\n",
    "\n",
    "plt.title(r'$c$ evolution in parabolic orbit')\n",
    "plt.legend()\n",
    "#plt.savefig('time-vs-ne-parabolicrp3rt.eps', bbox_inches='tight')#, dpi=300\n",
    "\n",
    "plt.show()"
   ]
  }
 ],
 "metadata": {
  "kernelspec": {
   "display_name": "Python 3",
   "language": "python",
   "name": "python3"
  },
  "language_info": {
   "codemirror_mode": {
    "name": "ipython",
    "version": 3
   },
   "file_extension": ".py",
   "mimetype": "text/x-python",
   "name": "python",
   "nbconvert_exporter": "python",
   "pygments_lexer": "ipython3",
   "version": "3.7.6"
  }
 },
 "nbformat": 4,
 "nbformat_minor": 4
}
