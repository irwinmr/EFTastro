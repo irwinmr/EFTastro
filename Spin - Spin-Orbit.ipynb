{
 "cells": [
  {
   "cell_type": "code",
   "execution_count": 67,
   "metadata": {},
   "outputs": [],
   "source": [
    "import numpy as np\n",
    "import time\n",
    "import math\n",
    "import modules as md\n",
    "#import nbodysolver as nbs\n",
    "%matplotlib inline\n",
    "import matplotlib.pyplot as plt\n",
    "import matplotlib as mpl\n",
    "from mpl_toolkits.mplot3d import Axes3D\n",
    "import matplotlib.pyplot as plt\n",
    "\n",
    "\n",
    "#------------------------------------------------------------------------------------------\n",
    "#Units and conversions:\n",
    "#------------------------------------------------------------------------------------------\n",
    "#code units: Rsun, Msun, G=1, ...\n",
    "c_SI       = 299792458.0        #m/s\n",
    "M_sun_SI   = 1.989*(10.**30.)   #kg\n",
    "R_sun_SI   = 695800000.         #m\n",
    "R_bull_SI = 1000 #m \n",
    "AU_SI      = 149597871000.      #m \n",
    "G_new_SI   = 6.67*(10.**(-11.)) #m**3 kg**(-1) s**(-2)\n",
    "AU_U       = AU_SI/R_sun_SI                             #from dist AU to code units (U)\n",
    "kmsec_U    = 1000./np.sqrt(G_new_SI*M_sun_SI/R_bull_SI)  #from vel km/sec to code units (U)\n",
    "time_U     = 1/np.sqrt(G_new_SI*M_sun_SI/R_bull_SI**3) #from CU to second np.sqrt((R_bull_SI)/(G_new_SI*M_sun_SI)) #from code units(U) to time sec\n",
    "#Rsch_1Msun_unitRsun = ((2.*G_new_SI*(1.*M_sun_SI))/(c_SI**2.))/R_sun_SI\n",
    "c_CU = c_SI/1000*kmsec_U"
   ]
  },
  {
   "cell_type": "markdown",
   "metadata": {},
   "source": [
    "# Newtonian "
   ]
  },
  {
   "cell_type": "code",
   "execution_count": 68,
   "metadata": {},
   "outputs": [],
   "source": [
    "#Acceleration\n",
    "\n",
    "def acc(r,m): #r position, m mass\n",
    "    a = np.zeros((len(r),3)) #Create acceleration vector\n",
    "    for i in range(len(r)): #Range is size of timesteps or position steps\n",
    "        for j in range(len(r)): #For each particle\n",
    "            if (i != j):\n",
    "                rrel = r[i]-r[j]\n",
    "                rn = (rrel**2).sum()**(1./2) \n",
    "                a[i] += -(rrel)*m[j]/(rn**3.0) #Acceleration at each time step \n",
    "    return a # return acceleration\n",
    "\n",
    "\n",
    "def Jerk(r,v,m): #position, velocity, mass\n",
    "    Je = np.zeros((len(r),3)) #Define the Jerk\n",
    "    for i in range(len(r)):\n",
    "        for j in range(len(r)):\n",
    "            if (i != j):\n",
    "                rrel = r[i]-r[j]\n",
    "                vrel = v[i]-v[j]\n",
    "                rn = (rrel**2).sum()**(1./2) # dot product\n",
    "                vn = (vrel**2).sum()**(1./2)\n",
    "                rvd = ((rrel)*(vrel)).sum()\n",
    "                Je[i] += - m[j]*((vrel)/rn**3.0 - 3.*(rvd*rrel/(rn**5.0))) \n",
    "    return Je;"
   ]
  },
  {
   "cell_type": "markdown",
   "metadata": {},
   "source": [
    "# Spin "
   ]
  },
  {
   "cell_type": "code",
   "execution_count": 69,
   "metadata": {},
   "outputs": [],
   "source": [
    "def accspinorb(r,v,m,ns,S,I):#r,m,S,ns #r position, m mass, s spin, m mass of the star and the value of ne\n",
    "    a = np.zeros((len(r),3))#Create acceleration vector\n",
    "    for i in range(len(r)): #Range is size of timesteps or position steps\n",
    "        for j in range(len(r)): #For each particle\n",
    "            if (i != j):\n",
    "                rrel = r[i]-r[j]\n",
    "                vrel = v[i]-v[j]\n",
    "                rn = ((rrel**2).sum())**(1./2) #dot product\n",
    "                runi = rrel/rn\n",
    "                Sn = ((S[i]*S[i]).sum())**(1./2)\n",
    "                rucv = np.cross(runi,vrel) \n",
    "                rucS = np.cross(runi,S[i])\n",
    "                vcS = np.cross(vrel,S[i])\n",
    "                rudv = (runi*vrel).sum()\n",
    "                a1 = 3*runi*((rucv*S[i]).sum())\n",
    "                a2 = 2*vcS\n",
    "                a3 = 3*(rudv)*(rucS)\n",
    "                a[i] += (1./(c_CU**2))*(2+(3.*m[j]/(2.*m[i])))*(I[i]/rn**3)*(a1 + a2 + a3)\n",
    "                #a[i] += -(3./2)*ns[i]*(m[j]*Sn**2/m[i])*(runi)/(rn**4.0) #Acceleration at each time step\n",
    "    return a # return acceleration\n",
    "\n",
    "def Jerkspinorb(r,v,m, ns,S):#r,v,m,S,ns #r position, v velocity, m mass, m mass of the star, ne\n",
    "    Je = np.zeros((len(r),3)) #Define the Jerk\n",
    "    Je1 = np.zeros((len(r),3))\n",
    "    Je2 = np.zeros((len(r),3))\n",
    "    for i in range(len(r)):\n",
    "        for j in range(len(r)):\n",
    "            if (i != j):\n",
    "                rrel = (r[i]-r[j])\n",
    "                vrel = (v[i]-v[j])\n",
    "                rn = ((rrel**2).sum())**(1./2) # dot product\n",
    "                Sn = ((S[i]*S[i]).sum())**(1./2)\n",
    "                #Je1[i] += - (3./2)*ns[i]*((m[j])/m[i])*(2*((S*b).sum())*rrel/r**5 ) #Still need to define b \n",
    "                Je2[i] += 0 #- (3./2)*ns[i]*((m[j])/m[i])*(Sn**2)*(vrel/rn**5.0 - 5.*((vrel*rrel).sum())*(rrel)/(rn**7.0))               \n",
    "                Je[i] += Je2[i] #Je1[i] + Je2[i] \n",
    "    return Je;"
   ]
  },
  {
   "cell_type": "code",
   "execution_count": 70,
   "metadata": {},
   "outputs": [],
   "source": [
    "def bccspinorb(r,v,m,ns,S,I): #r position, m mass, s spin, m mass of the star\n",
    "    b = np.zeros((len(r),3)) #Create acceleration vector\n",
    "    b1 = np.zeros((len(r),3))\n",
    "    b2 = np.zeros((len(r),3))\n",
    "    #bden = np.zeros((len(r),3))\n",
    "    for i in range(len(r)): #Range is size of timesteps or position steps\n",
    "        for j in range(len(r)): #For each particle\n",
    "            if (i != j):\n",
    "                if(ns[i] == 0.0):\n",
    "                    b[i] = np.array([0,0,0])\n",
    "                elif (ns[i] != 0):\n",
    "                    rrel = r[i]-r[j]\n",
    "                    rn = ((rrel**2).sum())*(1./2)\n",
    "                    vrel = v[i] - v[j]\n",
    "                    mu = m[i]*m[j]/(m[i] + m[j])\n",
    "                    L = mu*( np.cross(rrel, vrel) )\n",
    "                    b1[i] += np.cross(L, S[i])#(2 + (3*m[j]/(2*m[i])))*( np.cross(L, S[i]) )*(1/(rn**3.0))\n",
    "                    #b2[i] += \n",
    "                    b[i] = b1[i] #b1[i] #+ b2[i]\n",
    "    return b # return acceleration"
   ]
  },
  {
   "cell_type": "code",
   "execution_count": 71,
   "metadata": {},
   "outputs": [],
   "source": [
    "def HermiteUpdatespinbdt(dt, r, v, m, ns, S,I): # m mass of the star\n",
    "    \n",
    "    aN = acc(r, m) \n",
    "    aS = accspinorb(r,v, m, ns, S,I)\n",
    "    a = aN + aS           # current acceleration\n",
    "    aNdot = Jerk(r,v,m)\n",
    "    aSdot = Jerkspinorb(r, v, m, ns, S)\n",
    "    adot = aNdot + aSdot # current jerks\n",
    "    rp = r + dt*v + dt**2/2 * a + dt**3/6* adot   # predict\n",
    "    vp = v + dt*a + dt**2/2 * adot\n",
    "\n",
    "    aNp = acc(rp, m)\n",
    "    aSp = accspinorb(rp, vp, m, ns, S,I)\n",
    "    ap = aNp + aSp         # predicted acceleration\n",
    "\n",
    "    aNdotp = Jerk(rp, vp, m)\n",
    "    aSdotp = Jerkspinorb(rp, vp, m, ns, S)\n",
    "    adotp = aNdotp + aSdotp  # predicted jerks \n",
    "    \n",
    "    dtp = dt\n",
    "    \n",
    "    vc = v + dt/2*(a+ap) - dt**2/12*(adotp-adot)  # correct\n",
    "    rc = r + dt/2*(v + vp) - dt**2/12 * (ap-a)\n",
    "    ac = a + dt/2*(adotp + adot)\n",
    "    aNc = aN + dt/2*(aNdotp + aNdot)\n",
    "    \n",
    "    #Spin\n",
    "    \n",
    "    b = bccspinorb(r,v,m,ns,S,I) #r,v,m,S,ns,I\n",
    "    Sp = S + (dt*b) #+ ()*dt/2\n",
    "\n",
    "    bp = bccspinorb(rp,vp,m,ns,Sp,I)\n",
    "    Sc = S + (b + bp)*dt/2\n",
    "    bc = b #+ ()*dt/2 Higher order terms\n",
    "       \n",
    "    \n",
    "    #Sc = S\n",
    " \n",
    "    return rc,vc,Sc, bc, ac, aNc, dtp"
   ]
  },
  {
   "cell_type": "code",
   "execution_count": 72,
   "metadata": {},
   "outputs": [],
   "source": [
    "def Hermite4thspinbdt(pri,sec, bina, nsteps,Dt):\n",
    "\n",
    "    N=2\n",
    "    m = np.ones(N)#/N #Remove the N if not necessary\n",
    "    m[0]=pri.mass\n",
    "    m[1]=sec.mass\n",
    "    \n",
    "    r_res = np.zeros((2,3,nsteps)) # 2 because of two bodies\n",
    "    v_res = np.zeros((2,3,nsteps))\n",
    "    S_res = np.zeros((2,3,nsteps)) # 2 because of two bodies\n",
    "    b_res = np.zeros((2,3,nsteps-1))\n",
    "\n",
    "    aN_res = np.zeros((2,3,nsteps-1)) # 2 because of two bodies\n",
    "    #adotN_res = np.zeros((2,3,nsteps))\n",
    "\n",
    "    a_res = np.zeros((2,3,nsteps-1)) # 2 because of two bodies\n",
    "    #adot_res = np.zeros((2,3,nsteps))\n",
    "\n",
    "    \n",
    "    time = np.zeros(nsteps)\n",
    "    r_res[:,:,0] = bina.r.copy()\n",
    "    v_res[:,:,0] = bina.v.copy()\n",
    "    S_res[:,:,0] = bina.S.copy()\n",
    "    \n",
    "    nspinv = np.array([pri.nspin, sec.nspin])\n",
    "    Iv = np.array([pri.inertiam, sec.inertiam])\n",
    "    \n",
    "    dtp = np.zeros(nsteps)\n",
    "    dtp[0] = Dt\n",
    "    \n",
    "    for i in range(1,nsteps):\n",
    "        (r_res[:,:,i], v_res[:,:,i], S_res[:,:,i], b_res[:,:,i-1] , a_res[:,:,i-1],aN_res[:,:,i-1], dtp[i]) = HermiteUpdatespinbdt(Dt, r_res[:,:,i-1], v_res[:,:,i-1],  m, nspinv, S_res[:,:,i-1], Iv)\n",
    "        #\n",
    "        time[i] = time[i-1] + Dt#\n",
    "        if time[i] >= timelimit:\n",
    "            break\n",
    "            \n",
    "    r_res = r_res[:,:,:i+1]\n",
    "    v_res = v_res[:,:,:i+1]\n",
    "    a_res = a_res[:,:,:i]\n",
    "    aN_res = aN_res[:,:,:i]\n",
    "    b_res = b_res[:,:,:i]\n",
    "    S_res = S_res[:,:,:i+1]\n",
    "    dtp = dtp[:i+1]\n",
    "    time = time[:i+1]\n",
    "\n",
    "    return r_res, v_res, S_res, b_res, a_res, aN_res, time"
   ]
  },
  {
   "cell_type": "code",
   "execution_count": 73,
   "metadata": {},
   "outputs": [],
   "source": [
    "ns = md.Particle(\"NS\",1.2,8.89,0) #stellar type, mass, radius, spin. At the momento for black holes choose r=0 and will set the Schwarzchild radius\n",
    "bh3 = md.Particle(\"BH\",5,0,0) #stellar type, mass, radius, spin. At the momento for black holes choose r=0 and will set the Schwarzchild radius\n",
    "\n",
    "\n",
    "Sd = np.array([0.1,0.3])\n",
    "omega = (Sd*(ns.mass**2))/(ns.inertiam*c_CU)\n",
    "#nsspinarr = np.array([0,0,ns.sdis/3])\n",
    "nsspinarr = np.array([0,0,omega[1]])\n",
    "\n",
    "nsspin = md.Particle(\"NS\",1.2,8.89, nsspinarr)\n",
    "\n",
    "bh3nsspin = md.Binary(bh3,nsspin, 8*nsspin.radi,0)"
   ]
  },
  {
   "cell_type": "code",
   "execution_count": 74,
   "metadata": {},
   "outputs": [
    {
     "name": "stdout",
     "output_type": "stream",
     "text": [
      "[[0. 0. 0.]\n",
      " [0. 0. 0.]\n",
      " [0. 0. 0.]\n",
      " ...\n",
      " [0. 0. 0.]\n",
      " [0. 0. 0.]\n",
      " [0. 0. 0.]]\n"
     ]
    }
   ],
   "source": [
    "tl = 1*bh3nsspin.periodct #Time of the simulation in [cpde units]\n",
    "timelimit = tl #\n",
    "dt = 0.1 # 0.0001 working better \n",
    "Nsteps = int(tl/dt)#Number of ti\n",
    "\n",
    "rSO,vSO,S_SO,b_SO,a_SO,aN_SO,time_SO = Hermite4thspinbdt(bh3,nsspin, bh3nsspin, Nsteps, dt)\n",
    "\n",
    "print(b_SO[1].T)"
   ]
  },
  {
   "cell_type": "code",
   "execution_count": 75,
   "metadata": {},
   "outputs": [
    {
     "name": "stdout",
     "output_type": "stream",
     "text": [
      "[[0.         0.         0.01585166]\n",
      " [0.         0.         0.01585166]\n",
      " [0.         0.         0.01585166]\n",
      " ...\n",
      " [0.         0.         0.01585166]\n",
      " [0.         0.         0.01585166]\n",
      " [0.         0.         0.01585166]]\n"
     ]
    }
   ],
   "source": [
    "print(S_SO[1].T)"
   ]
  },
  {
   "cell_type": "code",
   "execution_count": 76,
   "metadata": {},
   "outputs": [
    {
     "name": "stdout",
     "output_type": "stream",
     "text": [
      "[[0. 0. 0.]\n",
      " [0. 0. 0.]\n",
      " [0. 0. 0.]\n",
      " ...\n",
      " [0. 0. 0.]\n",
      " [0. 0. 0.]\n",
      " [0. 0. 0.]]\n"
     ]
    }
   ],
   "source": [
    "print(b_SO[1].T)"
   ]
  },
  {
   "cell_type": "code",
   "execution_count": 77,
   "metadata": {},
   "outputs": [
    {
     "name": "stderr",
     "output_type": "stream",
     "text": [
      "No handles with labels found to put in legend.\n"
     ]
    },
    {
     "data": {
      "image/png": "[encoded data removed]",
      "text/plain": [
       "<Figure size 432x288 with 1 Axes>"
      ]
     },
     "metadata": {
      "needs_background": "light"
     },
     "output_type": "display_data"
    }
   ],
   "source": [
    "fig = plt.figure()\n",
    "ax = fig.gca(projection='3d')\n",
    "ax.plot(rSO[0][0], rSO[0][1], rSO[0][2], 'c', linewidth=1)# Plot the BH orbit\n",
    "ax.plot(rSO[1][0], rSO[1][1], rSO[1][2], 'm', linewidth=1)# Plot the star orbit\n",
    "ax.scatter3D(rSO[0][0][-1], rSO[0][1][-1], rSO[0][2][-1], 'o', c='black') #s=100\n",
    "ax.scatter3D(rSO[1][0][-1], rSO[1][1][-1], rSO[1][2][-1], '0', c='orange') #s=10\n",
    "ax.legend()\n",
    "#ax.set_xticks([])\n",
    "#ax.set_yticks([])\n",
    "#ax.set_zticks([])\n",
    "#ax.set_xlim3d(-1,1)\n",
    "#ax.set_ylim3d(-1,1)\n",
    "#ax.set_xlim3d(min(min(posbh1x), min(posbh2x)), max(max(posbh1x), max(posbh2x)))\n",
    "#ax.set_ylim3d(min(min(posbh1y), min(posbh2y)), max(max(posbh1y), max(posbh2y)))\n",
    "#ax.set_zlim3d(min(min(posbh1z), min(posbh2z)), max(max(posbh1z), max(posbh2z)))\n",
    "ax.set_xlabel('x')\n",
    "ax.set_ylabel('y')\n",
    "ax.set_zlabel('z')\n",
    "\n",
    "\n",
    "#plt.savefig('ne-circular2rt-5orbits.eps',bbox_inches='tight')#, dpi=300\n",
    "\n",
    "plt.show()"
   ]
  },
  {
   "cell_type": "code",
   "execution_count": null,
   "metadata": {},
   "outputs": [],
   "source": []
  },
  {
   "cell_type": "code",
   "execution_count": null,
   "metadata": {},
   "outputs": [],
   "source": []
  }
 ],
 "metadata": {
  "kernelspec": {
   "display_name": "Python 3",
   "language": "python",
   "name": "python3"
  },
  "language_info": {
   "codemirror_mode": {
    "name": "ipython",
    "version": 3
   },
   "file_extension": ".py",
   "mimetype": "text/x-python",
   "name": "python",
   "nbconvert_exporter": "python",
   "pygments_lexer": "ipython3",
   "version": "3.7.6"
  }
 },
 "nbformat": 4,
 "nbformat_minor": 4
}
