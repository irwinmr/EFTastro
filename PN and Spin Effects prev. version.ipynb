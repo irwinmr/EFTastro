{
 "cells": [
  {
   "cell_type": "code",
   "execution_count": 19,
   "metadata": {},
   "outputs": [],
   "source": [
    "import numpy as np\n",
    "import time\n",
    "import math\n",
    "import modules as md\n",
    "#import nbodysolver as nbs\n",
    "%matplotlib inline\n",
    "import matplotlib.pyplot as plt\n",
    "import matplotlib as mpl\n",
    "from mpl_toolkits.mplot3d import Axes3D\n",
    "import matplotlib.pyplot as plt\n",
    "\n",
    "\n",
    "#------------------------------------------------------------------------------------------\n",
    "#Units and conversions:\n",
    "#------------------------------------------------------------------------------------------\n",
    "#code units: Rsun, Msun, G=1, ...\n",
    "c_SI       = 299792458.0        #m/s\n",
    "M_sun_SI   = 1.989*(10.**30.)   #kg\n",
    "R_sun_SI   = 695800000.         #m\n",
    "R_bull_SI = 1000 #m \n",
    "AU_SI      = 149597871000.      #m \n",
    "G_new_SI   = 6.67*(10.**(-11.)) #m**3 kg**(-1) s**(-2)\n",
    "AU_U       = AU_SI/R_sun_SI                             #from dist AU to code units (U)\n",
    "kmsec_U    = 1000./np.sqrt(G_new_SI*M_sun_SI/R_bull_SI)  #from vel km/sec to code units (U)\n",
    "time_U     = 1/np.sqrt(G_new_SI*M_sun_SI/R_bull_SI**3) #from CU to second np.sqrt((R_bull_SI)/(G_new_SI*M_sun_SI)) #from code units(U) to time sec\n",
    "#Rsch_1Msun_unitRsun = ((2.*G_new_SI*(1.*M_sun_SI))/(c_SI**2.))/R_sun_SI\n",
    "c_CU = c_SI/1000*kmsec_U"
   ]
  },
  {
   "cell_type": "markdown",
   "metadata": {},
   "source": [
    "# Newtonian "
   ]
  },
  {
   "cell_type": "code",
   "execution_count": 20,
   "metadata": {},
   "outputs": [],
   "source": [
    "#Acceleration\n",
    "\n",
    "def acc(r,m): #r position, m mass\n",
    "    a = np.zeros((len(r),3)) #Create acceleration vector\n",
    "    for i in range(len(r)): #Range is size of timesteps or position steps\n",
    "        for j in range(len(r)): #For each particle\n",
    "            if (i != j):\n",
    "                rrel = r[i]-r[j]\n",
    "                rn = (rrel**2).sum()**(1./2) \n",
    "                a[i] += -(rrel)*m[j]/(rn**3.0) #Acceleration at each time step \n",
    "    return a # return acceleration\n",
    "\n",
    "\n",
    "def Jerk(r,v,m): #position, velocity, mass\n",
    "    Je = np.zeros((len(r),3)) #Define the Jerk\n",
    "    for i in range(len(r)):\n",
    "        for j in range(len(r)):\n",
    "            if (i != j):\n",
    "                rrel = r[i]-r[j]\n",
    "                vrel = v[i]-v[j]\n",
    "                rn = (rrel**2).sum()**(1./2) # dot product\n",
    "                vn = (vrel**2).sum()**(1./2)\n",
    "                rvd = ((rrel)*(vrel)).sum()\n",
    "                Je[i] += - m[j]*((vrel)/rn**3.0 - 3.*(rvd*rrel/(rn**5.0))) \n",
    "    return Je;"
   ]
  },
  {
   "cell_type": "markdown",
   "metadata": {},
   "source": [
    "# Spin"
   ]
  },
  {
   "cell_type": "code",
   "execution_count": 21,
   "metadata": {},
   "outputs": [],
   "source": [
    "def accspin(r,m,ns,S):#r,m,S,ns #r position, m mass, s spin, m mass of the star and the value of ne\n",
    "    a = np.zeros((len(r),3)) #Create acceleration vector\n",
    "    for i in range(len(r)): #Range is size of timesteps or position steps\n",
    "        for j in range(len(r)): #For each particle\n",
    "            if (i != j):\n",
    "                rrel = r[i]-r[j]\n",
    "                rn = ((rrel**2).sum())**(1./2) #dot product\n",
    "                runi = rrel/rn\n",
    "                Sn = ((S[i]*S[i]).sum())**(1./2)\n",
    "                a[i] += -(3./2)*ns[i]*(m[j]*Sn**2/m[i])*(runi)/(rn**4.0) #Acceleration at each time step\n",
    "                \n",
    "    return a # return acceleration\n",
    "\n",
    "def Jerkspin(r,v,m, ns,S):#r,v,m,S,ns #r position, v velocity, m mass, m mass of the star, ne\n",
    "    Je = np.zeros((len(r),3)) #Define the Jerk\n",
    "    Je1 = np.zeros((len(r),3))\n",
    "    Je2 = np.zeros((len(r),3))\n",
    "    for i in range(len(r)):\n",
    "        for j in range(len(r)):\n",
    "            if (i != j):\n",
    "                rrel = (r[i]-r[j])\n",
    "                vrel = (v[i]-v[j])\n",
    "                rn = ((rrel**2).sum())**(1./2) # dot product\n",
    "                Sn = ((S[i]*S[i]).sum())**(1./2)\n",
    "                #Je1[i] += - (3./2)*ns[i]*((m[j])/m[i])*(2*((S*b).sum())*rrel/r**5 ) #Still need to define b \n",
    "                Je2[i] += - (3./2)*ns[i]*((m[j])/m[i])*(Sn**2)*(vrel/rn**5.0 - 5.*((vrel*rrel).sum())*(rrel)/(rn**7.0))               \n",
    "                Je[i] += Je2[i] #Je1[i] + Je2[i] \n",
    "    return Je;\n",
    "\n",
    "#Spin evolution\n",
    "def bccspin(r,v,m,ns,S,I): #r position, m mass, s spin, m mass of the star\n",
    "    b = np.zeros((len(r),3)) #Create acceleration vector\n",
    "    b1 = np.zeros((len(r),3))\n",
    "    b2 = np.zeros((len(r),3))\n",
    "    #bden = np.zeros((len(r),3))\n",
    "    for i in range(len(r)): #Range is size of timesteps or position steps\n",
    "        for j in range(len(r)): #For each particle\n",
    "            if (i != j):\n",
    "                if(ns[i] == 0.0):\n",
    "                    b[i] = np.array([0,0,0])\n",
    "                elif (ns[i] != 0):\n",
    "                    rrel = r[i]-r[j]\n",
    "                    rn = ((rrel**2).sum())*(1./2)\n",
    "                    runi = 1.*rrel/rn\n",
    "                    vrel = v[i] - v[j]\n",
    "                    rdv = (rrel*vrel).sum()\n",
    "                    Sn = ((S[i]*S[i]).sum())**(1./2)\n",
    "                    acccor = (m[j]*ns[i]/rn**3)\n",
    "                    #bden[i] = I[i] #(I[i] + m[j]*ns[i]/rn**3)\n",
    "                    b1[i] += (1/(I[i] + acccor))*(3*ns[i]*m[j]*rdv*S[i])*(1/(rn**5.0))\n",
    "                    #b2[i] += \n",
    "                    b[i] = b1[i] #b1[i] #+ b2[i]\n",
    "    return b # return acceleration"
   ]
  },
  {
   "cell_type": "markdown",
   "metadata": {},
   "source": [
    "# PN "
   ]
  },
  {
   "cell_type": "code",
   "execution_count": 22,
   "metadata": {},
   "outputs": [],
   "source": [
    "#PN Acceleration\n",
    "def accPN(r,v,m): #r position, m mass, s spin, m mass of secondary\n",
    "    a = np.zeros((len(r),3)) #Create acceleration vector\n",
    "    a1 = np.zeros((len(r),3)) #Create acceleration vector\n",
    "    a2 = np.zeros((len(r),3)) #Create acceleration vector\n",
    "\n",
    "    for i in range(len(r)): #Range is size of timesteps or position steps\n",
    "        for j in range(len(r)): #For each particle           \n",
    "            if (i != j):\n",
    "                rrel = r[i]-r[j] \n",
    "                vrel = v[i]-v[j]\n",
    "                rn = ((rrel**2).sum())**(1./2) #norm\n",
    "                runi = 1.*rrel/rn\n",
    "                #rvd = ((rrel)*(vrel)).sum()\n",
    "                ruvd = ((runi)*(vrel)).sum() #dot product\n",
    "                v2d = (vrel**2).sum()\n",
    "                a1[i] += +(4./5)*(1./c_CU**5)*(m[i]*m[j]/(rn**3))*((2*m[i]/rn - 8*m[j]/rn - v2d)*vrel) #Need to divide by m[i]\n",
    "                a2[i] += +(4./5)*(1./c_CU**5)*(m[i]*m[j]/(rn**3))*(runi*ruvd*(52.0*m[j]/(3*rn) - 6*m[i]/rn + 3.0*v2d)) #Need to divide by m[i]\n",
    "                a[i] += a1[i] + a2[i] #a1[i] +  \n",
    "    return a#, a1, a2 # return acceleration\n",
    "\n",
    "\n",
    "#PN Jerk v2\n",
    "\n",
    "def JerkPN(r,v,a,m): #position, velocity, mass\n",
    "    JePNLO3 = np.zeros((len(r),3))\n",
    "    JePNLO3v2 = np.zeros((len(r),3))\n",
    "    JePNLO4 = np.zeros((len(r),3))\n",
    "    JePNLO5 = np.zeros((len(r),3))#Define the Jerk\n",
    "    for i in range(len(r)):\n",
    "        for j in range(len(r)):\n",
    "            if (i != j):\n",
    "                rrel = r[i]-r[j] \n",
    "                vrel = v[i]-v[j]\n",
    "                arel = a[i]-a[j]\n",
    "                rn = ((rrel**2).sum())**(1./2) #norm                                                    \n",
    "                vn = ((vrel**2).sum())**(1./2) \n",
    "                runi = 1.*rrel/rn\n",
    "                ruvd = (runi*vrel).sum()   \n",
    "                ruad = (runi*arel).sum()                                                  \n",
    "                vad = (vrel*arel).sum()\n",
    "                JePNLO3[i] += (4./5)*(1./(c_CU**5))*(m[j]*m[i]/(rn**3))*(-(vn**2)*arel + 2*vad*vrel + 3*((ruvd*(vn**2)*vrel) + 2*( vad*ruvd + (vn**2)*ruad)*runi))                \n",
    "                JePNLO4[i] += (4./5)*(1./(c_CU**5))*(m[j]*m[i]/(rn**4))*(3*ruvd*(vn**2)*vrel + 2*(m[i]-m[j])*arel+ 3*(vn**4)*runi - 15*(ruvd**2)*(vn**2)*runi + ((52./3)*m[j]-6*m[i])*(ruad)*runi)\n",
    "                JePNLO5[i] += (4./5)*(1./(c_CU**5))*(m[j]*m[i]/(rn**5))*(-8*(m[i] - m[j])*(ruvd)*vrel + ((52./3)*m[j]-6*m[i])*((vn**2)*runi + ruvd*vrel - 6*((ruvd**2)*runi)))\n",
    "                JePNLOt = JePNLO3 + JePNLO4 + JePNLO5 \n",
    "    return JePNLOt \n",
    "\n"
   ]
  },
  {
   "cell_type": "code",
   "execution_count": 23,
   "metadata": {},
   "outputs": [],
   "source": [
    "def HermiteUpdatePNspinbdt(dt, r, v, m, ns, S,I): # m mass of the star\n",
    "    \n",
    "    aN = acc(r, m) \n",
    "    aS = accspin(r, m, ns, S)\n",
    "    aPN = 0#accPN(r, v, m)\n",
    "    a = aN + aS + aPN           # current acceleration\n",
    "    aNdot = Jerk(r,v,m)\n",
    "    aPNdot = 0#JerkPN(r, v, a, m)\n",
    "    aSdot = Jerkspin(r, v, m, ns, S)\n",
    "    adot = aNdot + aSdot + aPNdot # current jerks\n",
    "    rp = r + dt*v + dt**2/2 * a + dt**3/6* adot   # predict\n",
    "    vp = v + dt*a + dt**2/2 * adot\n",
    "\n",
    "    aNp = acc(rp, m)\n",
    "    aPNp = 0#accPN(rp, vp, m)\n",
    "    aSp = accspin(rp, m, ns, S)\n",
    "    ap = aNp + aSp + aPNp        # predicted acceleration\n",
    "\n",
    "    aNdotp = Jerk(rp, vp, m)\n",
    "    aSdotp = Jerkspin(rp, vp, m, ns, S)\n",
    "    aPNdotp = 0#JerkPN(rp, vp, ap, m)\n",
    "    adotp = aNdotp + aSdotp + aPNdotp  # predicted jerks \n",
    "    \n",
    "    dtp = dt\n",
    "    \n",
    "    vc = v + dt/2*(a+ap) - dt**2/12*(adotp-adot)  # correct\n",
    "    rc = r + dt/2*(v + vp) - dt**2/12 * (ap-a)\n",
    "    ac = a + dt/2*(adotp + adot)\n",
    "    aNc = aN + dt/2*(aNdotp + aNdot)\n",
    "    aPNc = aPN + dt/2*(aPNdotp + aPNdot)\n",
    "    #Spin\n",
    "    \n",
    "    b = bccspin(r,v,m,ns,S,I) #r,v,m,S,ns,I\n",
    "    Sp = S + (dt*b) #+ ()*dt/2\n",
    "\n",
    "    bp = bccspin(rp,vp,m,ns,Sp,I)\n",
    "    Sc = S + (b + bp)*dt/2\n",
    "    bc = b #+ ()*dt/2 Higher order terms\n",
    "\n",
    "    \n",
    "    #Sc = S\n",
    " \n",
    "    return rc,vc,Sc, bc, ac, aNc, aPNc, dtp"
   ]
  },
  {
   "cell_type": "code",
   "execution_count": 24,
   "metadata": {},
   "outputs": [],
   "source": [
    "def Hermite4thPNspinbdt(pri,sec, bina, nsteps, Dt):\n",
    "    \n",
    "    N=2\n",
    "    m = np.ones(N)#/N #Remove the N if not necessary\n",
    "    m[0]=pri.mass\n",
    "    m[1]=sec.mass\n",
    "    \n",
    "    r_res = np.zeros((2,3,nsteps)) # 2 because of two bodies\n",
    "    v_res = np.zeros((2,3,nsteps))\n",
    "    S_res = np.zeros((2,3,nsteps)) # 2 because of two bodies\n",
    "    b_res = np.zeros((2,3,nsteps-1))\n",
    "\n",
    "    aN_res = np.zeros((2,3,nsteps-1)) # 2 because of two bodies\n",
    "    a_res = np.zeros((2,3,nsteps-1)) # 2 because of two bodies\n",
    "    aPN_res = np.zeros((2,3,nsteps-1))\n",
    "\n",
    "    \n",
    "    time = np.zeros(nsteps)\n",
    "    r_res[:,:,0] = bina.r.copy()\n",
    "    v_res[:,:,0] = bina.v.copy()\n",
    "    S_res[:,:,0] = bina.S.copy()\n",
    "\n",
    "    nspinv = np.array([pri.nspin, sec.nspin])\n",
    "    Iv = np.array([pri.inertiam, sec.inertiam])\n",
    "    #ntidev = np.array([pri.ntide, sec.ntide])\n",
    "    #ndtidev = np.array([pri.ndtide, sec.ndtide])\n",
    "    \n",
    "    dtp = np.zeros(nsteps)\n",
    "    dtp[0] = Dt\n",
    "    \n",
    "    for i in range(1,nsteps):\n",
    "        (r_res[:,:,i], v_res[:,:,i], S_res[:,:,i], b_res[:,:,i-1] , a_res[:,:,i-1],aN_res[:,:,i-1], aPN_res[:,:,i-1],dtp[i]) = HermiteUpdatePNspinbdt(Dt, r_res[:,:,i-1], v_res[:,:,i-1],  m, nspinv, S_res[:,:,i-1], Iv)\n",
    "        time[i] = time[i-1] + dtp[i-1] #+ Dt #\n",
    "        if time[i] >= timelimit:\n",
    "            break\n",
    "        #elif np.linalg.norm(r_res[0].T[i] - r_res[1].T[i]) < 1.*(pri.radi+sec.radi): #This is when running an equal mass bbh\n",
    "        elif np.linalg.norm(r_res[0].T[i] - r_res[1].T[i]) < 1.*(bina.tidalrsec):\n",
    "            break\n",
    "    \n",
    "    r_res = r_res[:,:,:i+1]\n",
    "    v_res = v_res[:,:,:i+1]\n",
    "    a_res = a_res[:,:,:i]\n",
    "    aN_res = aN_res[:,:,:i]\n",
    "    aPN_res = aPN_res[:,:,:i]\n",
    "    S_res = S_res[:,:,:i+1]\n",
    "    b_res = b_res[:,:,:i]\n",
    "    dtp = dtp[:i+1]\n",
    "    time = time[:i+1]\n",
    " \n",
    "        \n",
    "    return r_res, v_res, S_res, b_res, a_res, aN_res, aPN_res, time  \n"
   ]
  },
  {
   "cell_type": "code",
   "execution_count": 25,
   "metadata": {},
   "outputs": [],
   "source": [
    "ns = md.Particle(\"NS\",1.2,8.89,0) #stellar type, mass, radius, spin. At the momento for black holes choose r=0 and will set the Schwarzchild radius\n",
    "bh3 = md.Particle(\"BH\",5,0,0) #stellar type, mass, radius, spin. At the momento for black holes choose r=0 and will set the Schwarzchild radius\n",
    "\n",
    "\n",
    "Sd = np.array([0.1,0.3]) #Dimensionless spin\n",
    "omega = (Sd*(ns.mass**2))/(ns.inertiam*c_CU)\n",
    "\n",
    "#nsspinarr = np.array([0,0,ns.sdis/3])\n",
    "\n",
    "nsspinarr = np.array([0,0,omega[0]])\n",
    "\n",
    "\n",
    "nsspin = md.Particle(\"NS\",1.2,8.89, nsspinarr)\n",
    "\n",
    "bh3nsspin = md.Binary(bh3,nsspin, 8*nsspin.radi,0)#Change from 8 to 10"
   ]
  },
  {
   "cell_type": "code",
   "execution_count": 26,
   "metadata": {},
   "outputs": [
    {
     "name": "stdout",
     "output_type": "stream",
     "text": [
      "0.015851657449106545\n"
     ]
    }
   ],
   "source": [
    "print(omega[1])"
   ]
  },
  {
   "cell_type": "code",
   "execution_count": 27,
   "metadata": {},
   "outputs": [
    {
     "ename": "KeyboardInterrupt",
     "evalue": "",
     "output_type": "error",
     "traceback": [
      "\u001b[0;31m---------------------------------------------------------------------------\u001b[0m",
      "\u001b[0;31mKeyboardInterrupt\u001b[0m                         Traceback (most recent call last)",
      "\u001b[0;32m<ipython-input-27-77c5889b9c4e>\u001b[0m in \u001b[0;36m<module>\u001b[0;34m\u001b[0m\n\u001b[1;32m      4\u001b[0m \u001b[0mNsteps\u001b[0m \u001b[0;34m=\u001b[0m \u001b[0mint\u001b[0m\u001b[0;34m(\u001b[0m\u001b[0mtl\u001b[0m\u001b[0;34m/\u001b[0m\u001b[0mdt\u001b[0m\u001b[0;34m)\u001b[0m\u001b[0;31m#Number of ti\u001b[0m\u001b[0;34m\u001b[0m\u001b[0;34m\u001b[0m\u001b[0m\n\u001b[1;32m      5\u001b[0m \u001b[0;34m\u001b[0m\u001b[0m\n\u001b[0;32m----> 6\u001b[0;31m \u001b[0mr\u001b[0m\u001b[0;34m,\u001b[0m\u001b[0mv\u001b[0m\u001b[0;34m,\u001b[0m\u001b[0mS\u001b[0m\u001b[0;34m,\u001b[0m\u001b[0mb\u001b[0m\u001b[0;34m,\u001b[0m\u001b[0ma\u001b[0m\u001b[0;34m,\u001b[0m\u001b[0maN\u001b[0m\u001b[0;34m,\u001b[0m\u001b[0maPN\u001b[0m\u001b[0;34m,\u001b[0m\u001b[0mtimes\u001b[0m \u001b[0;34m=\u001b[0m \u001b[0mHermite4thPNspinbdt\u001b[0m\u001b[0;34m(\u001b[0m\u001b[0mbh3\u001b[0m\u001b[0;34m,\u001b[0m\u001b[0mnsspin\u001b[0m\u001b[0;34m,\u001b[0m \u001b[0mbh3nsspin\u001b[0m\u001b[0;34m,\u001b[0m \u001b[0mNsteps\u001b[0m\u001b[0;34m,\u001b[0m \u001b[0mdt\u001b[0m\u001b[0;34m)\u001b[0m\u001b[0;34m\u001b[0m\u001b[0;34m\u001b[0m\u001b[0m\n\u001b[0m",
      "\u001b[0;32m<ipython-input-24-40c0ebe94891>\u001b[0m in \u001b[0;36mHermite4thPNspinbdt\u001b[0;34m(pri, sec, bina, nsteps, Dt)\u001b[0m\n\u001b[1;32m     30\u001b[0m \u001b[0;34m\u001b[0m\u001b[0m\n\u001b[1;32m     31\u001b[0m     \u001b[0;32mfor\u001b[0m \u001b[0mi\u001b[0m \u001b[0;32min\u001b[0m \u001b[0mrange\u001b[0m\u001b[0;34m(\u001b[0m\u001b[0;36m1\u001b[0m\u001b[0;34m,\u001b[0m\u001b[0mnsteps\u001b[0m\u001b[0;34m)\u001b[0m\u001b[0;34m:\u001b[0m\u001b[0;34m\u001b[0m\u001b[0;34m\u001b[0m\u001b[0m\n\u001b[0;32m---> 32\u001b[0;31m         \u001b[0;34m(\u001b[0m\u001b[0mr_res\u001b[0m\u001b[0;34m[\u001b[0m\u001b[0;34m:\u001b[0m\u001b[0;34m,\u001b[0m\u001b[0;34m:\u001b[0m\u001b[0;34m,\u001b[0m\u001b[0mi\u001b[0m\u001b[0;34m]\u001b[0m\u001b[0;34m,\u001b[0m \u001b[0mv_res\u001b[0m\u001b[0;34m[\u001b[0m\u001b[0;34m:\u001b[0m\u001b[0;34m,\u001b[0m\u001b[0;34m:\u001b[0m\u001b[0;34m,\u001b[0m\u001b[0mi\u001b[0m\u001b[0;34m]\u001b[0m\u001b[0;34m,\u001b[0m \u001b[0mS_res\u001b[0m\u001b[0;34m[\u001b[0m\u001b[0;34m:\u001b[0m\u001b[0;34m,\u001b[0m\u001b[0;34m:\u001b[0m\u001b[0;34m,\u001b[0m\u001b[0mi\u001b[0m\u001b[0;34m]\u001b[0m\u001b[0;34m,\u001b[0m \u001b[0mb_res\u001b[0m\u001b[0;34m[\u001b[0m\u001b[0;34m:\u001b[0m\u001b[0;34m,\u001b[0m\u001b[0;34m:\u001b[0m\u001b[0;34m,\u001b[0m\u001b[0mi\u001b[0m\u001b[0;34m-\u001b[0m\u001b[0;36m1\u001b[0m\u001b[0;34m]\u001b[0m \u001b[0;34m,\u001b[0m \u001b[0ma_res\u001b[0m\u001b[0;34m[\u001b[0m\u001b[0;34m:\u001b[0m\u001b[0;34m,\u001b[0m\u001b[0;34m:\u001b[0m\u001b[0;34m,\u001b[0m\u001b[0mi\u001b[0m\u001b[0;34m-\u001b[0m\u001b[0;36m1\u001b[0m\u001b[0;34m]\u001b[0m\u001b[0;34m,\u001b[0m\u001b[0maN_res\u001b[0m\u001b[0;34m[\u001b[0m\u001b[0;34m:\u001b[0m\u001b[0;34m,\u001b[0m\u001b[0;34m:\u001b[0m\u001b[0;34m,\u001b[0m\u001b[0mi\u001b[0m\u001b[0;34m-\u001b[0m\u001b[0;36m1\u001b[0m\u001b[0;34m]\u001b[0m\u001b[0;34m,\u001b[0m \u001b[0maPN_res\u001b[0m\u001b[0;34m[\u001b[0m\u001b[0;34m:\u001b[0m\u001b[0;34m,\u001b[0m\u001b[0;34m:\u001b[0m\u001b[0;34m,\u001b[0m\u001b[0mi\u001b[0m\u001b[0;34m-\u001b[0m\u001b[0;36m1\u001b[0m\u001b[0;34m]\u001b[0m\u001b[0;34m,\u001b[0m\u001b[0mdtp\u001b[0m\u001b[0;34m[\u001b[0m\u001b[0mi\u001b[0m\u001b[0;34m]\u001b[0m\u001b[0;34m)\u001b[0m \u001b[0;34m=\u001b[0m \u001b[0mHermiteUpdatePNspinbdt\u001b[0m\u001b[0;34m(\u001b[0m\u001b[0mDt\u001b[0m\u001b[0;34m,\u001b[0m \u001b[0mr_res\u001b[0m\u001b[0;34m[\u001b[0m\u001b[0;34m:\u001b[0m\u001b[0;34m,\u001b[0m\u001b[0;34m:\u001b[0m\u001b[0;34m,\u001b[0m\u001b[0mi\u001b[0m\u001b[0;34m-\u001b[0m\u001b[0;36m1\u001b[0m\u001b[0;34m]\u001b[0m\u001b[0;34m,\u001b[0m \u001b[0mv_res\u001b[0m\u001b[0;34m[\u001b[0m\u001b[0;34m:\u001b[0m\u001b[0;34m,\u001b[0m\u001b[0;34m:\u001b[0m\u001b[0;34m,\u001b[0m\u001b[0mi\u001b[0m\u001b[0;34m-\u001b[0m\u001b[0;36m1\u001b[0m\u001b[0;34m]\u001b[0m\u001b[0;34m,\u001b[0m  \u001b[0mm\u001b[0m\u001b[0;34m,\u001b[0m \u001b[0mnspinv\u001b[0m\u001b[0;34m,\u001b[0m \u001b[0mS_res\u001b[0m\u001b[0;34m[\u001b[0m\u001b[0;34m:\u001b[0m\u001b[0;34m,\u001b[0m\u001b[0;34m:\u001b[0m\u001b[0;34m,\u001b[0m\u001b[0mi\u001b[0m\u001b[0;34m-\u001b[0m\u001b[0;36m1\u001b[0m\u001b[0;34m]\u001b[0m\u001b[0;34m,\u001b[0m \u001b[0mIv\u001b[0m\u001b[0;34m)\u001b[0m\u001b[0;34m\u001b[0m\u001b[0;34m\u001b[0m\u001b[0m\n\u001b[0m\u001b[1;32m     33\u001b[0m         \u001b[0mtime\u001b[0m\u001b[0;34m[\u001b[0m\u001b[0mi\u001b[0m\u001b[0;34m]\u001b[0m \u001b[0;34m=\u001b[0m \u001b[0mtime\u001b[0m\u001b[0;34m[\u001b[0m\u001b[0mi\u001b[0m\u001b[0;34m-\u001b[0m\u001b[0;36m1\u001b[0m\u001b[0;34m]\u001b[0m \u001b[0;34m+\u001b[0m \u001b[0mdtp\u001b[0m\u001b[0;34m[\u001b[0m\u001b[0mi\u001b[0m\u001b[0;34m-\u001b[0m\u001b[0;36m1\u001b[0m\u001b[0;34m]\u001b[0m \u001b[0;31m#+ Dt #\u001b[0m\u001b[0;34m\u001b[0m\u001b[0;34m\u001b[0m\u001b[0m\n\u001b[1;32m     34\u001b[0m         \u001b[0;32mif\u001b[0m \u001b[0mtime\u001b[0m\u001b[0;34m[\u001b[0m\u001b[0mi\u001b[0m\u001b[0;34m]\u001b[0m \u001b[0;34m>=\u001b[0m \u001b[0mtimelimit\u001b[0m\u001b[0;34m:\u001b[0m\u001b[0;34m\u001b[0m\u001b[0;34m\u001b[0m\u001b[0m\n",
      "\u001b[0;32m<ipython-input-23-36754f726baf>\u001b[0m in \u001b[0;36mHermiteUpdatePNspinbdt\u001b[0;34m(dt, r, v, m, ns, S, I)\u001b[0m\n\u001b[1;32m      1\u001b[0m \u001b[0;32mdef\u001b[0m \u001b[0mHermiteUpdatePNspinbdt\u001b[0m\u001b[0;34m(\u001b[0m\u001b[0mdt\u001b[0m\u001b[0;34m,\u001b[0m \u001b[0mr\u001b[0m\u001b[0;34m,\u001b[0m \u001b[0mv\u001b[0m\u001b[0;34m,\u001b[0m \u001b[0mm\u001b[0m\u001b[0;34m,\u001b[0m \u001b[0mns\u001b[0m\u001b[0;34m,\u001b[0m \u001b[0mS\u001b[0m\u001b[0;34m,\u001b[0m\u001b[0mI\u001b[0m\u001b[0;34m)\u001b[0m\u001b[0;34m:\u001b[0m \u001b[0;31m# m mass of the star\u001b[0m\u001b[0;34m\u001b[0m\u001b[0;34m\u001b[0m\u001b[0m\n\u001b[1;32m      2\u001b[0m \u001b[0;34m\u001b[0m\u001b[0m\n\u001b[0;32m----> 3\u001b[0;31m     \u001b[0maN\u001b[0m \u001b[0;34m=\u001b[0m \u001b[0macc\u001b[0m\u001b[0;34m(\u001b[0m\u001b[0mr\u001b[0m\u001b[0;34m,\u001b[0m \u001b[0mm\u001b[0m\u001b[0;34m)\u001b[0m\u001b[0;34m\u001b[0m\u001b[0;34m\u001b[0m\u001b[0m\n\u001b[0m\u001b[1;32m      4\u001b[0m     \u001b[0maS\u001b[0m \u001b[0;34m=\u001b[0m \u001b[0maccspin\u001b[0m\u001b[0;34m(\u001b[0m\u001b[0mr\u001b[0m\u001b[0;34m,\u001b[0m \u001b[0mm\u001b[0m\u001b[0;34m,\u001b[0m \u001b[0mns\u001b[0m\u001b[0;34m,\u001b[0m \u001b[0mS\u001b[0m\u001b[0;34m)\u001b[0m\u001b[0;34m\u001b[0m\u001b[0;34m\u001b[0m\u001b[0m\n\u001b[1;32m      5\u001b[0m     \u001b[0maPN\u001b[0m \u001b[0;34m=\u001b[0m \u001b[0;36m0\u001b[0m\u001b[0;31m#accPN(r, v, m)\u001b[0m\u001b[0;34m\u001b[0m\u001b[0;34m\u001b[0m\u001b[0m\n",
      "\u001b[0;31mKeyboardInterrupt\u001b[0m: "
     ]
    }
   ],
   "source": [
    "tl = 8*bh3nsspin.periodct #Time of the simulation in [cpde units]\n",
    "timelimit = tl #\n",
    "dt = 0.01 # 0.0001 working better \n",
    "Nsteps = int(tl/dt)#Number of ti\n",
    "\n",
    "r,v,S,b,a,aN,aPN,times = Hermite4thPNspinbdt(bh3,nsspin, bh3nsspin, Nsteps, dt)"
   ]
  },
  {
   "cell_type": "code",
   "execution_count": null,
   "metadata": {},
   "outputs": [],
   "source": [
    "print(S)"
   ]
  },
  {
   "cell_type": "code",
   "execution_count": null,
   "metadata": {},
   "outputs": [],
   "source": [
    "print(b[1].T[512549][2])"
   ]
  },
  {
   "cell_type": "code",
   "execution_count": null,
   "metadata": {},
   "outputs": [],
   "source": [
    "print(S[1].T[0][2])\n",
    "print(S[1].T[-1][2])\n",
    "\n",
    "S[1].T[-1][2]/S[1].T[0][2]"
   ]
  },
  {
   "cell_type": "code",
   "execution_count": null,
   "metadata": {},
   "outputs": [],
   "source": [
    "print(S[1].T[0][2])\n",
    "print(S[1].T[-1][2])\n",
    "\n",
    "S[1].T[-1][2]/S[1].T[0][2]"
   ]
  },
  {
   "cell_type": "code",
   "execution_count": null,
   "metadata": {},
   "outputs": [],
   "source": [
    "print(len(r[0].T))"
   ]
  },
  {
   "cell_type": "code",
   "execution_count": null,
   "metadata": {},
   "outputs": [],
   "source": [
    "fig = plt.figure()\n",
    "ax = fig.gca(projection='3d')\n",
    "ax.plot(r[0][0], r[0][1], r[0][2], 'c', linewidth=1)# Plot the BH orbit\n",
    "ax.plot(r[1][0], r[1][1], r[1][2], 'm', linewidth=1)# Plot the star orbit\n",
    "ax.scatter3D(r[0][0][-1], r[0][1][-1], r[0][2][-1], 'o', c='black') #s=100\n",
    "ax.scatter3D(r[1][0][-1], r[1][1][-1], r[1][2][-1], '0', c='orange') #s=10\n",
    "ax.legend()\n",
    "#ax.set_xticks([])\n",
    "#ax.set_yticks([])\n",
    "#ax.set_zticks([])\n",
    "#ax.set_xlim3d(-1,1)\n",
    "#ax.set_ylim3d(-1,1)\n",
    "#ax.set_xlim3d(min(min(posbh1x), min(posbh2x)), max(max(posbh1x), max(posbh2x)))\n",
    "#ax.set_ylim3d(min(min(posbh1y), min(posbh2y)), max(max(posbh1y), max(posbh2y)))\n",
    "#ax.set_zlim3d(min(min(posbh1z), min(posbh2z)), max(max(posbh1z), max(posbh2z)))\n",
    "ax.set_xlabel('x')\n",
    "ax.set_ylabel('y')\n",
    "ax.set_zlabel('z')\n",
    "\n",
    "\n",
    "#plt.savefig('ne-circular2rt-5orbits.eps',bbox_inches='tight')#, dpi=300\n",
    "\n",
    "plt.show()"
   ]
  },
  {
   "cell_type": "code",
   "execution_count": null,
   "metadata": {},
   "outputs": [],
   "source": [
    "len(aPNratio)"
   ]
  },
  {
   "cell_type": "code",
   "execution_count": null,
   "metadata": {},
   "outputs": [],
   "source": [
    "print(a[1].T)"
   ]
  },
  {
   "cell_type": "code",
   "execution_count": null,
   "metadata": {},
   "outputs": [],
   "source": [
    "print(aPN[1].T)"
   ]
  },
  {
   "cell_type": "code",
   "execution_count": null,
   "metadata": {},
   "outputs": [],
   "source": [
    "print(aN[1].T)"
   ]
  },
  {
   "cell_type": "code",
   "execution_count": null,
   "metadata": {},
   "outputs": [],
   "source": [
    "ac = a#Acceleration corrected\n",
    "aNc = aN\n",
    "aPNc = aPN\n",
    "\n",
    "aratio = np.zeros_like(aPNc[1].T)\n",
    "aPNratio = np.zeros_like(aPNc[1].T)\n",
    "for i in range(len(aPNratio)-1):\n",
    "    aratio[i][0] = (ac[0].T[i][0])/(aNc[1].T[i][0])\n",
    "    aratio[i][1] = (ac[1].T[i][1])/(aNc[1].T[i][1])\n",
    "    aPNratio[i][0] = (aPNc[1].T[i][0])/(aNc[1].T[i][0])\n",
    "    aPNratio[i][1] = (aPNc[1].T[i][1])/(aNc[1].T[i][1])\n",
    "    #print(aratio[i][1])\n",
    "    \n",
    "#define relative position\n",
    "relposT = r[1].T - r[0].T \n",
    "#define relative velocity\n",
    "relvelT = v[1].T - v[0].T\n",
    "\n",
    "normrelposT = np.zeros([len(relposT), 1]) \n",
    "normrelvelT = np.zeros([len(relvelT), 1]) \n",
    "normS = np.zeros([len(relvelT), 1]) \n",
    "\n",
    "\n",
    "for i in range(len(normrelposT)):\n",
    "    normrelposT[i] = np.sqrt(relposT[i][0]**2 + relposT[i][1]**2 + relposT[i][2]**2)\n",
    "    normrelvelT[i] = np.sqrt(relvelT[i][0]**2 + relvelT[i][1]**2 + relvelT[i][2]**2)\n",
    "    normS[i] = np.linalg.norm(S[1].T[i])\n",
    "    \n",
    "print(len(normrelposT.T[0]))\n",
    "print(min(normrelposT))\n",
    "print(max(normrelposT))"
   ]
  },
  {
   "cell_type": "code",
   "execution_count": null,
   "metadata": {},
   "outputs": [],
   "source": [
    "print(a[1].T)"
   ]
  },
  {
   "cell_type": "code",
   "execution_count": null,
   "metadata": {},
   "outputs": [],
   "source": [
    "print(aN[1].T)"
   ]
  },
  {
   "cell_type": "code",
   "execution_count": null,
   "metadata": {},
   "outputs": [],
   "source": [
    "print(aPN[1].T)"
   ]
  },
  {
   "cell_type": "code",
   "execution_count": null,
   "metadata": {},
   "outputs": [],
   "source": [
    "print(np.shape(normrelposT.T[0]))\n",
    "print(np.shape(normS.T[0]))\n",
    "print(np.shape(aratio.T[0][:]))"
   ]
  },
  {
   "cell_type": "code",
   "execution_count": null,
   "metadata": {},
   "outputs": [],
   "source": [
    "n_exco = (normrelposT.T[0][1:]**2)*(2./3)*(1.*ns.mass/normS.T[0][:-1]**2)*(aratio.T[0][:] - aPNratio.T[0][:] - 1) # \n",
    "n_eyco = (normrelposT.T[0][:-]**2)*(2./3)*(1.*ns.mass/normS.T[0][:-1]**2)*(aratio.T[1][:] - aPNratio.T[1][:] - 1)#"
   ]
  },
  {
   "cell_type": "markdown",
   "metadata": {},
   "source": [
    "# Adding PN and measuring coefficient\n",
    "Circular orbit test measurement of coefficient --- TESTED"
   ]
  },
  {
   "cell_type": "code",
   "execution_count": null,
   "metadata": {},
   "outputs": [],
   "source": [
    "def accspin(r,m,ns,S):#r,m,S,ns #r position, m mass, s spin, m mass of the star and the value of ne\n",
    "    a = np.zeros((len(r),3)) #Create acceleration vector\n",
    "    for i in range(len(r)): #Range is size of timesteps or position steps\n",
    "        for j in range(len(r)): #For each particle\n",
    "            if (i != j):\n",
    "                rrel = r[i]-r[j]\n",
    "                rn = ((rrel**2).sum())**(1./2) #dot product\n",
    "                runi = rrel/rn\n",
    "                Sn = ((S[i]*S[i]).sum())**(1./2)\n",
    "                a[i] += -(3./2)*ns[i]*(m[j]*Sn**2/m[i])*(runi)/(rn**4.0) #Acceleration at each time step\n",
    "                \n",
    "    return a # return acceleration\n",
    "\n",
    "def Jerkspin(r,v,m, ns,S):#r,v,m,S,ns #r position, v velocity, m mass, m mass of the star, ne\n",
    "    Je = np.zeros((len(r),3)) #Define the Jerk\n",
    "    Je1 = np.zeros((len(r),3))\n",
    "    Je2 = np.zeros((len(r),3))\n",
    "    for i in range(len(r)):\n",
    "        for j in range(len(r)):\n",
    "            if (i != j):\n",
    "                rrel = (r[i]-r[j])\n",
    "                vrel = (v[i]-v[j])\n",
    "                rn = ((rrel**2).sum())**(1./2) # dot product\n",
    "                Sn = ((S[i]*S[i]).sum())**(1./2)\n",
    "                #Je1[i] += - (3./2)*ns[i]*((m[j])/m[i])*(2*((S*b).sum())*rrel/r**5 ) #Still need to define b \n",
    "                Je2[i] += - (3./2)*ns[i]*((m[j])/m[i])*(Sn**2)*(vrel/rn**5.0 - 5.*((vrel*rrel).sum())*(rrel)/(rn**7.0))               \n",
    "                Je[i] += Je2[i] #Je1[i] + Je2[i] \n",
    "    return Je;\n"
   ]
  },
  {
   "cell_type": "code",
   "execution_count": null,
   "metadata": {},
   "outputs": [],
   "source": [
    "def HermiteUpdatespindt(dt, r, v, m, ns, S): # m mass of the star\n",
    "    \n",
    "    aN = acc(r, m) \n",
    "    aS = accspin(r, m, ns, S)\n",
    "    a = aN + aS           # current acceleration\n",
    "    aNdot = Jerk(r,v,m)\n",
    "    aSdot = Jerkspin(r, v, m, ns, S)\n",
    "    adot = aNdot + aSdot # current jerks\n",
    "    rp = r + dt*v + dt**2/2 * a + dt**3/6* adot   # predict\n",
    "    vp = v + dt*a + dt**2/2 * adot\n",
    "\n",
    "    aNp = acc(rp, m)\n",
    "    aSp = accspin(rp, m, ns, S)\n",
    "    ap = aNp + aSp         # predicted acceleration\n",
    "\n",
    "    aNdotp = Jerk(rp, vp, m)\n",
    "    aSdotp = Jerkspin(rp, vp, m, ns, S)\n",
    "    adotp = aNdotp + aSdotp  # predicted jerks \n",
    "    \n",
    "    dtp = dt\n",
    "    \n",
    "    vc = v + dt/2*(a+ap) - dt**2/12*(adotp-adot)  # correct\n",
    "    rc = r + dt/2*(v + vp) - dt**2/12 * (ap-a)\n",
    "    ac = a + dt/2*(adotp + adot)\n",
    "    aNc = aN + dt/2*(aNdotp + aNdot)\n",
    "    \n",
    "    Sc = S\n",
    " \n",
    "    return rc,vc,Sc, ac, aNc,dtp #,ac,aNc,dtp\n",
    "\n",
    "def Hermite4thspindt(pri,sec, bina, nsteps,Dt):\n",
    "\n",
    "    N=2\n",
    "    m = np.ones(N)#/N #Remove the N if not necessary\n",
    "    m[0]=pri.mass\n",
    "    m[1]=sec.mass\n",
    "    \n",
    "    r_res = np.zeros((2,3,nsteps)) # 2 because of two bodies\n",
    "    v_res = np.zeros((2,3,nsteps))\n",
    "    S_res = np.zeros((2,3,nsteps)) # 2 because of two bodies\n",
    "\n",
    "\n",
    "    aN_res = np.zeros((2,3,nsteps-1)) # 2 because of two bodies\n",
    "    #adotN_res = np.zeros((2,3,nsteps))\n",
    "\n",
    "    a_res = np.zeros((2,3,nsteps-1)) # 2 because of two bodies\n",
    "    #adot_res = np.zeros((2,3,nsteps))\n",
    "\n",
    "    \n",
    "    time = np.zeros(nsteps)\n",
    "    r_res[:,:,0] = bina.r.copy()\n",
    "    v_res[:,:,0] = bina.v.copy()\n",
    "    S_res[:,:,0] = bina.S.copy()\n",
    "    \n",
    "    nspinv = np.array([pri.nspin, sec.nspin])\n",
    "    \n",
    "    dtp = np.zeros(nsteps)\n",
    "    dtp[0] = Dt\n",
    "    \n",
    "    for i in range(1,nsteps):\n",
    "        (r_res[:,:,i], v_res[:,:,i], S_res[:,:,i], a_res[:,:,i-1],aN_res[:,:,i-1], dtp[i]) = HermiteUpdatespindt(Dt, r_res[:,:,i-1], v_res[:,:,i-1],  m, nspinv, S_res[:,:,i-1])\n",
    "        #\n",
    "        time[i] = time[i-1] + Dt#\n",
    "        if time[i] >= timelimit:\n",
    "            break\n",
    "        #elif np.linalg.norm(r_res[0].T[i] - r_res[1].T[i]) < 1.*(pri.radi+sec.radi): #This is when running an equal mass bbh\n",
    "        elif np.linalg.norm(r_res[0].T[i] - r_res[1].T[i]) < 1.*(bina.tidalrsec):\n",
    "            break\n",
    "    \n",
    "    n = 1\n",
    "    r_res = r_res[:,:,:i+n]\n",
    "    v_res = v_res[:,:,:i+n]\n",
    "    a_res = a_res[:,:,:i+n]\n",
    "    S_res = S_res[:,:,:i+n]\n",
    "    dtp = dtp[:i+n]\n",
    "    time = time[:i+n]\n",
    "\n",
    "    return r_res, v_res, S_res, a_res, aN_res, time\n",
    "\n",
    "def Hermite4thspindt(pri,sec, bina, nsteps,Dt):\n",
    "\n",
    "    N=2\n",
    "    m = np.ones(N)#/N #Remove the N if not necessary\n",
    "    m[0]=pri.mass\n",
    "    m[1]=sec.mass\n",
    "    \n",
    "    r_res = np.zeros((2,3,nsteps)) # 2 because of two bodies\n",
    "    v_res = np.zeros((2,3,nsteps))\n",
    "    S_res = np.zeros((2,3,nsteps)) # 2 because of two bodies\n",
    "\n",
    "\n",
    "    aN_res = np.zeros((2,3,nsteps-1)) # 2 because of two bodies\n",
    "    #adotN_res = np.zeros((2,3,nsteps))\n",
    "\n",
    "    a_res = np.zeros((2,3,nsteps-1)) # 2 because of two bodies\n",
    "    #adot_res = np.zeros((2,3,nsteps))\n",
    "\n",
    "    \n",
    "    time = np.zeros(nsteps)\n",
    "    r_res[:,:,0] = bina.r.copy()\n",
    "    v_res[:,:,0] = bina.v.copy()\n",
    "    S_res[:,:,0] = bina.S.copy()\n",
    "    \n",
    "    nspinv = np.array([pri.nspin, sec.nspin])\n",
    "    \n",
    "    dtp = np.zeros(nsteps)\n",
    "    dtp[0] = Dt\n",
    "    \n",
    "    for i in range(1,nsteps):\n",
    "        (r_res[:,:,i], v_res[:,:,i], S_res[:,:,i], a_res[:,:,i-1],aN_res[:,:,i-1], dtp[i]) = HermiteUpdatespindt(Dt, r_res[:,:,i-1], v_res[:,:,i-1],  m, nspinv, S_res[:,:,i-1])\n",
    "        #\n",
    "        time[i] = time[i-1] + Dt#\n",
    "        if time[i] >= timelimit:\n",
    "            break\n",
    "    \n",
    "    n = 0\n",
    "    #r_res = r_res[:,:,:i+n]\n",
    "    #v_res = v_res[:,:,:i+n]\n",
    "    #a_res = a_res[:,:,:i]\n",
    "    #S_res = S_res[:,:,:i]\n",
    "    #dtp = dtp[:i]\n",
    "    #time = time[:i]\n",
    "\n",
    "    return r_res, v_res, S_res, a_res, aN_res, time"
   ]
  },
  {
   "cell_type": "code",
   "execution_count": null,
   "metadata": {},
   "outputs": [],
   "source": [
    "'''tl = 1*bh3nsspin.periodct #Time of the simulation in [cpde units]\n",
    "timelimit = tl #\n",
    "dt = 0.1 # 0.0001 working better \n",
    "Nsteps = int(tl/dt)#Number of ti\n",
    "\n",
    "r,v,S,b,a,aN,aPN,times = Hermite4thPNspinbdt(bh3,nsspin, bh3nsspin, Nsteps, dt)\n",
    "'''"
   ]
  },
  {
   "cell_type": "code",
   "execution_count": null,
   "metadata": {},
   "outputs": [],
   "source": [
    "tl = 8*bh3nsspin.periodct #Time of the simulation in [cpde units]\n",
    "timelimit = tl #\n",
    "dt = 0.1 # 0.0001 working better \n",
    "Nsteps = int(tl/dt)#Number of ti\n",
    "\n",
    "r,v,S,a,aN,time = Hermite4thspindt(bh3,nsspin, bh3nsspin, Nsteps, dt)\n",
    "\n",
    "print(S)"
   ]
  },
  {
   "cell_type": "code",
   "execution_count": null,
   "metadata": {},
   "outputs": [],
   "source": [
    "fig = plt.figure()\n",
    "ax = fig.gca(projection='3d')\n",
    "ax.plot(r[0][0], r[0][1], r[0][2], 'c', linewidth=1)# Plot the BH orbit\n",
    "ax.plot(r[1][0], r[1][1], r[1][2], 'm', linewidth=1)# Plot the star orbit\n",
    "ax.scatter3D(r[0][0][-1], r[0][1][-1], r[0][2][-1], 'o', c='black') #s=100\n",
    "ax.scatter3D(r[1][0][-1], r[1][1][-1], r[1][2][-1], '0', c='orange') #s=10\n",
    "ax.legend()\n",
    "#ax.set_xticks([])\n",
    "#ax.set_yticks([])\n",
    "#ax.set_zticks([])\n",
    "#ax.set_xlim3d(-1,1)\n",
    "#ax.set_ylim3d(-1,1)\n",
    "#ax.set_xlim3d(min(min(posbh1x), min(posbh2x)), max(max(posbh1x), max(posbh2x)))\n",
    "#ax.set_ylim3d(min(min(posbh1y), min(posbh2y)), max(max(posbh1y), max(posbh2y)))\n",
    "#ax.set_zlim3d(min(min(posbh1z), min(posbh2z)), max(max(posbh1z), max(posbh2z)))\n",
    "ax.set_xlabel('x')\n",
    "ax.set_ylabel('y')\n",
    "ax.set_zlabel('z')\n",
    "\n",
    "\n",
    "#plt.savefig('ne-circular2rt-5orbits.eps',bbox_inches='tight')#, dpi=300\n",
    "\n",
    "plt.show()"
   ]
  },
  {
   "cell_type": "code",
   "execution_count": null,
   "metadata": {},
   "outputs": [],
   "source": [
    "aratio = np.zeros_like(aN[1].T)\n",
    "for i in range(len(aN[1].T)-1):\n",
    "    aratio[i+1][0] = (a[0].T[i+1][0])/(aN[0].T[i+1][0])\n",
    "    aratio[i+1][1] = (a[1].T[i+1][1])/(aN[1].T[i+1][1])\n",
    "    #print(aratio[i][1])\n",
    "    \n",
    "#define relative position\n",
    "relpos = r[1].T - r[0].T \n",
    "#define relative velocity\n",
    "relvel = v[1].T - v[0].T\n",
    "\n",
    "normrelpos = np.zeros([len(relpos), 1]) \n",
    "normrelvel = np.zeros([len(relvel), 1]) \n",
    "normS = np.zeros([len(relvel), 1]) \n",
    "\n",
    "for i in range(len(normrelpos)):\n",
    "    normrelpos[i] = np.sqrt(relpos[i][0]**2 + relpos[i][1]**2 + relpos[i][2]**2)\n",
    "    normrelvel[i] = np.sqrt(relvel[i][0]**2 + relvel[i][1]**2 + relvel[i][2]**2)\n",
    "    normS[i] = np.linalg.norm(S[1].T[i])\n",
    "    \n",
    "print(len(normrelpos.T[0]))\n",
    "print(min(normrelpos))\n",
    "print(max(normrelpos))"
   ]
  },
  {
   "cell_type": "code",
   "execution_count": null,
   "metadata": {},
   "outputs": [],
   "source": [
    "n_exco = (normrelpos.T[0][1:]**2)*(2./3)*(1.*ns.mass/normS.T[0][1:]**2)*(aratio.T[0][:] - 1) \n",
    "n_eyco = (normrelpos.T[0][1:]**2)*(2./3)*(1.*ns.mass/normS.T[0][1:]**2)*(aratio.T[1][:] - 1)"
   ]
  },
  {
   "cell_type": "code",
   "execution_count": null,
   "metadata": {},
   "outputs": [],
   "source": [
    "print(n_exco)"
   ]
  },
  {
   "cell_type": "code",
   "execution_count": null,
   "metadata": {},
   "outputs": [],
   "source": [
    "plt.plot(time[2:], n_exco[1:], 'c-', alpha = 1)\n",
    "#plt.plot(timearrayN.T[0][2:], n_ey[1:], 'b-', label = r'$n_{Ey}$', alpha = 0.5)\n",
    "#plt.plot(timearrayT[1:], posydif, 'b-', label = r'$\\Delta y$', alpha = 0.8)\n",
    "\n",
    "#plt.plot(timeave, dynstave.T[1], 'b-', label = r'$star$', alpha = 0.8)\n",
    "#plt.plot(time[1:], n_e.T[2], 'g-', label = r'$n_{ez}$', alpha = 0.8)\n",
    "#plt.xlim(0,30)\n",
    "#plt.ylim(0.0955,0.09555)\n",
    "plt.xlabel('code time')\n",
    "plt.ylabel(r'$n_{S,i}$',rotation=0)\n",
    "\n",
    "#plt.title(r'$n_{S,i}$ circular orbit')\n",
    "plt.legend()\n",
    "#plt.savefig('ne-evolution-circular-0.001-4rs-5orbits.eps', bbox_inches='tight')#, dpi=300\n",
    "\n",
    "plt.show()"
   ]
  },
  {
   "cell_type": "code",
   "execution_count": null,
   "metadata": {},
   "outputs": [],
   "source": [
    "n_exco[1:]/nsspin.nspin"
   ]
  },
  {
   "cell_type": "code",
   "execution_count": null,
   "metadata": {},
   "outputs": [],
   "source": [
    "n_exco"
   ]
  },
  {
   "cell_type": "code",
   "execution_count": null,
   "metadata": {},
   "outputs": [],
   "source": []
  },
  {
   "cell_type": "code",
   "execution_count": null,
   "metadata": {},
   "outputs": [],
   "source": []
  },
  {
   "cell_type": "code",
   "execution_count": null,
   "metadata": {},
   "outputs": [],
   "source": []
  },
  {
   "cell_type": "code",
   "execution_count": null,
   "metadata": {},
   "outputs": [],
   "source": []
  },
  {
   "cell_type": "code",
   "execution_count": null,
   "metadata": {},
   "outputs": [],
   "source": [
    "ac = a#Acceleration corrected\n",
    "aNc = aN\n",
    "aPNc = aPN\n",
    "\n",
    "aratio = np.zeros_like(aPNc[1].T)\n",
    "aPNratio = np.zeros_like(aPNc[1].T)\n",
    "for i in range(len(aPNratio)-1):\n",
    "    aratio[i][0] = (ac[0].T[i][0])/(aNc[1].T[i][0])\n",
    "    aratio[i][1] = (ac[1].T[i][1])/(aNc[1].T[i][1])\n",
    "    aPNratio[i][0] = (aPNc[1].T[i][0])/(aNc[1].T[i][0])\n",
    "    aPNratio[i][1] = (aPNc[1].T[i][1])/(aNc[1].T[i][1])\n",
    "    #print(aratio[i][1])\n",
    "    \n",
    "#define relative position\n",
    "relposT = r[1].T - r[0].T \n",
    "#define relative velocity\n",
    "relvelT = v[1].T - v[0].T\n",
    "\n",
    "normrelposT = np.zeros([len(relposT), 1]) \n",
    "normrelvelT = np.zeros([len(relvelT), 1]) \n",
    "normS = np.zeros([len(relvelT), 1]) \n",
    "\n",
    "\n",
    "for i in range(len(normrelposT)):\n",
    "    normrelposT[i] = np.sqrt(relposT[i][0]**2 + relposT[i][1]**2 + relposT[i][2]**2)\n",
    "    normrelvelT[i] = np.sqrt(relvelT[i][0]**2 + relvelT[i][1]**2 + relvelT[i][2]**2)\n",
    "    normS[i] = np.linalg.norm(S[1].T[i])\n",
    "    \n",
    "print(len(normrelposT.T[0]))\n",
    "print(min(normrelposT))\n",
    "print(max(normrelposT))"
   ]
  },
  {
   "cell_type": "code",
   "execution_count": null,
   "metadata": {},
   "outputs": [],
   "source": [
    "fig = plt.figure()\n",
    "ax = fig.gca(projection='3d')\n",
    "ax.plot(r[0][0], r[0][1], r[0][2], 'c', linewidth=1)# Plot the BH orbit\n",
    "ax.plot(r[1][0], r[1][1], r[1][2], 'm', linewidth=1)# Plot the star orbit\n",
    "ax.scatter3D(r[0][0][-1], r[0][1][-1], r[0][2][-1], 'o', c='black') #s=100\n",
    "ax.scatter3D(r[1][0][-1], r[1][1][-1], r[1][2][-1], '0', c='orange') #s=10\n",
    "ax.legend()\n",
    "#ax.set_xticks([])\n",
    "#ax.set_yticks([])\n",
    "#ax.set_zticks([])\n",
    "#ax.set_xlim3d(-1,1)\n",
    "#ax.set_ylim3d(-1,1)\n",
    "#ax.set_xlim3d(min(min(posbh1x), min(posbh2x)), max(max(posbh1x), max(posbh2x)))\n",
    "#ax.set_ylim3d(min(min(posbh1y), min(posbh2y)), max(max(posbh1y), max(posbh2y)))\n",
    "#ax.set_zlim3d(min(min(posbh1z), min(posbh2z)), max(max(posbh1z), max(posbh2z)))\n",
    "ax.set_xlabel('x')\n",
    "ax.set_ylabel('y')\n",
    "ax.set_zlabel('z')\n",
    "\n",
    "\n",
    "#plt.savefig('ne-circular2rt-5orbits.eps',bbox_inches='tight')#, dpi=300\n",
    "\n",
    "plt.show()"
   ]
  },
  {
   "cell_type": "code",
   "execution_count": null,
   "metadata": {},
   "outputs": [],
   "source": [
    "n_exco = (normrelposT.T[0][1:]**2)*(2./3)*(1.*ns.mass/normS.T[0][1:]**2)*(aratio.T[0][:] - 1) \n",
    "n_eyco = (normrelposT.T[0][1:]**2)*(2./3)*(1.*ns.mass/normS.T[0][1:]**2)*(aratio.T[1][:] - 1)"
   ]
  },
  {
   "cell_type": "code",
   "execution_count": 99,
   "metadata": {},
   "outputs": [
    {
     "name": "stderr",
     "output_type": "stream",
     "text": [
      "No handles with labels found to put in legend.\n"
     ]
    },
    {
     "data": {
      "image/png": "[encoded data removed]",
      "text/plain": [
       "<Figure size 432x288 with 1 Axes>"
      ]
     },
     "metadata": {
      "needs_background": "light"
     },
     "output_type": "display_data"
    }
   ],
   "source": [
    "plt.plot(times[2:], n_exco[1:], 'c-', alpha = 1)\n",
    "#plt.plot(timearrayN.T[0][2:], n_ey[1:], 'b-', label = r'$n_{Ey}$', alpha = 0.5)\n",
    "#plt.plot(timearrayT[1:], posydif, 'b-', label = r'$\\Delta y$', alpha = 0.8)\n",
    "\n",
    "#plt.plot(timeave, dynstave.T[1], 'b-', label = r'$star$', alpha = 0.8)\n",
    "#plt.plot(time[1:], n_e.T[2], 'g-', label = r'$n_{ez}$', alpha = 0.8)\n",
    "#plt.xlim(0,30)\n",
    "#plt.ylim(0.0955,0.09555)\n",
    "plt.xlabel('code time')\n",
    "plt.ylabel(r'$n_{S,i}$',rotation=0)\n",
    "\n",
    "#plt.title(r'$n_{S,i}$ circular orbit')\n",
    "plt.legend()\n",
    "#plt.savefig('ne-evolution-circular-0.001-4rs-5orbits.eps', bbox_inches='tight')#, dpi=300\n",
    "\n",
    "plt.show()"
   ]
  },
  {
   "cell_type": "code",
   "execution_count": null,
   "metadata": {},
   "outputs": [],
   "source": [
    "print(normrelposT[-1])"
   ]
  },
  {
   "cell_type": "code",
   "execution_count": 80,
   "metadata": {},
   "outputs": [
    {
     "name": "stdout",
     "output_type": "stream",
     "text": [
      "[-19968518.90334527 -19968518.3283342  -19968517.75327635 ...\n",
      "   -836853.38827445   -836536.67954666   -651675.54863865]\n"
     ]
    }
   ],
   "source": [
    "print(n_exco)"
   ]
  },
  {
   "cell_type": "code",
   "execution_count": 97,
   "metadata": {},
   "outputs": [
    {
     "data": {
      "text/plain": [
       "13917.65663191198"
      ]
     },
     "execution_count": 97,
     "metadata": {},
     "output_type": "execute_result"
    }
   ],
   "source": [
    "ns.nspin"
   ]
  },
  {
   "cell_type": "markdown",
   "metadata": {},
   "source": [
    "## Gravitational wave extraction"
   ]
  },
  {
   "cell_type": "code",
   "execution_count": null,
   "metadata": {},
   "outputs": [],
   "source": [
    "rrel = r[0] - r[1]\n",
    "vrel = v[0] - v[1]\n",
    "#rfnsbh = rrelnsbh.T[-1]\n",
    "\n",
    "#Obtain the orbital distance\n",
    "d = np.zeros(len(rrel.T)) \n",
    "\n",
    "for i in range(len(rrel.T)):\n",
    "    d[i] = np.linalg.norm(rrel.T[i])\n",
    "    \n",
    "#Obtain the relative velocity\n",
    "vnrel = np.zeros(len(vrel.T))\n",
    "\n",
    "for i in range(len(rrel.T)):\n",
    "    vnrel[i] = np.linalg.norm(vrel.T[i])\n",
    "    \n",
    "vnrelkm = vnrel/kmsec_U*1000/c_SI\n",
    "timesec = time*time_U"
   ]
  },
  {
   "cell_type": "code",
   "execution_count": null,
   "metadata": {},
   "outputs": [],
   "source": [
    "ws = np.zeros([len(d)])\n",
    "\n",
    "for i in range(len(d)):\n",
    "    ws[i] = ((nsspin.mass+bh3.mass)/d[i]**3)**(1./2) \n",
    "    \n",
    "\n",
    "hplus = np.zeros([len(d)]) #Could use Nsteps\n",
    "#hcrossnsbh = np.zeros([len(dsimnsbh)])\n",
    "#ro = 1.23*10**(22)#in km. LIGO's first detection, generated by two black holes some 1.3 billion light years away.\n",
    "ro = 1.23*10**(21)\n",
    "\n",
    "iangle = np.pi/2# i = pi/2 -> hx vanishes, i = 0 -> h+ and h- have the same amplitude\n",
    "\n",
    "mu = (bh3.mass*nsspin.mass)/(bh3.mass+nsspin.mass)\n",
    "\n",
    "for i in range(len(d)):\n",
    "    hplus[i] = (1./ro)*(4*mu*(ws[i]**2)*(d[i]**2)/c_CU**4)*((1+np.cos(iangle)**2)/2)*np.cos(2*ws[i]*time[i])\n",
    "    #hcrossPND[i] = (1./ro)*(4*mu*(wsPND[i]**2)*(dPND[i]**2)/c_CU**4)*np.cos(iangle)*np.sin(2*wsPND[i]*timesimtp[i])"
   ]
  },
  {
   "cell_type": "code",
   "execution_count": null,
   "metadata": {},
   "outputs": [],
   "source": [
    "plt.plot(timesec, hplus, 'm-')\n",
    "plt.axis([min(time), max(timesec), 1.2*min(hplus), 1.2*max(hplus)])\n",
    "plt.xlabel('Time (s)')\n",
    "plt.ylabel('Strain (m)')\n",
    "#plt.savefig('gwnsbh.png', format='png', dpi=200)\n",
    "plt.show()"
   ]
  },
  {
   "cell_type": "markdown",
   "metadata": {},
   "source": [
    "# Only PN "
   ]
  },
  {
   "cell_type": "code",
   "execution_count": null,
   "metadata": {},
   "outputs": [],
   "source": [
    "def HermiteUpdatePNtdt(dt, r, v, m, ns): # m mass of the star\n",
    "    \n",
    "    aN = acc(r, m) \n",
    "    #aD = accdiss(r, m, ns)\n",
    "    aPN = accPN(r, v, m)\n",
    "    a = aN + aPN #+ aT # current acceleration\n",
    "    \n",
    "    aNdot = Jerk(r,v,m)\n",
    "    #aDdot = Jerkdiss(r, v, m, ns)\n",
    "    aPNdot = JerkPN(r, v, a, m)\n",
    "    adot = aNdot + aPNdot #+ aDdot # current jerks\n",
    "    \n",
    "    rp = r + dt*v + dt**2/2 * a + dt**3/6* adot   # predict\n",
    "    vp = v + dt*a + dt**2/2 * adot\n",
    "\n",
    "    aNp = acc(rp, m)\n",
    "    aPNp = accPN(rp, vp, m)\n",
    "    #aDp = accdiss(rp, m, ns)\n",
    "    ap = aNp + aPNp #+ aDp        # predicted acceleration\n",
    "\n",
    "    aNdotp = Jerk(rp, vp, m)\n",
    "    aPNdotp = JerkPN(rp, vp, ap, m)\n",
    "    #aDdotp = Jerkdiss(rp, vp, m, ns)\n",
    "    adotp = aNdotp + aPNdotp #+  aDdotp  # predicted jerks \n",
    "    \n",
    "    #compute some other things to find the best value for the timestep\n",
    "    #Newtonian\n",
    "    #a2 = (1./dt**2)*(-6*(a-ap)-dt*(4*adot + 2*adotp))\n",
    "    #a3 = (1./dt**3)*(-12*(a-ap)-6*dt*(adot + adotp))\n",
    "    #ac = a + adot*dt + (1./2)*(dt**2)*a2 + (1./6)*(dt**2)*a3 \n",
    "    \n",
    "    #Tides\n",
    "    #a2 = (1./dt**2)*(-6*(aT-aTp)-dt*(4*aTdot + 2*aTdotp))\n",
    "    #a3 = (1./dt**3)*(-12*(aT-aTp)-6*dt*(aTdot + aTdotp))\n",
    "    #ac = aT + aTdot*dt + (1./2)*(dt**2)*a2 + (1./6)*(dt**2)*a3    \n",
    "    \n",
    "    #a2c = a2 + dt*a3    \n",
    "    #acn = ((ac**2).sum())**(1./2) #dot product\n",
    "    #a2cn = ((a2c**2).sum())**(1./2)\n",
    "    #adotpn = ((aTdotp**2).sum())**(1./2)\n",
    "    #a3n = ((a3**2).sum())**(1./2)\n",
    "    #dtp = (accu*(acn*a2cn + adotpn**2)/(adotpn*a3n + a2cn**2))**(1./2)\n",
    "\n",
    "    dtp = dt\n",
    "    \n",
    "    vp = v + dt/2*(a+ap) - dt**2/12*(adotp-adot)  # correct\n",
    "    rp = r + dt/2*(v + vp) - dt**2/12 * (ap-a)\n",
    " \n",
    "    return rp,vp,dtp #ap,adotp,aNp,aNdotp,\n",
    "\n",
    "def Hermite4thPNtdt(pri,sec, bina, nsteps, Dt):\n",
    "    \n",
    "    N=2\n",
    "    m = np.ones(N)#/N #Remove the N if not necessary\n",
    "    m[0]=pri.mass\n",
    "    m[1]=sec.mass\n",
    "    \n",
    "    r_res = np.zeros((2,3,nsteps)) # 2 because of two bodies\n",
    "    v_res = np.zeros((2,3,nsteps))\n",
    "\n",
    "    aN_res = np.zeros((2,3,nsteps)) # 2 because of two bodies\n",
    "    adotN_res = np.zeros((2,3,nsteps))\n",
    "\n",
    "    a_res = np.zeros((2,3,nsteps)) # 2 because of two bodies\n",
    "    adot_res = np.zeros((2,3,nsteps))\n",
    "\n",
    "    \n",
    "    time = np.zeros(nsteps)\n",
    "    r_res[:,:,0] = bina.r.copy()\n",
    "    v_res[:,:,0] = bina.v.copy()\n",
    "    ntidev = np.array([pri.eta, sec.eta])\n",
    "    \n",
    "    dtp = np.zeros(nsteps)\n",
    "    dtp[0] = Dt\n",
    "    \n",
    "    for i in range(1,nsteps):\n",
    "        (r_res[:,:,i],v_res[:,:,i], dtp[i]) = HermiteUpdatePNtdt(Dt, r_res[:,:,i-1], v_res[:,:,i-1], m, ntidev)\n",
    "        time[i] = time[i-1] + dtp[i-1] #+ Dt #\n",
    "        if time[i] >= timelimit:\n",
    "            break\n",
    "        elif np.linalg.norm(r_res[0].T[i] - r_res[1].T[i]) < 1.*(bina.tidalrsec): #This is when running an equal mass bbh\n",
    "        #elif np.linalg.norm(r_res[0].T[i] - r_res[1].T[i]) < 1.*(bina.tidalrsec):\n",
    "            break\n",
    "    \n",
    "    \n",
    "    #for i in range(1,nsteps):\n",
    "    #    (r_res[:,:,i],v_res[:,:,i],a_res[:,:,i],adot_res[:,:,i],aN_res[:,:,i],adotN_res[:,:,i], dtp[i]) = HermiteUpdatetidedt(Dt, r_res[:,:,i-1], v_res[:,:,i-1], m, ntidev)\n",
    "    #    time[i] = time[i-1] + dtp[i-1] #+ Dt #\n",
    "    #    if time[i] >= timelimit:\n",
    "    #        break\n",
    "            \n",
    "    r_res = r_res[:,:,:i]\n",
    "    v_res = v_res[:,:,:i]\n",
    "    a_res = a_res[:,:,:i]\n",
    "    adot_res = adot_res[:,:,:i]\n",
    "    aN_res = aN_res[:,:,:i]\n",
    "    adotN_res = adotN_res[:,:,:i]\n",
    "    dtp = dtp[:i]\n",
    "    time = time[:i]\n",
    "        \n",
    "    return r_res, v_res, time #, aN_res, adotN_res, a_res, adot_res, \n"
   ]
  },
  {
   "cell_type": "code",
   "execution_count": null,
   "metadata": {},
   "outputs": [],
   "source": [
    "rPN,vPN,timePN = Hermite4thPNtdt(bh3,nsspin, bh3nsspin, Nsteps, dt)"
   ]
  },
  {
   "cell_type": "code",
   "execution_count": null,
   "metadata": {},
   "outputs": [],
   "source": [
    "print(time[-1])\n",
    "print(timePN[-1])"
   ]
  },
  {
   "cell_type": "code",
   "execution_count": null,
   "metadata": {},
   "outputs": [],
   "source": [
    "rrelPN = rPN[0] - rPN[1]\n",
    "vrelPN = vPN[0] - vPN[1]\n",
    "#rfnsbh = rrelnsbh.T[-1]\n",
    "\n",
    "#Obtain the orbital distance\n",
    "dPN = np.zeros(len(rrelPN .T)) \n",
    "\n",
    "for i in range(len(rrelPN.T)):\n",
    "    dPN[i] = np.linalg.norm(rrelPN.T[i])\n",
    "    \n",
    "#Obtain the relative velocity\n",
    "vnrelPN = np.zeros(len(vrelPN.T))\n",
    "\n",
    "for i in range(len(rrelPN.T)):\n",
    "    vnrelPN[i] = np.linalg.norm(vrelPN.T[i])\n",
    "    \n",
    "vnrelPNkm = vnrelPN/kmsec_U*1000/c_SI\n",
    "timePNsec = timePN*time_U"
   ]
  },
  {
   "cell_type": "code",
   "execution_count": null,
   "metadata": {},
   "outputs": [],
   "source": [
    "wsPN = np.zeros([len(dPN)])\n",
    "\n",
    "for i in range(len(dPN)):\n",
    "    wsPN[i] = ((bh3.mass+nsspin.mass)/dPN[i]**3)**(1./2) \n",
    "    \n",
    "hplusPN = np.zeros([len(dPN)]) #Could use Nsteps\n",
    "#hcrossnsbh = np.zeros([len(dsimnsbh)])\n",
    "#ro = 1.23*10**(22)#in km. LIGO's first detection, generated by two black holes some 1.3 billion light years away.\n",
    "ro = 1.23*10**(21)\n",
    "\n",
    "iangle = np.pi/2# i = pi/2 -> hx vanishes, i = 0 -> h+ and h- have the same amplitude\n",
    "\n",
    "mu = (bh3.mass*nsspin.mass)/(bh3.mass+nsspin.mass)\n",
    "\n",
    "for i in range(len(dPN)):\n",
    "    hplusPN[i] = (1./ro)*(4*mu*(wsPN[i]**2)*(dPN[i]**2)/c_CU**4)*((1+np.cos(iangle)**2)/2)*np.cos(2*wsPN[i]*timePN[i])\n",
    "    #hcross[i] = (1./ro)*(4*mu*(ws[i]**2)*(dsim[i]**2)/c_CU**4)*np.cos(iangle)*np.sin(2*ws[i]*timesimtp[i])\n",
    "    "
   ]
  },
  {
   "cell_type": "code",
   "execution_count": null,
   "metadata": {},
   "outputs": [],
   "source": [
    "plt.plot(timePNsec, hplusPN, 'c-')\n",
    "plt.axis([min(timePN), max(timePNsec), 1.2*min(hplusPN), 1.2*max(hplusPN)])\n",
    "plt.xlabel('Time (s)')\n",
    "plt.ylabel('Strain (m)')\n",
    "#plt.savefig('gwnsbh.png', format='png', dpi=200)\n",
    "plt.show()"
   ]
  },
  {
   "cell_type": "markdown",
   "metadata": {},
   "source": [
    "# Comparison of waveforms "
   ]
  },
  {
   "cell_type": "code",
   "execution_count": null,
   "metadata": {},
   "outputs": [],
   "source": [
    "%matplotlib inline\n",
    "import matplotlib.pyplot as plt\n",
    "import matplotlib as mpl\n",
    "from mpl_toolkits.mplot3d import Axes3D\n",
    "import matplotlib.pyplot as plt\n",
    "from matplotlib.patches import Wedge\n",
    "import matplotlib.patches as mpatches"
   ]
  },
  {
   "cell_type": "code",
   "execution_count": null,
   "metadata": {},
   "outputs": [],
   "source": [
    "cyan_patch = mpatches.Patch(color='cyan', label=r'PN')\n",
    "magenta_patch = mpatches.Patch(color='magenta', label=r'Spin + PN')\n",
    "plt.legend(handles=[cyan_patch, magenta_patch])\n",
    "plt.plot(timePNsec, hplusPN, 'c-', alpha = 0.9)\n",
    "plt.plot(timesec, hplus, 'm-', alpha = 0.9)\n",
    "plt.axis([0.0135, 1.001*max(timePNsec), 1.2*min(hplusPN), 1.2*max(hplusPN)])\n",
    "plt.xlabel('Time (s)')\n",
    "plt.ylabel('Strain (m)')\n",
    "#plt.savefig('gw-TPNvsPN.eps', bbox_inches='tight') #, dpi=300\n",
    "plt.show()"
   ]
  },
  {
   "cell_type": "code",
   "execution_count": null,
   "metadata": {},
   "outputs": [],
   "source": []
  }
 ],
 "metadata": {
  "kernelspec": {
   "display_name": "Python 3",
   "language": "python",
   "name": "python3"
  },
  "language_info": {
   "codemirror_mode": {
    "name": "ipython",
    "version": 3
   },
   "file_extension": ".py",
   "mimetype": "text/x-python",
   "name": "python",
   "nbconvert_exporter": "python",
   "pygments_lexer": "ipython3",
   "version": "3.7.6"
  }
 },
 "nbformat": 4,
 "nbformat_minor": 4
}
