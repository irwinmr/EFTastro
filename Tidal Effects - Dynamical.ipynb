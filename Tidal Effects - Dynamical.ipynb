{
 "cells": [
  {
   "cell_type": "code",
   "execution_count": 1,
   "metadata": {},
   "outputs": [],
   "source": [
    "import numpy as np\n",
    "import time\n",
    "import math\n",
    "import modules as md\n",
    "import nbodysolver as nbs\n",
    "%matplotlib inline\n",
    "import matplotlib.pyplot as plt\n",
    "import matplotlib as mpl\n",
    "from mpl_toolkits.mplot3d import Axes3D\n",
    "import matplotlib.pyplot as plt\n",
    "\n",
    "\n",
    "#------------------------------------------------------------------------------------------\n",
    "#Units and conversions:\n",
    "#------------------------------------------------------------------------------------------\n",
    "#code units: Rsun, Msun, G=1, ...\n",
    "c_SI       = 299792458.0        #m/s\n",
    "M_sun_SI   = 1.989*(10.**30.)   #kg\n",
    "R_sun_SI   = 695800000.         #m\n",
    "R_bull_SI = 1000 #m \n",
    "AU_SI      = 149597871000.      #m \n",
    "G_new_SI   = 6.67*(10.**(-11.)) #m**3 kg**(-1) s**(-2)\n",
    "AU_U       = AU_SI/R_sun_SI                             #from dist AU to code units (U)\n",
    "kmsec_U    = 1000./np.sqrt(G_new_SI*M_sun_SI/R_bull_SI)  #from vel km/sec to code units (U)\n",
    "time_U     = 1/np.sqrt(G_new_SI*M_sun_SI/R_bull_SI**3) #from CU to second np.sqrt((R_bull_SI)/(G_new_SI*M_sun_SI)) #from code units(U) to time sec\n",
    "#Rsch_1Msun_unitRsun = ((2.*G_new_SI*(1.*M_sun_SI))/(c_SI**2.))/R_sun_SI\n",
    "c_CU = c_SI/1000*kmsec_U"
   ]
  },
  {
   "cell_type": "markdown",
   "metadata": {},
   "source": [
    "## Newtonian "
   ]
  },
  {
   "cell_type": "code",
   "execution_count": 2,
   "metadata": {},
   "outputs": [],
   "source": [
    "#Acceleration\n",
    "\n",
    "def acc(r,m): #r position, m mass\n",
    "    a = np.zeros((len(r),3)) #Create acceleration vector\n",
    "    for i in range(len(r)): #Range is size of timesteps or position steps\n",
    "        for j in range(len(r)): #For each particle\n",
    "            if (i != j):\n",
    "                rrel = r[i]-r[j]\n",
    "                rn = (rrel**2).sum()**(1./2) \n",
    "                a[i] += -(rrel)*m[j]/(rn**3.0) #Acceleration at each time step \n",
    "    return a # return acceleration\n",
    "\n",
    "\n",
    "def Jerk(r,v,m): #position, velocity, mass\n",
    "    Je = np.zeros((len(r),3)) #Define the Jerk\n",
    "    for i in range(len(r)):\n",
    "        for j in range(len(r)):\n",
    "            if (i != j):\n",
    "                rrel = r[i]-r[j]\n",
    "                vrel = v[i]-v[j]\n",
    "                rn = (rrel**2).sum()**(1./2) # dot product\n",
    "                vn = (vrel**2).sum()**(1./2)\n",
    "                rvd = ((rrel)*(vrel)).sum()\n",
    "                Je[i] += - m[j]*((vrel)/rn**3.0 - 3.*(rvd*rrel/(rn**5.0))) \n",
    "    return Je;\n",
    "\n"
   ]
  },
  {
   "cell_type": "markdown",
   "metadata": {},
   "source": [
    "# Dynamical Tides "
   ]
  },
  {
   "cell_type": "code",
   "execution_count": 144,
   "metadata": {},
   "outputs": [],
   "source": [
    "def accdytide(r,v,m,ne): #r position, m mass, s spin, m mass of the star and the value of ne\n",
    "    a = np.zeros((len(r),3)) #Create acceleration vector\n",
    "    for i in range(len(r)): #Range is size of timesteps or position steps\n",
    "        for j in range(len(r)): #For each particle\n",
    "            if (i != j):\n",
    "                rrel = r[i]-r[j]\n",
    "                vrel = v[i]-v[j]\n",
    "                vn = ((vrel**2).sum())**(1./2)\n",
    "                rn = ((rrel**2).sum())**(1./2) #dot product\n",
    "                runi = rrel/rn\n",
    "                a[i,:] += -(36.)*ne[i]*((m[j]**2)/m[i])*(runi)*(vn**2)/(rn**9.0) #Acceleration at each time step \n",
    "    return a # return acceleration\n",
    "\n",
    "\n",
    "def Jerkdytide(r,v, a, m, ne): #r position, v velocity, m mass, m mass of the star, ne\n",
    "    Je = np.zeros((len(r),3)) #Define the Jerk\n",
    "    for i in range(len(r)):\n",
    "        for j in range(len(r)):\n",
    "            if (i != j):\n",
    "                rrel = (r[i]-r[j])\n",
    "                vrel = (v[i]-v[j])\n",
    "                rn = ((rrel**2).sum())**(1./2) # dot product\n",
    "                vn = ((vrel**2).sum())**(1./2)\n",
    "                Je[i,:] += - (36.0)*ne[i]*((m[j]**2)/m[i])*( vrel*(vn**2)/rn**(10.0) - 10.*(vn**2)*((vrel*rrel).sum())*(rrel)/(rn**12.0) + 72*((vrel*a[i]).sum())/(rn**9.0) ) \n",
    "                #ra = (((r[i,:]-r[j,:])**2).sum())**(1./2) # dot product\n",
    "                #Je[i,:] += - (9.0)*ne[i]*((m[j]**2)/m[i])*( (v[i,:]-v[j,:])/ra**8.0 - 8.*(((v[i,:]-v[j,:])*(r[i,:]-r[j,:])).sum())*(r[i,:]-r[j,:])/(ra**10.0) ) \n",
    "    return Je;\n",
    "\n",
    "\n",
    "\n",
    "####v2\n",
    "def HermiteUpdatedytidedt(dt, r, v, m, ns): # m mass of the star\n",
    "    \n",
    "    aN = acc(r, m) \n",
    "    aO = accdytide(r, v, m, ns)\n",
    "    a = aN + aO           # current acceleration\n",
    "    aNdot = Jerk(r,v,m)\n",
    "    aOdot = Jerkdytide(r, v, a, m, ns)\n",
    "    adot = aNdot + aOdot # current jerks\n",
    "    rp = r + dt*v + dt**2/2 * a + dt**3/6* adot   # predict\n",
    "    vp = v + dt*a + dt**2/2 * adot\n",
    "\n",
    "    aNp = acc(rp, m)\n",
    "    aOp = accdytide(rp, vp, m, ns)\n",
    "    ap = aNp + aOp         # predicted acceleration\n",
    "\n",
    "    aNdotp = Jerk(rp, vp, m)\n",
    "    aOdotp = Jerkdytide(rp, vp, ap, m, ns)\n",
    "    adotp = aNdotp + aOdotp  # predicted jerks \n",
    "    \n",
    "    #compute some other things to find the best value for the timestep\n",
    "    #Newtonian\n",
    "    #a2 = (1./dt**2)*(-6*(a-ap)-dt*(4*adot + 2*adotp))\n",
    "    #a3 = (1./dt**3)*(-12*(a-ap)-6*dt*(adot + adotp))\n",
    "    #ac = a + adot*dt + (1./2)*(dt**2)*a2 + (1./6)*(dt**2)*a3 \n",
    "    \n",
    "    #Tides\n",
    "    #a2 = (1./dt**2)*(-6*(aT-aTp)-dt*(4*aTdot + 2*aTdotp))\n",
    "    #a3 = (1./dt**3)*(-12*(aT-aTp)-6*dt*(aTdot + aTdotp))\n",
    "    #ac = aT + aTdot*dt + (1./2)*(dt**2)*a2 + (1./6)*(dt**2)*a3\n",
    "    #adotpn = ((aTdotp**2).sum())**(1./2)\n",
    "\n",
    "    \n",
    "    #a2c = a2 + dt*a3    \n",
    "    #acn = ((ac**2).sum())**(1./2) #dot product\n",
    "    #a2cn = ((a2c**2).sum())**(1./2)\n",
    "    #a3n = ((a3**2).sum())**(1./2)\n",
    "    #dtp = (accu*(acn*a2cn + adotpn**2)/(adotpn*a3n + a2cn**2))**(1./2)\n",
    "\n",
    "    dtp = dt\n",
    "    \n",
    "    vp = v + dt/2*(a+ap) - dt**2/12*(adotp-adot)  # correct\n",
    "    rp = r + dt/2*(v + vp) - dt**2/10 * (ap-a)\n",
    " \n",
    "    return rp,vp,ap,adotp,aNp,aNdotp,dtp\n",
    "\n",
    "def Hermite4thdytidedt(pri,sec, bina, nsteps, Dt):\n",
    "    \n",
    "    N=2\n",
    "    m = np.ones(N)#/N #Remove the N if not necessary\n",
    "    m[0]=pri.mass\n",
    "    m[1]=sec.mass\n",
    "    \n",
    "    r_res = np.zeros((2,3,nsteps)) # 2 because of two bodies\n",
    "    v_res = np.zeros((2,3,nsteps))\n",
    "\n",
    "    aN_res = np.zeros((2,3,nsteps)) # 2 because of two bodies\n",
    "    adotN_res = np.zeros((2,3,nsteps))\n",
    "\n",
    "    a_res = np.zeros((2,3,nsteps)) # 2 because of two bodies\n",
    "    adot_res = np.zeros((2,3,nsteps))\n",
    "\n",
    "    \n",
    "    time = np.zeros(nsteps)\n",
    "    r_res[:,:,0] = bina.r.copy()\n",
    "    v_res[:,:,0] = bina.v.copy()\n",
    "    ntidev = np.array([pri.ntide, sec.ntide])\n",
    "    \n",
    "    dtp = np.zeros(nsteps)\n",
    "    dtp[0] = Dt\n",
    "    \n",
    "    for i in range(1,nsteps):\n",
    "        (r_res[:,:,i],v_res[:,:,i],a_res[:,:,i],adot_res[:,:,i],aN_res[:,:,i],adotN_res[:,:,i], dtp[i]) = HermiteUpdatedytidedt(Dt, r_res[:,:,i-1], v_res[:,:,i-1], m, ntidev)\n",
    "        time[i] = time[i-1] + Dt#+ dtp[i-1] #+ Dt #\n",
    "        if time[i] >= timelimit:\n",
    "            break\n",
    "            \n",
    "    r_res = r_res[:,:,:i]\n",
    "    v_res = v_res[:,:,:i]\n",
    "    a_res = a_res[:,:,:i]\n",
    "    adot_res = adot_res[:,:,:i]\n",
    "    aN_res = aN_res[:,:,:i]\n",
    "    adotN_res = adotN_res[:,:,:i]\n",
    "    dtp = dtp[:i]\n",
    "    time = time[:i]\n",
    "        \n",
    "    return r_res, v_res, a_res, adot_res, aN_res, adotN_res, dtp, time\n",
    "\n",
    "\n",
    "\n",
    "\n"
   ]
  },
  {
   "cell_type": "markdown",
   "metadata": {},
   "source": [
    "## Circular Orbit "
   ]
  },
  {
   "cell_type": "code",
   "execution_count": 145,
   "metadata": {},
   "outputs": [
    {
     "name": "stdout",
     "output_type": "stream",
     "text": [
      "28.610668763813496\n",
      "0.027224338647948012\n",
      "8.89\n",
      "14.305334381906748\n"
     ]
    }
   ],
   "source": [
    "#Define ns\n",
    "ns = md.Particle(\"NS\",1.2,8.89,0) #stellar type, mass, radius, spin. At the momento for black holes choose r=0 and will set the Schwarzchild radius\n",
    "#Define bh\n",
    "bh3 = md.Particle(\"BH\",5,0,0) #stellar type, mass, radius, spin. At the momento for black holes choose r=0 and will set the Schwarzchild radius\n",
    "\n",
    "\n",
    "#Define binary\n",
    "bh3ns10rt = md.Binary(bh3, ns, 4*ns.radi, 0)\n",
    "\n",
    "rt = 2\n",
    "\n",
    "bh3nsco = md.Binary(bh3, ns, rt*bh3ns10rt.tidalrsec, 0) ##primary, secondary, orbital distance (Rsun), eccentricity\n",
    "\n",
    "\n",
    "#bh3nsco.orbd = rt*bh3nsco.tidalrsec\n",
    "\n",
    "print(bh3nsco.orbd)\n",
    "print(bh3nsco.tideeffsec)\n",
    "\n",
    "print(ns.radi)\n",
    "print(bh3nsco.tidalrsec)\n"
   ]
  },
  {
   "cell_type": "code",
   "execution_count": 107,
   "metadata": {},
   "outputs": [],
   "source": [
    "#Measurement of coefficients\n",
    "\n",
    "#dt = 0.1\n",
    "#13319.78084707712\n",
    "#14300.391158178714\n",
    "\n",
    "#dt = 0.01\n",
    "#\n",
    "#\n",
    "\n",
    "#dt = 0.001\n",
    "#13857.869032191275\n",
    "#13955.916110074199\n",
    "\n",
    "#dt = 0.0001\n",
    "#13706.235891725122\n",
    "#13939.574369456668\n"
   ]
  },
  {
   "cell_type": "code",
   "execution_count": 147,
   "metadata": {},
   "outputs": [],
   "source": [
    "accu = 0.001 # Set accuracy parameter 0.0000000001  works good, try add another 0\n",
    "tl = 1*bh3nsco.periodct #Time of the simulation in [cpde units]\n",
    "timelimit = tl #\n",
    "dt = 0.001 #  \n",
    "Nsteps = int(tl/dt)#Number of timesteps with the guessed timestep \n",
    "\n",
    "\n",
    "#Better accuracy\n",
    "#accu = 0.00000000001 # Set accuracy parameter 0.0000000001  works good, try add another 0\n",
    "#tl = 0.15*bh3nsrt.periodct #Time of the simulation in [cpde units]\n",
    "#timelimit = tl #\n",
    "#dt = 0.0005 # 0.0001 working better \n",
    "#Nsteps = int(tl/dt)#Number of timesteps with the guessed timestep \n"
   ]
  },
  {
   "cell_type": "code",
   "execution_count": 148,
   "metadata": {},
   "outputs": [],
   "source": [
    "rwtco,vwtco,aTco,adotTco,aNco,adotNco,dtpwtco,timewtco = Hermite4thtidedt(bh3,ns, bh3nsco, Nsteps, dt)"
   ]
  },
  {
   "cell_type": "code",
   "execution_count": 149,
   "metadata": {},
   "outputs": [
    {
     "name": "stdout",
     "output_type": "stream",
     "text": [
      "386.16749997470004\n",
      "0.9999992697670936\n"
     ]
    }
   ],
   "source": [
    "print(timewtco[-1])\n",
    "print(timewtco[-1]/tl)\n"
   ]
  },
  {
   "cell_type": "code",
   "execution_count": 150,
   "metadata": {},
   "outputs": [
    {
     "name": "stdout",
     "output_type": "stream",
     "text": [
      "0.0001\n",
      "0.0001\n"
     ]
    }
   ],
   "source": [
    "print(max(dtpwtco))\n",
    "print(min(dtpwtco[1:]))"
   ]
  },
  {
   "cell_type": "code",
   "execution_count": 151,
   "metadata": {},
   "outputs": [
    {
     "name": "stdout",
     "output_type": "stream",
     "text": [
      "3861676\n",
      "[28.60933821]\n",
      "[28.61066876]\n"
     ]
    }
   ],
   "source": [
    "aTcoc = aTco + adotTco*dtpwtco#Acceleration corrected\n",
    "aNcoc = aNco + adotNco*dtpwtco\n",
    "\n",
    "aratioco = np.zeros_like(aNco[1].T)\n",
    "for i in range(len(aNco[1].T)-1):\n",
    "    aratioco[i+1][0] = (aTcoc[1].T[i+1][0])/(aNcoc[1].T[i+1][0])\n",
    "    aratioco[i+1][1] = (aTcoc[1].T[i+1][1])/(aNcoc[1].T[i+1][1])\n",
    "    #print(aratio[i][1])\n",
    "    \n",
    "#define relative position\n",
    "relposTco = rwtco[1].T - rwtco[0].T \n",
    "#define relative velocity\n",
    "relvelTco = vwtco[1].T - vwtco[0].T\n",
    "\n",
    "normrelposTco = np.zeros([len(relposTco), 1]) \n",
    "normrelvelTco = np.zeros([len(relvelTco), 1]) \n",
    "\n",
    "for i in range(len(normrelposTco)):\n",
    "    normrelposTco[i] = np.sqrt(relposTco[i][0]**2 + relposTco[i][1]**2 + relposTco[i][2]**2)\n",
    "    normrelvelTco[i] = np.sqrt(relvelTco[i][0]**2 + relvelTco[i][1]**2 + relvelTco[i][2]**2)\n",
    "    \n",
    "print(len(normrelposTco.T[0]))\n",
    "print(min(normrelposTco))\n",
    "print(max(normrelposTco))"
   ]
  },
  {
   "cell_type": "code",
   "execution_count": 152,
   "metadata": {},
   "outputs": [
    {
     "name": "stdout",
     "output_type": "stream",
     "text": [
      "[1.99990699]\n"
     ]
    }
   ],
   "source": [
    "print(min(normrelposTco)/bh3nsco.tidalrsec)"
   ]
  },
  {
   "cell_type": "code",
   "execution_count": 153,
   "metadata": {},
   "outputs": [],
   "source": [
    "n_exco = (normrelposTco.T[0]**7)*(1./36)*(1.*ns.mass/bh3.mass)*(1./normrelvelTco.T[0]**2)*(aratioco.T[0] - 1) \n",
    "n_eyco = (normrelposTco.T[0]**7)*(1./36)*(1.*ns.mass/bh3.mass)*(1./normrelvelTco.T[0]**2)*(aratioco.T[1] - 1)"
   ]
  },
  {
   "cell_type": "code",
   "execution_count": 154,
   "metadata": {},
   "outputs": [
    {
     "data": {
      "image/png": "[encoded data removed]",
      "text/plain": [
       "<Figure size 432x288 with 1 Axes>"
      ]
     },
     "metadata": {
      "needs_background": "light"
     },
     "output_type": "display_data"
    }
   ],
   "source": [
    "plt.plot(timewtco[1:], n_exco[1:], 'c-', label = r'$n_{E}$', alpha = 1)\n",
    "#plt.plot(timearrayN.T[0][2:], n_ey[1:], 'b-', label = r'$n_{Ey}$', alpha = 0.5)\n",
    "#plt.plot(timearrayT[1:], posydif, 'b-', label = r'$\\Delta y$', alpha = 0.8)\n",
    "\n",
    "#plt.plot(timeave, dynstave.T[1], 'b-', label = r'$star$', alpha = 0.8)\n",
    "#plt.plot(time[1:], n_e.T[2], 'g-', label = r'$n_{ez}$', alpha = 0.8)\n",
    "#plt.xlim(0,30)\n",
    "#plt.ylim(0.65,0.66)\n",
    "plt.xlabel('code time')\n",
    "plt.ylabel(r'$n_{E}$',rotation=0)\n",
    "\n",
    "plt.title(r'$n_{E}$ circular orbit')\n",
    "plt.legend()\n",
    "#plt.savefig('ne-evolution-circular-0.001-3rt.png', bbox_inches='tight', dpi=300)#, dpi=300\n",
    "\n",
    "plt.show()"
   ]
  },
  {
   "cell_type": "code",
   "execution_count": 155,
   "metadata": {},
   "outputs": [
    {
     "name": "stdout",
     "output_type": "stream",
     "text": [
      "13706.235891725122\n",
      "13939.574369456668\n",
      "13917.65663191198\n"
     ]
    }
   ],
   "source": [
    "print(min(n_exco[1:]))\n",
    "print(max(n_exco))\n",
    "print(ns.ntide)"
   ]
  },
  {
   "cell_type": "code",
   "execution_count": 143,
   "metadata": {},
   "outputs": [
    {
     "name": "stdout",
     "output_type": "stream",
     "text": [
      "13706.235891725122\n",
      "13939.574369456668\n",
      "13917.65663191198\n"
     ]
    }
   ],
   "source": [
    "print(min(n_exco[1:]))\n",
    "print(max(n_exco))\n",
    "print(ns.ntide)"
   ]
  },
  {
   "cell_type": "code",
   "execution_count": 96,
   "metadata": {},
   "outputs": [
    {
     "name": "stdout",
     "output_type": "stream",
     "text": [
      "13857.869032191275\n",
      "13955.916110074199\n",
      "13917.65663191198\n"
     ]
    }
   ],
   "source": [
    "print(min(n_exco[1:]))\n",
    "print(max(n_exco))\n",
    "print(ns.ntide)"
   ]
  },
  {
   "cell_type": "code",
   "execution_count": 85,
   "metadata": {},
   "outputs": [
    {
     "name": "stdout",
     "output_type": "stream",
     "text": [
      "13706.235891725122\n",
      "13939.574369456668\n",
      "13917.65663191198\n"
     ]
    }
   ],
   "source": [
    "print(min(n_exco[1:]))\n",
    "print(max(n_exco))\n",
    "print(ns.ntide)"
   ]
  },
  {
   "cell_type": "code",
   "execution_count": 75,
   "metadata": {},
   "outputs": [],
   "source": [
    "n_exco[579218] = 13917.65663191198"
   ]
  },
  {
   "cell_type": "code",
   "execution_count": 74,
   "metadata": {},
   "outputs": [
    {
     "data": {
      "text/plain": [
       "(array([579218]),)"
      ]
     },
     "execution_count": 74,
     "metadata": {},
     "output_type": "execute_result"
    }
   ],
   "source": [
    "np.where(n_exco == 12860.84754239835)"
   ]
  },
  {
   "cell_type": "code",
   "execution_count": null,
   "metadata": {},
   "outputs": [],
   "source": [
    "print(min(n_exco[1:]))\n",
    "print(max(n_exco))\n",
    "print(ns.ntide)"
   ]
  },
  {
   "cell_type": "markdown",
   "metadata": {},
   "source": [
    "fig = plt.figure()\n",
    "ax = fig.gca(projection='3d')\n",
    "ax.plot(rwtco[0][0], rwtco[0][1], rwtco[0][2], 'c', linewidth=1)# Plot the BH orbit\n",
    "ax.plot(rwtco[1][0], rwtco[1][1], rwtco[1][2], 'm', linewidth=1)# Plot the star orbit\n",
    "ax.scatter3D(rwtco[0][0][-1], rwtco[0][1][-1], rwtco[0][2][-1], 'o', c='black') #s=100\n",
    "ax.scatter3D(rwtco[1][0][-1], rwtco[1][1][-1], rwtco[1][2][-1], '0', c='orange') #s=10\n",
    "ax.legend()\n",
    "#ax.set_xticks([])\n",
    "#ax.set_yticks([])\n",
    "#ax.set_zticks([])\n",
    "#ax.set_xlim3d(-1,1)\n",
    "#ax.set_ylim3d(-1,1)\n",
    "#ax.set_xlim3d(min(min(posbh1x), min(posbh2x)), max(max(posbh1x), max(posbh2x)))\n",
    "#ax.set_ylim3d(min(min(posbh1y), min(posbh2y)), max(max(posbh1y), max(posbh2y)))\n",
    "#ax.set_zlim3d(min(min(posbh1z), min(posbh2z)), max(max(posbh1z), max(posbh2z)))\n",
    "ax.set_xlabel('x')\n",
    "ax.set_ylabel('y')\n",
    "ax.set_zlabel('z')\n",
    "\n",
    "\n",
    "#plt.savefig('ne-circular10rt.png',bbox_inches='tight', dpi=300)#, dpi=300\n",
    "\n",
    "plt.show()"
   ]
  },
  {
   "cell_type": "markdown",
   "metadata": {},
   "source": [
    "# Parabolic Orbit "
   ]
  },
  {
   "cell_type": "code",
   "execution_count": 5,
   "metadata": {},
   "outputs": [
    {
     "name": "stdout",
     "output_type": "stream",
     "text": [
      "221.41674919713927\n",
      "9.807200047995586e-07\n",
      "8.89\n",
      "14.761116613142619\n"
     ]
    }
   ],
   "source": [
    "#Define ns\n",
    "ns = md.Particle(\"NS\",1.2,8.89,0) #stellar type, mass, radius, spin. At the momento for black holes choose r=0 and will set the Schwarzchild radius\n",
    "#Define bh\n",
    "bh3 = md.Particle(\"BH\",5,0,0) #stellar type, mass, radius, spin. At the momento for black holes choose r=0 and will set the Schwarzchild radius\n",
    "\n",
    "#Define binary\n",
    "nsns = md.Binary(ns, ns, ns.radi*10, 0) ##primary, secondary, orbital distance (Rsun), eccentricity \n",
    "bh3ns = md.Binary(ns, bh3, ns.radi*10, 0)\n",
    "\n",
    "bh3nsrt = md.Binary(bh3, ns, 15*bh3ns.tidalrsec, 0)\n",
    "\n",
    "#Define ns\n",
    "ns = md.Particle(\"NS\",1.2,8.89,0) #stellar type, mass, radius, spin. At the momento for black holes choose r=0 and will set the Schwarzchild radius\n",
    "#Define bh\n",
    "bh3 = md.Particle(\"BH\",5,0,0) #stellar type, mass, radius, spin. At the momento for black holes choose r=0 and will set the Schwarzchild radius\n",
    "\n",
    "bh3nsp = md.Binary(bh3, ns, 442, 0) #Orbital distance is changed\n",
    "\n",
    "#15 tidal radius distance\n",
    "bh3nsp.r[0] =np.array([24.26435111, 33.74222957, 0.])\n",
    "bh3nsp.r[1] = np.array([-101.10146295, -140.5926232, 0.])\n",
    "bh3nsp.v[0] = np.array([-0.04138964, -0.02121636, 0.])\n",
    "bh3nsp.v[1] = np.array([0.17245682, 0.08840148, 0.])\n",
    "\n",
    "#30 tidal radius distance\n",
    "#bh3nsp.r[0] = np.array([68.20417117, 51.56082482, 0. ])\n",
    "#bh3nsp.r[1] = np.array([-284.18404651, -214.83677007, 0.])\n",
    "\n",
    "#bh3nsp.v[0] = np.array([-0.03074346, -0.01031287, 0.])\n",
    "#bh3nsp.v[1] = np.array([0.12809776, 0.04297029, 0. ])\n",
    "\n",
    "print(bh3nsrt.orbd)\n",
    "print(bh3nsrt.tideeffsec)\n",
    "\n",
    "print(ns.radi)\n",
    "print(bh3ns.tidalrsec)"
   ]
  },
  {
   "cell_type": "code",
   "execution_count": null,
   "metadata": {},
   "outputs": [],
   "source": []
  },
  {
   "cell_type": "code",
   "execution_count": 35,
   "metadata": {},
   "outputs": [],
   "source": [
    "accu = 0.0000000001 # Set accuracy parameter 0.0000000001  works good, try add another 0\n",
    "tl = 0.18*bh3nsrt.periodct #Time of the simulation in [cpde units]\n",
    "timelimit = tl #\n",
    "dt = 0.0001 # 0.0001 working better \n",
    "Nsteps = int(tl/dt)#Number of timesteps with the guessed timestep \n",
    "\n",
    "\n",
    "#Better accuracy\n",
    "#accu = 0.00000000001 # Set accuracy parameter 0.0000000001  works good, try add another 0\n",
    "#tl = 0.15*bh3nsrt.periodct #Time of the simulation in [cpde units]\n",
    "#timelimit = tl #\n",
    "#dt = 0.0005 # 0.0001 working better \n",
    "#Nsteps = int(tl/dt)#Number of timesteps with the guessed timestep \n"
   ]
  },
  {
   "cell_type": "code",
   "execution_count": 66,
   "metadata": {},
   "outputs": [
    {
     "ename": "KeyboardInterrupt",
     "evalue": "",
     "output_type": "error",
     "traceback": [
      "\u001b[0;31m---------------------------------------------------------------------------\u001b[0m",
      "\u001b[0;31mKeyboardInterrupt\u001b[0m                         Traceback (most recent call last)",
      "\u001b[0;32m<ipython-input-66-54401e2b8ac0>\u001b[0m in \u001b[0;36m<module>\u001b[0;34m\u001b[0m\n\u001b[0;32m----> 1\u001b[0;31m \u001b[0mrwt\u001b[0m\u001b[0;34m,\u001b[0m\u001b[0mvwt\u001b[0m\u001b[0;34m,\u001b[0m\u001b[0maT\u001b[0m\u001b[0;34m,\u001b[0m\u001b[0madotT\u001b[0m\u001b[0;34m,\u001b[0m\u001b[0maN\u001b[0m\u001b[0;34m,\u001b[0m\u001b[0madotN\u001b[0m\u001b[0;34m,\u001b[0m\u001b[0mdtpwt\u001b[0m\u001b[0;34m,\u001b[0m\u001b[0mtimewt\u001b[0m \u001b[0;34m=\u001b[0m \u001b[0mHermite4thtidedt\u001b[0m\u001b[0;34m(\u001b[0m\u001b[0mbh3\u001b[0m\u001b[0;34m,\u001b[0m\u001b[0mns\u001b[0m\u001b[0;34m,\u001b[0m \u001b[0mbh3nsp\u001b[0m\u001b[0;34m,\u001b[0m \u001b[0mNsteps\u001b[0m\u001b[0;34m,\u001b[0m \u001b[0mdt\u001b[0m\u001b[0;34m)\u001b[0m\u001b[0;34m\u001b[0m\u001b[0;34m\u001b[0m\u001b[0m\n\u001b[0m",
      "\u001b[0;32m<ipython-input-65-b8e5b6ed2e61>\u001b[0m in \u001b[0;36mHermite4thtidedt\u001b[0;34m(pri, sec, bina, nsteps, Dt)\u001b[0m\n\u001b[1;32m    119\u001b[0m \u001b[0;34m\u001b[0m\u001b[0m\n\u001b[1;32m    120\u001b[0m     \u001b[0;32mfor\u001b[0m \u001b[0mi\u001b[0m \u001b[0;32min\u001b[0m \u001b[0mrange\u001b[0m\u001b[0;34m(\u001b[0m\u001b[0;36m1\u001b[0m\u001b[0;34m,\u001b[0m\u001b[0mnsteps\u001b[0m\u001b[0;34m)\u001b[0m\u001b[0;34m:\u001b[0m\u001b[0;34m\u001b[0m\u001b[0;34m\u001b[0m\u001b[0m\n\u001b[0;32m--> 121\u001b[0;31m         \u001b[0;34m(\u001b[0m\u001b[0mr_res\u001b[0m\u001b[0;34m[\u001b[0m\u001b[0;34m:\u001b[0m\u001b[0;34m,\u001b[0m\u001b[0;34m:\u001b[0m\u001b[0;34m,\u001b[0m\u001b[0mi\u001b[0m\u001b[0;34m]\u001b[0m\u001b[0;34m,\u001b[0m\u001b[0mv_res\u001b[0m\u001b[0;34m[\u001b[0m\u001b[0;34m:\u001b[0m\u001b[0;34m,\u001b[0m\u001b[0;34m:\u001b[0m\u001b[0;34m,\u001b[0m\u001b[0mi\u001b[0m\u001b[0;34m]\u001b[0m\u001b[0;34m,\u001b[0m\u001b[0ma_res\u001b[0m\u001b[0;34m[\u001b[0m\u001b[0;34m:\u001b[0m\u001b[0;34m,\u001b[0m\u001b[0;34m:\u001b[0m\u001b[0;34m,\u001b[0m\u001b[0mi\u001b[0m\u001b[0;34m]\u001b[0m\u001b[0;34m,\u001b[0m\u001b[0madot_res\u001b[0m\u001b[0;34m[\u001b[0m\u001b[0;34m:\u001b[0m\u001b[0;34m,\u001b[0m\u001b[0;34m:\u001b[0m\u001b[0;34m,\u001b[0m\u001b[0mi\u001b[0m\u001b[0;34m]\u001b[0m\u001b[0;34m,\u001b[0m\u001b[0maN_res\u001b[0m\u001b[0;34m[\u001b[0m\u001b[0;34m:\u001b[0m\u001b[0;34m,\u001b[0m\u001b[0;34m:\u001b[0m\u001b[0;34m,\u001b[0m\u001b[0mi\u001b[0m\u001b[0;34m]\u001b[0m\u001b[0;34m,\u001b[0m\u001b[0madotN_res\u001b[0m\u001b[0;34m[\u001b[0m\u001b[0;34m:\u001b[0m\u001b[0;34m,\u001b[0m\u001b[0;34m:\u001b[0m\u001b[0;34m,\u001b[0m\u001b[0mi\u001b[0m\u001b[0;34m]\u001b[0m\u001b[0;34m,\u001b[0m \u001b[0mdtp\u001b[0m\u001b[0;34m[\u001b[0m\u001b[0mi\u001b[0m\u001b[0;34m]\u001b[0m\u001b[0;34m)\u001b[0m \u001b[0;34m=\u001b[0m \u001b[0mHermiteUpdatetidedt\u001b[0m\u001b[0;34m(\u001b[0m\u001b[0mDt\u001b[0m\u001b[0;34m,\u001b[0m \u001b[0mr_res\u001b[0m\u001b[0;34m[\u001b[0m\u001b[0;34m:\u001b[0m\u001b[0;34m,\u001b[0m\u001b[0;34m:\u001b[0m\u001b[0;34m,\u001b[0m\u001b[0mi\u001b[0m\u001b[0;34m-\u001b[0m\u001b[0;36m1\u001b[0m\u001b[0;34m]\u001b[0m\u001b[0;34m,\u001b[0m \u001b[0mv_res\u001b[0m\u001b[0;34m[\u001b[0m\u001b[0;34m:\u001b[0m\u001b[0;34m,\u001b[0m\u001b[0;34m:\u001b[0m\u001b[0;34m,\u001b[0m\u001b[0mi\u001b[0m\u001b[0;34m-\u001b[0m\u001b[0;36m1\u001b[0m\u001b[0;34m]\u001b[0m\u001b[0;34m,\u001b[0m \u001b[0mm\u001b[0m\u001b[0;34m,\u001b[0m \u001b[0mntidev\u001b[0m\u001b[0;34m)\u001b[0m\u001b[0;34m\u001b[0m\u001b[0;34m\u001b[0m\u001b[0m\n\u001b[0m\u001b[1;32m    122\u001b[0m         \u001b[0mtime\u001b[0m\u001b[0;34m[\u001b[0m\u001b[0mi\u001b[0m\u001b[0;34m]\u001b[0m \u001b[0;34m=\u001b[0m \u001b[0mtime\u001b[0m\u001b[0;34m[\u001b[0m\u001b[0mi\u001b[0m\u001b[0;34m-\u001b[0m\u001b[0;36m1\u001b[0m\u001b[0;34m]\u001b[0m \u001b[0;34m+\u001b[0m \u001b[0mDt\u001b[0m\u001b[0;31m#+ dtp[i-1] #+ Dt #\u001b[0m\u001b[0;34m\u001b[0m\u001b[0;34m\u001b[0m\u001b[0m\n\u001b[1;32m    123\u001b[0m         \u001b[0;32mif\u001b[0m \u001b[0mtime\u001b[0m\u001b[0;34m[\u001b[0m\u001b[0mi\u001b[0m\u001b[0;34m]\u001b[0m \u001b[0;34m>=\u001b[0m \u001b[0mtimelimit\u001b[0m\u001b[0;34m:\u001b[0m\u001b[0;34m\u001b[0m\u001b[0;34m\u001b[0m\u001b[0m\n",
      "\u001b[0;32m<ipython-input-65-b8e5b6ed2e61>\u001b[0m in \u001b[0;36mHermiteUpdatetidedt\u001b[0;34m(dt, r, v, m, ns)\u001b[0m\n\u001b[1;32m     54\u001b[0m     \u001b[0ma\u001b[0m \u001b[0;34m=\u001b[0m \u001b[0maN\u001b[0m \u001b[0;34m+\u001b[0m \u001b[0maT\u001b[0m           \u001b[0;31m# current acceleration\u001b[0m\u001b[0;34m\u001b[0m\u001b[0;34m\u001b[0m\u001b[0m\n\u001b[1;32m     55\u001b[0m     \u001b[0maNdot\u001b[0m \u001b[0;34m=\u001b[0m \u001b[0mJerk\u001b[0m\u001b[0;34m(\u001b[0m\u001b[0mr\u001b[0m\u001b[0;34m,\u001b[0m\u001b[0mv\u001b[0m\u001b[0;34m,\u001b[0m\u001b[0mm\u001b[0m\u001b[0;34m)\u001b[0m\u001b[0;34m\u001b[0m\u001b[0;34m\u001b[0m\u001b[0m\n\u001b[0;32m---> 56\u001b[0;31m     \u001b[0maTdot\u001b[0m \u001b[0;34m=\u001b[0m \u001b[0mJerktide\u001b[0m\u001b[0;34m(\u001b[0m\u001b[0mr\u001b[0m\u001b[0;34m,\u001b[0m \u001b[0mv\u001b[0m\u001b[0;34m,\u001b[0m \u001b[0mm\u001b[0m\u001b[0;34m,\u001b[0m \u001b[0mns\u001b[0m\u001b[0;34m)\u001b[0m\u001b[0;34m\u001b[0m\u001b[0;34m\u001b[0m\u001b[0m\n\u001b[0m\u001b[1;32m     57\u001b[0m     \u001b[0madot\u001b[0m \u001b[0;34m=\u001b[0m \u001b[0maNdot\u001b[0m \u001b[0;34m+\u001b[0m \u001b[0maTdot\u001b[0m \u001b[0;31m# current jerks\u001b[0m\u001b[0;34m\u001b[0m\u001b[0;34m\u001b[0m\u001b[0m\n\u001b[1;32m     58\u001b[0m     \u001b[0mrp\u001b[0m \u001b[0;34m=\u001b[0m \u001b[0mr\u001b[0m \u001b[0;34m+\u001b[0m \u001b[0mdt\u001b[0m\u001b[0;34m*\u001b[0m\u001b[0mv\u001b[0m \u001b[0;34m+\u001b[0m \u001b[0mdt\u001b[0m\u001b[0;34m**\u001b[0m\u001b[0;36m2\u001b[0m\u001b[0;34m/\u001b[0m\u001b[0;36m2\u001b[0m \u001b[0;34m*\u001b[0m \u001b[0ma\u001b[0m \u001b[0;34m+\u001b[0m \u001b[0mdt\u001b[0m\u001b[0;34m**\u001b[0m\u001b[0;36m3\u001b[0m\u001b[0;34m/\u001b[0m\u001b[0;36m6\u001b[0m\u001b[0;34m*\u001b[0m \u001b[0madot\u001b[0m   \u001b[0;31m# predict\u001b[0m\u001b[0;34m\u001b[0m\u001b[0;34m\u001b[0m\u001b[0m\n",
      "\u001b[0;32m<ipython-input-65-b8e5b6ed2e61>\u001b[0m in \u001b[0;36mJerktide\u001b[0;34m(r, v, m, ne)\u001b[0m\n\u001b[1;32m     30\u001b[0m                 \u001b[0mvrel\u001b[0m \u001b[0;34m=\u001b[0m \u001b[0;34m(\u001b[0m\u001b[0mv\u001b[0m\u001b[0;34m[\u001b[0m\u001b[0mi\u001b[0m\u001b[0;34m]\u001b[0m\u001b[0;34m-\u001b[0m\u001b[0mv\u001b[0m\u001b[0;34m[\u001b[0m\u001b[0mj\u001b[0m\u001b[0;34m]\u001b[0m\u001b[0;34m)\u001b[0m\u001b[0;34m\u001b[0m\u001b[0;34m\u001b[0m\u001b[0m\n\u001b[1;32m     31\u001b[0m                 \u001b[0mrn\u001b[0m \u001b[0;34m=\u001b[0m \u001b[0;34m(\u001b[0m\u001b[0;34m(\u001b[0m\u001b[0mrrel\u001b[0m\u001b[0;34m**\u001b[0m\u001b[0;36m2\u001b[0m\u001b[0;34m)\u001b[0m\u001b[0;34m.\u001b[0m\u001b[0msum\u001b[0m\u001b[0;34m(\u001b[0m\u001b[0;34m)\u001b[0m\u001b[0;34m)\u001b[0m\u001b[0;34m**\u001b[0m\u001b[0;34m(\u001b[0m\u001b[0;36m1.\u001b[0m\u001b[0;34m/\u001b[0m\u001b[0;36m2\u001b[0m\u001b[0;34m)\u001b[0m \u001b[0;31m# dot product\u001b[0m\u001b[0;34m\u001b[0m\u001b[0;34m\u001b[0m\u001b[0m\n\u001b[0;32m---> 32\u001b[0;31m                 \u001b[0mJe\u001b[0m\u001b[0;34m[\u001b[0m\u001b[0mi\u001b[0m\u001b[0;34m,\u001b[0m\u001b[0;34m:\u001b[0m\u001b[0;34m]\u001b[0m \u001b[0;34m+=\u001b[0m \u001b[0;34m-\u001b[0m \u001b[0;34m(\u001b[0m\u001b[0;36m9.0\u001b[0m\u001b[0;34m)\u001b[0m\u001b[0;34m*\u001b[0m\u001b[0mne\u001b[0m\u001b[0;34m[\u001b[0m\u001b[0mi\u001b[0m\u001b[0;34m]\u001b[0m\u001b[0;34m*\u001b[0m\u001b[0;34m(\u001b[0m\u001b[0;34m(\u001b[0m\u001b[0mm\u001b[0m\u001b[0;34m[\u001b[0m\u001b[0mj\u001b[0m\u001b[0;34m]\u001b[0m\u001b[0;34m**\u001b[0m\u001b[0;36m2\u001b[0m\u001b[0;34m)\u001b[0m\u001b[0;34m/\u001b[0m\u001b[0mm\u001b[0m\u001b[0;34m[\u001b[0m\u001b[0mi\u001b[0m\u001b[0;34m]\u001b[0m\u001b[0;34m)\u001b[0m\u001b[0;34m*\u001b[0m\u001b[0;34m(\u001b[0m \u001b[0mvrel\u001b[0m\u001b[0;34m/\u001b[0m\u001b[0mrn\u001b[0m\u001b[0;34m**\u001b[0m\u001b[0;36m8.0\u001b[0m \u001b[0;34m-\u001b[0m \u001b[0;36m8.\u001b[0m\u001b[0;34m*\u001b[0m\u001b[0;34m(\u001b[0m\u001b[0;34m(\u001b[0m\u001b[0mvrel\u001b[0m\u001b[0;34m*\u001b[0m\u001b[0mrrel\u001b[0m\u001b[0;34m)\u001b[0m\u001b[0;34m.\u001b[0m\u001b[0msum\u001b[0m\u001b[0;34m(\u001b[0m\u001b[0;34m)\u001b[0m\u001b[0;34m)\u001b[0m\u001b[0;34m*\u001b[0m\u001b[0;34m(\u001b[0m\u001b[0mrrel\u001b[0m\u001b[0;34m)\u001b[0m\u001b[0;34m/\u001b[0m\u001b[0;34m(\u001b[0m\u001b[0mrn\u001b[0m\u001b[0;34m**\u001b[0m\u001b[0;36m10.0\u001b[0m\u001b[0;34m)\u001b[0m \u001b[0;34m)\u001b[0m\u001b[0;34m\u001b[0m\u001b[0;34m\u001b[0m\u001b[0m\n\u001b[0m\u001b[1;32m     33\u001b[0m                 \u001b[0;31m#ra = (((r[i,:]-r[j,:])**2).sum())**(1./2) # dot product\u001b[0m\u001b[0;34m\u001b[0m\u001b[0;34m\u001b[0m\u001b[0;34m\u001b[0m\u001b[0m\n\u001b[1;32m     34\u001b[0m                 \u001b[0;31m#Je[i,:] += - (9.0)*ne[i]*((m[j]**2)/m[i])*( (v[i,:]-v[j,:])/ra**8.0 - 8.*(((v[i,:]-v[j,:])*(r[i,:]-r[j,:])).sum())*(r[i,:]-r[j,:])/(ra**10.0) )\u001b[0m\u001b[0;34m\u001b[0m\u001b[0;34m\u001b[0m\u001b[0;34m\u001b[0m\u001b[0m\n",
      "\u001b[0;31mKeyboardInterrupt\u001b[0m: "
     ]
    }
   ],
   "source": [
    "rwt,vwt,aT,adotT,aN,adotN,dtpwt,timewt = Hermite4thtidedt(bh3,ns, bh3nsp, Nsteps, dt)"
   ]
  },
  {
   "cell_type": "code",
   "execution_count": null,
   "metadata": {},
   "outputs": [],
   "source": [
    "print(max(dtpwt))\n",
    "print(min(dtpwt[1:]))"
   ]
  },
  {
   "cell_type": "code",
   "execution_count": null,
   "metadata": {},
   "outputs": [],
   "source": [
    "aTc = aT + adotT*dtpwt#Acceleration corrected\n",
    "aNc = aN + adotN*dtpwt\n",
    "\n",
    "aratio = np.zeros_like(aN[1].T)\n",
    "for i in range(len(aN[1].T)-1):\n",
    "    aratio[i+1][0] = (aTc[1].T[i+1][0])/(aNc[1].T[i+1][0])\n",
    "    aratio[i+1][1] = (aTc[1].T[i+1][1])/(aNc[1].T[i+1][1])\n",
    "    #print(aratio[i][1])\n",
    "    \n",
    "#define relative position\n",
    "relposT = rwt[1].T - rwt[0].T \n",
    "#define relative velocity\n",
    "relvelT = vwt[1].T - vwt[0].T\n",
    "\n",
    "normrelposT = np.zeros([len(relposT), 1]) \n",
    "normrelvelT = np.zeros([len(relvelT), 1]) \n",
    "\n",
    "for i in range(len(normrelposT)):\n",
    "    normrelposT[i] = np.sqrt(relposT[i][0]**2 + relposT[i][1]**2 + relposT[i][2]**2)\n",
    "    normrelvelT[i] = np.sqrt(relvelT[i][0]**2 + relvelT[i][1]**2 + relvelT[i][2]**2)\n",
    "    \n",
    "print(len(normrelposT.T[0]))\n",
    "print(min(normrelposT))\n",
    "print(max(normrelposT))"
   ]
  },
  {
   "cell_type": "code",
   "execution_count": null,
   "metadata": {},
   "outputs": [],
   "source": [
    "print(min(normrelposT))\n",
    "print(bh3ns.tidalrsec)\n",
    "print(min(normrelposT)/bh3ns.tidalrsec)"
   ]
  },
  {
   "cell_type": "code",
   "execution_count": null,
   "metadata": {},
   "outputs": [],
   "source": [
    "print(max(normrelposT))\n",
    "print(max(normrelposT)/bh3ns.tidalrsec)"
   ]
  },
  {
   "cell_type": "code",
   "execution_count": null,
   "metadata": {},
   "outputs": [],
   "source": []
  },
  {
   "cell_type": "code",
   "execution_count": null,
   "metadata": {},
   "outputs": [],
   "source": [
    "n_ex = (normrelposT.T[0]**5)*(1./9)*(1.*ns.mass/bh3.mass)*(aratio.T[0] - 1) \n",
    "n_ey = (normrelposT.T[0]**5)*(1./9)*(1.*ns.mass/bh3.mass)*(aratio.T[1] - 1)"
   ]
  },
  {
   "cell_type": "code",
   "execution_count": null,
   "metadata": {},
   "outputs": [],
   "source": [
    "plt.plot(timewt[1:], n_ex[1:], 'm-', label = r'$n_{E}$', alpha = 1)\n",
    "#plt.plot(timearrayN.T[0][2:], n_ey[1:], 'b-', label = r'$n_{Ey}$', alpha = 0.5)\n",
    "#plt.plot(timearrayT[1:], posydif, 'b-', label = r'$\\Delta y$', alpha = 0.8)\n",
    "\n",
    "#plt.plot(timeave, dynstave.T[1], 'b-', label = r'$star$', alpha = 0.8)\n",
    "#plt.plot(time[1:], n_e.T[2], 'g-', label = r'$n_{ez}$', alpha = 0.8)\n",
    "#plt.xlim(0,30)\n",
    "#plt.ylim(13917.5,13917.8)\n",
    "plt.xlabel('code time')\n",
    "plt.ylabel(r'$n_{E}$',rotation=0)\n",
    "\n",
    "plt.title(r'$n_{E}$ evolution in parabolic orbit')\n",
    "plt.legend()\n",
    "#plt.savefig('time-vs-ne-parabolicrp3rt.eps', bbox_inches='tight')#, dpi=300\n",
    "\n",
    "plt.show()"
   ]
  },
  {
   "cell_type": "code",
   "execution_count": null,
   "metadata": {},
   "outputs": [],
   "source": [
    "print(min(n_ex[1:]))\n",
    "print(max(n_ex))\n",
    "print(ns.ntide)"
   ]
  },
  {
   "cell_type": "code",
   "execution_count": 81,
   "metadata": {},
   "outputs": [
    {
     "name": "stderr",
     "output_type": "stream",
     "text": [
      "No handles with labels found to put in legend.\n"
     ]
    },
    {
     "data": {
      "image/png": "[encoded data removed]",
      "text/plain": [
       "<Figure size 432x288 with 1 Axes>"
      ]
     },
     "metadata": {
      "needs_background": "light"
     },
     "output_type": "display_data"
    }
   ],
   "source": [
    "fig = plt.figure()\n",
    "ax = fig.gca(projection='3d')\n",
    "ax.plot(rwt[0][0], rwt[0][1], rwt[0][2], 'c', linewidth=1)# Plot the BH orbit\n",
    "ax.plot(rwt[1][0], rwt[1][1], rwt[1][2], 'm', linewidth=1)# Plot the star orbit\n",
    "ax.scatter3D(rwt[0][0][-1], rwt[0][1][-1], rwt[0][2][-1], 'o', c='black' ) #s=100\n",
    "ax.scatter3D(rwt[1][0][-1], rwt[1][1][-1], rwt[1][2][-1], 'o', c='orange') #s=10\n",
    "ax.legend()\n",
    "#ax.set_xticks([])\n",
    "#ax.set_yticks([])\n",
    "#ax.set_zticks([])\n",
    "#ax.set_xlim3d(-1,1)\n",
    "#ax.set_ylim3d(-1,1)\n",
    "#ax.set_xlim3d(min(min(posbh1x), min(posbh2x)), max(max(posbh1x), max(posbh2x)))\n",
    "#ax.set_ylim3d(min(min(posbh1y), min(posbh2y)), max(max(posbh1y), max(posbh2y)))\n",
    "#ax.set_zlim3d(min(min(posbh1z), min(posbh2z)), max(max(posbh1z), max(posbh2z)))\n",
    "ax.set_xlabel('x(m)')\n",
    "ax.set_ylabel('y(m)')\n",
    "ax.set_zlabel('z(m)')\n",
    "\n",
    "\n",
    "#plt.savefig('ne-parabolicrp3rt.eps', bbox_inches='tight')#, dpi=300\n",
    "\n",
    "plt.show()"
   ]
  },
  {
   "cell_type": "code",
   "execution_count": 74,
   "metadata": {},
   "outputs": [
    {
     "data": {
      "text/plain": [
       "8.89"
      ]
     },
     "execution_count": 74,
     "metadata": {},
     "output_type": "execute_result"
    }
   ],
   "source": [
    "bh3.radi\n",
    "ns.radi"
   ]
  },
  {
   "cell_type": "code",
   "execution_count": null,
   "metadata": {},
   "outputs": [],
   "source": []
  },
  {
   "cell_type": "code",
   "execution_count": null,
   "metadata": {},
   "outputs": [],
   "source": []
  }
 ],
 "metadata": {
  "kernelspec": {
   "display_name": "Python 3",
   "language": "python",
   "name": "python3"
  },
  "language_info": {
   "codemirror_mode": {
    "name": "ipython",
    "version": 3
   },
   "file_extension": ".py",
   "mimetype": "text/x-python",
   "name": "python",
   "nbconvert_exporter": "python",
   "pygments_lexer": "ipython3",
   "version": "3.7.6"
  }
 },
 "nbformat": 4,
 "nbformat_minor": 4
}
