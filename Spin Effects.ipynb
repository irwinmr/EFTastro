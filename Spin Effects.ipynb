{
 "cells": [
  {
   "cell_type": "code",
   "execution_count": 1,
   "metadata": {},
   "outputs": [],
   "source": [
    "import numpy as np\n",
    "import time\n",
    "import math\n",
    "import modules as md\n",
    "#import nbodysolver as nbs\n",
    "%matplotlib inline\n",
    "import matplotlib.pyplot as plt\n",
    "import matplotlib as mpl\n",
    "from mpl_toolkits.mplot3d import Axes3D\n",
    "import matplotlib.pyplot as plt\n",
    "\n",
    "\n",
    "#------------------------------------------------------------------------------------------\n",
    "#Units and conversions:\n",
    "#------------------------------------------------------------------------------------------\n",
    "#code units: Rsun, Msun, G=1, ...\n",
    "c_SI       = 299792458.0        #m/s\n",
    "M_sun_SI   = 1.989*(10.**30.)   #kg\n",
    "R_sun_SI   = 695800000.         #m\n",
    "R_bull_SI = 1000 #m \n",
    "AU_SI      = 149597871000.      #m \n",
    "G_new_SI   = 6.67*(10.**(-11.)) #m**3 kg**(-1) s**(-2)\n",
    "AU_U       = AU_SI/R_sun_SI                             #from dist AU to code units (U)\n",
    "kmsec_U    = 1000./np.sqrt(G_new_SI*M_sun_SI/R_bull_SI)  #from vel km/sec to code units (U)\n",
    "time_U     = 1/np.sqrt(G_new_SI*M_sun_SI/R_bull_SI**3) #from CU to second np.sqrt((R_bull_SI)/(G_new_SI*M_sun_SI)) #from code units(U) to time sec\n",
    "#Rsch_1Msun_unitRsun = ((2.*G_new_SI*(1.*M_sun_SI))/(c_SI**2.))/R_sun_SI\n",
    "c_CU = c_SI/1000*kmsec_U"
   ]
  },
  {
   "cell_type": "markdown",
   "metadata": {},
   "source": [
    "# Newtonian"
   ]
  },
  {
   "cell_type": "code",
   "execution_count": 2,
   "metadata": {},
   "outputs": [],
   "source": [
    "#Acceleration\n",
    "\n",
    "def acc(r,m): #r position, m mass\n",
    "    a = np.zeros((len(r),3)) #Create acceleration vector\n",
    "    for i in range(len(r)): #Range is size of timesteps or position steps\n",
    "        for j in range(len(r)): #For each particle\n",
    "            if (i != j):\n",
    "                rrel = r[i]-r[j]\n",
    "                rn = (rrel**2).sum()**(1./2) \n",
    "                a[i] += -(rrel)*m[j]/(rn**3.0) #Acceleration at each time step \n",
    "    return a # return acceleration\n",
    "\n",
    "\n",
    "def Jerk(r,v,m): #position, velocity, mass\n",
    "    Je = np.zeros((len(r),3)) #Define the Jerk\n",
    "    for i in range(len(r)):\n",
    "        for j in range(len(r)):\n",
    "            if (i != j):\n",
    "                rrel = r[i]-r[j]\n",
    "                vrel = v[i]-v[j]\n",
    "                rn = (rrel**2).sum()**(1./2) # dot product\n",
    "                vn = (vrel**2).sum()**(1./2)\n",
    "                rvd = ((rrel)*(vrel)).sum()\n",
    "                Je[i] += - m[j]*((vrel)/rn**3.0 - 3.*(rvd*rrel/(rn**5.0))) \n",
    "    return Je;"
   ]
  },
  {
   "cell_type": "markdown",
   "metadata": {},
   "source": [
    "# Spin"
   ]
  },
  {
   "cell_type": "markdown",
   "metadata": {},
   "source": [
    "Evolution of $r$ and $v$ in the equations of motion"
   ]
  },
  {
   "cell_type": "code",
   "execution_count": 3,
   "metadata": {},
   "outputs": [
    {
     "data": {
      "text/plain": [
       "'\\ndef Hermite4thspindt(pri,sec, bina, nsteps, Dt):\\n    \\n    N=2\\n    m = np.ones(N)#/N #Remove the N if not necessary\\n    m[0]=pri.mass\\n    m[1]=sec.mass\\n    \\n    r_res = np.zeros((2,3,nsteps)) # 2 because of two bodies\\n    v_res = np.zeros((2,3,nsteps))\\n    S_res = np.zeros((2,3,nsteps)) # 2 because of two bodies\\n\\n\\n    aN_res = np.zeros((2,3,nsteps)) # 2 because of two bodies\\n    #adotN_res = np.zeros((2,3,nsteps))\\n\\n    a_res = np.zeros((2,3,nsteps)) # 2 because of two bodies\\n    #adot_res = np.zeros((2,3,nsteps))\\n\\n    \\n    time = np.zeros(nsteps)\\n    r_res[:,:,0] = bina.r.copy()\\n    v_res[:,:,0] = bina.v.copy()\\n    S_res[:,:,0] = bina.S.copy()\\n\\n    nspinv = np.array([pri.nspin, sec.nspin])\\n    \\n    dtp = np.zeros(nsteps)\\n    dtp[0] = Dt\\n    \\n    for i in range(1,nsteps):\\n        (r_res[:,:,i],v_res[:,:,i],S_res[:,:,i], a_res[:,:,i],aN_res[:,:,i], dtp[i]) = HermiteUpdatespindt(Dt, r_res[:,:,i-1], v_res[:,:,i-1],  m, nspinv, S_res[:,:,i-1])\\n        time[i] = time[i-1] + Dt#\\n        if time[i] >= timelimit:\\n            break\\n            \\n    r_res = r_res[:,:,:i]\\n    v_res = v_res[:,:,:i]\\n    a_res = a_res[:,:,:i]\\n    #adot_res = adot_res[:,:,:i]\\n    aN_res = aN_res[:,:,:i]\\n    #adotN_res = adotN_res[:,:,:i]\\n    S_res = S_res[:,:,i]\\n    dtp = dtp[:i]\\n    time = time[:i]\\n        \\n    return r_res, v_res, a_res, aN_res, S_res, dtp, time\\n'"
      ]
     },
     "execution_count": 3,
     "metadata": {},
     "output_type": "execute_result"
    }
   ],
   "source": [
    "def accspin(r,m,ns,S):#r,m,S,ns #r position, m mass, s spin, m mass of the star and the value of ne\n",
    "    a = np.zeros((len(r),3)) #Create acceleration vector\n",
    "    for i in range(len(r)): #Range is size of timesteps or position steps\n",
    "        for j in range(len(r)): #For each particle\n",
    "            if (i != j):\n",
    "                rrel = r[i]-r[j]\n",
    "                rn = ((rrel**2).sum())**(1./2) #dot product\n",
    "                runi = rrel/rn\n",
    "                Sn = ((S[i]*S[i]).sum())**(1./2)\n",
    "                a[i] += -(3./2)*ns[i]*(m[j]*Sn**2/m[i])*(runi)/(rn**4.0) #Acceleration at each time step\n",
    "                \n",
    "    return a # return acceleration\n",
    "\n",
    "def Jerkspin(r,v,m, ns,S):#r,v,m,S,ns #r position, v velocity, m mass, m mass of the star, ne\n",
    "    Je = np.zeros((len(r),3)) #Define the Jerk\n",
    "    Je1 = np.zeros((len(r),3))\n",
    "    Je2 = np.zeros((len(r),3))\n",
    "    for i in range(len(r)):\n",
    "        for j in range(len(r)):\n",
    "            if (i != j):\n",
    "                rrel = (r[i]-r[j])\n",
    "                vrel = (v[i]-v[j])\n",
    "                rn = ((rrel**2).sum())**(1./2) # dot product\n",
    "                Sn = ((S[i]*S[i]).sum())**(1./2)\n",
    "                #Je1[i] += - (3./2)*ns[i]*((m[j])/m[i])*(2*((S*b).sum())*rrel/r**5 ) #Still need to define b \n",
    "                Je2[i] += - (3./2)*ns[i]*((m[j])/m[i])*(Sn**2)*(vrel/rn**5.0 - 5.*((vrel*rrel).sum())*(rrel)/(rn**7.0))               \n",
    "                Je[i] += Je2[i] #Je1[i] + Je2[i] \n",
    "    return Je;\n",
    "\n",
    "\n",
    "def HermiteUpdatespindt(dt, r, v, m, ns, S): # m mass of the star\n",
    "    \n",
    "    aN = acc(r, m) \n",
    "    aS = accspin(r, m, ns, S)\n",
    "    a = aN + aS           # current acceleration\n",
    "    aNdot = Jerk(r,v,m)\n",
    "    aSdot = Jerkspin(r, v, m, ns, S)\n",
    "    adot = aNdot + aSdot # current jerks\n",
    "    rp = r + dt*v + dt**2/2 * a + dt**3/6* adot   # predict\n",
    "    vp = v + dt*a + dt**2/2 * adot\n",
    "\n",
    "    aNp = acc(rp, m)\n",
    "    aSp = accspin(rp, m, ns, S)\n",
    "    ap = aNp + aSp         # predicted acceleration\n",
    "\n",
    "    aNdotp = Jerk(rp, vp, m)\n",
    "    aSdotp = Jerkspin(rp, vp, m, ns, S)\n",
    "    adotp = aNdotp + aSdotp  # predicted jerks \n",
    "    \n",
    "    dtp = dt\n",
    "    \n",
    "    vc = v + dt/2*(a+ap) - dt**2/12*(adotp-adot)  # correct\n",
    "    rc = r + dt/2*(v + vp) - dt**2/12 * (ap-a)\n",
    "    ac = a + dt/2*(adotp + adot)\n",
    "    aNc = aN + dt/2*(aNdotp + aNdot)\n",
    "    \n",
    "    Sc = S\n",
    " \n",
    "    return rc,vc,Sc, ac, aNc,dtp #,ac,aNc,dtp\n",
    "'''\n",
    "def Hermite4thspindt(pri,sec, bina, nsteps, Dt):\n",
    "    \n",
    "    N=2\n",
    "    m = np.ones(N)#/N #Remove the N if not necessary\n",
    "    m[0]=pri.mass\n",
    "    m[1]=sec.mass\n",
    "    \n",
    "    r_res = np.zeros((2,3,nsteps)) # 2 because of two bodies\n",
    "    v_res = np.zeros((2,3,nsteps))\n",
    "    S_res = np.zeros((2,3,nsteps)) # 2 because of two bodies\n",
    "\n",
    "\n",
    "    aN_res = np.zeros((2,3,nsteps)) # 2 because of two bodies\n",
    "    #adotN_res = np.zeros((2,3,nsteps))\n",
    "\n",
    "    a_res = np.zeros((2,3,nsteps)) # 2 because of two bodies\n",
    "    #adot_res = np.zeros((2,3,nsteps))\n",
    "\n",
    "    \n",
    "    time = np.zeros(nsteps)\n",
    "    r_res[:,:,0] = bina.r.copy()\n",
    "    v_res[:,:,0] = bina.v.copy()\n",
    "    S_res[:,:,0] = bina.S.copy()\n",
    "\n",
    "    nspinv = np.array([pri.nspin, sec.nspin])\n",
    "    \n",
    "    dtp = np.zeros(nsteps)\n",
    "    dtp[0] = Dt\n",
    "    \n",
    "    for i in range(1,nsteps):\n",
    "        (r_res[:,:,i],v_res[:,:,i],S_res[:,:,i], a_res[:,:,i],aN_res[:,:,i], dtp[i]) = HermiteUpdatespindt(Dt, r_res[:,:,i-1], v_res[:,:,i-1],  m, nspinv, S_res[:,:,i-1])\n",
    "        time[i] = time[i-1] + Dt#\n",
    "        if time[i] >= timelimit:\n",
    "            break\n",
    "            \n",
    "    r_res = r_res[:,:,:i]\n",
    "    v_res = v_res[:,:,:i]\n",
    "    a_res = a_res[:,:,:i]\n",
    "    #adot_res = adot_res[:,:,:i]\n",
    "    aN_res = aN_res[:,:,:i]\n",
    "    #adotN_res = adotN_res[:,:,:i]\n",
    "    S_res = S_res[:,:,i]\n",
    "    dtp = dtp[:i]\n",
    "    time = time[:i]\n",
    "        \n",
    "    return r_res, v_res, a_res, aN_res, S_res, dtp, time\n",
    "'''"
   ]
  },
  {
   "cell_type": "code",
   "execution_count": null,
   "metadata": {},
   "outputs": [],
   "source": []
  },
  {
   "cell_type": "code",
   "execution_count": 4,
   "metadata": {},
   "outputs": [],
   "source": [
    "def Hermite4thspindt(pri,sec, bina, nsteps,Dt):\n",
    "\n",
    "    N=2\n",
    "    m = np.ones(N)#/N #Remove the N if not necessary\n",
    "    m[0]=pri.mass\n",
    "    m[1]=sec.mass\n",
    "    \n",
    "    r_res = np.zeros((2,3,nsteps)) # 2 because of two bodies\n",
    "    v_res = np.zeros((2,3,nsteps))\n",
    "    S_res = np.zeros((2,3,nsteps)) # 2 because of two bodies\n",
    "\n",
    "\n",
    "    aN_res = np.zeros((2,3,nsteps-1)) # 2 because of two bodies\n",
    "    #adotN_res = np.zeros((2,3,nsteps))\n",
    "\n",
    "    a_res = np.zeros((2,3,nsteps-1)) # 2 because of two bodies\n",
    "    #adot_res = np.zeros((2,3,nsteps))\n",
    "\n",
    "    \n",
    "    time = np.zeros(nsteps)\n",
    "    r_res[:,:,0] = bina.r.copy()\n",
    "    v_res[:,:,0] = bina.v.copy()\n",
    "    S_res[:,:,0] = bina.S.copy()\n",
    "    \n",
    "    nspinv = np.array([pri.nspin, sec.nspin])\n",
    "    \n",
    "    dtp = np.zeros(nsteps)\n",
    "    dtp[0] = Dt\n",
    "    \n",
    "    for i in range(1,nsteps):\n",
    "        (r_res[:,:,i], v_res[:,:,i], S_res[:,:,i], a_res[:,:,i-1],aN_res[:,:,i-1], dtp[i]) = HermiteUpdatespindt(Dt, r_res[:,:,i-1], v_res[:,:,i-1],  m, nspinv, S_res[:,:,i-1])\n",
    "        #\n",
    "        time[i] = time[i-1] + Dt#\n",
    "        if time[i] >= timelimit:\n",
    "            break\n",
    "    \n",
    "    n = 0\n",
    "    r_res = r_res[:,:,:i+1]\n",
    "    v_res = v_res[:,:,:i+1]\n",
    "    a_res = a_res[:,:,:i]\n",
    "    S_res = S_res[:,:,:i+1]\n",
    "    dtp = dtp[:i+1]\n",
    "    time = time[:i+1]\n",
    "\n",
    "    return r_res, v_res, S_res, a_res, aN_res, time"
   ]
  },
  {
   "cell_type": "code",
   "execution_count": 5,
   "metadata": {},
   "outputs": [
    {
     "data": {
      "text/plain": [
       "'#Define ns\\nns = md.Particle(\"NS\",1.2,8.89,0) #stellar type, mass, radius, spin. At the momento for black holes choose r=0 and will set the Schwarzchild radius\\n#Define bh\\nbh3 = md.Particle(\"BH\",5,0,0) #stellar type, mass, radius, spin. At the momento for black holes choose r=0 and will set the Schwarzchild radius\\n\\n\\n#Define binary\\nbh3ns10rt = md.Binary(bh3, ns, 4*ns.radi, 0)\\n\\nrt = 10\\n\\nbh3nsco = md.Binary(bh3, ns, rt*ns.radi, 0) ##primary, secondary, orbital distance (Rsun), eccentricity\\n'"
      ]
     },
     "execution_count": 5,
     "metadata": {},
     "output_type": "execute_result"
    }
   ],
   "source": [
    "'''#Define ns\n",
    "ns = md.Particle(\"NS\",1.2,8.89,0) #stellar type, mass, radius, spin. At the momento for black holes choose r=0 and will set the Schwarzchild radius\n",
    "#Define bh\n",
    "bh3 = md.Particle(\"BH\",5,0,0) #stellar type, mass, radius, spin. At the momento for black holes choose r=0 and will set the Schwarzchild radius\n",
    "\n",
    "\n",
    "#Define binary\n",
    "bh3ns10rt = md.Binary(bh3, ns, 4*ns.radi, 0)\n",
    "\n",
    "rt = 10\n",
    "\n",
    "bh3nsco = md.Binary(bh3, ns, rt*ns.radi, 0) ##primary, secondary, orbital distance (Rsun), eccentricity\n",
    "'''"
   ]
  },
  {
   "cell_type": "code",
   "execution_count": null,
   "metadata": {},
   "outputs": [],
   "source": []
  },
  {
   "cell_type": "code",
   "execution_count": 6,
   "metadata": {},
   "outputs": [],
   "source": [
    "ns = md.Particle(\"NS\",1.2,8.89,0) #stellar type, mass, radius, spin. At the momento for black holes choose r=0 and will set the Schwarzchild radius\n",
    "bh3 = md.Particle(\"BH\",5,0,0) #stellar type, mass, radius, spin. At the momento for black holes choose r=0 and will set the Schwarzchild radius\n",
    "\n",
    "\n",
    "Sd = np.array([0.1,0.3])\n",
    "omega = (Sd*(ns.mass**2))/(ns.inertiam*c_CU)\n",
    "#nsspinarr = np.array([0,0,ns.sdis/3])\n",
    "nsspinarr = np.array([0,0,omega[1]])\n",
    "\n",
    "nsspin = md.Particle(\"NS\",1.2,8.89, nsspinarr)\n",
    "\n",
    "bh3nsspin = md.Binary(bh3,nsspin, 8*nsspin.radi,0)"
   ]
  },
  {
   "cell_type": "code",
   "execution_count": null,
   "metadata": {},
   "outputs": [],
   "source": []
  },
  {
   "cell_type": "code",
   "execution_count": 7,
   "metadata": {},
   "outputs": [
    {
     "data": {
      "text/plain": [
       "array([0.        , 0.        , 0.01585166])"
      ]
     },
     "execution_count": 7,
     "metadata": {},
     "output_type": "execute_result"
    }
   ],
   "source": [
    "nsspin.spin"
   ]
  },
  {
   "cell_type": "markdown",
   "metadata": {},
   "source": [
    "# Measure the coefficient for spin effects "
   ]
  },
  {
   "cell_type": "code",
   "execution_count": 8,
   "metadata": {},
   "outputs": [
    {
     "name": "stdout",
     "output_type": "stream",
     "text": [
      "[[[0.         0.         0.         ... 0.         0.         0.        ]\n",
      "  [0.         0.         0.         ... 0.         0.         0.        ]\n",
      "  [0.         0.         0.         ... 0.         0.         0.        ]]\n",
      "\n",
      " [[0.         0.         0.         ... 0.         0.         0.        ]\n",
      "  [0.         0.         0.         ... 0.         0.         0.        ]\n",
      "  [0.01585166 0.01585166 0.01585166 ... 0.01585166 0.01585166 0.01585166]]]\n"
     ]
    }
   ],
   "source": [
    "tl = 1*bh3nsspin.periodct #Time of the simulation in [cpde units]\n",
    "timelimit = tl #\n",
    "dt = 0.1 # 0.0001 working better \n",
    "Nsteps = int(tl/dt)#Number of ti\n",
    "\n",
    "r,v,S,a,aN,time = Hermite4thspindt(bh3,nsspin, bh3nsspin, Nsteps, dt)\n",
    "\n",
    "print(S)"
   ]
  },
  {
   "cell_type": "code",
   "execution_count": 9,
   "metadata": {},
   "outputs": [
    {
     "name": "stdout",
     "output_type": "stream",
     "text": [
      "[[1.37651613e+01 0.00000000e+00 0.00000000e+00]\n",
      " [1.37651601e+01 5.71464840e-03 0.00000000e+00]\n",
      " [1.37651565e+01 1.14292958e-02 0.00000000e+00]\n",
      " ...\n",
      " [1.37646666e+01 1.60130736e-01 0.00000000e+00]\n",
      " [1.37646239e+01 1.65845225e-01 0.00000000e+00]\n",
      " [1.37645789e+01 1.71559696e-01 0.00000000e+00]]\n"
     ]
    }
   ],
   "source": [
    "print(r[0].T)"
   ]
  },
  {
   "cell_type": "code",
   "execution_count": 10,
   "metadata": {},
   "outputs": [
    {
     "name": "stdout",
     "output_type": "stream",
     "text": [
      "15134\n"
     ]
    }
   ],
   "source": [
    "print(len(r[0].T))"
   ]
  },
  {
   "cell_type": "code",
   "execution_count": 75,
   "metadata": {},
   "outputs": [
    {
     "name": "stdout",
     "output_type": "stream",
     "text": [
      "15134\n"
     ]
    }
   ],
   "source": [
    "print(len(r[0].T))"
   ]
  },
  {
   "cell_type": "code",
   "execution_count": 76,
   "metadata": {},
   "outputs": [
    {
     "name": "stderr",
     "output_type": "stream",
     "text": [
      "No handles with labels found to put in legend.\n"
     ]
    },
    {
     "data": {
      "image/png": "[encoded data removed]",
      "text/plain": [
       "<Figure size 432x288 with 1 Axes>"
      ]
     },
     "metadata": {
      "needs_background": "light"
     },
     "output_type": "display_data"
    }
   ],
   "source": [
    "fig = plt.figure()\n",
    "ax = fig.gca(projection='3d')\n",
    "ax.plot(r[0][0], r[0][1], r[0][2], 'c', linewidth=1)# Plot the BH orbit\n",
    "ax.plot(r[1][0], r[1][1], r[1][2], 'm', linewidth=1)# Plot the star orbit\n",
    "ax.scatter3D(r[0][0][-1], r[0][1][-1], r[0][2][-1], 'o', c='black') #s=100\n",
    "ax.scatter3D(r[1][0][-1], r[1][1][-1], r[1][2][-1], '0', c='orange') #s=10\n",
    "ax.legend()\n",
    "#ax.set_xticks([])\n",
    "#ax.set_yticks([])\n",
    "#ax.set_zticks([])\n",
    "#ax.set_xlim3d(-1,1)\n",
    "#ax.set_ylim3d(-1,1)\n",
    "#ax.set_xlim3d(min(min(posbh1x), min(posbh2x)), max(max(posbh1x), max(posbh2x)))\n",
    "#ax.set_ylim3d(min(min(posbh1y), min(posbh2y)), max(max(posbh1y), max(posbh2y)))\n",
    "#ax.set_zlim3d(min(min(posbh1z), min(posbh2z)), max(max(posbh1z), max(posbh2z)))\n",
    "ax.set_xlabel('x')\n",
    "ax.set_ylabel('y')\n",
    "ax.set_zlabel('z')\n",
    "\n",
    "\n",
    "#plt.savefig('ne-circular2rt-5orbits.eps',bbox_inches='tight')#, dpi=300\n",
    "\n",
    "plt.show()"
   ]
  },
  {
   "cell_type": "code",
   "execution_count": 77,
   "metadata": {},
   "outputs": [
    {
     "name": "stdout",
     "output_type": "stream",
     "text": [
      "15134\n",
      "[71.0208615]\n",
      "[71.12]\n"
     ]
    }
   ],
   "source": [
    "aratio = np.zeros_like(aN[1].T)\n",
    "for i in range(len(aN[1].T)-1):\n",
    "    aratio[i+1][0] = (a[1].T[i+1][0])/(aN[1].T[i+1][0])\n",
    "    aratio[i+1][1] = (a[1].T[i+1][1])/(aN[1].T[i+1][1])\n",
    "    #print(aratio[i][1])\n",
    "    \n",
    "#define relative position\n",
    "relpos = r[1].T - r[0].T \n",
    "#define relative velocity\n",
    "relvel = v[1].T - v[0].T\n",
    "\n",
    "normrelpos = np.zeros([len(relpos), 1]) \n",
    "normrelvel = np.zeros([len(relvel), 1]) \n",
    "normS = np.zeros([len(relvel), 1]) \n",
    "\n",
    "for i in range(len(normrelpos)):\n",
    "    normrelpos[i] = np.sqrt(relpos[i][0]**2 + relpos[i][1]**2 + relpos[i][2]**2)\n",
    "    normrelvel[i] = np.sqrt(relvel[i][0]**2 + relvel[i][1]**2 + relvel[i][2]**2)\n",
    "    normS[i] = np.linalg.norm(S[1].T[i])\n",
    "    \n",
    "print(len(normrelpos.T[0]))\n",
    "print(min(normrelpos))\n",
    "print(max(normrelpos))"
   ]
  },
  {
   "cell_type": "code",
   "execution_count": 78,
   "metadata": {},
   "outputs": [
    {
     "name": "stdout",
     "output_type": "stream",
     "text": [
      "(15133, 3)\n",
      "(15134, 1)\n",
      "(15134, 1)\n"
     ]
    }
   ],
   "source": [
    "print(np.shape(aratio))\n",
    "print(np.shape(normrelpos))\n",
    "print(np.shape(normS))"
   ]
  },
  {
   "cell_type": "code",
   "execution_count": 79,
   "metadata": {},
   "outputs": [],
   "source": [
    "n_exco = (normrelpos.T[0][1:]**2)*(2./3)*(1.*ns.mass/normS.T[0][1:]**2)*(aratio.T[0][:] - 1) \n",
    "n_eyco = (normrelpos.T[0][1:]**2)*(2./3)*(1.*ns.mass/normS.T[0][1:]**2)*(aratio.T[1][:] - 1)"
   ]
  },
  {
   "cell_type": "code",
   "execution_count": 80,
   "metadata": {},
   "outputs": [
    {
     "name": "stdout",
     "output_type": "stream",
     "text": [
      "[-1.61036427e+07  1.39176566e+04  1.39176566e+04 ...  1.39176566e+04\n",
      "  1.39176566e+04  1.39176566e+04]\n"
     ]
    }
   ],
   "source": [
    "print(n_exco)"
   ]
  },
  {
   "cell_type": "code",
   "execution_count": 81,
   "metadata": {},
   "outputs": [
    {
     "name": "stdout",
     "output_type": "stream",
     "text": [
      "(15134,)\n",
      "(15133,)\n"
     ]
    }
   ],
   "source": [
    "print(np.shape(time))\n",
    "print(np.shape(n_exco))"
   ]
  },
  {
   "cell_type": "code",
   "execution_count": 49,
   "metadata": {},
   "outputs": [
    {
     "name": "stderr",
     "output_type": "stream",
     "text": [
      "No handles with labels found to put in legend.\n"
     ]
    },
    {
     "data": {
      "image/png": "[encoded data removed]",
      "text/plain": [
       "<Figure size 432x288 with 1 Axes>"
      ]
     },
     "metadata": {
      "needs_background": "light"
     },
     "output_type": "display_data"
    }
   ],
   "source": [
    "plt.plot(time[2:], n_exco[1:], 'c-', alpha = 1)\n",
    "#plt.plot(timearrayN.T[0][2:], n_ey[1:], 'b-', label = r'$n_{Ey}$', alpha = 0.5)\n",
    "#plt.plot(timearrayT[1:], posydif, 'b-', label = r'$\\Delta y$', alpha = 0.8)\n",
    "\n",
    "#plt.plot(timeave, dynstave.T[1], 'b-', label = r'$star$', alpha = 0.8)\n",
    "#plt.plot(time[1:], n_e.T[2], 'g-', label = r'$n_{ez}$', alpha = 0.8)\n",
    "#plt.xlim(0,30)\n",
    "#plt.ylim(0.0955,0.09555)\n",
    "plt.xlabel('code time')\n",
    "plt.ylabel(r'$n_{S,i}$',rotation=0)\n",
    "\n",
    "#plt.title(r'$n_{S,i}$ circular orbit')\n",
    "plt.legend()\n",
    "#plt.savefig('ne-evolution-circular-0.001-4rs-5orbits.eps', bbox_inches='tight')#, dpi=300\n",
    "\n",
    "plt.show()"
   ]
  },
  {
   "cell_type": "code",
   "execution_count": 22,
   "metadata": {},
   "outputs": [
    {
     "name": "stdout",
     "output_type": "stream",
     "text": [
      "[-1.06407048e+03  9.19628428e-01  9.19628428e-01 ...  9.19628428e-01\n",
      "  9.19628428e-01  9.19628428e-01]\n"
     ]
    }
   ],
   "source": [
    "print(n_exco)"
   ]
  },
  {
   "cell_type": "code",
   "execution_count": 104,
   "metadata": {},
   "outputs": [
    {
     "name": "stdout",
     "output_type": "stream",
     "text": [
      "[-1.06414080e+03  9.19689198e-01  9.19689198e-01 ...  9.19689198e-01\n",
      "  9.19689198e-01  9.19689198e-01]\n"
     ]
    }
   ],
   "source": [
    "print(n_exco)"
   ]
  },
  {
   "cell_type": "code",
   "execution_count": 23,
   "metadata": {},
   "outputs": [
    {
     "name": "stdout",
     "output_type": "stream",
     "text": [
      "13917.65663191198\n"
     ]
    }
   ],
   "source": [
    "print(nsspin.nspin)"
   ]
  },
  {
   "cell_type": "code",
   "execution_count": 25,
   "metadata": {},
   "outputs": [
    {
     "name": "stdout",
     "output_type": "stream",
     "text": [
      "0\n"
     ]
    }
   ],
   "source": [
    "print(bh3.ndtide)"
   ]
  },
  {
   "cell_type": "code",
   "execution_count": 131,
   "metadata": {},
   "outputs": [],
   "source": [
    "n_exco = (normrelpos.T[0][:-1]**2)*(2./3)*(1.*ns.mass/normS.T[0][:-1]**2)*(aratio.T[0][:] - 1) \n",
    "n_eyco = (normrelpos.T[0][:-1]**2)*(2./3)*(1.*ns.mass/normS.T[0][:-1]**2)*(aratio.T[1][:] - 1)"
   ]
  },
  {
   "cell_type": "code",
   "execution_count": 132,
   "metadata": {},
   "outputs": [
    {
     "name": "stderr",
     "output_type": "stream",
     "text": [
      "No handles with labels found to put in legend.\n"
     ]
    },
    {
     "data": {
      "image/png": "[encoded data removed]",
      "text/plain": [
       "<Figure size 432x288 with 1 Axes>"
      ]
     },
     "metadata": {
      "needs_background": "light"
     },
     "output_type": "display_data"
    }
   ],
   "source": [
    "plt.plot(time[2:], n_exco[1:], 'c-', alpha = 1)\n",
    "#plt.plot(timearrayN.T[0][2:], n_ey[1:], 'b-', label = r'$n_{Ey}$', alpha = 0.5)\n",
    "#plt.plot(timearrayT[1:], posydif, 'b-', label = r'$\\Delta y$', alpha = 0.8)\n",
    "\n",
    "#plt.plot(timeave, dynstave.T[1], 'b-', label = r'$star$', alpha = 0.8)\n",
    "#plt.plot(time[1:], n_e.T[2], 'g-', label = r'$n_{ez}$', alpha = 0.8)\n",
    "#plt.xlim(0,30)\n",
    "#plt.ylim(0.0955,0.09555)\n",
    "plt.xlabel('code time')\n",
    "plt.ylabel(r'$n_{S,i}$',rotation=0)\n",
    "\n",
    "#plt.title(r'$n_{S,i}$ circular orbit')\n",
    "plt.legend()\n",
    "#plt.savefig('ne-evolution-circular-0.001-4rs-5orbits.eps', bbox_inches='tight')#, dpi=300\n",
    "\n",
    "plt.show()"
   ]
  },
  {
   "cell_type": "markdown",
   "metadata": {},
   "source": [
    "# Now we add the spin evolution"
   ]
  },
  {
   "cell_type": "code",
   "execution_count": null,
   "metadata": {},
   "outputs": [],
   "source": []
  },
  {
   "cell_type": "markdown",
   "metadata": {},
   "source": [
    "def accspin(r,m,ns,S):#r,m,S,ns #r position, m mass, s spin, m mass of the star and the value of ne\n",
    "    a = np.zeros((len(r),3)) #Create acceleration vector\n",
    "    for i in range(len(r)): #Range is size of timesteps or position steps\n",
    "        for j in range(len(r)): #For each particle\n",
    "            if (i != j):\n",
    "                rrel = r[i]-r[j]\n",
    "                rn = ((rrel**2).sum())**(1./2) #dot product\n",
    "                runi = rrel/rn\n",
    "                Sn = ((S[i]*S[i]).sum())**(1./2)\n",
    "                a[i] += -(3./2)*ns[i]*(m[j]*Sn**2/m[i])*(runi)/(rn**4.0) #Acceleration at each time step\n",
    "    return a"
   ]
  },
  {
   "cell_type": "code",
   "execution_count": 153,
   "metadata": {},
   "outputs": [],
   "source": [
    "\n",
    "#Need to solve for each\n",
    "def bccspin(r,v,m,ns,S,I): #r position, m mass, s spin, m mass of the star\n",
    "    b = np.zeros((len(r),3)) #Create acceleration vector\n",
    "    b1 = np.zeros((len(r),3))\n",
    "    b2 = np.zeros((len(r),3))\n",
    "    #bden = np.zeros((len(r),3))\n",
    "    for i in range(len(r)): #Range is size of timesteps or position steps\n",
    "        for j in range(len(r)): #For each particle\n",
    "            if (i != j):\n",
    "                if(ns[i] == 0.0):\n",
    "                    b[i] = np.array([0,0,0])\n",
    "                elif (ns[i] != 0):\n",
    "                    rrel = r[i]-r[j]\n",
    "                    rn = ((rrel**2).sum())*(1./2)\n",
    "                    runi = 1.*rrel/rn\n",
    "                    vrel = v[i] - v[j]\n",
    "                    rdv = (rrel*vrel).sum()\n",
    "                    Sn = ((S[i]*S[i]).sum())**(1./2)\n",
    "                    acorr =  m[j]*ns[i]/rn**3\n",
    "                    b1[i] += (1/(I[i]+acorr))*(3*ns[i]*m[j]*rdv*S[i])*(1/(rn**5.0))\n",
    "                    #b2[i] += \n",
    "                    b[i] = b1[i] #b1[i] #+ b2[i]\n",
    "    return b # return acceleration"
   ]
  },
  {
   "cell_type": "code",
   "execution_count": 154,
   "metadata": {},
   "outputs": [
    {
     "data": {
      "text/plain": [
       "0.1934465007070313"
      ]
     },
     "execution_count": 154,
     "metadata": {},
     "output_type": "execute_result"
    }
   ],
   "source": [
    "(nsspin.nspin*bh3.mass)/(bh3nsspin.orbd**3)"
   ]
  },
  {
   "cell_type": "code",
   "execution_count": 155,
   "metadata": {},
   "outputs": [],
   "source": [
    "relr1 = bh3nsspin.r[1] - bh3nsspin.r[0]\n",
    "velr1 = bh3nsspin.v[1] - bh3nsspin.v[0]\n",
    "rdv1 = np.dot(relr1, velr1)\n"
   ]
  },
  {
   "cell_type": "code",
   "execution_count": 156,
   "metadata": {},
   "outputs": [
    {
     "data": {
      "text/plain": [
       "0.0"
      ]
     },
     "execution_count": 156,
     "metadata": {},
     "output_type": "execute_result"
    }
   ],
   "source": [
    "rdv1"
   ]
  },
  {
   "cell_type": "code",
   "execution_count": 172,
   "metadata": {},
   "outputs": [],
   "source": [
    "def HermiteUpdatespinbdt(dt, r, v, m, ns, S,I): # m mass of the star\n",
    "    \n",
    "    aN = acc(r, m) \n",
    "    aS = accspin(r, m, ns, S)\n",
    "    a = aN + aS           # current acceleration\n",
    "    aNdot = Jerk(r,v,m)\n",
    "    aSdot = Jerkspin(r, v, m, ns, S)\n",
    "    adot = aNdot + aSdot # current jerks\n",
    "    rp = r + dt*v + dt**2/2 * a + dt**3/6* adot   # predict\n",
    "    vp = v + dt*a + dt**2/2 * adot\n",
    "\n",
    "    aNp = acc(rp, m)\n",
    "    aSp = accspin(rp, m, ns, S)\n",
    "    ap = aNp + aSp         # predicted acceleration\n",
    "\n",
    "    aNdotp = Jerk(rp, vp, m)\n",
    "    aSdotp = Jerkspin(rp, vp, m, ns, S)\n",
    "    adotp = aNdotp + aSdotp  # predicted jerks \n",
    "    \n",
    "    dtp = dt\n",
    "    \n",
    "    vc = v + dt/2*(a+ap) - dt**2/12*(adotp-adot)  # correct\n",
    "    rc = r + dt/2*(v + vp) - dt**2/12 * (ap-a)\n",
    "    ac = a + dt/2*(adotp + adot)\n",
    "    aNc = aN + dt/2*(aNdotp + aNdot)\n",
    "    \n",
    "    #Spin\n",
    "    \n",
    "    b = bccspin(r,v,m,ns,S,I) #r,v,m,S,ns,I\n",
    "    Sp = S + (dt*b) #+ ()*dt/2\n",
    "\n",
    "    bp = bccspin(rp,vp,m,ns,Sp,I)\n",
    "    Sc = S + (b + bp)*dt/2\n",
    "    bc = b #+ ()*dt/2 Higher order terms\n",
    "       \n",
    "    \n",
    "    #Sc = S\n",
    " \n",
    "    return rc,vc,Sc, bc, ac, aNc, dtp"
   ]
  },
  {
   "cell_type": "code",
   "execution_count": 158,
   "metadata": {},
   "outputs": [],
   "source": [
    "def Hermite4thspinbdt(pri,sec, bina, nsteps,Dt):\n",
    "\n",
    "    N=2\n",
    "    m = np.ones(N)#/N #Remove the N if not necessary\n",
    "    m[0]=pri.mass\n",
    "    m[1]=sec.mass\n",
    "    \n",
    "    r_res = np.zeros((2,3,nsteps)) # 2 because of two bodies\n",
    "    v_res = np.zeros((2,3,nsteps))\n",
    "    S_res = np.zeros((2,3,nsteps)) # 2 because of two bodies\n",
    "    b_res = np.zeros((2,3,nsteps-1))\n",
    "\n",
    "    aN_res = np.zeros((2,3,nsteps-1)) # 2 because of two bodies\n",
    "    #adotN_res = np.zeros((2,3,nsteps))\n",
    "\n",
    "    a_res = np.zeros((2,3,nsteps-1)) # 2 because of two bodies\n",
    "    #adot_res = np.zeros((2,3,nsteps))\n",
    "\n",
    "    \n",
    "    time = np.zeros(nsteps)\n",
    "    r_res[:,:,0] = bina.r.copy()\n",
    "    v_res[:,:,0] = bina.v.copy()\n",
    "    S_res[:,:,0] = bina.S.copy()\n",
    "    \n",
    "    nspinv = np.array([pri.nspin, sec.nspin])\n",
    "    Iv = np.array([pri.inertiam, sec.inertiam])\n",
    "    \n",
    "    dtp = np.zeros(nsteps)\n",
    "    dtp[0] = Dt\n",
    "    \n",
    "    for i in range(1,nsteps):\n",
    "        (r_res[:,:,i], v_res[:,:,i], S_res[:,:,i], b_res[:,:,i-1] , a_res[:,:,i-1],aN_res[:,:,i-1], dtp[i]) = HermiteUpdatespinbdt(Dt, r_res[:,:,i-1], v_res[:,:,i-1],  m, nspinv, S_res[:,:,i-1], Iv)\n",
    "        #\n",
    "        time[i] = time[i-1] + Dt#\n",
    "        if time[i] >= timelimit:\n",
    "            break\n",
    "            \n",
    "    r_res = r_res[:,:,:i+1]\n",
    "    v_res = v_res[:,:,:i+1]\n",
    "    a_res = a_res[:,:,:i]\n",
    "    aN_res = aN_res[:,:,:i]\n",
    "    b_res = b_res[:,:,:i]\n",
    "    S_res = S_res[:,:,:i+1]\n",
    "    dtp = dtp[:i+1]\n",
    "    time = time[:i+1]\n",
    "\n",
    "    return r_res, v_res, S_res, b_res, a_res, aN_res, time"
   ]
  },
  {
   "cell_type": "code",
   "execution_count": 159,
   "metadata": {},
   "outputs": [],
   "source": [
    "nsspinv = np.array([bh3.nspin, nsspin.nspin])"
   ]
  },
  {
   "cell_type": "code",
   "execution_count": 160,
   "metadata": {},
   "outputs": [
    {
     "data": {
      "text/plain": [
       "13917.65663191198"
      ]
     },
     "execution_count": 160,
     "metadata": {},
     "output_type": "execute_result"
    }
   ],
   "source": [
    "nsspinv[1]"
   ]
  },
  {
   "cell_type": "code",
   "execution_count": 161,
   "metadata": {},
   "outputs": [
    {
     "name": "stdout",
     "output_type": "stream",
     "text": [
      "[[ 0.00000000e+00  0.00000000e+00  0.00000000e+00]\n",
      " [ 0.00000000e+00  0.00000000e+00 -5.86970210e-21]\n",
      " [ 0.00000000e+00  0.00000000e+00 -1.17394032e-20]\n",
      " ...\n",
      " [ 0.00000000e+00  0.00000000e+00 -3.47300800e-20]\n",
      " [ 0.00000000e+00  0.00000000e+00 -4.05997618e-20]\n",
      " [ 0.00000000e+00  0.00000000e+00 -4.64694368e-20]]\n"
     ]
    }
   ],
   "source": [
    "tl = 1*bh3nsspin.periodct #Time of the simulation in [cpde units]\n",
    "timelimit = tl #\n",
    "dt = 0.1 # 0.0001 working better \n",
    "Nsteps = int(tl/dt)#Number of ti\n",
    "\n",
    "r,v,S,b,a,aN,time = Hermite4thspinbdt(bh3,nsspin, bh3nsspin, Nsteps, dt)\n",
    "\n",
    "print(b[1].T)"
   ]
  },
  {
   "cell_type": "code",
   "execution_count": 162,
   "metadata": {},
   "outputs": [
    {
     "name": "stdout",
     "output_type": "stream",
     "text": [
      "[[0.         0.         0.         ... 0.         0.         0.        ]\n",
      " [0.         0.         0.         ... 0.         0.         0.        ]\n",
      " [0.01585166 0.01585166 0.01585166 ... 0.01585166 0.01585166 0.01585166]]\n"
     ]
    }
   ],
   "source": [
    "print(S[1])"
   ]
  },
  {
   "cell_type": "code",
   "execution_count": 163,
   "metadata": {},
   "outputs": [
    {
     "name": "stdout",
     "output_type": "stream",
     "text": [
      "15134\n",
      "[71.0208615]\n",
      "[71.12]\n"
     ]
    }
   ],
   "source": [
    "aratio = np.zeros_like(aN[1].T)\n",
    "for i in range(len(aN[1].T)-1):\n",
    "    aratio[i+1][0] = (a[1].T[i+1][0])/(aN[1].T[i+1][0])\n",
    "    aratio[i+1][1] = (a[1].T[i+1][1])/(aN[1].T[i+1][1])\n",
    "    #print(aratio[i][1])\n",
    "    \n",
    "#define relative position\n",
    "relpos = r[1].T - r[0].T \n",
    "#define relative velocity\n",
    "relvel = v[1].T - v[0].T\n",
    "\n",
    "normrelpos = np.zeros([len(relpos), 1]) \n",
    "normrelvel = np.zeros([len(relvel), 1]) \n",
    "normS = np.zeros([len(relvel), 1]) \n",
    "\n",
    "for i in range(len(normrelpos)):\n",
    "    normrelpos[i] = np.sqrt(relpos[i][0]**2 + relpos[i][1]**2 + relpos[i][2]**2)\n",
    "    normrelvel[i] = np.sqrt(relvel[i][0]**2 + relvel[i][1]**2 + relvel[i][2]**2)\n",
    "    normS[i] = np.linalg.norm(S[1].T[i])\n",
    "    \n",
    "print(len(normrelpos.T[0]))\n",
    "print(min(normrelpos))\n",
    "print(max(normrelpos))"
   ]
  },
  {
   "cell_type": "code",
   "execution_count": 164,
   "metadata": {},
   "outputs": [],
   "source": [
    "n_exco = (normrelpos.T[0][1:]**2)*(2./3)*(1.*ns.mass/normS.T[0][1:]**2)*(aratio.T[0][:] - 1) \n",
    "n_eyco = (normrelpos.T[0][1:]**2)*(2./3)*(1.*ns.mass/normS.T[0][1:]**2)*(aratio.T[1][:] - 1)"
   ]
  },
  {
   "cell_type": "code",
   "execution_count": 165,
   "metadata": {},
   "outputs": [
    {
     "name": "stderr",
     "output_type": "stream",
     "text": [
      "No handles with labels found to put in legend.\n"
     ]
    },
    {
     "data": {
      "image/png": "[encoded data removed]",
      "text/plain": [
       "<Figure size 432x288 with 1 Axes>"
      ]
     },
     "metadata": {
      "needs_background": "light"
     },
     "output_type": "display_data"
    }
   ],
   "source": [
    "plt.plot(time[2:], n_exco[1:], 'c-', alpha = 1)\n",
    "#plt.plot(timearrayN.T[0][2:], n_ey[1:], 'b-', label = r'$n_{Ey}$', alpha = 0.5)\n",
    "#plt.plot(timearrayT[1:], posydif, 'b-', label = r'$\\Delta y$', alpha = 0.8)\n",
    "\n",
    "#plt.plot(timeave, dynstave.T[1], 'b-', label = r'$star$', alpha = 0.8)\n",
    "#plt.plot(time[1:], n_e.T[2], 'g-', label = r'$n_{ez}$', alpha = 0.8)\n",
    "#plt.xlim(0,30)\n",
    "#plt.ylim(0.0955,0.09555)\n",
    "plt.xlabel('code time')\n",
    "plt.ylabel(r'$n_{S,i}$',rotation=0)\n",
    "\n",
    "#plt.title(r'$n_{S,i}$ circular orbit')\n",
    "plt.legend()\n",
    "#plt.savefig('ne-evolution-circular-0.001-4rs-5orbits.eps', bbox_inches='tight')#, dpi=300\n",
    "\n",
    "plt.show()"
   ]
  },
  {
   "cell_type": "code",
   "execution_count": 140,
   "metadata": {},
   "outputs": [
    {
     "name": "stdout",
     "output_type": "stream",
     "text": [
      "1.0\n"
     ]
    }
   ],
   "source": [
    "print(S[1][2][0]/S[1][2][-1])"
   ]
  },
  {
   "cell_type": "code",
   "execution_count": 452,
   "metadata": {},
   "outputs": [
    {
     "name": "stdout",
     "output_type": "stream",
     "text": [
      "[[0. 0. 0.]\n",
      " [0. 0. 0.]\n",
      " [0. 0. 0.]\n",
      " ...\n",
      " [0. 0. 0.]\n",
      " [0. 0. 0.]\n",
      " [0. 0. 0.]]\n",
      "[[ 0.00000000e+00  0.00000000e+00  0.00000000e+00]\n",
      " [ 0.00000000e+00  0.00000000e+00 -2.28976335e-11]\n",
      " [ 0.00000000e+00  0.00000000e+00 -4.57967702e-11]\n",
      " ...\n",
      " [ 0.00000000e+00  0.00000000e+00 -2.55534944e-10]\n",
      " [ 0.00000000e+00  0.00000000e+00 -2.78403387e-10]\n",
      " [ 0.00000000e+00  0.00000000e+00  0.00000000e+00]]\n"
     ]
    }
   ],
   "source": [
    "print(b[0].T)\n",
    "print(b[1].T)"
   ]
  },
  {
   "cell_type": "code",
   "execution_count": 431,
   "metadata": {},
   "outputs": [],
   "source": [
    "Iv = np.array([bh3.inertiam, nsspin.inertiam])\n"
   ]
  },
  {
   "cell_type": "code",
   "execution_count": null,
   "metadata": {},
   "outputs": [],
   "source": []
  },
  {
   "cell_type": "code",
   "execution_count": null,
   "metadata": {},
   "outputs": [],
   "source": []
  },
  {
   "cell_type": "code",
   "execution_count": null,
   "metadata": {},
   "outputs": [],
   "source": []
  },
  {
   "cell_type": "code",
   "execution_count": null,
   "metadata": {},
   "outputs": [],
   "source": []
  },
  {
   "cell_type": "code",
   "execution_count": null,
   "metadata": {},
   "outputs": [],
   "source": []
  },
  {
   "cell_type": "code",
   "execution_count": null,
   "metadata": {},
   "outputs": [],
   "source": []
  },
  {
   "cell_type": "code",
   "execution_count": null,
   "metadata": {},
   "outputs": [],
   "source": []
  },
  {
   "cell_type": "code",
   "execution_count": null,
   "metadata": {},
   "outputs": [],
   "source": []
  },
  {
   "cell_type": "code",
   "execution_count": null,
   "metadata": {},
   "outputs": [],
   "source": []
  },
  {
   "cell_type": "code",
   "execution_count": null,
   "metadata": {},
   "outputs": [],
   "source": []
  },
  {
   "cell_type": "code",
   "execution_count": 61,
   "metadata": {},
   "outputs": [],
   "source": [
    "#Need to generalize the code to take into account the fact that I am dividing the mass of the star\n",
    "def accspin(r,m,S,ns): #r position, m mass, s spin, m mass of the star\n",
    "    a = np.zeros((len(r),3)) #Create acceleration vector\n",
    "    for i in range(len(r)): #Range is size of timesteps or position steps\n",
    "        for j in range(len(r)): #For each particle\n",
    "            if (i != j):\n",
    "                rrel = r[i]-r[j]\n",
    "                rn = ((rrel**2).sum())*(1./2)\n",
    "                runi = 1.*rrel/rn\n",
    "                Sn = np.linalg.norm(S) \n",
    "                a[i] += -(3*ns[i]*(m[j]/m[i])/(rn**4.0))*((runi*Sn**2/2))\n",
    "                #a[i,:] += -(3*ns*(m[j]/ms)/(ra**4.0))*(S*(np.dot(runi,S)) + (runi*Sn**2/2) - (5*runi*(np.dot(runi, S)**2)))\n",
    "    return a # return acceleration\n",
    "'''\n",
    "def bccspin(r,v,m,S,I,ns,eta):\n",
    "    b = np.zeros((len(r),3))\n",
    "    bden = np.zeros((len(r),3))\n",
    "    bspin = np.zeros((len(r),3))\n",
    "    bdiss = np.zeros((len(r),3))\n",
    "    for i in range(len(r)):\n",
    "        for j in range(len(r)):\n",
    "            if (i != j):\n",
    "                rrel = r[i]-r[j]\n",
    "                vrel = v[i]-v[j]\n",
    "                rn = ((rrel*rrel).sum())**(1./2)\n",
    "                runi = rrel/rn\n",
    "                rdv = (rrel*vrel).sum()\n",
    "                rucv = np.cross(runi,vrel)\n",
    "                bden[i] = 1./(I[i]*(rn**3) + m[j]*ns[i])\n",
    "                bspin[i] = (3*m[j]*ns[i]*rdv*S[i]/(rn**5))\n",
    "                bdiss[i] = 9.*eta[i]*(m[j]**2)*(rucv - rn*S[i] )/(rn**7)\n",
    "                \n",
    "                b[i] =  bden[i]*(bspin[i]*bdiss[i])\n",
    "    return b\n",
    "'''\n",
    "\n",
    "def HermiteUpdatespindt(dt, r, v, m, S, I, ns, eta): # m mass of the star\n",
    "    \n",
    "    aN = acc(r, m) \n",
    "    aS = accspin(r, v, m, ns)\n",
    "    a = aN + aS           # current acceleration\n",
    "    aNdot = Jerk(r,v,m)\n",
    "    aSdot = 0 #Jerkspin(r, v, a, m, ns)\n",
    "    adot = aNdot + aSdot # current jerks\n",
    "    rp = r + dt*v + dt**2/2 * a + dt**3/6* adot   # predict\n",
    "    vp = v + dt*a + dt**2/2 * adot\n",
    "\n",
    "    aNp = acc(rp, m)\n",
    "    aSp = accspin(rp, vp, m, ns)\n",
    "    ap = aNp + aSp         # predicted acceleration\n",
    "\n",
    "    aNdotp = Jerk(rp, vp, m)\n",
    "    aSdotp = 0#Jerkspin(rp, vp, ap, m, ns)\n",
    "    adotp = aNdotp + aSdotp  # predicted jerks \n",
    "    \n",
    "    dtp = dt\n",
    "    \n",
    "    vc = v + dt/2*(a+ap) - dt**2/12*(adotp-adot)  # correct\n",
    "    rc = r + dt/2*(v + vp) - dt**2/12 * (ap-a)\n",
    "    ac = a + dt/2*(adotp+adot)\n",
    "    #aNc = aN + dt/2*(aNdotp + aNdot)\n",
    "    '''    \n",
    "    #Spin\n",
    "    \n",
    "    b = bccspin(r,v,m,S,I,ns,eta)\n",
    "    Sp = S + (dt*b) #+ ()*dt/2\n",
    "\n",
    "    bp = bccspin(rp,vp,m,Sp,I,ns,eta)\n",
    "    Sc = S + (b + bp)*dt/2\n",
    "    bc = b #+ ()*dt/2 Higher order terms\n",
    "    '''   \n",
    "    \n",
    "    So = S \n",
    "    \n",
    "    return rc,vc, ac, So, dtp\n",
    "\n",
    "def Hermite4thspindt(pri,sec, bina, nsteps, Dt):\n",
    "    \n",
    "    N=2\n",
    "    m = np.ones(N)#/N #Remove the N if not necessary\n",
    "    m[0]=pri.mass\n",
    "    m[1]=sec.mass\n",
    "    \n",
    "    r = np.zeros((2,3,nsteps)) # 2 because of two bodies\n",
    "    v = np.zeros((2,3,nsteps))\n",
    "    #aN = np.zeros((2,3,nsteps)) \n",
    "    a = np.zeros((2,3,nsteps))\n",
    "    \n",
    "    S = np.zeros((2,3,nsteps))\n",
    "    b = np.zeros((2,3,nsteps))\n",
    "    \n",
    "    time = np.zeros(nsteps)\n",
    "    r[:,:,0] = bina.r.copy()\n",
    "    v[:,:,0] = bina.v.copy()\n",
    "    S[:,:,0] = bina.S.copy()\n",
    "    ntidev = np.array([pri.ntide, sec.ntide])\n",
    "    etav = np.array([pri.eta, sec.eta])\n",
    "    inertiav = np.array([pri.inertiam ,sec.inertiam])\n",
    "    \n",
    "    dtp = np.zeros(nsteps)\n",
    "    dtp[0] = Dt\n",
    "    \n",
    "    for i in range(1,nsteps):\n",
    "        (r[:,:,i],v[:,:,i],a[:,:,i],S[:,:,i], dtp[i]) = HermiteUpdatespindt(Dt, r[:,:,i-1], v[:,:,i-1], m, S[:,:,i-1], inertiav, ntidev, etav)\n",
    "        time[i] = time[i-1] + Dt#\n",
    "        if time[i] >= timelimit:\n",
    "            break\n",
    "            \n",
    "    r = r[:,:,:i]\n",
    "    v = v[:,:,:i]\n",
    "    a = a[:,:,:i]\n",
    "    S = S[:,:,:i]\n",
    "    dtp = dtp[:i]\n",
    "    time = time[:i]\n",
    "        \n",
    "    return r, v, a, S, time\n"
   ]
  },
  {
   "cell_type": "markdown",
   "metadata": {},
   "source": [
    "# Circular orbit"
   ]
  },
  {
   "cell_type": "code",
   "execution_count": 62,
   "metadata": {},
   "outputs": [],
   "source": [
    "bh = md.Particle(\"BH\",20,0,0.0)#stellar type, mass, radius, spin. At the momento for black holes choose r=0 and will set the Schwarzchild radius\n",
    "\n",
    "bhspinarr = np.array([0,0,0.001])\n",
    "bhspin = md.Particle(\"BH\", 20,0,bhspinarr)\n",
    "bhbhspin = md.Binary(bh,bhspin, 8*bh.radisch,0)"
   ]
  },
  {
   "cell_type": "code",
   "execution_count": 63,
   "metadata": {},
   "outputs": [
    {
     "name": "stdout",
     "output_type": "stream",
     "text": [
      "58.73903821222041\n",
      "59.044466452570475\n",
      "69005.49220193378\n"
     ]
    }
   ],
   "source": [
    "print(bhspin.radiplus)\n",
    "print(bh.radisch)\n",
    "print(bhspin.inertiam)"
   ]
  },
  {
   "cell_type": "code",
   "execution_count": 64,
   "metadata": {},
   "outputs": [],
   "source": [
    "ns = md.Particle(\"NS\",1.2,8.89,0) #stellar type, mass, radius, spin. At the momento for black holes choose r=0 and will set the Schwarzchild radius\n",
    "bh3 = md.Particle(\"BH\",5,0,0) #stellar type, mass, radius, spin. At the momento for black holes choose r=0 and will set the Schwarzchild radius\n",
    "\n",
    "nsspinarr = np.array([0,0,ns.sdis/3])\n",
    "nsspin = md.Particle(\"NS\",1.2,8.89, nsspinarr)\n",
    "\n",
    "bh3nsspin = md.Binary(bh3,nsspin, 8*nsspin.radi,0)"
   ]
  },
  {
   "cell_type": "code",
   "execution_count": 65,
   "metadata": {},
   "outputs": [
    {
     "data": {
      "text/plain": [
       "33.110723733380915"
      ]
     },
     "execution_count": 65,
     "metadata": {},
     "output_type": "execute_result"
    }
   ],
   "source": [
    "nsspin.inertiam"
   ]
  },
  {
   "cell_type": "code",
   "execution_count": 66,
   "metadata": {},
   "outputs": [
    {
     "data": {
      "text/plain": [
       "array([0.       , 0.       , 0.0137758])"
      ]
     },
     "execution_count": 66,
     "metadata": {},
     "output_type": "execute_result"
    }
   ],
   "source": [
    "nsspin.spin"
   ]
  },
  {
   "cell_type": "code",
   "execution_count": 67,
   "metadata": {},
   "outputs": [],
   "source": [
    "tl = 1*bh3nsspin.periodct #Time of the simulation in [cpde units]\n",
    "timelimit = tl #\n",
    "dt = 0.1 # 0.0001 working better \n",
    "Nsteps = int(tl/dt)#Number of timesteps with the guessed timestep "
   ]
  },
  {
   "cell_type": "code",
   "execution_count": 68,
   "metadata": {},
   "outputs": [
    {
     "name": "stderr",
     "output_type": "stream",
     "text": [
      "/home/irvin/miniconda3/lib/python3.7/site-packages/ipykernel_launcher.py:11: RuntimeWarning: invalid value encountered in true_divide\n",
      "  # This is added back by InteractiveShellApp.init_path()\n"
     ]
    }
   ],
   "source": [
    "rbhns,vbhns, abhns, Sbhns, timebhns = Hermite4thspindt(bh3,nsspin, bh3nsspin,Nsteps,dt)"
   ]
  },
  {
   "cell_type": "code",
   "execution_count": 69,
   "metadata": {},
   "outputs": [
    {
     "data": {
      "text/plain": [
       "array([[[ 13.76516129,          nan,          nan, ...,          nan,\n",
       "                  nan,          nan],\n",
       "        [  0.        ,          nan,          nan, ...,          nan,\n",
       "                  nan,          nan],\n",
       "        [  0.        ,          nan,          nan, ...,          nan,\n",
       "                  nan,          nan]],\n",
       "\n",
       "       [[-57.35483871,          nan,          nan, ...,          nan,\n",
       "                  nan,          nan],\n",
       "        [  0.        ,          nan,          nan, ...,          nan,\n",
       "                  nan,          nan],\n",
       "        [  0.        ,          nan,          nan, ...,          nan,\n",
       "                  nan,          nan]]])"
      ]
     },
     "execution_count": 69,
     "metadata": {},
     "output_type": "execute_result"
    }
   ],
   "source": [
    "rbhns"
   ]
  },
  {
   "cell_type": "code",
   "execution_count": 28,
   "metadata": {},
   "outputs": [
    {
     "name": "stderr",
     "output_type": "stream",
     "text": [
      "No handles with labels found to put in legend.\n"
     ]
    },
    {
     "data": {
      "image/png": "[encoded data removed]",
      "text/plain": [
       "<Figure size 432x288 with 1 Axes>"
      ]
     },
     "metadata": {
      "needs_background": "light"
     },
     "output_type": "display_data"
    }
   ],
   "source": [
    "fig = plt.figure()\n",
    "ax = fig.gca(projection='3d')\n",
    "ax.plot(rbhns[0][0], rbhns[0][1], rbhns[0][2], 'c', linewidth=1)# Plot the BH orbit\n",
    "ax.plot(rbhns[1][0], rbhns[1][1], rbhns[1][2], 'm', linewidth=1)# Plot the star orbit\n",
    "ax.scatter3D(rbhns[0][0][-1], rbhns[0][1][-1], rbhns[0][2][-1], 'o', c='black') #s=100\n",
    "ax.scatter3D(rbhns[1][0][-1], rbhns[1][1][-1], rbhns[1][2][-1], '0', c='orange') #s=10\n",
    "ax.legend()\n",
    "#ax.set_xticks([])\n",
    "#ax.set_yticks([])\n",
    "#ax.set_zticks([])\n",
    "#ax.set_xlim3d(-1,1)\n",
    "#ax.set_ylim3d(-1,1)\n",
    "#ax.set_xlim3d(min(min(posbh1x), min(posbh2x)), max(max(posbh1x), max(posbh2x)))\n",
    "#ax.set_ylim3d(min(min(posbh1y), min(posbh2y)), max(max(posbh1y), max(posbh2y)))\n",
    "#ax.set_zlim3d(min(min(posbh1z), min(posbh2z)), max(max(posbh1z), max(posbh2z)))\n",
    "ax.set_xlabel('x')\n",
    "ax.set_ylabel('y')\n",
    "ax.set_zlabel('z')\n",
    "\n",
    "\n",
    "#plt.savefig('ne-circular2rt-5orbits.eps',bbox_inches='tight')#, dpi=300\n",
    "\n",
    "plt.show()"
   ]
  },
  {
   "cell_type": "code",
   "execution_count": null,
   "metadata": {},
   "outputs": [],
   "source": []
  },
  {
   "cell_type": "code",
   "execution_count": null,
   "metadata": {},
   "outputs": [],
   "source": []
  },
  {
   "cell_type": "code",
   "execution_count": null,
   "metadata": {},
   "outputs": [],
   "source": [
    "rbhbh,vbhbh, abhbh, Sbhbh,  timebhbh = Hermite4thspindt(bh,bhspin, bhbh, Nsteps,dt)"
   ]
  },
  {
   "cell_type": "code",
   "execution_count": null,
   "metadata": {},
   "outputs": [],
   "source": [
    "pri,sec, bina, nsteps, Dt"
   ]
  },
  {
   "cell_type": "code",
   "execution_count": 26,
   "metadata": {},
   "outputs": [
    {
     "data": {
      "text/plain": [
       "array([[ 236.17786581,    0.        ,    0.        ],\n",
       "       [-236.17786581,    0.        ,    0.        ]])"
      ]
     },
     "execution_count": 26,
     "metadata": {},
     "output_type": "execute_result"
    }
   ],
   "source": [
    "bhbh.r"
   ]
  },
  {
   "cell_type": "code",
   "execution_count": 15,
   "metadata": {},
   "outputs": [
    {
     "data": {
      "text/plain": [
       "0.06074766788351348"
      ]
     },
     "execution_count": 15,
     "metadata": {},
     "output_type": "execute_result"
    }
   ],
   "source": [
    "0.05/c_CU"
   ]
  },
  {
   "cell_type": "code",
   "execution_count": 12,
   "metadata": {},
   "outputs": [
    {
     "name": "stdout",
     "output_type": "stream",
     "text": [
      "13917.65663191198\n",
      "0.013775796760546896\n",
      "0.82307686438066\n"
     ]
    }
   ],
   "source": [
    "print(ns.nspin)\n",
    "print(ns.sdis/3)\n",
    "print(c_CU)"
   ]
  },
  {
   "cell_type": "code",
   "execution_count": null,
   "metadata": {},
   "outputs": [],
   "source": []
  }
 ],
 "metadata": {
  "kernelspec": {
   "display_name": "Python 3",
   "language": "python",
   "name": "python3"
  },
  "language_info": {
   "codemirror_mode": {
    "name": "ipython",
    "version": 3
   },
   "file_extension": ".py",
   "mimetype": "text/x-python",
   "name": "python",
   "nbconvert_exporter": "python",
   "pygments_lexer": "ipython3",
   "version": "3.7.6"
  }
 },
 "nbformat": 4,
 "nbformat_minor": 4
}
