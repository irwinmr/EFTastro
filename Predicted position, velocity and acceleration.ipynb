{
 "cells": [
  {
   "cell_type": "code",
   "execution_count": 1,
   "metadata": {},
   "outputs": [],
   "source": [
    "from sympy import *\n"
   ]
  },
  {
   "cell_type": "code",
   "execution_count": 65,
   "metadata": {},
   "outputs": [],
   "source": [
    "#Start by defining all symbols that will use\n",
    "ri1, ri, vi1, vi, ai1, ai, ji1, ji, si1, si, ci1, ci, gi1, gi, dt = symbols('r_{i+1} r_{i} v_{i+1} v_{i} a_{i+1} a_{i} j_{i+1} j_{i} s_{i+1} s_{i} c_{i+1} c_{i} g_{i+1} g_{i} dt')"
   ]
  },
  {
   "cell_type": "code",
   "execution_count": 37,
   "metadata": {},
   "outputs": [],
   "source": [
    "#Define the taylor expansion of each variable\n",
    "ri1_exp = ri + vi*dt + (1/2)*ai*dt**2 + (1/6)*ji*dt**3 + (1/24)*si*dt**4\n",
    "vi1_exp = vi + ai*dt + (1/2)*ji*dt**2 + (1/6)*si*dt**3 + (1/24)*ci*dt**4\n",
    "ai1_exp = ai + ji*dt + (1/2)*si*dt**2 + (1/6)*ci*dt**3\n",
    "ji1_exp = ji + si*dt + (1/2)*ci*dt**2"
   ]
  },
  {
   "cell_type": "code",
   "execution_count": 4,
   "metadata": {},
   "outputs": [],
   "source": [
    "#From last expression we obtain ci in order to substitute it\n",
    "ci_sub = 2*ji1/dt**2 - 2*ji/dt**2 - 2*si/dt \n",
    "#Substitute it back into the \n",
    "ai1_exp6 = expand(6*ai1_exp.subs(ci, ci_sub))"
   ]
  },
  {
   "cell_type": "markdown",
   "metadata": {},
   "source": [
    "$$6 a_{ai+1} dt = $$"
   ]
  },
  {
   "cell_type": "code",
   "execution_count": 5,
   "metadata": {},
   "outputs": [
    {
     "data": {
      "text/latex": [
       "$\\displaystyle 6 a_{i} + 1.0 dt^{2} s_{i} + 2 dt j_{i+1} + 4 dt j_{i}$"
      ],
      "text/plain": [
       "6*a_{i} + 1.0*dt**2*s_{i} + 2*dt*j_{i+1} + 4*dt*j_{i}"
      ]
     },
     "execution_count": 5,
     "metadata": {},
     "output_type": "execute_result"
    }
   ],
   "source": [
    "ai1_exp6"
   ]
  },
  {
   "cell_type": "code",
   "execution_count": 23,
   "metadata": {},
   "outputs": [],
   "source": [
    "si_sub1 = solve(-6*ai1 + ai1_exp6, si)"
   ]
  },
  {
   "cell_type": "code",
   "execution_count": 46,
   "metadata": {},
   "outputs": [
    {
     "data": {
      "text/latex": [
       "$\\displaystyle \\frac{2.0 \\left(3.0 a_{i+1} - 3.0 a_{i} - dt \\left(j_{i+1} + 2.0 j_{i}\\right)\\right)}{dt^{2}}$"
      ],
      "text/plain": [
       "2.0*(3.0*a_{i+1} - 3.0*a_{i} - dt*(j_{i+1} + 2.0*j_{i}))/dt**2"
      ]
     },
     "execution_count": 46,
     "metadata": {},
     "output_type": "execute_result"
    }
   ],
   "source": [
    "si_sub1[0]"
   ]
  },
  {
   "cell_type": "markdown",
   "metadata": {},
   "source": [
    "we obtain an expression for $s_i$\n",
    "\n",
    "$$s_i dt^2 = 6(a_{i+1}- a_i) - 2(j_{i+1} + 2j_i)dt $$"
   ]
  },
  {
   "cell_type": "markdown",
   "metadata": {},
   "source": [
    "substitute back into \n",
    "\n",
    "$$ j_{i+1} dt = j_i dt + s_i dt^2 + \\frac{1}{2} c_i dt^3 $$\n",
    "\n",
    "to obtain an equation for $c_i$"
   ]
  },
  {
   "cell_type": "markdown",
   "metadata": {},
   "source": [
    "$$\n",
    "2 j_{i+1} dt =  2 j_i dt + 2 s_i dt^2 +  c_i dt^3 \n",
    "$$"
   ]
  },
  {
   "cell_type": "code",
   "execution_count": 26,
   "metadata": {},
   "outputs": [
    {
     "data": {
      "text/latex": [
       "$\\displaystyle 12.0 a_{i+1} - 12.0 a_{i} + 1.0 c_{i} dt^{3} - 6.0 dt j_{i+1} - 6.0 dt j_{i}$"
      ],
      "text/plain": [
       "12.0*a_{i+1} - 12.0*a_{i} + 1.0*c_{i}*dt**3 - 6.0*dt*j_{i+1} - 6.0*dt*j_{i}"
      ]
     },
     "execution_count": 26,
     "metadata": {},
     "output_type": "execute_result"
    }
   ],
   "source": [
    "expr1 = -2*ji1*dt + expand(2*dt*ji1_exp.subs( si, si_sub1[0] ))\n",
    "expr1"
   ]
  },
  {
   "cell_type": "code",
   "execution_count": 27,
   "metadata": {},
   "outputs": [
    {
     "data": {
      "text/latex": [
       "$\\displaystyle \\frac{6.0 \\left(- 2.0 a_{i+1} + 2.0 a_{i} + dt \\left(j_{i+1} + j_{i}\\right)\\right)}{dt^{3}}$"
      ],
      "text/plain": [
       "6.0*(-2.0*a_{i+1} + 2.0*a_{i} + dt*(j_{i+1} + j_{i}))/dt**3"
      ]
     },
     "execution_count": 27,
     "metadata": {},
     "output_type": "execute_result"
    }
   ],
   "source": [
    "#Obtain value for ci\n",
    "ci_sub1 = solve(expr1, ci)\n",
    "ci_sub1[0]"
   ]
  },
  {
   "cell_type": "code",
   "execution_count": 32,
   "metadata": {},
   "outputs": [
    {
     "data": {
      "text/latex": [
       "$\\displaystyle 0.5 a_{i+1} dt + 0.5 a_{i} dt - 0.0833333333333333 dt^{2} j_{i+1} + 0.0833333333333334 dt^{2} j_{i} + v_{i}$"
      ],
      "text/plain": [
       "0.5*a_{i+1}*dt + 0.5*a_{i}*dt - 0.0833333333333333*dt**2*j_{i+1} + 0.0833333333333334*dt**2*j_{i} + v_{i}"
      ]
     },
     "execution_count": 32,
     "metadata": {},
     "output_type": "execute_result"
    }
   ],
   "source": [
    "#Now substitute this into the velocity \n",
    "vi1_sub1 = vi1_exp.subs(ci, ci_sub1[0])\n",
    "vi1_sub2 = vi1_sub1.subs(si, si_sub1[0])\n",
    "vi1_c = expand(vi1_sub2)\n",
    "vi1_c"
   ]
  },
  {
   "cell_type": "markdown",
   "metadata": {},
   "source": [
    "Thus we obtain\n",
    "\n",
    "$$ v_{i+1} = v_i + \\frac{1}{2}(a_i + a_{i+1}) dt + \\frac{1}{12} (j_i - j_{i+1}) dt^2 $$\n"
   ]
  },
  {
   "cell_type": "code",
   "execution_count": 38,
   "metadata": {},
   "outputs": [
    {
     "data": {
      "text/latex": [
       "$\\displaystyle 0.5 a_{i} dt^{2} + 0.0416666666666667 dt^{4} s_{i} + 0.166666666666667 dt^{3} j_{i} + dt v_{i} + r_{i}$"
      ],
      "text/plain": [
       "0.5*a_{i}*dt**2 + 0.0416666666666667*dt**4*s_{i} + 0.166666666666667*dt**3*j_{i} + dt*v_{i} + r_{i}"
      ]
     },
     "execution_count": 38,
     "metadata": {},
     "output_type": "execute_result"
    }
   ],
   "source": [
    "ri1_exp"
   ]
  },
  {
   "cell_type": "code",
   "execution_count": 60,
   "metadata": {},
   "outputs": [
    {
     "data": {
      "text/latex": [
       "$\\displaystyle \\frac{2.0 \\left(3.0 a_{i+1} - 3.0 a_{i} - dt \\left(j_{i+1} + 2.0 j_{i}\\right)\\right)}{dt^{2}}$"
      ],
      "text/plain": [
       "2.0*(3.0*a_{i+1} - 3.0*a_{i} - dt*(j_{i+1} + 2.0*j_{i}))/dt**2"
      ]
     },
     "execution_count": 60,
     "metadata": {},
     "output_type": "execute_result"
    }
   ],
   "source": [
    "si_sub1[0]"
   ]
  },
  {
   "cell_type": "code",
   "execution_count": 56,
   "metadata": {},
   "outputs": [
    {
     "data": {
      "text/latex": [
       "$\\displaystyle 0.5 a_{i} dt^{2} + 0.0416666666666667 dt^{4} s_{i} + 0.166666666666667 dt^{3} j_{i} + dt v_{i} + r_{i}$"
      ],
      "text/plain": [
       "0.5*a_{i}*dt**2 + 0.0416666666666667*dt**4*s_{i} + 0.166666666666667*dt**3*j_{i} + dt*v_{i} + r_{i}"
      ]
     },
     "execution_count": 56,
     "metadata": {},
     "output_type": "execute_result"
    }
   ],
   "source": [
    "ri1_exp"
   ]
  },
  {
   "cell_type": "code",
   "execution_count": 53,
   "metadata": {},
   "outputs": [],
   "source": [
    "x = Symbol('x')"
   ]
  },
  {
   "cell_type": "code",
   "execution_count": 59,
   "metadata": {},
   "outputs": [
    {
     "data": {
      "text/plain": [
       "0.16666666666666666"
      ]
     },
     "execution_count": 59,
     "metadata": {},
     "output_type": "execute_result"
    }
   ],
   "source": [
    "(1/24)*4"
   ]
  },
  {
   "cell_type": "code",
   "execution_count": 62,
   "metadata": {},
   "outputs": [
    {
     "data": {
      "text/latex": [
       "$\\displaystyle 0.25 a_{i+1} dt^{2} + 0.25 a_{i} dt^{2} - 0.0833333333333333 dt^{3} j_{i+1} + dt v_{i} + r_{i}$"
      ],
      "text/plain": [
       "0.25*a_{i+1}*dt**2 + 0.25*a_{i}*dt**2 - 0.0833333333333333*dt**3*j_{i+1} + dt*v_{i} + r_{i}"
      ]
     },
     "execution_count": 62,
     "metadata": {},
     "output_type": "execute_result"
    }
   ],
   "source": [
    "#Substitute into the position\n",
    "#ri1_sub1 = ri1_exp.subs(ci, ci_sub1[0])\n",
    "#i1_sub1\n",
    "ri1_sub1 = ri1_exp.subs(si, si_sub1[0])\n",
    "ri1_c = expand(ri1_sub1)\n",
    "ri1_c\n",
    "#ri1_c = expand(ri1_sub2)\n",
    "#ri1_c\n",
    "\n"
   ]
  },
  {
   "cell_type": "code",
   "execution_count": 63,
   "metadata": {},
   "outputs": [
    {
     "data": {
      "text/plain": [
       "0.08333333333333333"
      ]
     },
     "execution_count": 63,
     "metadata": {},
     "output_type": "execute_result"
    }
   ],
   "source": [
    "1/12"
   ]
  },
  {
   "cell_type": "markdown",
   "metadata": {},
   "source": [
    "and \n",
    "\n",
    "$$ r_{i+1} = r_i + \\frac{1}{2}  $$"
   ]
  },
  {
   "cell_type": "markdown",
   "metadata": {},
   "source": [
    "# Obtain corrected acceleration "
   ]
  },
  {
   "cell_type": "code",
   "execution_count": 67,
   "metadata": {},
   "outputs": [],
   "source": [
    "#Define the taylor expansion of each variable\n",
    "ri1_exp = ri + vi*dt + (1/2)*ai*dt**2 + (1/6)*ji*dt**3 + (1/24)*si*dt**4 \n",
    "vi1_exp = vi + ai*dt + (1/2)*ji*dt**2 + (1/6)*si*dt**3 + (1/24)*ci*dt**4 # + (1/120)\n",
    "ai1_exp = ai + ji*dt + (1/2)*si*dt**2 + (1/6)*ci*dt**3 + (1/24)*gi*dt**4\n",
    "ji1_exp = ji + si*dt + (1/2)*ci*dt**2 + (1/6)*gi*dt**3\n",
    "si1_exp = si + ci*dt + (1/2)*gi*dt**2\n",
    "#ci1_exp = ci + gi*dt\n"
   ]
  },
  {
   "cell_type": "code",
   "execution_count": 76,
   "metadata": {},
   "outputs": [
    {
     "data": {
      "text/latex": [
       "$\\displaystyle \\frac{2.0 \\left(- c_{i} dt + s_{i+1} - s_{i}\\right)}{dt^{2}}$"
      ],
      "text/plain": [
       "2.0*(-c_{i}*dt + s_{i+1} - s_{i})/dt**2"
      ]
     },
     "execution_count": 76,
     "metadata": {},
     "output_type": "execute_result"
    }
   ],
   "source": [
    "#First obtain the value of gi from si1_exp\n",
    "gi_sub = solve(si1 - si1_exp, gi )[0]\n",
    "gi_sub"
   ]
  },
  {
   "cell_type": "markdown",
   "metadata": {},
   "source": [
    "$$g_i  = 2(s_{i+1} - s_i -c_i dt)/dt^2  $$"
   ]
  },
  {
   "cell_type": "code",
   "execution_count": 77,
   "metadata": {},
   "outputs": [
    {
     "data": {
      "text/latex": [
       "$\\displaystyle 0.166666666666667 c_{i} dt^{2} + 0.333333333333333 dt s_{i+1} + 0.666666666666667 dt s_{i} + j_{i}$"
      ],
      "text/plain": [
       "0.166666666666667*c_{i}*dt**2 + 0.333333333333333*dt*s_{i+1} + 0.666666666666667*dt*s_{i} + j_{i}"
      ]
     },
     "execution_count": 77,
     "metadata": {},
     "output_type": "execute_result"
    }
   ],
   "source": [
    "#Substitute it into the Jerk ji1_exp and find an expression for ci\n",
    "ji1_1 = expand(ji1_exp.subs(gi, gi_sub ))\n",
    "ji1_1"
   ]
  },
  {
   "cell_type": "markdown",
   "metadata": {},
   "source": [
    "$$ j_{i+1} = j_i + \\frac{1}{6} c_i dt^2 + \\frac{1}{3}(s_{i+1} + 2 s_i )dt $$"
   ]
  },
  {
   "cell_type": "code",
   "execution_count": 84,
   "metadata": {},
   "outputs": [
    {
     "data": {
      "text/latex": [
       "$\\displaystyle \\frac{2.0 \\left(- dt \\left(s_{i+1} + 2.0 s_{i}\\right) + 3.0 j_{i+1} - 3.0 j_{i}\\right)}{dt^{2}}$"
      ],
      "text/plain": [
       "2.0*(-dt*(s_{i+1} + 2.0*s_{i}) + 3.0*j_{i+1} - 3.0*j_{i})/dt**2"
      ]
     },
     "execution_count": 84,
     "metadata": {},
     "output_type": "execute_result"
    }
   ],
   "source": [
    "#Find a value of c_i \n",
    "ci_sub = solve(ji1 - ji1_1, ci)[0]\n",
    "ci_sub"
   ]
  },
  {
   "cell_type": "markdown",
   "metadata": {},
   "source": [
    "$$ c_i = \\frac{1}{dt^2}( 2(2s_i -  s_{i+1})dt + 3(j_{i+1} - j_i))$$"
   ]
  },
  {
   "cell_type": "code",
   "execution_count": 86,
   "metadata": {},
   "outputs": [
    {
     "data": {
      "text/latex": [
       "$\\displaystyle 0.5 dt^{2} g_{i} - 2.0 s_{i+1} - 3.0 s_{i} + \\frac{6.0 j_{i+1}}{dt} - \\frac{6.0 j_{i}}{dt}$"
      ],
      "text/plain": [
       "0.5*dt**2*g_{i} - 2.0*s_{i+1} - 3.0*s_{i} + 6.0*j_{i+1}/dt - 6.0*j_{i}/dt"
      ]
     },
     "execution_count": 86,
     "metadata": {},
     "output_type": "execute_result"
    }
   ],
   "source": [
    "#Substitute c_i into si1_expr\n",
    "si1_1 = expand(si1_exp.subs(ci, ci_sub))\n",
    "si1_1"
   ]
  },
  {
   "cell_type": "code",
   "execution_count": 96,
   "metadata": {},
   "outputs": [
    {
     "data": {
      "text/latex": [
       "$\\displaystyle \\frac{6.0 \\left(dt \\left(s_{i+1} + s_{i}\\right) - 2.0 j_{i+1} + 2.0 j_{i}\\right)}{dt^{3}}$"
      ],
      "text/plain": [
       "6.0*(dt*(s_{i+1} + s_{i}) - 2.0*j_{i+1} + 2.0*j_{i})/dt**3"
      ]
     },
     "execution_count": 96,
     "metadata": {},
     "output_type": "execute_result"
    }
   ],
   "source": [
    "#Find a value of g_i from si1_expr \n",
    "gi_sub = solve(si1 - si1_1, gi)[0]\n",
    "gi_sub"
   ]
  },
  {
   "cell_type": "markdown",
   "metadata": {},
   "source": [
    "$$ g_i = \\frac{1}{dt^3} 6 ((s_{i+1} + s_{i})dt +2(j_{i} - j_{i+1})) $$"
   ]
  },
  {
   "cell_type": "code",
   "execution_count": 95,
   "metadata": {},
   "outputs": [],
   "source": [
    "#Substitute it back into acceleration equation"
   ]
  },
  {
   "cell_type": "code",
   "execution_count": 98,
   "metadata": {},
   "outputs": [
    {
     "data": {
      "text/latex": [
       "$\\displaystyle a_{i} - 0.0833333333333333 dt^{2} s_{i+1} + 0.0833333333333334 dt^{2} s_{i} + 0.5 dt j_{i+1} + 0.5 dt j_{i}$"
      ],
      "text/plain": [
       "a_{i} - 0.0833333333333333*dt**2*s_{i+1} + 0.0833333333333334*dt**2*s_{i} + 0.5*dt*j_{i+1} + 0.5*dt*j_{i}"
      ]
     },
     "execution_count": 98,
     "metadata": {},
     "output_type": "execute_result"
    }
   ],
   "source": [
    "ai1_sub1 = expand(ai1_exp.subs(gi, gi_sub))\n",
    "ai1_sub1\n",
    "ai1_sub2 = expand(ai1_sub1.subs(ci, ci_sub))\n",
    "ai1_sub2"
   ]
  },
  {
   "cell_type": "markdown",
   "metadata": {},
   "source": [
    "$$ a_{i+1} = a_{i} + \\frac{1}{2}(j_{i} + j_{i+1})dt + \\frac{1}{12}(s_i - s_{i+1})dt^2 $$"
   ]
  },
  {
   "cell_type": "code",
   "execution_count": 99,
   "metadata": {},
   "outputs": [
    {
     "data": {
      "text/plain": [
       "0.08333333333333333"
      ]
     },
     "execution_count": 99,
     "metadata": {},
     "output_type": "execute_result"
    }
   ],
   "source": [
    "1/12"
   ]
  },
  {
   "cell_type": "code",
   "execution_count": null,
   "metadata": {},
   "outputs": [],
   "source": []
  }
 ],
 "metadata": {
  "kernelspec": {
   "display_name": "Python 3",
   "language": "python",
   "name": "python3"
  },
  "language_info": {
   "codemirror_mode": {
    "name": "ipython",
    "version": 3
   },
   "file_extension": ".py",
   "mimetype": "text/x-python",
   "name": "python",
   "nbconvert_exporter": "python",
   "pygments_lexer": "ipython3",
   "version": "3.7.6"
  }
 },
 "nbformat": 4,
 "nbformat_minor": 4
}
