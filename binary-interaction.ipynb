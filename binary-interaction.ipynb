{
 "cells": [
  {
   "cell_type": "code",
   "execution_count": 4,
   "metadata": {},
   "outputs": [],
   "source": [
    "import numpy as np\n",
    "import time\n",
    "import math\n",
    "import modules as md\n",
    "import nbodysolver as nbs\n",
    "\n",
    "#------------------------------------------------------------------------------------------\n",
    "#Units and conversions:\n",
    "#------------------------------------------------------------------------------------------\n",
    "#code units: Rsun, Msun, G=1, ...\n",
    "c_SI       = 299792458.0        #m/s\n",
    "M_sun_SI   = 1.989*(10.**30.)   #kg\n",
    "R_sun_SI   = 695800000.         #m\n",
    "AU_SI      = 149597871000.      #m \n",
    "G_new_SI   = 6.67*(10.**(-11.)) #m**3 kg**(-1) s**(-2)\n",
    "AU_U       = AU_SI/R_sun_SI                             #from dist AU to code units (U)\n",
    "kmsec_U    = 1000./np.sqrt(G_new_SI*M_sun_SI/R_sun_SI)  #from vel km/sec to code units (U)\n",
    "time_U     = np.sqrt((R_sun_SI**3)/(G_new_SI*M_sun_SI)) #from code units(U) to time sec\n",
    "Rsch_1Msun_unitRsun = ((2.*G_new_SI*(1.*M_sun_SI))/(c_SI**2.))/R_sun_SI"
   ]
  },
  {
   "cell_type": "code",
   "execution_count": null,
   "metadata": {},
   "outputs": [],
   "source": []
  },
  {
   "cell_type": "markdown",
   "metadata": {},
   "source": [
    "$$ R^{\\frac{3 - n}{n}} M^{\\frac{3 - n}{n}} = \\frac{K}{G_{n}}$$\n",
    "\n",
    "for $n = 3$\n",
    "\n",
    "$$ M = \\left(\\frac{K}{0.3639} G \\right)^{3/2} $$\n",
    "\n",
    "and for $n = 1.5$\n",
    "\n",
    "$$ R = \\frac{K}{0.4242 G} \\frac{1}{M^{1/3}} $$\n",
    "\n",
    "from first equation we can obtain the value of K, use G = 1. \n",
    "\n",
    "$$ K = 0.3639 M^{2/3} $$\n",
    "\n",
    "Choose $M = 10$"
   ]
  },
  {
   "cell_type": "code",
   "execution_count": 2,
   "metadata": {},
   "outputs": [
    {
     "name": "stdout",
     "output_type": "stream",
     "text": [
      "[0.3639     1.06405005 1.68907418]\n"
     ]
    }
   ],
   "source": [
    "M = np.array([1, 5, 10])\n",
    "K = 0.3639*M**(2./3)\n",
    "print(K)"
   ]
  },
  {
   "cell_type": "markdown",
   "metadata": {},
   "source": [
    "This we can obtain the values of R in the case $n = 1.5$ for the different $K$ values\n"
   ]
  },
  {
   "cell_type": "code",
   "execution_count": 3,
   "metadata": {},
   "outputs": [
    {
     "name": "stdout",
     "output_type": "stream",
     "text": [
      "[0.85785007 1.46690299 1.84818195]\n"
     ]
    }
   ],
   "source": [
    "R = (K/(0.4242))*(M**(-1./3))\n",
    "print(R)"
   ]
  },
  {
   "cell_type": "markdown",
   "metadata": {},
   "source": [
    "## The units are $M_{\\odot}$, $R_{\\odot}$ , $G = 1$ "
   ]
  },
  {
   "cell_type": "markdown",
   "metadata": {},
   "source": [
    "## Define stars with different properties \n",
    "\n",
    "The coefficients for different equations of state are obtained by specifying the type of star, (\"BH\",\"NS\",\"MS\" or \"WD\")  \n",
    "\n",
    "Particles contain information: name, mass, radi, spin, sdis = disruption spin, ntide = tidal coefficient, nspin = spin coefficient, info = information about the star "
   ]
  },
  {
   "cell_type": "code",
   "execution_count": 2,
   "metadata": {},
   "outputs": [],
   "source": [
    "#Main Sequence Stars\n",
    "ms1 = md.Particle(\"MS\",1,1, 0) #Type, mass, radius, spin\n",
    "ms3 = md.Particle(\"MS\",3,1.5, 0) \n",
    "ms5 = md.Particle(\"MS\",5,3.5, 0) \n",
    "ms10 = md.Particle(\"MS\", 10, 5.6, 0) \n",
    "#Let's add spin later\n",
    "\n",
    "#Black holes\n",
    "bh2 = md.Particle(\"BH\",2,0,0)\n",
    "bh5 = md.Particle(\"BH\", 5, 0, 0)\n",
    "bh10 = md.Particle(\"BH\", 10, 0, 0)\n",
    "bh100 = md.Particle(\"BH\", 100,0,0)\n",
    "\n",
    "\n",
    "#Particle with n = 1.5\n",
    "\n",
    "#s1 = md.Particle(\"WD\",1,0.85, 0) #Type, mass, radius, spin\n",
    "\n",
    "s1 = md.Particle(\"WD\",1,1, 0) #Type, mass, radius, spin\n",
    "\n",
    "s5 = md.Particle(\"WD\",5,1.46, 0) #Type, mass, radius, spin\n",
    "s10 = md.Particle(\"WD\",1,1.84, 0) #Type, mass, radius, spin\n",
    "\n"
   ]
  },
  {
   "cell_type": "code",
   "execution_count": 5,
   "metadata": {},
   "outputs": [],
   "source": [
    "s1 = md.Particle(\"WD\",1,1, 0) #Type, mass, radius, spin\n",
    "bh2 = md.Particle(\"BH\",2,0,0)\n"
   ]
  },
  {
   "cell_type": "code",
   "execution_count": 3,
   "metadata": {},
   "outputs": [
    {
     "ename": "NameError",
     "evalue": "name 'ms10' is not defined",
     "output_type": "error",
     "traceback": [
      "\u001b[0;31m---------------------------------------------------------------------------\u001b[0m",
      "\u001b[0;31mNameError\u001b[0m                                 Traceback (most recent call last)",
      "\u001b[0;32m<ipython-input-3-cc5d9061baae>\u001b[0m in \u001b[0;36m<module>\u001b[0;34m\u001b[0m\n\u001b[0;32m----> 1\u001b[0;31m \u001b[0mprint\u001b[0m\u001b[0;34m(\u001b[0m\u001b[0mms10\u001b[0m\u001b[0;34m.\u001b[0m\u001b[0mmass\u001b[0m\u001b[0;34m)\u001b[0m\u001b[0;34m\u001b[0m\u001b[0;34m\u001b[0m\u001b[0m\n\u001b[0m",
      "\u001b[0;31mNameError\u001b[0m: name 'ms10' is not defined"
     ]
    }
   ],
   "source": [
    "print(ms10.mass)"
   ]
  },
  {
   "cell_type": "markdown",
   "metadata": {},
   "source": [
    "### Print some info "
   ]
  },
  {
   "cell_type": "code",
   "execution_count": 164,
   "metadata": {},
   "outputs": [
    {
     "name": "stdout",
     "output_type": "stream",
     "text": [
      "MS\n",
      "0.009628666666666666\n",
      "5.057156270833333\n",
      "53.02812693845331\n",
      "53.02812693845331\n"
     ]
    }
   ],
   "source": [
    "print(ms1.name)\n",
    "print(ms1.nspin)\n",
    "print(ms5.nspin)\n",
    "print(ms10.nspin)\n",
    "print(ms10.ntide)"
   ]
  },
  {
   "cell_type": "code",
   "execution_count": 12,
   "metadata": {},
   "outputs": [
    {
     "name": "stdout",
     "output_type": "stream",
     "text": [
      "2.0145608866682196\n"
     ]
    }
   ],
   "source": [
    "print(s10.nspin)\n"
   ]
  },
  {
   "cell_type": "markdown",
   "metadata": {},
   "source": [
    "##  Make Binaries"
   ]
  },
  {
   "cell_type": "markdown",
   "metadata": {},
   "source": [
    "There is information about the binary:\n",
    "period = period, \n",
    "orbd = orbital distance,\n",
    "redvel = reduced velocity,\n",
    "r = position,\n",
    "v = velocity,\n",
    "rochepri = Roche Lobe of the primary,\n",
    "rochesec = Roche Lobe of the secondary,\n",
    "rochefill = If one of the members has filled its Roche Lobe (True or False),\n",
    "coll = collision,\n",
    "tidalrpri = tidal disruption distance for primary,\n",
    "tidalrsec = tidal disruption distance for secondary,"
   ]
  },
  {
   "cell_type": "code",
   "execution_count": 165,
   "metadata": {},
   "outputs": [],
   "source": [
    "#Make binary MS1-BH5, MS3-BH5, MS5-BH5, MS5-BH10, MS10-BH10\n",
    "#Eccentricity has not been implemented\n",
    "\n",
    "ms1.spin = ms1.sdis/2 #Choose half the maximum spin for the star\n",
    "bh5ms1 = md.Binary(bh5, ms1, 10, 0 ) ##primary, secondary, orbital distance (Rsun), eccentricity \n",
    "\n",
    "ms5.spin = ms5.sdis/2\n",
    "bh10ms5 = md.Binary(bh10, ms5, 10, 0 )\n",
    "\n",
    "ms10.spin = 2.*ms10.sdis/3\n",
    "bh10ms10 = md.Binary(bh10, ms10, 20, 0 )\n",
    "\n",
    "bh100ms1 = md.Binary(bh100, ms1, 10,0)\n",
    "\n",
    "bh100ms10 = md.Binary(bh100, ms10, 20,0)"
   ]
  },
  {
   "cell_type": "code",
   "execution_count": null,
   "metadata": {},
   "outputs": [],
   "source": []
  },
  {
   "cell_type": "code",
   "execution_count": 22,
   "metadata": {},
   "outputs": [
    {
     "data": {
      "text/plain": [
       "4.517334597704824e-05"
      ]
     },
     "execution_count": 22,
     "metadata": {},
     "output_type": "execute_result"
    }
   ],
   "source": [
    "0.999**10000\n"
   ]
  },
  {
   "cell_type": "markdown",
   "metadata": {},
   "source": [
    "## BH2S1 "
   ]
  },
  {
   "cell_type": "code",
   "execution_count": 6,
   "metadata": {},
   "outputs": [],
   "source": [
    "bh2s1 = md.Binary(bh2, s1, 10, 0 ) ##primary, secondary, orbital distance (Rsun), eccentricity \n",
    "dtidal = bh2s1.tidalrsec"
   ]
  },
  {
   "cell_type": "code",
   "execution_count": 7,
   "metadata": {},
   "outputs": [
    {
     "name": "stdout",
     "output_type": "stream",
     "text": [
      "1.2599210498948732\n"
     ]
    }
   ],
   "source": [
    "print(dtidal)"
   ]
  },
  {
   "cell_type": "code",
   "execution_count": 8,
   "metadata": {},
   "outputs": [
    {
     "data": {
      "text/plain": [
       "4.535715779621544"
      ]
     },
     "execution_count": 8,
     "metadata": {},
     "output_type": "execute_result"
    }
   ],
   "source": [
    "dtidal*3.6"
   ]
  },
  {
   "cell_type": "code",
   "execution_count": 9,
   "metadata": {},
   "outputs": [],
   "source": [
    "bh2s1r3_5 = md.Binary(bh2, s1, dtidal*3.5, 0)\n",
    "\n",
    "bh2s1r4_7 = md.Binary(bh2, s1, dtidal*4.7, 0)"
   ]
  },
  {
   "cell_type": "code",
   "execution_count": 10,
   "metadata": {},
   "outputs": [
    {
     "name": "stdout",
     "output_type": "stream",
     "text": [
      "[[ 1.46990789  0.          0.        ]\n",
      " [-2.93981578  0.          0.        ]]\n",
      "[[ 1.97387631  0.          0.        ]\n",
      " [-3.94775262  0.          0.        ]]\n"
     ]
    }
   ],
   "source": [
    "print(bh2s1r3_5.r)\n",
    "print(bh2s1r4_7.r)"
   ]
  },
  {
   "cell_type": "code",
   "execution_count": null,
   "metadata": {},
   "outputs": [],
   "source": []
  },
  {
   "cell_type": "code",
   "execution_count": 16,
   "metadata": {},
   "outputs": [],
   "source": [
    "NP = 100 #Number of periods in code units you want to simulate\n",
    "tfinal = NP*bh2s1r3_5.periodct #Final time in code units\n",
    "Nsteps = int(5*NP*tfinal) #Fix the first coefficient to change accuracy \n",
    "dt = tfinal/(Nsteps-1)  # fixed time step\n",
    "\n",
    "r,v = nbs.Hermite4th(bh2,s1, bh2s1r3_5, Nsteps, dt)"
   ]
  },
  {
   "cell_type": "code",
   "execution_count": 17,
   "metadata": {},
   "outputs": [
    {
     "name": "stdout",
     "output_type": "stream",
     "text": [
      "0.0020000020434338905\n"
     ]
    }
   ],
   "source": [
    "print(dt)"
   ]
  },
  {
   "cell_type": "code",
   "execution_count": 15,
   "metadata": {},
   "outputs": [
    {
     "name": "stderr",
     "output_type": "stream",
     "text": [
      "\n",
      "Bad key \"text.kerning_factor\" on line 4 in\n",
      "/home/irvin/miniconda3/lib/python3.7/site-packages/matplotlib/mpl-data/stylelib/_classic_test_patch.mplstyle.\n",
      "You probably need to get an updated matplotlibrc file from\n",
      "http://github.com/matplotlib/matplotlib/blob/master/matplotlibrc.template\n",
      "or from the matplotlib source distribution\n"
     ]
    },
    {
     "ename": "NameError",
     "evalue": "name 'r' is not defined",
     "output_type": "error",
     "traceback": [
      "\u001b[0;31m---------------------------------------------------------------------------\u001b[0m",
      "\u001b[0;31mNameError\u001b[0m                                 Traceback (most recent call last)",
      "\u001b[0;32m<ipython-input-15-623a36d84307>\u001b[0m in \u001b[0;36m<module>\u001b[0;34m\u001b[0m\n\u001b[1;32m      7\u001b[0m \u001b[0mfig\u001b[0m \u001b[0;34m=\u001b[0m \u001b[0mplt\u001b[0m\u001b[0;34m.\u001b[0m\u001b[0mfigure\u001b[0m\u001b[0;34m(\u001b[0m\u001b[0;34m)\u001b[0m\u001b[0;34m\u001b[0m\u001b[0;34m\u001b[0m\u001b[0m\n\u001b[1;32m      8\u001b[0m \u001b[0max\u001b[0m \u001b[0;34m=\u001b[0m \u001b[0mfig\u001b[0m\u001b[0;34m.\u001b[0m\u001b[0mgca\u001b[0m\u001b[0;34m(\u001b[0m\u001b[0mprojection\u001b[0m\u001b[0;34m=\u001b[0m\u001b[0;34m'3d'\u001b[0m\u001b[0;34m)\u001b[0m\u001b[0;34m\u001b[0m\u001b[0;34m\u001b[0m\u001b[0m\n\u001b[0;32m----> 9\u001b[0;31m \u001b[0max\u001b[0m\u001b[0;34m.\u001b[0m\u001b[0mplot\u001b[0m\u001b[0;34m(\u001b[0m\u001b[0mr\u001b[0m\u001b[0;34m[\u001b[0m\u001b[0;36m0\u001b[0m\u001b[0;34m]\u001b[0m\u001b[0;34m[\u001b[0m\u001b[0;36m0\u001b[0m\u001b[0;34m]\u001b[0m\u001b[0;34m,\u001b[0m \u001b[0mr\u001b[0m\u001b[0;34m[\u001b[0m\u001b[0;36m0\u001b[0m\u001b[0;34m]\u001b[0m\u001b[0;34m[\u001b[0m\u001b[0;36m1\u001b[0m\u001b[0;34m]\u001b[0m\u001b[0;34m,\u001b[0m \u001b[0mr\u001b[0m\u001b[0;34m[\u001b[0m\u001b[0;36m0\u001b[0m\u001b[0;34m]\u001b[0m\u001b[0;34m[\u001b[0m\u001b[0;36m2\u001b[0m\u001b[0;34m]\u001b[0m\u001b[0;34m,\u001b[0m \u001b[0;34m'r'\u001b[0m\u001b[0;34m,\u001b[0m \u001b[0mlinewidth\u001b[0m\u001b[0;34m=\u001b[0m\u001b[0;36m1\u001b[0m\u001b[0;34m)\u001b[0m\u001b[0;31m# Plot the BH orbit\u001b[0m\u001b[0;34m\u001b[0m\u001b[0;34m\u001b[0m\u001b[0m\n\u001b[0m\u001b[1;32m     10\u001b[0m \u001b[0max\u001b[0m\u001b[0;34m.\u001b[0m\u001b[0mplot\u001b[0m\u001b[0;34m(\u001b[0m\u001b[0mr\u001b[0m\u001b[0;34m[\u001b[0m\u001b[0;36m1\u001b[0m\u001b[0;34m]\u001b[0m\u001b[0;34m[\u001b[0m\u001b[0;36m0\u001b[0m\u001b[0;34m]\u001b[0m\u001b[0;34m,\u001b[0m \u001b[0mr\u001b[0m\u001b[0;34m[\u001b[0m\u001b[0;36m1\u001b[0m\u001b[0;34m]\u001b[0m\u001b[0;34m[\u001b[0m\u001b[0;36m1\u001b[0m\u001b[0;34m]\u001b[0m\u001b[0;34m,\u001b[0m \u001b[0mr\u001b[0m\u001b[0;34m[\u001b[0m\u001b[0;36m1\u001b[0m\u001b[0;34m]\u001b[0m\u001b[0;34m[\u001b[0m\u001b[0;36m2\u001b[0m\u001b[0;34m]\u001b[0m\u001b[0;34m,\u001b[0m \u001b[0;34m'b'\u001b[0m\u001b[0;34m,\u001b[0m \u001b[0mlinewidth\u001b[0m\u001b[0;34m=\u001b[0m\u001b[0;36m1\u001b[0m\u001b[0;34m)\u001b[0m\u001b[0;31m# Plot the star orbit\u001b[0m\u001b[0;34m\u001b[0m\u001b[0;34m\u001b[0m\u001b[0m\n\u001b[1;32m     11\u001b[0m \u001b[0;31m#ax.scatter3D(simulation[0][0][0], simulation[0][0][1], simulation[0][0][2], 'o', c='black') #s=100\u001b[0m\u001b[0;34m\u001b[0m\u001b[0;34m\u001b[0m\u001b[0;34m\u001b[0m\u001b[0m\n",
      "\u001b[0;31mNameError\u001b[0m: name 'r' is not defined"
     ]
    },
    {
     "data": {
      "image/png": "[encoded data removed]",
      "text/plain": [
       "<Figure size 432x288 with 1 Axes>"
      ]
     },
     "metadata": {
      "needs_background": "light"
     },
     "output_type": "display_data"
    }
   ],
   "source": [
    "%matplotlib inline\n",
    "import matplotlib.pyplot as plt\n",
    "import matplotlib as mpl\n",
    "from mpl_toolkits.mplot3d import Axes3D\n",
    "import matplotlib.pyplot as plt\n",
    "\n",
    "fig = plt.figure()\n",
    "ax = fig.gca(projection='3d')\n",
    "ax.plot(r[0][0], r[0][1], r[0][2], 'r', linewidth=1)# Plot the BH orbit\n",
    "ax.plot(r[1][0], r[1][1], r[1][2], 'b', linewidth=1)# Plot the star orbit\n",
    "#ax.scatter3D(simulation[0][0][0], simulation[0][0][1], simulation[0][0][2], 'o', c='black') #s=100\n",
    "#ax.scatter3D(simulation[2][0][0], simulation[2][0][1], simulation[2][0][2], 'o', c='black') #s=10\n",
    "ax.legend()\n",
    "#ax.set_xticks([])\n",
    "#ax.set_yticks([])\n",
    "#ax.set_zticks([])\n",
    "#ax.set_xlim3d(min(min(posbh1x), min(posbh2x)), max(max(posbh1x), max(posbh2x)))\n",
    "#ax.set_ylim3d(min(min(posbh1y), min(posbh2y)), max(max(posbh1y), max(posbh2y)))\n",
    "#ax.set_zlim3d(min(min(posbh1z), min(posbh2z)), max(max(posbh1z), max(posbh2z)))\n",
    "#ax.set_xlabel('')\n",
    "#ax.set_ylabel('')\n",
    "#ax.set_zlabel('')\n",
    "\n",
    "\n",
    "#plt.savefig('starbh-withoutspin.eps', format='eps')#, dpi=200\n",
    "\n",
    "plt.show()"
   ]
  },
  {
   "cell_type": "code",
   "execution_count": null,
   "metadata": {},
   "outputs": [],
   "source": [
    "0.99999"
   ]
  },
  {
   "cell_type": "code",
   "execution_count": 151,
   "metadata": {},
   "outputs": [],
   "source": [
    "ecce = 0.99999\n",
    "mean = 0 #(1./2)*np.pi\n",
    "\n",
    "runsim = np.array([350000,470000])#Run sim at [3.5,4.7] tidal radius\n",
    "\n",
    "bh2s1r3_5e = md.Binaryecc(bh2, s1, dtidal*runsim[0], ecce, mean)\n",
    "\n",
    "bh2s1r4_7e = md.Binaryecc(bh2, s1, dtidal*runsim[1], ecce, mean)"
   ]
  },
  {
   "cell_type": "code",
   "execution_count": 152,
   "metadata": {},
   "outputs": [
    {
     "name": "stdout",
     "output_type": "stream",
     "text": [
      "4.4097236746320565\n",
      "5.921628934505904\n"
     ]
    }
   ],
   "source": [
    "print(dtidal*3.5)\n",
    "print(dtidal*4.7)"
   ]
  },
  {
   "cell_type": "code",
   "execution_count": 153,
   "metadata": {},
   "outputs": [
    {
     "name": "stdout",
     "output_type": "stream",
     "text": [
      "[[ 1.46990789 -0.         -0.        ]\n",
      " [-2.93981578  0.          0.        ]]\n",
      "[[ 1.97387631 -0.         -0.        ]\n",
      " [-3.94775262  0.          0.        ]]\n"
     ]
    }
   ],
   "source": [
    "print(bh2s1r3_5e.r)\n",
    "print(bh2s1r4_7e.r)"
   ]
  },
  {
   "cell_type": "code",
   "execution_count": 148,
   "metadata": {},
   "outputs": [
    {
     "data": {
      "text/plain": [
       "7.713051869225714"
      ]
     },
     "execution_count": 148,
     "metadata": {},
     "output_type": "execute_result"
    }
   ],
   "source": [
    "np.linalg.norm(bh2s1r3_5e.r[0] - bh2s1r3_5e.r[1]) "
   ]
  },
  {
   "cell_type": "code",
   "execution_count": 149,
   "metadata": {},
   "outputs": [
    {
     "data": {
      "text/plain": [
       "10.35752679581739"
      ]
     },
     "execution_count": 149,
     "metadata": {},
     "output_type": "execute_result"
    }
   ],
   "source": [
    "np.linalg.norm(bh2s1r4_7e.r[0] - bh2s1r4_7e.r[1]) "
   ]
  },
  {
   "cell_type": "code",
   "execution_count": 150,
   "metadata": {},
   "outputs": [
    {
     "data": {
      "text/plain": [
       "7.713051869225714"
      ]
     },
     "execution_count": 150,
     "metadata": {},
     "output_type": "execute_result"
    }
   ],
   "source": [
    "np.linalg.norm(bh2s1r3_5e.r[0] - bh2s1r3_5e.r[1]) "
   ]
  },
  {
   "cell_type": "code",
   "execution_count": 199,
   "metadata": {},
   "outputs": [],
   "source": [
    "NP = 30 #Number of periods in code units you want to simulate\n",
    "tfinal = NP*bh2s1r3_5.periodct #Final time in code units\n",
    "Nsteps = int(1*NP*tfinal) #Fix the first coefficient to change accuracy \n",
    "dt = tfinal/(Nsteps-1)  # fixed time step\n"
   ]
  },
  {
   "cell_type": "code",
   "execution_count": 200,
   "metadata": {},
   "outputs": [
    {
     "name": "stdout",
     "output_type": "stream",
     "text": [
      "30232\n",
      "0.03333535211026658\n"
     ]
    }
   ],
   "source": [
    "print(Nsteps)\n",
    "print(dt)"
   ]
  },
  {
   "cell_type": "code",
   "execution_count": 201,
   "metadata": {},
   "outputs": [],
   "source": [
    "r,v = nbs.Hermite4th(bh2,s1, bh2s1r3_5e, Nsteps, dt)"
   ]
  },
  {
   "cell_type": "code",
   "execution_count": 210,
   "metadata": {},
   "outputs": [
    {
     "name": "stdout",
     "output_type": "stream",
     "text": [
      "30232\n"
     ]
    }
   ],
   "source": [
    "print(len(r[0][0]))"
   ]
  },
  {
   "cell_type": "code",
   "execution_count": 1,
   "metadata": {},
   "outputs": [
    {
     "ename": "NameError",
     "evalue": "name 'Nsteps' is not defined",
     "output_type": "error",
     "traceback": [
      "\u001b[0;31m---------------------------------------------------------------------------\u001b[0m",
      "\u001b[0;31mNameError\u001b[0m                                 Traceback (most recent call last)",
      "\u001b[0;32m<ipython-input-1-c7d79fd55ab3>\u001b[0m in \u001b[0;36m<module>\u001b[0;34m\u001b[0m\n\u001b[0;32m----> 1\u001b[0;31m \u001b[0mnf\u001b[0m \u001b[0;34m=\u001b[0m \u001b[0mNsteps\u001b[0m\u001b[0;34m\u001b[0m\u001b[0;34m\u001b[0m\u001b[0m\n\u001b[0m\u001b[1;32m      2\u001b[0m \u001b[0mprint\u001b[0m\u001b[0;34m(\u001b[0m\u001b[0mnp\u001b[0m\u001b[0;34m.\u001b[0m\u001b[0mlinalg\u001b[0m\u001b[0;34m.\u001b[0m\u001b[0mnorm\u001b[0m\u001b[0;34m(\u001b[0m\u001b[0mr\u001b[0m\u001b[0;34m[\u001b[0m\u001b[0;36m0\u001b[0m\u001b[0;34m]\u001b[0m\u001b[0;34m.\u001b[0m\u001b[0mT\u001b[0m\u001b[0;34m[\u001b[0m\u001b[0mnf\u001b[0m\u001b[0;34m]\u001b[0m \u001b[0;34m-\u001b[0m \u001b[0mr\u001b[0m\u001b[0;34m[\u001b[0m\u001b[0;36m1\u001b[0m\u001b[0;34m]\u001b[0m\u001b[0;34m.\u001b[0m\u001b[0mT\u001b[0m\u001b[0;34m[\u001b[0m\u001b[0mnf\u001b[0m\u001b[0;34m]\u001b[0m\u001b[0;34m)\u001b[0m\u001b[0;34m)\u001b[0m\u001b[0;34m\u001b[0m\u001b[0;34m\u001b[0m\u001b[0m\n",
      "\u001b[0;31mNameError\u001b[0m: name 'Nsteps' is not defined"
     ]
    }
   ],
   "source": [
    "nf = Nsteps \n",
    "print(np.linalg.norm(r[0].T[nf] - r[1].T[nf]))"
   ]
  },
  {
   "cell_type": "code",
   "execution_count": 202,
   "metadata": {},
   "outputs": [
    {
     "name": "stderr",
     "output_type": "stream",
     "text": [
      "No handles with labels found to put in legend.\n"
     ]
    },
    {
     "data": {
      "image/png": "[encoded data removed]",
      "text/plain": [
       "<Figure size 432x288 with 1 Axes>"
      ]
     },
     "metadata": {
      "needs_background": "light"
     },
     "output_type": "display_data"
    }
   ],
   "source": [
    "%matplotlib inline\n",
    "import matplotlib.pyplot as plt\n",
    "import matplotlib as mpl\n",
    "from mpl_toolkits.mplot3d import Axes3D\n",
    "import matplotlib.pyplot as plt\n",
    "\n",
    "fig = plt.figure()\n",
    "ax = fig.gca(projection='3d')\n",
    "ax.plot(r[0][0], r[0][1], r[0][2], 'r', linewidth=1)# Plot the BH orbit\n",
    "ax.plot(r[1][0], r[1][1], r[1][2], 'b', linewidth=1)# Plot the star orbit\n",
    "#ax.scatter3D(simulation[0][0][0], simulation[0][0][1], simulation[0][0][2], 'o', c='black') #s=100\n",
    "#ax.scatter3D(simulation[2][0][0], simulation[2][0][1], simulation[2][0][2], 'o', c='black') #s=10\n",
    "ax.legend()\n",
    "#ax.set_xticks([])\n",
    "#ax.set_yticks([])\n",
    "#ax.set_zticks([])\n",
    "#ax.set_xlim3d(-1,1)\n",
    "#ax.set_ylim3d(-1,1)\n",
    "#ax.set_xlim3d(min(min(posbh1x), min(posbh2x)), max(max(posbh1x), max(posbh2x)))\n",
    "#ax.set_ylim3d(min(min(posbh1y), min(posbh2y)), max(max(posbh1y), max(posbh2y)))\n",
    "#ax.set_zlim3d(min(min(posbh1z), min(posbh2z)), max(max(posbh1z), max(posbh2z)))\n",
    "ax.set_xlabel('x')\n",
    "ax.set_ylabel('y')\n",
    "ax.set_zlabel('z')\n",
    "\n",
    "\n",
    "#plt.savefig('starbh-withoutspin.eps', format='eps')#, dpi=200\n",
    "\n",
    "plt.show()"
   ]
  },
  {
   "cell_type": "markdown",
   "metadata": {},
   "source": [
    "# Choose a distance in terms of tidal radius to choose set up"
   ]
  },
  {
   "cell_type": "markdown",
   "metadata": {},
   "source": [
    "# BH5 MS1"
   ]
  },
  {
   "cell_type": "code",
   "execution_count": 71,
   "metadata": {},
   "outputs": [
    {
     "ename": "NameError",
     "evalue": "name 'bh5' is not defined",
     "output_type": "error",
     "traceback": [
      "\u001b[0;31m---------------------------------------------------------------------------\u001b[0m",
      "\u001b[0;31mNameError\u001b[0m                                 Traceback (most recent call last)",
      "\u001b[0;32m<ipython-input-71-511cf4d0c606>\u001b[0m in \u001b[0;36m<module>\u001b[0;34m\u001b[0m\n\u001b[0;32m----> 1\u001b[0;31m \u001b[0mbh5ms1\u001b[0m \u001b[0;34m=\u001b[0m \u001b[0mmd\u001b[0m\u001b[0;34m.\u001b[0m\u001b[0mBinary\u001b[0m\u001b[0;34m(\u001b[0m\u001b[0mbh5\u001b[0m\u001b[0;34m,\u001b[0m \u001b[0mms1\u001b[0m\u001b[0;34m,\u001b[0m \u001b[0;36m10\u001b[0m\u001b[0;34m,\u001b[0m \u001b[0;36m0\u001b[0m \u001b[0;34m)\u001b[0m \u001b[0;31m##primary, secondary, orbital distance (Rsun), eccentricity\u001b[0m\u001b[0;34m\u001b[0m\u001b[0;34m\u001b[0m\u001b[0m\n\u001b[0m\u001b[1;32m      2\u001b[0m \u001b[0mdtidal\u001b[0m \u001b[0;34m=\u001b[0m \u001b[0mbh5ms1\u001b[0m\u001b[0;34m.\u001b[0m\u001b[0mtidalrsec\u001b[0m\u001b[0;34m\u001b[0m\u001b[0;34m\u001b[0m\u001b[0m\n\u001b[1;32m      3\u001b[0m \u001b[0mprint\u001b[0m\u001b[0;34m(\u001b[0m\u001b[0mdtidal\u001b[0m\u001b[0;34m)\u001b[0m\u001b[0;34m\u001b[0m\u001b[0;34m\u001b[0m\u001b[0m\n",
      "\u001b[0;31mNameError\u001b[0m: name 'bh5' is not defined"
     ]
    }
   ],
   "source": [
    "bh5ms1 = md.Binary(bh5, ms1, 10, 0 ) ##primary, secondary, orbital distance (Rsun), eccentricity \n",
    "dtidal = bh5ms1.tidalrsec\n",
    "print(dtidal)"
   ]
  },
  {
   "cell_type": "code",
   "execution_count": 169,
   "metadata": {},
   "outputs": [
    {
     "name": "stdout",
     "output_type": "stream",
     "text": [
      "1.7099759466766968\n",
      "6.839903786706787\n",
      "2.8942010856857278e-05\n"
     ]
    }
   ],
   "source": [
    "#bh5ms1.orbd = ntidalrad*dtidal ##primary, secondary, orbital distance (Rsun), eccentricity \n",
    "bh5ms1 = md.Binary(bh5, ms1, ntidalrad*dtidal,0)\n",
    "print(bh5ms1.tidalrsec)\n",
    "print(bh5ms1.orbd)\n",
    "print(bh5ms1.tideeffsec)"
   ]
  },
  {
   "cell_type": "markdown",
   "metadata": {},
   "source": [
    "# BH5 S1"
   ]
  },
  {
   "cell_type": "code",
   "execution_count": 47,
   "metadata": {},
   "outputs": [
    {
     "name": "stdout",
     "output_type": "stream",
     "text": [
      "1.4534795546751922\n"
     ]
    }
   ],
   "source": [
    "bh5s1 = md.Binary(bh5, s1, 10, 0 ) ##primary, secondary, orbital distance (Rsun), eccentricity \n",
    "dtidal = bh5s1.tidalrsec\n",
    "print(dtidal)"
   ]
  },
  {
   "cell_type": "code",
   "execution_count": 48,
   "metadata": {},
   "outputs": [
    {
     "name": "stdout",
     "output_type": "stream",
     "text": [
      "1.4534795546751922\n",
      "7.267397773375961\n",
      "9.408139916693397e-05\n"
     ]
    }
   ],
   "source": [
    "#bh5ms1.orbd = ntidalrad*dtidal ##primary, secondary, orbital distance (Rsun), eccentricity \n",
    "bh5s1 = md.Binary(bh5, s1, ntidalrad*dtidal,0)\n",
    "print(bh5s1.tidalrsec)\n",
    "print(bh5s1.orbd)\n",
    "print(bh5s1.tideeffsec)"
   ]
  },
  {
   "cell_type": "markdown",
   "metadata": {},
   "source": [
    "# BH10 MS5 "
   ]
  },
  {
   "cell_type": "code",
   "execution_count": 170,
   "metadata": {},
   "outputs": [
    {
     "name": "stdout",
     "output_type": "stream",
     "text": [
      "4.4097236746320565\n"
     ]
    }
   ],
   "source": [
    "bh10ms5 = md.Binary(bh10, ms5, 10, 0 )\n",
    "dtidal = bh10ms5.tidalrsec\n",
    "print(dtidal)"
   ]
  },
  {
   "cell_type": "code",
   "execution_count": 171,
   "metadata": {},
   "outputs": [
    {
     "name": "stdout",
     "output_type": "stream",
     "text": [
      "4.4097236746320565\n",
      "17.638894698528226\n",
      "5.3311639815327074e-05\n"
     ]
    }
   ],
   "source": [
    "#bh10ms5.orbd = ntidalrad*dtidal ##primary, secondary, orbital distance (Rsun), eccentricity \n",
    "bh10ms5 = md.Binary(bh10, ms5, ntidalrad*dtidal,0)\n",
    "print(bh10ms5.tidalrsec)\n",
    "print(bh10ms5.orbd)\n",
    "print(bh10ms5.tideeffsec)"
   ]
  },
  {
   "cell_type": "markdown",
   "metadata": {},
   "source": [
    "# BH10 S5 "
   ]
  },
  {
   "cell_type": "code",
   "execution_count": 49,
   "metadata": {},
   "outputs": [
    {
     "name": "stdout",
     "output_type": "stream",
     "text": [
      "1.8394847328465147\n"
     ]
    }
   ],
   "source": [
    "bh10s5 = md.Binary(bh10, s5, 10, 0 )\n",
    "dtidal = bh10s5.tidalrsec\n",
    "print(dtidal)"
   ]
  },
  {
   "cell_type": "code",
   "execution_count": 50,
   "metadata": {},
   "outputs": [
    {
     "name": "stdout",
     "output_type": "stream",
     "text": [
      "1.8394847328465147\n",
      "9.197423664232574\n",
      "0.00017329941898357206\n"
     ]
    }
   ],
   "source": [
    "#bh10ms5.orbd = ntidalrad*dtidal ##primary, secondary, orbital distance (Rsun), eccentricity \n",
    "bh10s5 = md.Binary(bh10, s5, ntidalrad*dtidal,0)\n",
    "print(bh10s5.tidalrsec)\n",
    "print(bh10s5.orbd)\n",
    "print(bh10s5.tideeffsec)"
   ]
  },
  {
   "cell_type": "markdown",
   "metadata": {},
   "source": [
    "# BH10 MS10"
   ]
  },
  {
   "cell_type": "code",
   "execution_count": 172,
   "metadata": {},
   "outputs": [
    {
     "name": "stdout",
     "output_type": "stream",
     "text": [
      "5.6\n"
     ]
    }
   ],
   "source": [
    "bh10ms10 = md.Binary(bh10, ms10, 20, 0 )\n",
    "dtidal = bh10ms10.tidalrsec\n",
    "print(dtidal)"
   ]
  },
  {
   "cell_type": "code",
   "execution_count": 243,
   "metadata": {},
   "outputs": [
    {
     "name": "stdout",
     "output_type": "stream",
     "text": [
      "5.6\n",
      "48.259337056714195\n",
      "0.0007961229335817612\n"
     ]
    }
   ],
   "source": [
    "#bh10ms10.orbd = ntidalrad*dtidal ##primary, secondary, orbital distance (Rsun), eccentricity \n",
    "bh10ms10 = md.Binary(bh10, ms10, ntidalrad*dtidal,0)\n",
    "print(bh10ms10.tidalrsec)\n",
    "print(bh10ms10.orbd)\n",
    "print(bh10ms10.tideeffsec)"
   ]
  },
  {
   "cell_type": "code",
   "execution_count": null,
   "metadata": {},
   "outputs": [],
   "source": [
    "print(bh10ms10.orbd)\n",
    "print(bh10ms10.periodct)\n",
    "print(bh10ms10.v/kmsec_U)\n",
    "print(bh10ms10.r)\n"
   ]
  },
  {
   "cell_type": "markdown",
   "metadata": {},
   "source": [
    "# BH10 S10"
   ]
  },
  {
   "cell_type": "code",
   "execution_count": 51,
   "metadata": {},
   "outputs": [
    {
     "name": "stdout",
     "output_type": "stream",
     "text": [
      "3.964159829658666\n"
     ]
    }
   ],
   "source": [
    "bh10s10 = md.Binary(bh10, s10, 20, 0 )\n",
    "dtidal = bh10s10.tidalrsec\n",
    "print(dtidal)"
   ]
  },
  {
   "cell_type": "code",
   "execution_count": 52,
   "metadata": {},
   "outputs": [
    {
     "name": "stdout",
     "output_type": "stream",
     "text": [
      "3.964159829658666\n",
      "19.820799148293332\n",
      "5.9267567606991004e-05\n"
     ]
    }
   ],
   "source": [
    "#bh10ms10.orbd = ntidalrad*dtidal ##primary, secondary, orbital distance (Rsun), eccentricity \n",
    "bh10s10 = md.Binary(bh10, s10, ntidalrad*dtidal,0)\n",
    "print(bh10s10.tidalrsec)\n",
    "print(bh10s10.orbd)\n",
    "print(bh10s10.tideeffsec)"
   ]
  },
  {
   "cell_type": "code",
   "execution_count": null,
   "metadata": {},
   "outputs": [],
   "source": [
    "\n"
   ]
  },
  {
   "cell_type": "code",
   "execution_count": null,
   "metadata": {},
   "outputs": [],
   "source": []
  },
  {
   "cell_type": "markdown",
   "metadata": {},
   "source": [
    "#  BH100 MS1"
   ]
  },
  {
   "cell_type": "code",
   "execution_count": 174,
   "metadata": {},
   "outputs": [
    {
     "name": "stdout",
     "output_type": "stream",
     "text": [
      "4.641588833612778\n"
     ]
    }
   ],
   "source": [
    "bh100ms1 = md.Binary(bh100, ms1, 10,0)\n",
    "dtidal = bh100ms1.tidalrsec\n",
    "print(dtidal)"
   ]
  },
  {
   "cell_type": "code",
   "execution_count": 175,
   "metadata": {},
   "outputs": [
    {
     "name": "stdout",
     "output_type": "stream",
     "text": [
      "4.641588833612778\n",
      "18.566355334451114\n",
      "3.928035206476722e-06\n"
     ]
    }
   ],
   "source": [
    "#bh100ms1.orbd = ntidalrad*dtidal ##primary, secondary, orbital distance (Rsun), eccentricity \n",
    "bh100ms1 = md.Binary(bh100, ms1, ntidalrad*dtidal,0)\n",
    "print(bh100ms1.tidalrsec)\n",
    "print(bh100ms1.orbd)\n",
    "print(bh100ms1.tideeffsec)"
   ]
  },
  {
   "cell_type": "markdown",
   "metadata": {},
   "source": [
    "#  BH100 MS10"
   ]
  },
  {
   "cell_type": "code",
   "execution_count": 176,
   "metadata": {},
   "outputs": [
    {
     "name": "stdout",
     "output_type": "stream",
     "text": [
      "12.064834264178549\n"
     ]
    }
   ],
   "source": [
    "bh100ms10 = md.Binary(bh100, ms10, 20,0)\n",
    "dtidal = bh100ms10.tidalrsec\n",
    "print(dtidal)"
   ]
  },
  {
   "cell_type": "code",
   "execution_count": 177,
   "metadata": {},
   "outputs": [
    {
     "name": "stdout",
     "output_type": "stream",
     "text": [
      "12.064834264178549\n",
      "48.259337056714195\n",
      "1.823232435242021e-05\n"
     ]
    }
   ],
   "source": [
    "#bh100ms10.orbd = ntidalrad*dtidal ##primary, secondary, orbital distance (Rsun), eccentricity \n",
    "bh100ms10 = md.Binary(bh100, ms10, ntidalrad*dtidal,0)\n",
    "print(bh100ms10.tidalrsec)\n",
    "print(bh100ms10.orbd)\n",
    "print(bh100ms10.tideeffsec)"
   ]
  },
  {
   "cell_type": "code",
   "execution_count": null,
   "metadata": {},
   "outputs": [],
   "source": []
  },
  {
   "cell_type": "markdown",
   "metadata": {},
   "source": [
    "#  BH100 MS10"
   ]
  },
  {
   "cell_type": "code",
   "execution_count": 32,
   "metadata": {},
   "outputs": [
    {
     "name": "stdout",
     "output_type": "stream",
     "text": [
      "8.540523453847513\n"
     ]
    }
   ],
   "source": [
    "bh100s10 = md.Binary(bh100, s10, 20,0)\n",
    "dtidal = bh100s10.tidalrsec\n",
    "print(dtidal)"
   ]
  },
  {
   "cell_type": "code",
   "execution_count": 33,
   "metadata": {},
   "outputs": [
    {
     "name": "stdout",
     "output_type": "stream",
     "text": [
      "8.540523453847513\n",
      "34.16209381539005\n",
      "3.896731678659407e-05\n"
     ]
    }
   ],
   "source": [
    "#bh100ms10.orbd = ntidalrad*dtidal ##primary, secondary, orbital distance (Rsun), eccentricity \n",
    "bh100s10 = md.Binary(bh100, s10, ntidalrad*dtidal,0)\n",
    "print(bh100s10.tidalrsec)\n",
    "print(bh100s10.orbd)\n",
    "print(bh100s10.tideeffsec)"
   ]
  },
  {
   "cell_type": "markdown",
   "metadata": {},
   "source": [
    "# Spin effects"
   ]
  },
  {
   "cell_type": "code",
   "execution_count": 235,
   "metadata": {},
   "outputs": [],
   "source": [
    "ntidalspin = (1./2)\n",
    "ntidalrad = 4"
   ]
  },
  {
   "cell_type": "code",
   "execution_count": 236,
   "metadata": {},
   "outputs": [],
   "source": [
    "sdis = ms1.sdis\n",
    "ms1.spin = ntidalspin*sdis\n",
    "\n",
    "sdis = ms5.sdis\n",
    "ms5.spin = ntidalspin*sdis\n",
    "\n",
    "sdis = ms10.sdis\n",
    "ms10.spin = ntidalspin*sdis"
   ]
  },
  {
   "cell_type": "code",
   "execution_count": null,
   "metadata": {},
   "outputs": [],
   "source": []
  },
  {
   "cell_type": "markdown",
   "metadata": {},
   "source": [
    "# BH5 MS1"
   ]
  },
  {
   "cell_type": "code",
   "execution_count": 237,
   "metadata": {},
   "outputs": [
    {
     "name": "stdout",
     "output_type": "stream",
     "text": [
      "1.7099759466766968\n",
      "6.839903786706787\n",
      "2.8942010856857278e-05\n",
      "7.717869561828605e-05\n"
     ]
    }
   ],
   "source": [
    "dtidal = bh5ms1.tidalrsec\n",
    "bh5ms1 = md.Binary(bh5, ms1, ntidalrad*dtidal,0)\n",
    "print(bh5ms1.tidalrsec)\n",
    "print(bh5ms1.orbd)\n",
    "print(bh5ms1.tideeffsec)\n",
    "print(bh5ms1.spineffsec)"
   ]
  },
  {
   "cell_type": "markdown",
   "metadata": {},
   "source": [
    "# BH10 MS5"
   ]
  },
  {
   "cell_type": "code",
   "execution_count": 238,
   "metadata": {},
   "outputs": [
    {
     "name": "stdout",
     "output_type": "stream",
     "text": [
      "4.4097236746320565\n",
      "17.638894698528226\n",
      "5.3311639815327074e-05\n",
      "0.00014216437284087226\n"
     ]
    }
   ],
   "source": [
    "dtidal = bh10ms5.tidalrsec\n",
    "bh10ms5 = md.Binary(bh10, ms5, ntidalrad*dtidal,0)\n",
    "print(bh10ms5.tidalrsec)\n",
    "print(bh10ms5.orbd)\n",
    "print(bh10ms5.tideeffsec)\n",
    "print(bh10ms5.spineffsec)"
   ]
  },
  {
   "cell_type": "markdown",
   "metadata": {},
   "source": [
    "# BH10 MS10"
   ]
  },
  {
   "cell_type": "code",
   "execution_count": 239,
   "metadata": {},
   "outputs": [
    {
     "name": "stdout",
     "output_type": "stream",
     "text": [
      "5.6\n",
      "22.4\n",
      "8.462695312499999e-05\n",
      "0.000225671875\n"
     ]
    }
   ],
   "source": [
    "dtidal = bh10ms10.tidalrsec\n",
    "bh10ms10 = md.Binary(bh10, ms10, ntidalrad*dtidal,0)\n",
    "print(bh10ms10.tidalrsec)\n",
    "print(bh10ms10.orbd)\n",
    "print(bh10ms10.tideeffsec)\n",
    "print(bh10ms10.spineffsec)"
   ]
  },
  {
   "cell_type": "markdown",
   "metadata": {},
   "source": [
    "# BH100 MS1"
   ]
  },
  {
   "cell_type": "code",
   "execution_count": 240,
   "metadata": {},
   "outputs": [
    {
     "name": "stdout",
     "output_type": "stream",
     "text": [
      "4.641588833612778\n",
      "18.566355334451114\n",
      "3.928035206476722e-06\n",
      "1.047476055060459e-05\n"
     ]
    }
   ],
   "source": [
    "dtidal = bh100ms1.tidalrsec\n",
    "bh100ms1 = md.Binary(bh100, ms1, ntidalrad*dtidal,0)\n",
    "print(bh100ms1.tidalrsec)\n",
    "print(bh100ms1.orbd)\n",
    "print(bh100ms1.tideeffsec)\n",
    "print(bh100ms1.spineffsec)"
   ]
  },
  {
   "cell_type": "markdown",
   "metadata": {},
   "source": [
    "# BH100 MS10"
   ]
  },
  {
   "cell_type": "code",
   "execution_count": 241,
   "metadata": {},
   "outputs": [
    {
     "name": "stdout",
     "output_type": "stream",
     "text": [
      "12.064834264178549\n",
      "48.259337056714195\n",
      "1.823232435242021e-05\n",
      "4.861953160645388e-05\n"
     ]
    }
   ],
   "source": [
    "dtidal = bh100ms10.tidalrsec\n",
    "bh100ms10 = md.Binary(bh100, ms10, ntidalrad*dtidal,0)\n",
    "print(bh100ms10.tidalrsec)\n",
    "print(bh100ms10.orbd)\n",
    "print(bh100ms10.tideeffsec)\n",
    "print(bh100ms10.spineffsec)"
   ]
  },
  {
   "cell_type": "code",
   "execution_count": null,
   "metadata": {},
   "outputs": [],
   "source": []
  },
  {
   "cell_type": "code",
   "execution_count": null,
   "metadata": {},
   "outputs": [],
   "source": []
  },
  {
   "cell_type": "code",
   "execution_count": 22,
   "metadata": {},
   "outputs": [],
   "source": [
    "#Make binary MS1-BH5, MS3-BH5, MS5-BH5, MS5-BH10, MS10-BH10\n",
    "#Eccentricity has not been implemented\n",
    "\n",
    "ntidalrad = 3\n",
    "\n",
    "ms1.spin = ms1.sdis/2 #Choose half the maximum spin for the star\n",
    "bh5ms1 = md.Binary(bh5, ms1, ntidalrad*(bh5ms1.tidalrsec), 0 ) ##primary, secondary, orbital distance (Rsun), eccentricity \n",
    "\n",
    "ms5.spin = ms5.sdis/2\n",
    "bh10ms5 = md.Binary(bh10, ms5, ntidalrad*(bh10ms5.tidalrsec), 0 )\n",
    "\n",
    "ms10.spin = 2.*ms10.sdis/3\n",
    "bh10ms10 = md.Binary(bh10, ms10, ntidalrad*(bh10ms10.tidalrsec), 0 )\n",
    "\n",
    "bh100ms10 = md.Binary(bh10, ms10, ntidalrad*(bh100ms10.tidalrsec), 0 )\n",
    "\n",
    "bh100ms1 = md.Binary(bh10, ms10, ntidalrad*(bh100ms1.tidalrsec), 0 )\n",
    "\n"
   ]
  },
  {
   "cell_type": "code",
   "execution_count": null,
   "metadata": {},
   "outputs": [],
   "source": []
  },
  {
   "cell_type": "markdown",
   "metadata": {},
   "source": [
    "\n",
    "### Tidal radius"
   ]
  },
  {
   "cell_type": "code",
   "execution_count": 34,
   "metadata": {},
   "outputs": [
    {
     "name": "stdout",
     "output_type": "stream",
     "text": [
      "5.6\n",
      "5.6\n"
     ]
    }
   ],
   "source": [
    "#print(bh5ms1.tidalrsec)\n",
    "#print(bh10ms5.tidalrsec)\n",
    "#print(bh10ms10.tidalrsec)\n",
    "print(bh100ms1.tidalrsec)\n",
    "print(bh100ms10.tidalrsec)\n"
   ]
  },
  {
   "cell_type": "code",
   "execution_count": 29,
   "metadata": {},
   "outputs": [
    {
     "name": "stdout",
     "output_type": "stream",
     "text": [
      "10\n",
      "5.6\n",
      "1\n",
      "1\n"
     ]
    }
   ],
   "source": [
    "print(ms10.mass)\n",
    "print(ms10.radi)\n",
    "print(ms1.mass)\n",
    "print(ms1.radi)"
   ]
  },
  {
   "cell_type": "code",
   "execution_count": 45,
   "metadata": {},
   "outputs": [],
   "source": [
    "bh100ms1 = md.Binary(bh100, ms1, 10,0)\n"
   ]
  },
  {
   "cell_type": "code",
   "execution_count": 46,
   "metadata": {},
   "outputs": [
    {
     "name": "stdout",
     "output_type": "stream",
     "text": [
      "4.641588833612778\n"
     ]
    }
   ],
   "source": [
    "print(bh100ms1.tidalrsec)"
   ]
  },
  {
   "cell_type": "code",
   "execution_count": 47,
   "metadata": {},
   "outputs": [],
   "source": [
    "bh10ms1 = md.Binary(bh10,ms1,10,0)"
   ]
  },
  {
   "cell_type": "code",
   "execution_count": 48,
   "metadata": {},
   "outputs": [
    {
     "data": {
      "text/plain": [
       "100"
      ]
     },
     "execution_count": 48,
     "metadata": {},
     "output_type": "execute_result"
    }
   ],
   "source": [
    "bh10.mass\n",
    "bh100.mass"
   ]
  },
  {
   "cell_type": "code",
   "execution_count": 49,
   "metadata": {},
   "outputs": [
    {
     "name": "stdout",
     "output_type": "stream",
     "text": [
      "4.641588833612778\n"
     ]
    }
   ],
   "source": [
    "print(bh100ms1.tidalrsec)"
   ]
  },
  {
   "cell_type": "markdown",
   "metadata": {},
   "source": [
    "### Period "
   ]
  },
  {
   "cell_type": "code",
   "execution_count": 43,
   "metadata": {},
   "outputs": [
    {
     "name": "stdout",
     "output_type": "stream",
     "text": [
      "0.5496721243302958\n",
      "1.7842733082828859\n"
     ]
    }
   ],
   "source": [
    "print(bh5ms1.period)\n",
    "print(bh10ms10.period)"
   ]
  },
  {
   "cell_type": "markdown",
   "metadata": {},
   "source": [
    "### Roche Lobe "
   ]
  },
  {
   "cell_type": "code",
   "execution_count": 44,
   "metadata": {},
   "outputs": [
    {
     "name": "stdout",
     "output_type": "stream",
     "text": [
      "6.3658647087916655\n",
      "6.3658647087916655\n",
      "False\n"
     ]
    }
   ],
   "source": [
    "print(bh10ms10.rochepri)\n",
    "print(bh10ms10.rochesec)\n",
    "print(bh10ms10.rochefill)"
   ]
  },
  {
   "cell_type": "markdown",
   "metadata": {},
   "source": [
    "## Measure contribution of corrections "
   ]
  },
  {
   "cell_type": "markdown",
   "metadata": {},
   "source": [
    "from \n",
    "\n",
    "$$\n",
    "    m_{\\star} \\dot{\\vec{v}} = -\\frac{G m_{\\star} m_{\\bullet} \\hat{r}}{r^2} - \\frac{3 n_{\\Omega} m_{\\bullet} \\Omega^2 \\hat{r}}{2r^4} - \\frac{9 n_{E} G^2 m^2_{\\bullet} \\hat{r}}{r^7}\n",
    "$$\n",
    "\n",
    "we substract the Newtonian part \n",
    "\n",
    "$$\n",
    "    m_{\\star} \\dot{\\vec{v}} = -\\frac{G m_{\\star} m_{\\bullet} \\hat{r}}{r^2} \\left(1 + \\frac{3 n_{\\Omega} \\Omega^2}{2 m_{\\star}r^2} + \\frac{9 n_{E}  m_{\\bullet}}{m_{\\star}r^5} \\right) \n",
    "$$\n",
    "\n",
    "Thus, we can evaluate the rest of the terms with respect to unity"
   ]
  },
  {
   "cell_type": "markdown",
   "metadata": {},
   "source": [
    "$$ n_{E} = (3/2)kGl^5 $$\n",
    "\n",
    "$l$ es radio estrella"
   ]
  },
  {
   "cell_type": "markdown",
   "metadata": {},
   "source": [
    "## Spin contribution"
   ]
  },
  {
   "cell_type": "code",
   "execution_count": 45,
   "metadata": {},
   "outputs": [
    {
     "name": "stdout",
     "output_type": "stream",
     "text": [
      "0.00013720656998806409\n",
      "0.0002527366628282173\n",
      "0.0007132345679012346\n"
     ]
    }
   ],
   "source": [
    "print(bh5ms1.spineffsec)\n",
    "print(bh10ms5.spineffsec)\n",
    "print(bh10ms10.spineffsec)\n"
   ]
  },
  {
   "cell_type": "markdown",
   "metadata": {},
   "source": [
    "## Tides contribution\n"
   ]
  },
  {
   "cell_type": "code",
   "execution_count": 64,
   "metadata": {},
   "outputs": [
    {
     "name": "stdout",
     "output_type": "stream",
     "text": [
      "0.00012196139554494594\n",
      "0.00022465481140285977\n",
      "0.0003566172839506174\n",
      "1.655270803058504e-05\n"
     ]
    }
   ],
   "source": [
    "print(bh5ms1.tideeffsec)\n",
    "print(bh10ms5.tideeffsec)\n",
    "print(bh10ms10.tideeffsec)\n",
    "print(bh100ms1.tideeffsec)\n",
    "\n",
    "ms10.spin = 0"
   ]
  },
  {
   "cell_type": "code",
   "execution_count": 49,
   "metadata": {},
   "outputs": [
    {
     "name": "stdout",
     "output_type": "stream",
     "text": [
      "0.0027080624999999995\n"
     ]
    }
   ],
   "source": [
    "#ms10.spin = 2.*ms10.sdis/3\n",
    "bh10ms10 = md.Binary(bh10, ms10, 2*(bh10ms10.tidalrsec), 0 )\n",
    "print(bh10ms10.tideeffsec)"
   ]
  },
  {
   "cell_type": "markdown",
   "metadata": {},
   "source": [
    "# Run simulation "
   ]
  },
  {
   "cell_type": "code",
   "execution_count": 36,
   "metadata": {},
   "outputs": [],
   "source": [
    "NP = 100 #Number of periods in code units you want to simulate\n",
    "tfinal = NP*bh10ms10.periodct #Final time in code units\n",
    "Nsteps = int(5*NP*tfinal) #Fix the first coefficient to change accuracy \n",
    "dt = tfinal/(Nsteps-1)  # fixed time step\n",
    "\n",
    "r,v = nbs.Hermite4th(bh10,ms10, bh10ms10, Nsteps, dt)\n"
   ]
  },
  {
   "cell_type": "code",
   "execution_count": 37,
   "metadata": {},
   "outputs": [
    {
     "name": "stderr",
     "output_type": "stream",
     "text": [
      "No handles with labels found to put in legend.\n"
     ]
    },
    {
     "data": {
      "image/png": "[encoded data removed]",
      "text/plain": [
       "<Figure size 432x288 with 1 Axes>"
      ]
     },
     "metadata": {},
     "output_type": "display_data"
    }
   ],
   "source": [
    "%matplotlib inline\n",
    "import matplotlib.pyplot as plt\n",
    "import matplotlib as mpl\n",
    "from mpl_toolkits.mplot3d import Axes3D\n",
    "import matplotlib.pyplot as plt\n",
    "\n",
    "fig = plt.figure()\n",
    "ax = fig.gca(projection='3d')\n",
    "ax.plot(r[0][0], r[0][1], r[0][2], 'r', linewidth=1)# Plot the BH orbit\n",
    "#ax.plot(r_res[1][0], r_res[1][1], r_res[1][2], 'b', linewidth=1)# Plot the star orbit\n",
    "#ax.scatter3D(simulation[0][0][0], simulation[0][0][1], simulation[0][0][2], 'o', c='black') #s=100\n",
    "#ax.scatter3D(simulation[2][0][0], simulation[2][0][1], simulation[2][0][2], 'o', c='black') #s=10\n",
    "ax.legend()\n",
    "#ax.set_xticks([])\n",
    "#ax.set_yticks([])\n",
    "#ax.set_zticks([])\n",
    "#ax.set_xlim3d(min(min(posbh1x), min(posbh2x)), max(max(posbh1x), max(posbh2x)))\n",
    "#ax.set_ylim3d(min(min(posbh1y), min(posbh2y)), max(max(posbh1y), max(posbh2y)))\n",
    "#ax.set_zlim3d(min(min(posbh1z), min(posbh2z)), max(max(posbh1z), max(posbh2z)))\n",
    "#ax.set_xlabel('')\n",
    "#ax.set_ylabel('')\n",
    "#ax.set_zlabel('')\n",
    "\n",
    "\n",
    "#plt.savefig('starbh-withoutspin.eps', format='eps')#, dpi=200\n",
    "\n",
    "plt.show()"
   ]
  },
  {
   "cell_type": "code",
   "execution_count": null,
   "metadata": {},
   "outputs": [],
   "source": []
  }
 ],
 "metadata": {
  "kernelspec": {
   "display_name": "Python 3",
   "language": "python",
   "name": "python3"
  },
  "language_info": {
   "codemirror_mode": {
    "name": "ipython",
    "version": 3
   },
   "file_extension": ".py",
   "mimetype": "text/x-python",
   "name": "python",
   "nbconvert_exporter": "python",
   "pygments_lexer": "ipython3",
   "version": "3.7.6"
  }
 },
 "nbformat": 4,
 "nbformat_minor": 2
}
