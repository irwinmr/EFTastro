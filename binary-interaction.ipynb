{
 "cells": [
  {
   "cell_type": "code",
   "execution_count": 1,
   "metadata": {},
   "outputs": [],
   "source": [
    "import numpy as np\n",
    "import time\n",
    "import math\n",
    "import modules as md\n",
    "import nbodysolver as nbs\n",
    "\n",
    "#------------------------------------------------------------------------------------------\n",
    "#Units and conversions:\n",
    "#------------------------------------------------------------------------------------------\n",
    "#code units: Rsun, Msun, G=1, ...\n",
    "c_SI       = 299792458.0        #m/s\n",
    "M_sun_SI   = 1.989*(10.**30.)   #kg\n",
    "R_sun_SI   = 695800000.         #m\n",
    "AU_SI      = 149597871000.      #m \n",
    "G_new_SI   = 6.67*(10.**(-11.)) #m**3 kg**(-1) s**(-2)\n",
    "AU_U       = AU_SI/R_sun_SI                             #from dist AU to code units (U)\n",
    "kmsec_U    = 1000./np.sqrt(G_new_SI*M_sun_SI/R_sun_SI)  #from vel km/sec to code units (U)\n",
    "time_U     = np.sqrt((R_sun_SI**3)/(G_new_SI*M_sun_SI)) #from code units(U) to time sec\n",
    "Rsch_1Msun_unitRsun = ((2.*G_new_SI*(1.*M_sun_SI))/(c_SI**2.))/R_sun_SI"
   ]
  },
  {
   "cell_type": "markdown",
   "metadata": {},
   "source": [
    "## The units are $M_{\\odot}$, $R_{\\odot}$ , $G = 1$ "
   ]
  },
  {
   "cell_type": "markdown",
   "metadata": {},
   "source": [
    "## Define stars with different properties \n",
    "\n",
    "The coefficients for different equations of state are obtained by specifying the type of star, (\"BH\",\"NS\",\"MS\" or \"WD\")  \n",
    "\n",
    "Particles contain information: name, mass, radi, spin, sdis = disruption spin, ntide = tidal coefficient, nspin = spin coefficient, info = information about the star "
   ]
  },
  {
   "cell_type": "code",
   "execution_count": 2,
   "metadata": {},
   "outputs": [],
   "source": [
    "#Main Sequence Stars\n",
    "ms1 = md.Particle(\"MS\",1,1, 0) #Type, mass, radius, spin\n",
    "ms3 = md.Particle(\"MS\",3,1.5, 0) \n",
    "ms5 = md.Particle(\"MS\",5,3.5, 0) \n",
    "ms10 = md.Particle(\"MS\", 10, 5.6, 0) \n",
    "#Let's add spin later\n",
    "\n",
    "#Black holes\n",
    "bh5 = md.Particle(\"BH\", 5, 0, 0)\n",
    "bh10 = md.Particle(\"BH\", 10, 0, 0)"
   ]
  },
  {
   "cell_type": "markdown",
   "metadata": {},
   "source": [
    "### Print some info "
   ]
  },
  {
   "cell_type": "code",
   "execution_count": 3,
   "metadata": {},
   "outputs": [
    {
     "name": "stdout",
     "output_type": "stream",
     "text": [
      "MS\n",
      "0.009628666666666666\n",
      "5.057156270833333\n",
      "53.02812693845331\n"
     ]
    }
   ],
   "source": [
    "print(ms1.name)\n",
    "print(ms1.nspin)\n",
    "print(ms5.nspin)\n",
    "print(ms10.nspin)"
   ]
  },
  {
   "cell_type": "markdown",
   "metadata": {},
   "source": [
    "##  Make Binaries"
   ]
  },
  {
   "cell_type": "markdown",
   "metadata": {},
   "source": [
    "There is information about the binary:\n",
    "period = period, \n",
    "orbd = orbital distance,\n",
    "redvel = reduced velocity,\n",
    "r = position,\n",
    "v = velocity,\n",
    "rochepri = Roche Lobe of the primary,\n",
    "rochesec = Roche Lobe of the secondary,\n",
    "rochefill = If one of the members has filled its Roche Lobe (True or False),\n",
    "coll = collision,\n",
    "tidalrpri = tidal disruption distance for primary,\n",
    "tidalrsec = tidal disruption distance for secondary,"
   ]
  },
  {
   "cell_type": "code",
   "execution_count": 4,
   "metadata": {},
   "outputs": [],
   "source": [
    "#Make binary MS1-BH5, MS3-BH5, MS5-BH5, MS5-BH10, MS10-BH10\n",
    "#Eccentricity has not been implemented\n",
    "\n",
    "ms1.spin = ms1.sdis/2 #Choose half the maximum spin for the star\n",
    "bh5ms1 = md.Binary(bh5, ms1, 10, 0 ) ##primary, secondary, orbital distance (Rsun), eccentricity \n",
    "\n",
    "ms5.spin = ms5.sdis/2\n",
    "bh10ms5 = md.Binary(bh10, ms5, 10, 0 )\n",
    "\n",
    "ms10.spin = 2.*ms10.sdis/3\n",
    "bh10ms10 = md.Binary(bh10, ms10, 20, 0 )"
   ]
  },
  {
   "cell_type": "markdown",
   "metadata": {},
   "source": [
    "### Period "
   ]
  },
  {
   "cell_type": "code",
   "execution_count": 5,
   "metadata": {},
   "outputs": [
    {
     "name": "stdout",
     "output_type": "stream",
     "text": [
      "1.4960180338232218\n",
      "2.317621172249321\n"
     ]
    }
   ],
   "source": [
    "print(bh5ms1.period)\n",
    "print(bh10ms10.period)"
   ]
  },
  {
   "cell_type": "markdown",
   "metadata": {},
   "source": [
    "### Roche Lobe "
   ]
  },
  {
   "cell_type": "code",
   "execution_count": 6,
   "metadata": {},
   "outputs": [
    {
     "name": "stdout",
     "output_type": "stream",
     "text": [
      "7.578410367609127\n",
      "7.578410367609127\n",
      "False\n"
     ]
    }
   ],
   "source": [
    "print(bh10ms10.rochepri)\n",
    "print(bh10ms10.rochesec)\n",
    "print(bh10ms10.rochefill)"
   ]
  },
  {
   "cell_type": "markdown",
   "metadata": {},
   "source": [
    "## Measure contribution of corrections "
   ]
  },
  {
   "cell_type": "markdown",
   "metadata": {},
   "source": [
    "from \n",
    "\n",
    "$$\n",
    "    m_{\\star} \\dot{\\vec{v}} = -\\frac{G m_{\\star} m_{\\bullet} \\hat{r}}{r^2} - \\frac{3 n_{\\Omega} m_{\\bullet} \\Omega^2 \\hat{r}}{2r^4} - \\frac{9 n_{E} G^2 m^2_{\\bullet} \\hat{r}}{r^7}\n",
    "$$\n",
    "\n",
    "we substract the Newtonian part \n",
    "\n",
    "$$\n",
    "    m_{\\star} \\dot{\\vec{v}} = -\\frac{G m_{\\star} m_{\\bullet} \\hat{r}}{r^2} \\left(1 + \\frac{3 n_{\\Omega} \\Omega^2}{2 m_{\\star}r^2} + \\frac{9 n_{E}  m_{\\bullet}}{m_{\\star}r^5} \\right) \n",
    "$$\n",
    "\n",
    "Thus, we can evaluate the rest of the terms with respect to unity"
   ]
  },
  {
   "cell_type": "markdown",
   "metadata": {},
   "source": [
    "## Spin contribution"
   ]
  },
  {
   "cell_type": "code",
   "execution_count": 7,
   "metadata": {},
   "outputs": [
    {
     "name": "stdout",
     "output_type": "stream",
     "text": [
      "3.610749999999999e-05\n",
      "0.0004423168749999999\n",
      "0.000503258311111111\n"
     ]
    }
   ],
   "source": [
    "print(bh5ms1.spineffsec)\n",
    "print(bh10ms5.spineffsec)\n",
    "print(bh10ms10.spineffsec)\n"
   ]
  },
  {
   "cell_type": "markdown",
   "metadata": {},
   "source": [
    "## Tides contribution\n"
   ]
  },
  {
   "cell_type": "code",
   "execution_count": 10,
   "metadata": {},
   "outputs": [
    {
     "name": "stdout",
     "output_type": "stream",
     "text": [
      "4.3329e-06\n",
      "0.0009102881287499999\n",
      "0.00014914160701439994\n"
     ]
    }
   ],
   "source": [
    "print(bh5ms1.tideeffsec)\n",
    "print(bh10ms5.tideeffsec)\n",
    "print(bh10ms10.tideeffsec)"
   ]
  },
  {
   "cell_type": "markdown",
   "metadata": {},
   "source": [
    "# Run simulation "
   ]
  },
  {
   "cell_type": "code",
   "execution_count": 8,
   "metadata": {},
   "outputs": [],
   "source": [
    "NP = 1 #Number of periods in code units you want to simulate\n",
    "tfinal = NP*bh10ms10.periodct #Final time in code units\n",
    "Nsteps = int(10*NP*tfinal) #Fix the first coefficient to change accuracy \n",
    "dt = tfinal/(Nsteps-1)  # fixed time step\n",
    "\n",
    "r,v = nbs.Hermite4th(bh10,ms10, bh10ms10, Nsteps, dt)\n"
   ]
  },
  {
   "cell_type": "code",
   "execution_count": 10,
   "metadata": {},
   "outputs": [
    {
     "name": "stderr",
     "output_type": "stream",
     "text": [
      "No handles with labels found to put in legend.\n"
     ]
    },
    {
     "data": {
      "image/png": "[encoded data removed]",
      "text/plain": [
       "<Figure size 432x288 with 1 Axes>"
      ]
     },
     "metadata": {},
     "output_type": "display_data"
    }
   ],
   "source": [
    "%matplotlib inline\n",
    "import matplotlib.pyplot as plt\n",
    "import matplotlib as mpl\n",
    "from mpl_toolkits.mplot3d import Axes3D\n",
    "import matplotlib.pyplot as plt\n",
    "\n",
    "fig = plt.figure()\n",
    "ax = fig.gca(projection='3d')\n",
    "ax.plot(r[0][0], r[0][1], r[0][2], 'r', linewidth=1)# Plot the BH orbit\n",
    "#ax.plot(r_res[1][0], r_res[1][1], r_res[1][2], 'b', linewidth=1)# Plot the star orbit\n",
    "#ax.scatter3D(simulation[0][0][0], simulation[0][0][1], simulation[0][0][2], 'o', c='black') #s=100\n",
    "#ax.scatter3D(simulation[2][0][0], simulation[2][0][1], simulation[2][0][2], 'o', c='black') #s=10\n",
    "ax.legend()\n",
    "#ax.set_xticks([])\n",
    "#ax.set_yticks([])\n",
    "#ax.set_zticks([])\n",
    "#ax.set_xlim3d(min(min(posbh1x), min(posbh2x)), max(max(posbh1x), max(posbh2x)))\n",
    "#ax.set_ylim3d(min(min(posbh1y), min(posbh2y)), max(max(posbh1y), max(posbh2y)))\n",
    "#ax.set_zlim3d(min(min(posbh1z), min(posbh2z)), max(max(posbh1z), max(posbh2z)))\n",
    "#ax.set_xlabel('')\n",
    "#ax.set_ylabel('')\n",
    "#ax.set_zlabel('')\n",
    "\n",
    "\n",
    "#plt.savefig('starbh-withoutspin.eps', format='eps')#, dpi=200\n",
    "\n",
    "plt.show()"
   ]
  }
 ],
 "metadata": {
  "kernelspec": {
   "display_name": "Python 3",
   "language": "python",
   "name": "python3"
  },
  "language_info": {
   "codemirror_mode": {
    "name": "ipython",
    "version": 3
   },
   "file_extension": ".py",
   "mimetype": "text/x-python",
   "name": "python",
   "nbconvert_exporter": "python",
   "pygments_lexer": "ipython3",
   "version": "3.6.5"
  }
 },
 "nbformat": 4,
 "nbformat_minor": 2
}
