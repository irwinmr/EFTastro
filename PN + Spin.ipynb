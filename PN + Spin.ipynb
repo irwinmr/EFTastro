{
 "cells": [
  {
   "cell_type": "code",
   "execution_count": 1,
   "metadata": {},
   "outputs": [],
   "source": [
    "import numpy as np\n",
    "import time\n",
    "import math\n",
    "import modules as md\n",
    "#import nbodysolver as nbs\n",
    "%matplotlib inline\n",
    "import matplotlib.pyplot as plt\n",
    "import matplotlib as mpl\n",
    "from mpl_toolkits.mplot3d import Axes3D\n",
    "import matplotlib.pyplot as plt\n",
    "\n",
    "\n",
    "#------------------------------------------------------------------------------------------\n",
    "#Units and conversions:\n",
    "#------------------------------------------------------------------------------------------\n",
    "#code units: Rsun, Msun, G=1, ...\n",
    "c_SI       = 299792458.0        #m/s\n",
    "M_sun_SI   = 1.989*(10.**30.)   #kg\n",
    "R_sun_SI   = 695800000.         #m\n",
    "R_bull_SI = 1000 #m \n",
    "AU_SI      = 149597871000.      #m \n",
    "G_new_SI   = 6.67*(10.**(-11.)) #m**3 kg**(-1) s**(-2)\n",
    "AU_U       = AU_SI/R_sun_SI                             #from dist AU to code units (U)\n",
    "kmsec_U    = 1000./np.sqrt(G_new_SI*M_sun_SI/R_bull_SI)  #from vel km/sec to code units (U)\n",
    "time_U     = 1/np.sqrt(G_new_SI*M_sun_SI/R_bull_SI**3) #from CU to second np.sqrt((R_bull_SI)/(G_new_SI*M_sun_SI)) #from code units(U) to time sec\n",
    "#Rsch_1Msun_unitRsun = ((2.*G_new_SI*(1.*M_sun_SI))/(c_SI**2.))/R_sun_SI\n",
    "c_CU = c_SI/1000*kmsec_U"
   ]
  },
  {
   "cell_type": "markdown",
   "metadata": {},
   "source": [
    "# Newtonian "
   ]
  },
  {
   "cell_type": "code",
   "execution_count": 2,
   "metadata": {},
   "outputs": [],
   "source": [
    "#Acceleration\n",
    "\n",
    "def acc(r,m): #r position, m mass\n",
    "    a = np.zeros((len(r),3)) #Create acceleration vector\n",
    "    for i in range(len(r)): #Range is size of timesteps or position steps\n",
    "        for j in range(len(r)): #For each particle\n",
    "            if (i != j):\n",
    "                rrel = r[i]-r[j]\n",
    "                rn = (rrel**2).sum()**(1./2) \n",
    "                a[i] += -(rrel)*m[j]/(rn**3.0) #Acceleration at each time step \n",
    "    return a # return acceleration\n",
    "\n",
    "\n",
    "def Jerk(r,v,m): #position, velocity, mass\n",
    "    Je = np.zeros((len(r),3)) #Define the Jerk\n",
    "    for i in range(len(r)):\n",
    "        for j in range(len(r)):\n",
    "            if (i != j):\n",
    "                rrel = r[i]-r[j]\n",
    "                vrel = v[i]-v[j]\n",
    "                rn = (rrel**2).sum()**(1./2) # dot product\n",
    "                vn = (vrel**2).sum()**(1./2)\n",
    "                rvd = ((rrel)*(vrel)).sum()\n",
    "                Je[i] += - m[j]*((vrel)/rn**3.0 - 3.*(rvd*rrel/(rn**5.0))) \n",
    "    return Je;"
   ]
  },
  {
   "cell_type": "markdown",
   "metadata": {},
   "source": [
    "# Spin "
   ]
  },
  {
   "cell_type": "code",
   "execution_count": 3,
   "metadata": {},
   "outputs": [],
   "source": [
    "def accspin(r,m,ns,S):#r,m,S,ns #r position, m mass, s spin, m mass of the star and the value of ne\n",
    "    a = np.zeros((len(r),3)) #Create acceleration vector\n",
    "    for i in range(len(r)): #Range is size of timesteps or position steps\n",
    "        for j in range(len(r)): #For each particle\n",
    "            if (i != j):\n",
    "                rrel = r[i]-r[j]\n",
    "                rn = ((rrel**2).sum())**(1./2) #dot product\n",
    "                runi = rrel/rn\n",
    "                Sn = ((S[i]*S[i]).sum())**(1./2)\n",
    "                a[i] += -(3./2)*ns[i]*(m[j]*Sn**2/m[i])*(runi)/(rn**4.0) #Acceleration at each time step\n",
    "                \n",
    "    return a # return acceleration\n",
    "\n",
    "def Jerkspin(r,v,m, ns,S):#r,v,m,S,ns #r position, v velocity, m mass, m mass of the star, ne\n",
    "    Je = np.zeros((len(r),3)) #Define the Jerk\n",
    "    Je1 = np.zeros((len(r),3))\n",
    "    Je2 = np.zeros((len(r),3))\n",
    "    for i in range(len(r)):\n",
    "        for j in range(len(r)):\n",
    "            if (i != j):\n",
    "                rrel = (r[i]-r[j])\n",
    "                vrel = (v[i]-v[j])\n",
    "                rn = ((rrel**2).sum())**(1./2) # dot product\n",
    "                Sn = ((S[i]*S[i]).sum())**(1./2)\n",
    "                #Je1[i] += - (3./2)*ns[i]*((m[j])/m[i])*(2*((S*b).sum())*rrel/r**5 ) #Still need to define b \n",
    "                Je2[i] += - (3./2)*ns[i]*((m[j])/m[i])*(Sn**2)*(vrel/rn**5.0 - 5.*((vrel*rrel).sum())*(rrel)/(rn**7.0))               \n",
    "                Je[i] += Je2[i] #Je1[i] + Je2[i] \n",
    "    return Je;\n",
    "\n",
    "def bccspin(r,v,m,ns,S,I): #r position, m mass, s spin, m mass of the star\n",
    "    b = np.zeros((len(r),3)) #Create acceleration vector\n",
    "    b1 = np.zeros((len(r),3))\n",
    "    b2 = np.zeros((len(r),3))\n",
    "    #bden = np.zeros((len(r),3))\n",
    "    for i in range(len(r)): #Range is size of timesteps or position steps\n",
    "        for j in range(len(r)): #For each particle\n",
    "            if (i != j):\n",
    "                if(ns[i] == 0.0):\n",
    "                    b[i] = np.array([0,0,0])\n",
    "                elif (ns[i] != 0):\n",
    "                    rrel = r[i]-r[j]\n",
    "                    rn = ((rrel**2).sum())*(1./2)\n",
    "                    runi = 1.*rrel/rn\n",
    "                    vrel = v[i] - v[j]\n",
    "                    rdv = (rrel*vrel).sum()\n",
    "                    Sn = ((S[i]*S[i]).sum())**(1./2)\n",
    "                    #bden[i] = I[i] #(I[i] + m[j]*ns[i]/rn**3)\n",
    "                    acorr =  m[j]*ns[i]/rn**3                    \n",
    "                    b1[i] += (1/(I[i]+acorr))*(3*ns[i]*m[j]*rdv*S[i])*(1/(rn**5.0))\n",
    "                    #b2[i] += \n",
    "                    b[i] = b1[i] #b1[i] #+ b2[i]\n",
    "    return b # return acceleration"
   ]
  },
  {
   "cell_type": "markdown",
   "metadata": {},
   "source": [
    "# PN "
   ]
  },
  {
   "cell_type": "code",
   "execution_count": 4,
   "metadata": {},
   "outputs": [],
   "source": [
    "#PN Acceleration\n",
    "def accPN(r,v,m): #r position, m mass, s spin, m mass of secondary\n",
    "    a = np.zeros((len(r),3)) #Create acceleration vector\n",
    "    a1 = np.zeros((len(r),3)) #Create acceleration vector\n",
    "    a2 = np.zeros((len(r),3)) #Create acceleration vector\n",
    "\n",
    "    for i in range(len(r)): #Range is size of timesteps or position steps\n",
    "        for j in range(len(r)): #For each particle           \n",
    "            if (i != j):\n",
    "                rrel = r[i]-r[j] \n",
    "                vrel = v[i]-v[j]\n",
    "                rn = ((rrel**2).sum())**(1./2) #dot product\n",
    "                runi = 1.*rrel/rn\n",
    "                #rvd = ((rrel)*(vrel)).sum()\n",
    "                ruvd = ((runi)*(vrel)).sum()\n",
    "                v2d = (vrel**2).sum()\n",
    "                a1[i] += +(4./5)*(1./c_CU**5)*(m[i]*m[j]/(rn**3))*((2*m[i]/rn - 8*m[j]/rn - v2d)*vrel)\n",
    "                a2[i] += +(4./5)*(1./c_CU**5)*(m[i]*m[j]/(rn**3))*(runi*(ruvd)*(52.0*m[j]/(3*rn) - 6*m[i]/rn + 3.0*v2d))\n",
    "                a[i] += a1[i] + a2[i] #a1[i] +  \n",
    "    return a#, a1, a2 # return acceleration\n",
    "\n",
    "\n",
    "#PN Jerk v2\n",
    "\n",
    "def JerkPN(r,v,a,m): #position, velocity, mass\n",
    "    JePNLO3 = np.zeros((len(r),3))\n",
    "    JePNLO3v2 = np.zeros((len(r),3))\n",
    "    JePNLO4 = np.zeros((len(r),3))\n",
    "    JePNLO5 = np.zeros((len(r),3))#Define the Jerk\n",
    "    for i in range(len(r)):\n",
    "        for j in range(len(r)):\n",
    "            if (i != j):\n",
    "                rrel = r[i]-r[j] \n",
    "                vrel = v[i]-v[j]\n",
    "                arel = a[i]-a[j]\n",
    "                rn = ((rrel**2).sum())**(1./2) #norm                                                    \n",
    "                vn = ((vrel**2).sum())**(1./2) \n",
    "                runi = 1.*rrel/rn\n",
    "                ruvd = (runi*vrel).sum()   \n",
    "                ruad = (runi*arel).sum()                                                  \n",
    "                vad = (vrel*arel).sum()\n",
    "                JePNLO3[i] += (4./5)*(1./(c_CU**5))*(m[j]*m[i]/(rn**3))*(-(vn**2)*arel + 2*vad*vrel + 3*((ruvd*(vn**2)*vrel) + 2*( vad*ruvd + (vn**2)*ruad)*runi))                \n",
    "                JePNLO4[i] += (4./5)*(1./(c_CU**5))*(m[j]*m[i]/(rn**4))*(3*ruvd*(vn**2)*vrel + 2*(m[i]-m[j])*arel+ 3*(vn**4)*runi - 15*(ruvd**2)*(vn**2)*runi + ((52./3)*m[j]-6*m[i])*(ruad)*runi)\n",
    "                JePNLO5[i] += (4./5)*(1./(c_CU**5))*(m[j]*m[i]/(rn**5))*(-8*(m[i] - m[j])*(ruvd)*vrel + ((52./3)*m[j]-6*m[i])*((vn**2)*runi + ruvd*vrel - 6*((ruvd**2)*runi)))\n",
    "                JePNLOt = JePNLO3 + JePNLO4 + JePNLO5 \n",
    "    return JePNLOt \n"
   ]
  },
  {
   "cell_type": "code",
   "execution_count": 5,
   "metadata": {},
   "outputs": [],
   "source": [
    "def HermiteUpdatespinbdt(dt, r, v, m, ns, S,I): # m mass of the star\n",
    "    \n",
    "    aN = acc(r, m) \n",
    "    aS = accspin(r, m, ns, S)\n",
    "    aPN = accPN(r, v, m)\n",
    "    a = aN + aS + aPN          # current acceleration\n",
    "    aNdot = Jerk(r,v,m)\n",
    "    aSdot = Jerkspin(r, v, m, ns, S)\n",
    "    aPNdot = JerkPN(r, v, a, m)\n",
    "    adot = aNdot + aSdot + aPNdot # current jerks\n",
    "    rp = r + dt*v + dt**2/2 * a + dt**3/6* adot   # predict\n",
    "    vp = v + dt*a + dt**2/2 * adot\n",
    "\n",
    "    aNp = acc(rp, m)\n",
    "    aSp = accspin(rp, m, ns, S)\n",
    "    aPNp = accPN(rp, vp, m)\n",
    "    ap = aNp + aSp + aPNp         # predicted acceleration\n",
    "\n",
    "    aNdotp = Jerk(rp, vp, m)\n",
    "    aSdotp = Jerkspin(rp, vp, m, ns, S)\n",
    "    aPNdotp = JerkPN(rp, vp, ap, m)\n",
    "    adotp = aNdotp + aSdotp + aPNdotp # predicted jerks \n",
    "    \n",
    "    dtp = dt\n",
    "    \n",
    "    vc = v + dt/2*(a+ap) - dt**2/12*(adotp-adot)  # correct\n",
    "    rc = r + dt/2*(v + vp) - dt**2/12 * (ap-a)\n",
    "    ac = a + dt/2*(adotp + adot)\n",
    "    aNc = aN + dt/2*(aNdotp + aNdot)\n",
    "    aPNc = aPN + dt/2*(aPNdotp + aPNdot)\n",
    "    \n",
    "    #Spin\n",
    "    \n",
    "    b = bccspin(r,v,m,ns,S,I) #r,v,m,S,ns,I\n",
    "    Sp = S + (dt*b) #+ ()*dt/2\n",
    "\n",
    "    bp = bccspin(rp,vp,m,ns,Sp,I)\n",
    "    Sc = S + (b + bp)*dt/2\n",
    "    bc = b #+ ()*dt/2 Higher order terms\n",
    "       \n",
    "    #Sc = S\n",
    " \n",
    "    return rc,vc,Sc, bc, ac, aNc,aPNc, dtp\n",
    "\n",
    "def Hermite4thspinbdt(pri,sec, bina, nsteps,Dt):\n",
    "\n",
    "    N=2\n",
    "    m = np.ones(N)#/N #Remove the N if not necessary\n",
    "    m[0]=pri.mass\n",
    "    m[1]=sec.mass\n",
    "    \n",
    "    r_res = np.zeros((2,3,nsteps)) # 2 because of two bodies\n",
    "    v_res = np.zeros((2,3,nsteps))\n",
    "    S_res = np.zeros((2,3,nsteps)) # 2 because of two bodies\n",
    "    b_res = np.zeros((2,3,nsteps-1))\n",
    "\n",
    "    aN_res = np.zeros((2,3,nsteps-1)) # 2 because of two bodies\n",
    "    #adotN_res = np.zeros((2,3,nsteps))\n",
    "    aPN_res = np.zeros((2,3,nsteps-1)) # 2 because of two bodies\n",
    "\n",
    "    a_res = np.zeros((2,3,nsteps-1)) # 2 because of two bodies\n",
    "    #adot_res = np.zeros((2,3,nsteps))\n",
    "\n",
    "    \n",
    "    time = np.zeros(nsteps)\n",
    "    r_res[:,:,0] = bina.r.copy()\n",
    "    v_res[:,:,0] = bina.v.copy()\n",
    "    S_res[:,:,0] = bina.S.copy()\n",
    "    \n",
    "    nspinv = np.array([pri.nspin, sec.nspin])\n",
    "    Iv = np.array([pri.inertiam, sec.inertiam])\n",
    "    \n",
    "    dtp = np.zeros(nsteps)\n",
    "    dtp[0] = Dt\n",
    "    \n",
    "    for i in range(1,nsteps):\n",
    "        (r_res[:,:,i], v_res[:,:,i], S_res[:,:,i], b_res[:,:,i-1] , a_res[:,:,i-1],aN_res[:,:,i-1],aPN_res[:,:,i-1], dtp[i]) = HermiteUpdatespinbdt(Dt, r_res[:,:,i-1], v_res[:,:,i-1],  m, nspinv, S_res[:,:,i-1], Iv)\n",
    "        #\n",
    "        time[i] = time[i-1] + Dt#\n",
    "        if time[i] >= timelimit:\n",
    "            break\n",
    "        #elif np.linalg.norm(r_res[0].T[i] - r_res[1].T[i]) < 1.*(pri.radisch+sec.radisch): #This is when running an equal mass bbh\n",
    "        elif np.linalg.norm(r_res[0].T[i] - r_res[1].T[i]) < 1.*(bina.tidalrsec):\n",
    "            break\n",
    "            \n",
    "    r_res = r_res[:,:,:i+1]\n",
    "    v_res = v_res[:,:,:i+1]\n",
    "    a_res = a_res[:,:,:i]\n",
    "    aN_res = aN_res[:,:,:i]\n",
    "    aPN_res = aPN_res[:,:,:i]\n",
    "    b_res = b_res[:,:,:i]\n",
    "    S_res = S_res[:,:,:i+1]\n",
    "    dtp = dtp[:i+1]\n",
    "    time = time[:i+1]\n",
    "\n",
    "    return r_res, v_res, S_res, b_res, a_res, aN_res, aPN_res, time"
   ]
  },
  {
   "cell_type": "code",
   "execution_count": 6,
   "metadata": {},
   "outputs": [],
   "source": [
    "ns = md.Particle(\"NS\",1.2,8.89,0) #stellar type, mass, radius, spin. At the momento for black holes choose r=0 and will set the Schwarzchild radius\n",
    "bh3 = md.Particle(\"BH\",5,0,0) #stellar type, mass, radius, spin. At the momento for black holes choose r=0 and will set the Schwarzchild radius\n",
    "\n",
    "\n",
    "Sd = np.array([0.1,0.3])\n",
    "omega = (Sd*(ns.mass**2))/(ns.inertiam*c_CU)\n",
    "#nsspinarr = np.array([0,0,ns.sdis/3])\n",
    "nsspinarr = np.array([0,0,omega[1]])\n",
    "\n",
    "nsspin = md.Particle(\"NS\",1.2,8.89, nsspinarr)\n",
    "\n",
    "bh3nsspin = md.Binary(bh3,nsspin, 8*nsspin.radi,0)"
   ]
  },
  {
   "cell_type": "code",
   "execution_count": 7,
   "metadata": {},
   "outputs": [
    {
     "name": "stdout",
     "output_type": "stream",
     "text": [
      "[[ 0.00000000e+00  0.00000000e+00  0.00000000e+00]\n",
      " [ 0.00000000e+00  0.00000000e+00 -5.89045730e-21]\n",
      " [ 0.00000000e+00  0.00000000e+00 -1.18224238e-20]\n",
      " ...\n",
      " [ 0.00000000e+00  0.00000000e+00 -3.21521519e-08]\n",
      " [ 0.00000000e+00  0.00000000e+00 -3.28248830e-08]\n",
      " [ 0.00000000e+00  0.00000000e+00 -3.35157587e-08]]\n"
     ]
    }
   ],
   "source": [
    "tl = 8*bh3nsspin.periodct #Time of the simulation in [cpde units]\n",
    "timelimit = tl #\n",
    "dt = 0.1 # 0.0001 working better \n",
    "Nsteps = int(tl/dt)#Number of ti\n",
    "\n",
    "r,v,S,b,a,aN,aPN, time = Hermite4thspinbdt(bh3,nsspin, bh3nsspin, Nsteps, dt)\n",
    "\n",
    "print(b[1].T)"
   ]
  },
  {
   "cell_type": "code",
   "execution_count": 8,
   "metadata": {},
   "outputs": [
    {
     "name": "stdout",
     "output_type": "stream",
     "text": [
      "[[0.         0.         0.         ... 0.         0.         0.        ]\n",
      " [0.         0.         0.         ... 0.         0.         0.        ]\n",
      " [0.01585166 0.01585166 0.01585166 ... 0.01585144 0.01585143 0.01585143]]\n"
     ]
    }
   ],
   "source": [
    "print(S[1])"
   ]
  },
  {
   "cell_type": "code",
   "execution_count": 9,
   "metadata": {},
   "outputs": [
    {
     "name": "stderr",
     "output_type": "stream",
     "text": [
      "No handles with labels found to put in legend.\n"
     ]
    },
    {
     "data": {
      "image/png": "[encoded data removed]",
      "text/plain": [
       "<Figure size 432x288 with 1 Axes>"
      ]
     },
     "metadata": {
      "needs_background": "light"
     },
     "output_type": "display_data"
    }
   ],
   "source": [
    "fig = plt.figure()\n",
    "ax = fig.gca(projection='3d')\n",
    "ax.plot(r[0][0], r[0][1], r[0][2], 'c', linewidth=1)# Plot the BH orbit\n",
    "ax.plot(r[1][0], r[1][1], r[1][2], 'm', linewidth=1)# Plot the star orbit\n",
    "ax.scatter3D(r[0][0][-1], r[0][1][-1], r[0][2][-1], 'o', c='black') #s=100\n",
    "ax.scatter3D(r[1][0][-1], r[1][1][-1], r[1][2][-1], 'o', c='orange') #s=10\n",
    "ax.legend()\n",
    "#ax.set_xticks([])\n",
    "#ax.set_yticks([])\n",
    "#ax.set_zticks([])\n",
    "#ax.set_xlim3d(-1,1)\n",
    "#ax.set_ylim3d(-1,1)\n",
    "#ax.set_xlim3d(min(min(posbh1x), min(posbh2x)), max(max(posbh1x), max(posbh2x)))\n",
    "#ax.set_ylim3d(min(min(posbh1y), min(posbh2y)), max(max(posbh1y), max(posbh2y)))\n",
    "#ax.set_zlim3d(min(min(posbh1z), min(posbh2z)), max(max(posbh1z), max(posbh2z)))\n",
    "ax.set_xlabel('x(km)')\n",
    "ax.set_ylabel('y(km)')\n",
    "ax.set_zlabel('z(km)')\n",
    "\n",
    "\n",
    "#plt.savefig('PNorbitaldecay.png', format='png', dpi=200)#, dpi=200\n",
    "#plt.savefig('PNorbitaldecay.eps', format='eps')#,\n",
    "\n",
    "plt.show()"
   ]
  },
  {
   "cell_type": "code",
   "execution_count": 10,
   "metadata": {},
   "outputs": [
    {
     "name": "stdout",
     "output_type": "stream",
     "text": [
      "51256\n",
      "[14.30380564]\n",
      "[71.12]\n"
     ]
    }
   ],
   "source": [
    "aratio = np.zeros_like(aN[1].T)\n",
    "aPNratio = np.zeros_like(aN[1].T)\n",
    "\n",
    "for i in range(len(aN[1].T)-1):\n",
    "    aratio[i+1][0] = (a[1].T[i+1][0])/(aN[1].T[i+1][0])\n",
    "    aratio[i+1][1] = (a[1].T[i+1][1])/(aN[1].T[i+1][1])\n",
    "    \n",
    "    aPNratio[i+1][0] = (aPN[1].T[i+1][0])/(aN[1].T[i+1][0])\n",
    "    aPNratio[i+1][1] = (aPN[1].T[i+1][1])/(aN[1].T[i+1][1])\n",
    "    #print(aratio[i][1])\n",
    "    \n",
    "#define relative position\n",
    "relpos = r[1].T - r[0].T \n",
    "#define relative velocity\n",
    "relvel = v[1].T - v[0].T\n",
    "\n",
    "normrelpos = np.zeros([len(relpos), 1]) \n",
    "normrelvel = np.zeros([len(relvel), 1]) \n",
    "normS = np.zeros([len(relvel), 1]) \n",
    "\n",
    "for i in range(len(normrelpos)):\n",
    "    normrelpos[i] = np.sqrt(relpos[i][0]**2 + relpos[i][1]**2 + relpos[i][2]**2)\n",
    "    normrelvel[i] = np.sqrt(relvel[i][0]**2 + relvel[i][1]**2 + relvel[i][2]**2)\n",
    "    normS[i] = np.linalg.norm(S[1].T[i])\n",
    "    \n",
    "print(len(normrelpos.T[0]))\n",
    "print(min(normrelpos))\n",
    "print(max(normrelpos))"
   ]
  },
  {
   "cell_type": "code",
   "execution_count": 11,
   "metadata": {},
   "outputs": [
    {
     "name": "stdout",
     "output_type": "stream",
     "text": [
      "[[0.         0.         0.         ... 0.         0.         0.        ]\n",
      " [0.         0.         0.         ... 0.         0.         0.        ]\n",
      " [0.01585166 0.01585166 0.01585166 ... 0.01585144 0.01585143 0.01585143]]\n",
      "[[ 0.00000000e+00  0.00000000e+00  0.00000000e+00 ...  0.00000000e+00\n",
      "   0.00000000e+00  0.00000000e+00]\n",
      " [ 0.00000000e+00  0.00000000e+00  0.00000000e+00 ...  0.00000000e+00\n",
      "   0.00000000e+00  0.00000000e+00]\n",
      " [ 0.00000000e+00 -5.89045730e-21 -1.18224238e-20 ... -3.21521519e-08\n",
      "  -3.28248830e-08 -3.35157587e-08]]\n"
     ]
    }
   ],
   "source": [
    "print(S[1])\n",
    "print(b[1])"
   ]
  },
  {
   "cell_type": "code",
   "execution_count": 12,
   "metadata": {},
   "outputs": [
    {
     "name": "stdout",
     "output_type": "stream",
     "text": [
      "51256\n"
     ]
    }
   ],
   "source": [
    "print(len(normrelpos))"
   ]
  },
  {
   "cell_type": "code",
   "execution_count": 13,
   "metadata": {},
   "outputs": [],
   "source": [
    "n_exco = (normrelpos.T[0][1:]**2)*(2./3)*(1.*ns.mass/normS.T[0][1:]**2)*(aratio.T[0][:] - aPNratio.T[0][:] - 1) \n",
    "n_eyco = (normrelpos.T[0][1:]**2)*(2./3)*(1.*ns.mass/normS.T[0][1:]**2)*(aratio.T[1][:] - aPNratio.T[1][:] - 1)"
   ]
  },
  {
   "cell_type": "code",
   "execution_count": 14,
   "metadata": {},
   "outputs": [
    {
     "name": "stderr",
     "output_type": "stream",
     "text": [
      "No handles with labels found to put in legend.\n"
     ]
    },
    {
     "data": {
      "image/png": "[encoded data removed]",
      "text/plain": [
       "<Figure size 432x288 with 1 Axes>"
      ]
     },
     "metadata": {
      "needs_background": "light"
     },
     "output_type": "display_data"
    }
   ],
   "source": [
    "plt.plot(time[2:], n_exco[1:], 'c-', alpha = 1)\n",
    "#plt.plot(timearrayN.T[0][2:], n_ey[1:], 'b-', label = r'$n_{Ey}$', alpha = 0.5)\n",
    "#plt.plot(timearrayT[1:], posydif, 'b-', label = r'$\\Delta y$', alpha = 0.8)\n",
    "\n",
    "#plt.plot(timeave, dynstave.T[1], 'b-', label = r'$star$', alpha = 0.8)\n",
    "#plt.plot(time[1:], n_e.T[2], 'g-', label = r'$n_{ez}$', alpha = 0.8)\n",
    "#plt.xlim(0,30)\n",
    "#plt.ylim(0.0955,0.09555)\n",
    "plt.xlabel('code time')\n",
    "plt.ylabel(r'$n_{S,i}$',rotation=0)\n",
    "\n",
    "#plt.title(r'$n_{S,i}$ circular orbit')\n",
    "plt.legend()\n",
    "#plt.savefig('ne-evolution-circular-0.001-4rs-5orbits.eps', bbox_inches='tight')#, dpi=300\n",
    "\n",
    "plt.show()"
   ]
  },
  {
   "cell_type": "code",
   "execution_count": 16,
   "metadata": {},
   "outputs": [
    {
     "name": "stdout",
     "output_type": "stream",
     "text": [
      "[-16103642.67365311 -16103642.66781259 -16103642.65804841 ...\n",
      "   -656297.15990747   -653857.74017548   -651412.86529043]\n"
     ]
    }
   ],
   "source": [
    "print(n_exco)"
   ]
  },
  {
   "cell_type": "code",
   "execution_count": null,
   "metadata": {},
   "outputs": [],
   "source": []
  }
 ],
 "metadata": {
  "kernelspec": {
   "display_name": "Python 3",
   "language": "python",
   "name": "python3"
  },
  "language_info": {
   "codemirror_mode": {
    "name": "ipython",
    "version": 3
   },
   "file_extension": ".py",
   "mimetype": "text/x-python",
   "name": "python",
   "nbconvert_exporter": "python",
   "pygments_lexer": "ipython3",
   "version": "3.7.6"
  }
 },
 "nbformat": 4,
 "nbformat_minor": 4
}
