{
 "cells": [
  {
   "cell_type": "code",
   "execution_count": 2,
   "metadata": {},
   "outputs": [],
   "source": [
    "import numpy as np\n",
    "import time\n",
    "import math\n",
    "import modules as md\n",
    "import nbodysolver as nbs\n",
    "%matplotlib inline\n",
    "import matplotlib.pyplot as plt\n",
    "import matplotlib as mpl\n",
    "from mpl_toolkits.mplot3d import Axes3D\n",
    "import matplotlib.pyplot as plt\n",
    "\n",
    "\n",
    "#------------------------------------------------------------------------------------------\n",
    "#Units and conversions:\n",
    "#------------------------------------------------------------------------------------------\n",
    "#code units: Rsun, Msun, G=1, ...\n",
    "c_SI       = 299792458.0        #m/s\n",
    "M_sun_SI   = 1.989*(10.**30.)   #kg\n",
    "R_sun_SI   = 695800000.         #m\n",
    "R_bull_SI = 1000 #m \n",
    "AU_SI      = 149597871000.      #m \n",
    "G_new_SI   = 6.67*(10.**(-11.)) #m**3 kg**(-1) s**(-2)\n",
    "AU_U       = AU_SI/R_sun_SI                             #from dist AU to code units (U)\n",
    "kmsec_U    = 1000./np.sqrt(G_new_SI*M_sun_SI/R_bull_SI)  #from vel km/sec to code units (U)\n",
    "time_U     = 1/np.sqrt(G_new_SI*M_sun_SI/R_bull_SI**3) #from CU to second np.sqrt((R_bull_SI)/(G_new_SI*M_sun_SI)) #from code units(U) to time sec\n",
    "#Rsch_1Msun_unitRsun = ((2.*G_new_SI*(1.*M_sun_SI))/(c_SI**2.))/R_sun_SI\n",
    "c_CU = c_SI/1000*kmsec_U"
   ]
  },
  {
   "cell_type": "markdown",
   "metadata": {},
   "source": [
    "# Newtonian\n"
   ]
  },
  {
   "cell_type": "code",
   "execution_count": 3,
   "metadata": {},
   "outputs": [],
   "source": [
    "#Acceleration\n",
    "\n",
    "def acc(r,m): #r position, m mass\n",
    "    a = np.zeros((len(r),3)) #Create acceleration vector\n",
    "    for i in range(len(r)): #Range is size of timesteps or position steps\n",
    "        for j in range(len(r)): #For each particle\n",
    "            if (i != j):\n",
    "                rrel = r[i]-r[j]\n",
    "                rn = (rrel**2).sum()**(1./2) \n",
    "                a[i] += -(rrel)*m[j]/(rn**3.0) #Acceleration at each time step \n",
    "    return a # return acceleration\n",
    "\n",
    "\n",
    "def Jerk(r,v,m): #position, velocity, mass\n",
    "    Je = np.zeros((len(r),3)) #Define the Jerk\n",
    "    for i in range(len(r)):\n",
    "        for j in range(len(r)):\n",
    "            if (i != j):\n",
    "                rrel = r[i]-r[j]\n",
    "                vrel = v[i]-v[j]\n",
    "                rn = (rrel**2).sum()**(1./2) # dot product\n",
    "                vn = (vrel**2).sum()**(1./2)\n",
    "                rvd = ((rrel)*(vrel)).sum()\n",
    "                Je[i] += - m[j]*((vrel)/rn**3.0 - 3.*(rvd*rrel/(rn**5.0))) \n",
    "    return Je;\n",
    "\n",
    "#Hermite Update Dynamical Timestep\n",
    "\n",
    "def HermiteUpdatedtp(dt, r, v, m): \n",
    "    a = acc(r, m)          # current acceleration\n",
    "    adot = Jerk(r,v,m)     # current jerks\n",
    "    rp = r + dt*v + dt**2/2 * a + dt**3/6* adot   # predict\n",
    "    vp = v + dt*a + dt**2/2 * adot\n",
    "    ap = acc(rp,m)          # predicted acceleration\n",
    "    adotp = Jerk(rp,vp,m)  # predicted jerks \n",
    "    vp = v + dt/2*(a+ap) - dt**2/12*(adotp-adot)  # correct\n",
    "    rp = r + dt/2*(v + vp) - dt**2/12 *(ap-a) \n",
    "    \n",
    "    #compute some other things to find the best value for the timestep\n",
    "    a2 = (1./dt**2)*(-6*(a-ap)-dt*(4*adot + 2*adotp))\n",
    "    a3 = (1./dt**3)*(-12*(a-ap)-6*dt*(adot + adotp))\n",
    "    ac = a + adot*dt + (1./2)*(dt**2)*a2 + (1./6)*(dt**2)*a3    \n",
    "    a2c = a2 + dt*a3    \n",
    "    acn = ((ac**2).sum())**(1./2) #dot product\n",
    "    a2cn = ((a2c**2).sum())**(1./2)\n",
    "    adotpn = ((adotp**2).sum())**(1./2)\n",
    "    a3n = ((a3**2).sum())**(1./2)\n",
    "    \n",
    "    dtp = (accu*(acn*a2cn + adotpn**2)/(adotpn*a3n + a2cn**2))**(1./2)\n",
    "    \n",
    "    return rp, vp, dtp #Most basic output\n",
    "    #return rp,vp,ap,adotp,dtp\n",
    "\n",
    "#Hermite Update Dynamical Timestep\n",
    "\n",
    "def Hermite4thdtp(pri,sec, bina, nsteps, Dt):\n",
    "    \n",
    "    N=2\n",
    "    m = np.ones(N)#/N #Remove the N if not necessary\n",
    "    m[0]=pri.mass\n",
    "    m[1]=sec.mass\n",
    "    \n",
    "    r_res = np.zeros((2,3,nsteps)) # 2 because of two bodies\n",
    "    v_res = np.zeros((2,3,nsteps))\n",
    "    dtp = np.zeros(nsteps)\n",
    "    time = np.zeros(nsteps)\n",
    "    #Add to get full output\n",
    "    #a_res = np.zeros((2,3,nsteps)) # 2 because of two bodies\n",
    "    #adot_res = np.zeros((2,3,nsteps))\n",
    "    r_res[:,:,0] = bina.r.copy()\n",
    "    v_res[:,:,0] = bina.v.copy()\n",
    "    dtp[0] = Dt\n",
    "\n",
    "    #Basic output      \n",
    "    for i in range(1,nsteps):\n",
    "        (r_res[:,:,i],v_res[:,:,i],dtp[i]) = HermiteUpdatedtp(dtp[i-1], r_res[:,:,i-1], v_res[:,:,i-1], m)\n",
    "        time[i] = time[i-1] + dtp[i-1]\n",
    "        #Time limit\n",
    "        if time[i] >= timelimit:\n",
    "            break\n",
    "            \n",
    "    \n",
    "    #More output    \n",
    "    #for i in range(1,nsteps):\n",
    "    #    (r_res[:,:,i],v_res[:,:,i],a_res[:,:,i],adot_res[:,:,i],dtp[i]) = HermiteUpdatedtp(dtp[i-1], r_res[:,:,i-1], v_res[:,:,i-1], m)\n",
    "    #    time[i] = time[i-1] + dtp[i-1]\n",
    "    #    #Time limit\n",
    "    #    if time[i] >= timelimit:\n",
    "    #        break\n",
    "            \n",
    "    r_res = r_res[:,:,:i]\n",
    "    v_res = v_res[:,:,:i]\n",
    "    dtp = dtp[:i]\n",
    "    time = time[:i]\n",
    "    #Add for complete output\n",
    "    #a_res = a_res[:,:,:i]\n",
    "    #adot_res = adot_res[:,:,:i]\n",
    "\n",
    "    \n",
    "    \n",
    "    return r_res, v_res, time #a_res, adot_res, dtp, time\n",
    "    #return r_res, v_res, a_res, adot_res, dtp, time #Complete output\n",
    "\n"
   ]
  },
  {
   "cell_type": "markdown",
   "metadata": {},
   "source": [
    "## Test "
   ]
  },
  {
   "cell_type": "code",
   "execution_count": 4,
   "metadata": {},
   "outputs": [],
   "source": [
    "#Define black holes\n",
    "bh1 = md.Particle(\"BH\",5,0,0) #stellar type, mass, radius, spin. At the momento for black holes choose r=0 and will set the Schwarzchild radius\n",
    "bh2 = md.Particle(\"BH\",20,0,0)\n",
    "\n",
    "#Define binary\n",
    "bh1bh1 = md.Binary(bh1, bh1, bh1.radi*50, 0) ##primary, secondary, orbital distance (Rsun), eccentricity\n",
    "bh1bh2 = md.Binary(bh1, bh2, bh1.radi*50, 0) ##primary, secondary, orbital distance (Rsun), eccentricity\n",
    "\n",
    "\n",
    "accu = 0.001 #0.02 Set accuracy parameter\n",
    "tl = 1*bh1bh2.periodct #Time of the simulation in [cpde units]\n",
    "timelimit = tl #\n",
    "dt = 10 #Guess a timestep\n",
    "Nsteps = int(tl/dt)#Number of timesteps with the guessed timestep \n",
    "\n",
    "rN,vN, timeN= Hermite4thdtp(bh1,bh2, bh1bh2, Nsteps, dt)"
   ]
  },
  {
   "cell_type": "code",
   "execution_count": 5,
   "metadata": {},
   "outputs": [
    {
     "name": "stderr",
     "output_type": "stream",
     "text": [
      "No handles with labels found to put in legend.\n"
     ]
    },
    {
     "data": {
      "image/png": "[encoded data removed]",
      "text/plain": [
       "<Figure size 432x288 with 1 Axes>"
      ]
     },
     "metadata": {
      "needs_background": "light"
     },
     "output_type": "display_data"
    }
   ],
   "source": [
    "fig = plt.figure()\n",
    "ax = fig.gca(projection='3d')\n",
    "ax.plot(rN[0][0], rN[0][1], rN[0][2], 'r', linewidth=1)# Plot the BH orbit\n",
    "ax.plot(rN[1][0], rN[1][1], rN[1][2], 'b', linewidth=1)# Plot the star orbit\n",
    "ax.scatter3D(rN[0][0][-1], rN[0][1][-1], rN[0][2][-1], 'o', c='black') #s=100\n",
    "ax.scatter3D(rN[1][0][-1], rN[1][1][-1], rN[1][2][-1], 'o', c='black') #s=10\n",
    "ax.legend()\n",
    "#ax.set_xticks([])\n",
    "#ax.set_yticks([])\n",
    "#ax.set_zticks([])\n",
    "#ax.set_xlim3d(-1,1)\n",
    "#ax.set_ylim3d(-1,1)\n",
    "#ax.set_xlim3d(min(min(posbh1x), min(posbh2x)), max(max(posbh1x), max(posbh2x)))\n",
    "#ax.set_ylim3d(min(min(posbh1y), min(posbh2y)), max(max(posbh1y), max(posbh2y)))\n",
    "#ax.set_zlim3d(min(min(posbh1z), min(posbh2z)), max(max(posbh1z), max(posbh2z)))\n",
    "ax.set_xlabel('x')\n",
    "ax.set_ylabel('y')\n",
    "ax.set_zlabel('z')\n",
    "\n",
    "\n",
    "#plt.savefig('Newtoniancircular10000orbitalT.png', format='png', dpi=200)#, dpi=200\n",
    "\n",
    "plt.show()"
   ]
  },
  {
   "cell_type": "code",
   "execution_count": null,
   "metadata": {},
   "outputs": [],
   "source": []
  },
  {
   "cell_type": "code",
   "execution_count": null,
   "metadata": {},
   "outputs": [],
   "source": []
  }
 ],
 "metadata": {
  "kernelspec": {
   "display_name": "Python 3",
   "language": "python",
   "name": "python3"
  },
  "language_info": {
   "codemirror_mode": {
    "name": "ipython",
    "version": 3
   },
   "file_extension": ".py",
   "mimetype": "text/x-python",
   "name": "python",
   "nbconvert_exporter": "python",
   "pygments_lexer": "ipython3",
   "version": "3.7.6"
  }
 },
 "nbformat": 4,
 "nbformat_minor": 4
}
