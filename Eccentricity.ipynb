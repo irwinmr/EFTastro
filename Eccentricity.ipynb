{
 "cells": [
  {
   "cell_type": "markdown",
   "metadata": {},
   "source": [
    "When computing the position in the orbit we have to solve the transcendental equation\n",
    "\n",
    "$$ M = E - e \\sin E $$\n",
    "\n",
    "Write it down as Danby(1988)\n",
    "\n",
    "$$ f(E) = E - e \\sin E - M $$\n",
    "\n",
    "and use the Newton-Raphson iteration method to find the root of the nonlinear equation $f(E)=0$. The iteration scheme\n",
    "\n",
    "$$ E_{i + 1} = E_i - \\frac{f(E_i)}{f'(E_i)} $$\n",
    "\n",
    "with $i = 0,1,2,...,$ and $f'(E_i) = \\mathrm{d}f(E_i)/\\mathrm{d}E_i = 1 - e \\mathrm{cos} E_i.$\n",
    "\n",
    "Substituting $f(E)$ and $f'(E)$ into the iteration scheme $E_{i+1}$ we obtain \n",
    "\n",
    "$$E_{i+1} = E_{i} - \\frac{E_{i} - e \\sin E_{i} - M}{1 - e \\cos E_{i}} $$\n",
    "\n",
    "Initial value $E_{0}$\n",
    "\n",
    "Danby (1988) points out that, by first reducing $M$ to the range\n",
    "$0 \\leq M \\leq 2 \\pi$, the initial guess\n",
    "\n",
    "$$E_0 = M + \\mathrm{sign}(\\sin M)k e $$\n",
    "\n",
    "with $0 \\leq k \\leq 1$ and we will make use of the recomended value $k=0.85$. Further details of this and other methods are discussed\n",
    "in Danby & Burkardt (1983), Burkardt & Danby (1983), and Danby (1987)."
   ]
  },
  {
   "cell_type": "code",
   "execution_count": 1,
   "metadata": {},
   "outputs": [],
   "source": [
    "import math \n",
    "import numpy as np\n",
    "import random"
   ]
  },
  {
   "cell_type": "code",
   "execution_count": 2,
   "metadata": {},
   "outputs": [],
   "source": [
    "mean_anom = (2.*np.pi)*random.random() #mean_anomaly\n",
    "\n"
   ]
  },
  {
   "cell_type": "code",
   "execution_count": 47,
   "metadata": {},
   "outputs": [],
   "source": [
    "ecc_bin = 0.9\n",
    "kk = 0.85\n",
    "E0 = mean_anom + np.sign(np.sin(mean_anom))*kk*ecc_bin"
   ]
  },
  {
   "cell_type": "code",
   "execution_count": 48,
   "metadata": {},
   "outputs": [
    {
     "name": "stdout",
     "output_type": "stream",
     "text": [
      "0.9600727261440201\n"
     ]
    }
   ],
   "source": [
    "print(E0)"
   ]
  },
  {
   "cell_type": "code",
   "execution_count": 49,
   "metadata": {},
   "outputs": [],
   "source": [
    "E1 = E0 - (E0 - ecc_bin*np.sin(E0) - mean_anom)/(1 - ecc_bin*np.cos(E0))"
   ]
  },
  {
   "cell_type": "code",
   "execution_count": 50,
   "metadata": {},
   "outputs": [
    {
     "name": "stdout",
     "output_type": "stream",
     "text": [
      "0.9028483539163896\n"
     ]
    }
   ],
   "source": [
    "print(E1)"
   ]
  },
  {
   "cell_type": "code",
   "execution_count": 51,
   "metadata": {},
   "outputs": [
    {
     "name": "stdout",
     "output_type": "stream",
     "text": [
      "0.9028483539163896\n",
      "0.9001577384940253\n",
      "0.9001519385461373\n",
      "0.900151938519225\n",
      "0.9001519385192249\n",
      "0.9001519385192248\n",
      "0.9001519385192247\n",
      "0.9001519385192248\n"
     ]
    }
   ],
   "source": [
    "ifor = 8\n",
    "Ei1 = E0 #Define E_{i-1}\n",
    "for i in range(ifor):\n",
    "    Ei = Ei1 - (Ei1 - ecc_bin*np.sin(Ei1) - mean_anom)/(1 - ecc_bin*np.cos(Ei1))   \n",
    "    Ei1 = Ei\n",
    "    print(Ei)"
   ]
  },
  {
   "cell_type": "code",
   "execution_count": 30,
   "metadata": {},
   "outputs": [
    {
     "name": "stdout",
     "output_type": "stream",
     "text": [
      "1.0726768003470104\n"
     ]
    }
   ],
   "source": [
    "print(Ei)"
   ]
  },
  {
   "cell_type": "code",
   "execution_count": 13,
   "metadata": {},
   "outputs": [],
   "source": [
    "ecc_anom = Ei\n"
   ]
  },
  {
   "cell_type": "code",
   "execution_count": 14,
   "metadata": {},
   "outputs": [],
   "source": [
    "#------------------------------------------------------------------------------------------\n",
    "#Units and conversions:\n",
    "#------------------------------------------------------------------------------------------\n",
    "#code units: Rsun, Msun, G=1, ...\n",
    "c_SI       = 299792458.0        #m/s\n",
    "M_sun_SI   = 1.989*(10.**30.)   #kg\n",
    "R_sun_SI   = 695800000.         #m\n",
    "AU_SI      = 149597871000.      #m \n",
    "G_new_SI   = 6.67*(10.**(-11.)) #m**3 kg**(-1) s**(-2)\n",
    "AU_U       = AU_SI/R_sun_SI                             #from dist AU to code units (U)\n",
    "kmsec_U    = 1000./np.sqrt(G_new_SI*M_sun_SI/R_sun_SI)  #from vel km/sec to code units (U)\n",
    "time_U     = np.sqrt((R_sun_SI**3)/(G_new_SI*M_sun_SI)) #from time sec to code units(U)\n",
    "Rsch_1Msun_unitRsun = ((2.*G_new_SI*(1.*M_sun_SI))/(c_SI**2.))/R_sun_SI"
   ]
  },
  {
   "cell_type": "code",
   "execution_count": 23,
   "metadata": {},
   "outputs": [],
   "source": [
    "\n",
    "#bin_f = 2.*np.arctan((((1.+ecc_bin)/(1.-ecc_bin))**(1./2.))*np.tan(sol_eccE/2.))\n",
    "bin_f = 2.*np.arctan(((1+ecc_bin)/(1-ecc_bin))**(1./2))*np.tan(ecc_anom/2.)\n",
    "#Redefinition of mass variables\n",
    "mb1 = 2#b1_mass\n",
    "mb2 = 1#b2_mass\n",
    "\n",
    "#SMA_arr = [0.0279028]\n",
    "#SMA_AU_arr          = np.array([SMA_arr[0]]) #[1e-3]     #input in AU of the binary\n",
    "#MCvalues_SMA_arr    = AU_U*np.array(SMA_AU_arr)\n",
    "\n",
    "orbd = 6\n",
    "\n",
    "#calc/define:\n",
    "Mb12_SI     = (mb1+mb2)*M_sun_SI\n",
    "pfac_SI     = ((orbd*R_sun_SI)*(1.-ecc_bin**2))\n",
    "hfac_SI     = (np.sqrt(G_new_SI*Mb12_SI*pfac_SI))\n",
    "rdist_SI    = (pfac_SI/(1.+ecc_bin*np.cos(bin_f)))\n",
    "v_ang_SI    = (hfac_SI/rdist_SI)\n",
    "v_rad_SI    = ((ecc_bin*np.sin(bin_f)/pfac_SI)*hfac_SI)\n",
    "#calc pos and vel of reduced-mass object:\n",
    "posx_U  = - ((rdist_SI*np.cos(bin_f))/R_sun_SI)\n",
    "posy_U  =   ((rdist_SI*np.sin(bin_f))/R_sun_SI)\n",
    "velx_U  = - ((v_ang_SI*np.sin(bin_f) - v_rad_SI*np.cos(bin_f))*(kmsec_U/1000.))\n",
    "vely_U  = - ((v_rad_SI*np.sin(bin_f) + v_ang_SI*np.cos(bin_f))*(kmsec_U/1000.))\n",
    "#define pos/vel vecs:\n",
    "posvec_U = np.array([posx_U, posy_U, 0.0])\n",
    "velvec_U = np.array([velx_U, vely_U, 0.0])\n",
    "\n",
    "#change to binary COM:\n",
    "b1_posxyz_binCM    = - (mb2/(mb1+mb2))*posvec_U\n",
    "b1_velxyz_binCM    = - (mb2/(mb1+mb2))*velvec_U\n",
    "b2_posxyz_binCM    =   (mb1/(mb1+mb2))*posvec_U\n",
    "b2_velxyz_binCM    =   (mb1/(mb1+mb2))*velvec_U"
   ]
  },
  {
   "cell_type": "code",
   "execution_count": 24,
   "metadata": {},
   "outputs": [
    {
     "name": "stdout",
     "output_type": "stream",
     "text": [
      "[-0.00145504 -0.00525382 -0.        ]\n"
     ]
    }
   ],
   "source": [
    "print(b1_posxyz_binCM)"
   ]
  },
  {
   "cell_type": "code",
   "execution_count": 18,
   "metadata": {},
   "outputs": [
    {
     "data": {
      "text/plain": [
       "array([5.99913693])"
      ]
     },
     "execution_count": 18,
     "metadata": {},
     "output_type": "execute_result"
    }
   ],
   "source": [
    "MCvalues_SMA_arr"
   ]
  },
  {
   "cell_type": "code",
   "execution_count": null,
   "metadata": {},
   "outputs": [],
   "source": []
  }
 ],
 "metadata": {
  "kernelspec": {
   "display_name": "Python 3",
   "language": "python",
   "name": "python3"
  },
  "language_info": {
   "codemirror_mode": {
    "name": "ipython",
    "version": 3
   },
   "file_extension": ".py",
   "mimetype": "text/x-python",
   "name": "python",
   "nbconvert_exporter": "python",
   "pygments_lexer": "ipython3",
   "version": "3.7.6"
  }
 },
 "nbformat": 4,
 "nbformat_minor": 4
}
