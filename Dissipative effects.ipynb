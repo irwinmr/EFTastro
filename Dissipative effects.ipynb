{
 "cells": [
  {
   "cell_type": "code",
   "execution_count": null,
   "metadata": {},
   "outputs": [],
   "source": [
    "import numpy as np\n",
    "import time\n",
    "import math\n",
    "import modules as md\n",
    "%matplotlib inline\n",
    "import matplotlib.pyplot as plt\n",
    "import matplotlib as mpl\n",
    "from mpl_toolkits.mplot3d import Axes3D\n",
    "import matplotlib.pyplot as plt"
   ]
  },
  {
   "cell_type": "code",
   "execution_count": 1,
   "metadata": {},
   "outputs": [],
   "source": [
    "#------------------------------------------------------------------------------------------\n",
    "#Units and conversions:\n",
    "#------------------------------------------------------------------------------------------\n",
    "#code units: Rsun, Msun, G=1, ...\n",
    "c_SI       = 299792458.0        #m/s\n",
    "M_sun_SI   = 1.989*(10.**30.)   #kg\n",
    "R_sun_SI   = 695800000.         #m\n",
    "R_bull_SI = 1000 #m \n",
    "AU_SI      = 149597871000.      #m \n",
    "G_new_SI   = 6.67*(10.**(-11.)) #m**3 kg**(-1) s**(-2)\n",
    "AU_U       = AU_SI/R_sun_SI                             #from dist AU to code units (U)\n",
    "kmsec_U    = 1000./np.sqrt(G_new_SI*M_sun_SI/R_bull_SI)  #from vel km/sec to code units (U)\n",
    "time_U     = 1/np.sqrt(G_new_SI*M_sun_SI/R_bull_SI**3) #from CU to second np.sqrt((R_bull_SI)/(G_new_SI*M_sun_SI)) #from code units(U) to time sec\n",
    "#Rsch_1Msun_unitRsun = ((2.*G_new_SI*(1.*M_sun_SI))/(c_SI**2.))/R_sun_SI\n",
    "c_CU = c_SI/1000*kmsec_U"
   ]
  },
  {
   "cell_type": "markdown",
   "metadata": {},
   "source": [
    "$$ N_2 r_{o}^5 F_{2m}^{Sch} = \\frac{i}{360} r^6_{o} \\omega $$"
   ]
  },
  {
   "cell_type": "markdown",
   "metadata": {},
   "source": [
    "$$N_2 r_{o}^5 F^{Kerr}_{2m} = - \\frac{i}{360} \\frac{(ma - r_o r_{+}\\omega)}{r_{+} - r_{-}} = - \\frac{i}{360} \\frac{m}{r_{+} - r_{-}}a + \\frac{i}{360} \\frac{r_o r_{+}}{r_{+} - r_{-}}\\omega $$"
   ]
  },
  {
   "cell_type": "markdown",
   "metadata": {},
   "source": [
    "$$N_2 r_{o}^5 F^{Kerr}_{2m}  = + \\frac{i}{180} \\frac{r_o^5}{r_{+} - r_{-}} a + \\frac{i}{360} \\frac{r_o^6 r_{+}}{r_{+} - r_{-}}\\omega = i \\eta_{a} a + i \\eta_{E} \\omega$$"
   ]
  },
  {
   "cell_type": "markdown",
   "metadata": {},
   "source": [
    "$$ \\eta_E = \\frac{r^6_{o}}{360}  $$"
   ]
  },
  {
   "cell_type": "markdown",
   "metadata": {},
   "source": [
    "$$F_{2m}^{kerr} = - \\frac{i}{120} \\frac{ma - 2 M r_{+} \\omega}{r_+ - r_-} = - \\frac{i}{120} \\sum_{m} \\frac{ma - 2 M r_{+} \\omega}{r_+ - r_-}$$"
   ]
  },
  {
   "cell_type": "markdown",
   "metadata": {},
   "source": []
  },
  {
   "cell_type": "markdown",
   "metadata": {},
   "source": [
    "## Newtonian "
   ]
  },
  {
   "cell_type": "code",
   "execution_count": 2,
   "metadata": {},
   "outputs": [],
   "source": [
    "#Acceleration\n",
    "\n",
    "def acc(r,m): #r position, m mass\n",
    "    a = np.zeros((len(r),3)) #Create acceleration vector\n",
    "    for i in range(len(r)): #Range is size of timesteps or position steps\n",
    "        for j in range(len(r)): #For each particle\n",
    "            if (i != j):\n",
    "                rrel = r[i]-r[j]\n",
    "                rn = (rrel**2).sum()**(1./2) \n",
    "                a[i] += -(rrel)*m[j]/(rn**3.0) #Acceleration at each time step \n",
    "    return a # return acceleration\n",
    "\n",
    "\n",
    "def Jerk(r,v,m): #position, velocity, mass\n",
    "    Je = np.zeros((len(r),3)) #Define the Jerk\n",
    "    for i in range(len(r)):\n",
    "        for j in range(len(r)):\n",
    "            if (i != j):\n",
    "                rrel = r[i]-r[j]\n",
    "                vrel = v[i]-v[j]\n",
    "                rn = (rrel**2).sum()**(1./2) # dot product\n",
    "                vn = (vrel**2).sum()**(1./2)\n",
    "                rvd = ((rrel)*(vrel)).sum()\n",
    "                Je[i] += - m[j]*((vrel)/rn**3.0 - 3.*(rvd*rrel/(rn**5.0))) \n",
    "    return Je;\n",
    "\n"
   ]
  },
  {
   "cell_type": "markdown",
   "metadata": {},
   "source": [
    "# Dissipative effects"
   ]
  },
  {
   "cell_type": "code",
   "execution_count": 76,
   "metadata": {},
   "outputs": [],
   "source": [
    "def accdiss(r,v,m,ne): #r position, m mass, s spin, m mass of the star and the value of ne\n",
    "    a = np.zeros((len(r),3)) #Create acceleration vector\n",
    "    a1 = np.zeros((len(r),3)) #Create acceleration vector\n",
    "    a2 = np.zeros((len(r),3)) #Create acceleration vector\n",
    "    #a3 = np.zeros((len(r),3)) #Create acceleration vector\n",
    "    for i in range(len(r)): #Range is size of timesteps or position steps\n",
    "        for j in range(len(r)): #For each particle\n",
    "            if (i != j):\n",
    "                rrel = r[i]-r[j]\n",
    "                vrel = v[i]-v[j]\n",
    "                rn = ((rrel**2).sum())**(1./2) #dot product\n",
    "                runi = rrel/rn\n",
    "                a1[i] += -(9.)*ne[i]*((m[j]**2)/m[i])*(vrel)/(rn**8.0) #Acceleration at each time step    \n",
    "                a2[i] += -(18.)*ne[i]*((m[j]**2)/m[i])*(runi*((runi*vrel).sum()))/(rn**8.0)\n",
    "                #a3[i] += -(9.)*ne[i]*((m[j]**2)/m[i])*(vrel)/(rn**8.0)\n",
    "                a[i] = a1[i] + a2[i] #+ a3[i] \n",
    "                #This is the term that becomes zero in a circular orbit\n",
    "                #a[i,:] += -(18.)*ne[i]*((m[j]**2)/m[i])*(runi)*((runi*vrel).sum())/(rn**8.0) #Acceleration at each time step \n",
    "    return a # return acceleration\n",
    "\n",
    "\n",
    "def Jerkdiss(r,v,a,m, ne): #r position, v velocity, m mass, m mass of the star, ne\n",
    "    Je = np.zeros((len(r),3)) #Define the Jerk\n",
    "    Je1 = np.zeros((len(r),3)) #Define the Jerk\n",
    "    Je2 = np.zeros((len(r),3)) #Define the Jerk\n",
    "\n",
    "    for i in range(len(r)):\n",
    "        for j in range(len(r)):\n",
    "            if (i != j):\n",
    "                rrel = (r[i]-r[j])\n",
    "                vrel = (v[i]-v[j])\n",
    "                arel = (a[i]-a[j])\n",
    "                rn = ((rrel**2).sum())**(1./2) # dot product\n",
    "                vn = ((vrel**2).sum())**(1./2)\n",
    "                Je1[i] += - (9.0)*ne[i]*((m[j]**2)/m[i])*( arel/rn**8.0 - 8.*((vrel*rrel).sum())*(vrel)/(rn**10.0) )                 \n",
    "                Je2[i] += - (18.0)*ne[i]*((m[j]**2)/m[i])*((arel*((rrel*vrel).sum()) + rrel*((rrel*arel).sum() + vn**2))/(rn**10.0) - (10*rrel*(((rrel*vrel).sum())**2))/(rn**12.0))\n",
    "                Je[i] = Je1[i] + Je2[i]\n",
    "    return Je;\n",
    "\n",
    "\n",
    "####v2\n",
    "def HermiteUpdatedissdt(dt, r, v, m, ns): # m mass of the star\n",
    "    \n",
    "    aN = acc(r, m) \n",
    "    aD = accdiss(r, v, m, ns)\n",
    "    a = aN + aD           # current acceleration\n",
    "    aNdot = Jerk(r,v,m)\n",
    "    aDdot = Jerkdiss(r, v, a, m, ns)\n",
    "    adot = aNdot + aDdot # current jerks\n",
    "    rp = r + dt*v + dt**2/2 * a + dt**3/6* adot   # predict\n",
    "    vp = v + dt*a + dt**2/2 * adot\n",
    "\n",
    "    aNp = acc(rp, m)\n",
    "    aDp = accdiss(rp, vp, m, ns)\n",
    "    ap = aNp + aDp         # predicted acceleration\n",
    "\n",
    "    aNdotp = Jerk(rp, vp, m)\n",
    "    aDdotp = Jerkdiss(rp, vp, ap, m, ns)\n",
    "    adotp = aNdotp + aDdotp  # predicted jerks \n",
    "    \n",
    "    dtp = dt\n",
    "    \n",
    "    vc = v + dt/2*(a+ap) - dt**2/12*(adotp-adot)  # correct\n",
    "    rc = r + dt/2*(v + vp) - dt**2/12 * (ap-a)\n",
    "    ac = a + dt/2*(adotp+adot)\n",
    "    aNc = aN + dt/2*(aNdotp + aNdot)\n",
    " \n",
    "    return rc,vc,ac,aNc,dtp\n",
    "\n",
    "def Hermite4thdissdt(pri,sec, bina, nsteps, Dt):\n",
    "    \n",
    "    N=2\n",
    "    m = np.ones(N)#/N #Remove the N if not necessary\n",
    "    m[0]=pri.mass\n",
    "    m[1]=sec.mass\n",
    "    \n",
    "    r_res = np.zeros((2,3,nsteps)) # 2 because of two bodies\n",
    "    v_res = np.zeros((2,3,nsteps))\n",
    "\n",
    "    aN_res = np.zeros((2,3,nsteps)) # 2 because of two bodies\n",
    "    adotN_res = np.zeros((2,3,nsteps))\n",
    "\n",
    "    a_res = np.zeros((2,3,nsteps)) # 2 because of two bodies\n",
    "    adot_res = np.zeros((2,3,nsteps))\n",
    "\n",
    "    \n",
    "    time = np.zeros(nsteps)\n",
    "    r_res[:,:,0] = bina.r.copy()\n",
    "    v_res[:,:,0] = bina.v.copy()\n",
    "    etav = np.array([pri.eta, sec.eta])\n",
    "    \n",
    "    dtp = np.zeros(nsteps)\n",
    "    dtp[0] = Dt\n",
    "    \n",
    "    for i in range(1,nsteps):\n",
    "        (r_res[:,:,i],v_res[:,:,i],a_res[:,:,i],aN_res[:,:,i],dtp[i]) = HermiteUpdatedissdt(Dt, r_res[:,:,i-1], v_res[:,:,i-1], m, etav)\n",
    "        time[i] = time[i-1] + Dt#+ dtp[i-1] #+ Dt #\n",
    "        if time[i] >= timelimit:\n",
    "            break\n",
    "            \n",
    "    r_res = r_res[:,:,:i]\n",
    "    v_res = v_res[:,:,:i]\n",
    "    a_res = a_res[:,:,:i]\n",
    "    #adot_res = adot_res[:,:,:i]\n",
    "    aN_res = aN_res[:,:,:i]\n",
    "    #adotN_res = adotN_res[:,:,:i]\n",
    "    dtp = dtp[:i]\n",
    "    time = time[:i]\n",
    "        \n",
    "    return r_res, v_res, a_res, aN_res, dtp, time"
   ]
  },
  {
   "cell_type": "markdown",
   "metadata": {},
   "source": [
    "## Circular Orbit "
   ]
  },
  {
   "cell_type": "code",
   "execution_count": 77,
   "metadata": {},
   "outputs": [],
   "source": [
    "bh = md.Particle(\"BH\",10,0,0) #stellar type, mass, radius, spin. At the momento for black holes choose r=0 and will set the Schwarzchild radius\n",
    "\n",
    "bhbhco = md.Binary(bh,bh, 5*bh.radi,0)"
   ]
  },
  {
   "cell_type": "code",
   "execution_count": 78,
   "metadata": {},
   "outputs": [],
   "source": [
    "accu = 0.001 # Set accuracy parameter 0.0000000001  works good, try add another 0\n",
    "tl = 1*bhbhco.periodct #Time of the simulation in [cpde units]\n",
    "timelimit = tl #\n",
    "dt = 0.1 # 0.0005 working better, \n",
    "Nsteps = int(tl/dt)#Number of timesteps with the guessed timestep \n"
   ]
  },
  {
   "cell_type": "code",
   "execution_count": 7,
   "metadata": {},
   "outputs": [],
   "source": [
    "rc,vc,ac,aNc,dtp,time = Hermite4thdissdt(bh,bh, bhbhco, Nsteps, dt)"
   ]
  },
  {
   "cell_type": "code",
   "execution_count": 9,
   "metadata": {},
   "outputs": [
    {
     "name": "stdout",
     "output_type": "stream",
     "text": [
      "0.1\n",
      "0.1\n"
     ]
    }
   ],
   "source": [
    "print(max(dtp))\n",
    "print(min(dtp[1:]))"
   ]
  },
  {
   "cell_type": "code",
   "execution_count": 60,
   "metadata": {},
   "outputs": [
    {
     "name": "stdout",
     "output_type": "stream",
     "text": [
      "25195\n",
      "[147.60983881]\n",
      "[147.61116613]\n"
     ]
    }
   ],
   "source": [
    "#aTcoc = aTco + adotTco*dtpwtco#Acceleration corrected\n",
    "#aNcoc = aNco + adotNco*dtpwtco\n",
    "\n",
    "aratio = np.zeros_like(aNc[1].T)\n",
    "for i in range(len(aNc[1].T)-1):\n",
    "    aratio[i+1][0] = (ac[1].T[i+1][0])/(aNc[1].T[i+1][0])\n",
    "    aratio[i+1][1] = (ac[1].T[i+1][1])/(aNc[1].T[i+1][1])\n",
    "    #print(aratio[i][1])\n",
    "    \n",
    "#define relative position\n",
    "relposT = rc[1].T - rc[0].T \n",
    "#define relative velocity\n",
    "relvelT = vc[1].T - vc[0].T\n",
    "\n",
    "normrelposT = np.zeros([len(relposT), 1]) \n",
    "normrelvelT = np.zeros([len(relvelT), 1]) \n",
    "rdotv = np.zeros([len(relvelT), 1]) \n",
    "runidotv = np.zeros([len(relvelT), 1]) \n",
    "\n",
    "\n",
    "for i in range(len(normrelposT)):\n",
    "    normrelposT[i] = np.sqrt(relposT[i][0]**2 + relposT[i][1]**2 + relposT[i][2]**2)\n",
    "    normrelvelT[i] = np.sqrt(relvelT[i][0]**2 + relvelT[i][1]**2 + relvelT[i][2]**2)\n",
    "    rdotv[i] = np.dot(relposT[i], relvelT[i])\n",
    "    runidotv[i] = np.dot(relposT[i], relvelT[i])/normrelposT[i]\n",
    "    \n",
    "print(len(normrelposT.T[0]))\n",
    "print(min(normrelposT))\n",
    "print(max(normrelposT))"
   ]
  },
  {
   "cell_type": "code",
   "execution_count": 66,
   "metadata": {},
   "outputs": [
    {
     "data": {
      "text/plain": [
       "array([ 0.00000000e+00, -1.63780765e-14, -6.55122823e-14, ...,\n",
       "       -5.24321904e-11, -5.23001427e-11, -5.22008507e-11])"
      ]
     },
     "execution_count": 66,
     "metadata": {},
     "output_type": "execute_result"
    }
   ],
   "source": [
    "runidotv.T[0]"
   ]
  },
  {
   "cell_type": "code",
   "execution_count": 79,
   "metadata": {},
   "outputs": [
    {
     "name": "stderr",
     "output_type": "stream",
     "text": [
      "/home/irvin/miniconda3/lib/python3.7/site-packages/ipykernel_launcher.py:1: RuntimeWarning: divide by zero encountered in true_divide\n",
      "  \"\"\"Entry point for launching an IPython kernel.\n"
     ]
    }
   ],
   "source": [
    "n_exco = (normrelposT.T[0]**6)*(1./9)*(1.*bh.mass/bh.mass)*(1./(relvelT.T[0]-2*runidotv.T[0]))*(aratio.T[0] - 1) \n",
    "n_eyco = (normrelposT.T[0]**6)*(1./9)*(1.*bh.mass/bh.mass)*(1./(relvelT.T[1]-2*runidotv.T[0]))*(aratio.T[1] - 1)"
   ]
  },
  {
   "cell_type": "code",
   "execution_count": 84,
   "metadata": {},
   "outputs": [
    {
     "data": {
      "image/png": "[encoded data removed]",
      "text/plain": [
       "<Figure size 432x288 with 1 Axes>"
      ]
     },
     "metadata": {
      "needs_background": "light"
     },
     "output_type": "display_data"
    }
   ],
   "source": [
    "plt.plot(time[1:], n_exco[1:]/bh.eta, 'm-', label = r'$n_{Ex}$', alpha = 1)\n",
    "plt.plot(time[1:], n_eyco[1:]/bh.eta, 'c-', label = r'$n_{Ey}$', alpha = 1)\n",
    "#plt.plot(timearrayN.T[0][2:], n_ey[1:], 'b-', label = r'$n_{Ey}$', alpha = 0.5)\n",
    "#plt.plot(timearrayT[1:], posydif, 'b-', label = r'$\\Delta y$', alpha = 0.8)\n",
    "\n",
    "#plt.plot(timeave, dynstave.T[1], 'b-', label = r'$star$', alpha = 0.8)\n",
    "#plt.plot(time[1:], n_e.T[2], 'g-', label = r'$n_{ez}$', alpha = 0.8)\n",
    "#plt.xlim(0,1000)\n",
    "plt.ylim(-5,5)\n",
    "#2234355.8738294537\n",
    "plt.xlabel('code time')\n",
    "plt.ylabel(r'$n_{E}$',rotation=0)\n",
    "\n",
    "plt.title(r'$n_{E}$ circular orbit')\n",
    "plt.legend()\n",
    "#plt.savefig('ne-evolution-circular-0.001-3rt.png', bbox_inches='tight', dpi=300)#, dpi=300\n",
    "\n",
    "plt.show()"
   ]
  },
  {
   "cell_type": "code",
   "execution_count": 28,
   "metadata": {},
   "outputs": [
    {
     "data": {
      "text/plain": [
       "0.0"
      ]
     },
     "execution_count": 28,
     "metadata": {},
     "output_type": "execute_result"
    }
   ],
   "source": [
    "max(aratio.T[0])\n",
    "max(aratio.T[1])\n",
    "min(aratio.T[1])"
   ]
  },
  {
   "cell_type": "code",
   "execution_count": 47,
   "metadata": {},
   "outputs": [
    {
     "data": {
      "text/plain": [
       "2321732.641973236"
      ]
     },
     "execution_count": 47,
     "metadata": {},
     "output_type": "execute_result"
    }
   ],
   "source": [
    "n_eyco[20000]"
   ]
  },
  {
   "cell_type": "code",
   "execution_count": 23,
   "metadata": {},
   "outputs": [
    {
     "name": "stdout",
     "output_type": "stream",
     "text": [
      "25195\n"
     ]
    }
   ],
   "source": [
    "print(len(relvelT.T[0]))"
   ]
  },
  {
   "cell_type": "code",
   "execution_count": 25,
   "metadata": {},
   "outputs": [
    {
     "name": "stdout",
     "output_type": "stream",
     "text": [
      "2172430.389425021\n"
     ]
    }
   ],
   "source": [
    "nt =10000\n",
    "\n",
    "print((np.abs(aratio.T[1][nt]-1))/(1./np.abs(relvelT.T[0][nt]))*(normrelposT.T[0][nt]**6))"
   ]
  },
  {
   "cell_type": "code",
   "execution_count": 17,
   "metadata": {},
   "outputs": [
    {
     "name": "stdout",
     "output_type": "stream",
     "text": [
      "2234355.8738294537\n"
     ]
    }
   ],
   "source": [
    "print(bh.eta)"
   ]
  },
  {
   "cell_type": "code",
   "execution_count": 38,
   "metadata": {},
   "outputs": [
    {
     "ename": "NameError",
     "evalue": "name 'timewtco' is not defined",
     "output_type": "error",
     "traceback": [
      "\u001b[0;31m---------------------------------------------------------------------------\u001b[0m",
      "\u001b[0;31mNameError\u001b[0m                                 Traceback (most recent call last)",
      "\u001b[0;32m<ipython-input-38-92e4b63204a7>\u001b[0m in \u001b[0;36m<module>\u001b[0;34m\u001b[0m\n\u001b[0;32m----> 1\u001b[0;31m \u001b[0mplt\u001b[0m\u001b[0;34m.\u001b[0m\u001b[0mplot\u001b[0m\u001b[0;34m(\u001b[0m\u001b[0mtimewtco\u001b[0m\u001b[0;34m[\u001b[0m\u001b[0;36m1\u001b[0m\u001b[0;34m:\u001b[0m\u001b[0;34m]\u001b[0m\u001b[0;34m,\u001b[0m \u001b[0mn_eyco\u001b[0m\u001b[0;34m,\u001b[0m \u001b[0;34m'c-'\u001b[0m\u001b[0;34m,\u001b[0m \u001b[0mlabel\u001b[0m \u001b[0;34m=\u001b[0m \u001b[0;34mr'$n_{E}$'\u001b[0m\u001b[0;34m,\u001b[0m \u001b[0malpha\u001b[0m \u001b[0;34m=\u001b[0m \u001b[0;36m1\u001b[0m\u001b[0;34m)\u001b[0m\u001b[0;34m\u001b[0m\u001b[0;34m\u001b[0m\u001b[0m\n\u001b[0m\u001b[1;32m      2\u001b[0m \u001b[0;31m#plt.plot(timearrayN.T[0][2:], n_ey[1:], 'b-', label = r'$n_{Ey}$', alpha = 0.5)\u001b[0m\u001b[0;34m\u001b[0m\u001b[0;34m\u001b[0m\u001b[0;34m\u001b[0m\u001b[0m\n\u001b[1;32m      3\u001b[0m \u001b[0;31m#plt.plot(timearrayT[1:], posydif, 'b-', label = r'$\\Delta y$', alpha = 0.8)\u001b[0m\u001b[0;34m\u001b[0m\u001b[0;34m\u001b[0m\u001b[0;34m\u001b[0m\u001b[0m\n\u001b[1;32m      4\u001b[0m \u001b[0;34m\u001b[0m\u001b[0m\n\u001b[1;32m      5\u001b[0m \u001b[0;31m#plt.plot(timeave, dynstave.T[1], 'b-', label = r'$star$', alpha = 0.8)\u001b[0m\u001b[0;34m\u001b[0m\u001b[0;34m\u001b[0m\u001b[0;34m\u001b[0m\u001b[0m\n",
      "\u001b[0;31mNameError\u001b[0m: name 'timewtco' is not defined"
     ]
    }
   ],
   "source": [
    "plt.plot(timewtco[1:], n_eyco, 'c-', label = r'$n_{E}$', alpha = 1)\n",
    "#plt.plot(timearrayN.T[0][2:], n_ey[1:], 'b-', label = r'$n_{Ey}$', alpha = 0.5)\n",
    "#plt.plot(timearrayT[1:], posydif, 'b-', label = r'$\\Delta y$', alpha = 0.8)\n",
    "\n",
    "#plt.plot(timeave, dynstave.T[1], 'b-', label = r'$star$', alpha = 0.8)\n",
    "#plt.plot(time[1:], n_e.T[2], 'g-', label = r'$n_{ez}$', alpha = 0.8)\n",
    "#plt.xlim(0,1000)\n",
    "#plt.ylim(2000000,2334355)\n",
    "plt.xlabel('code time')\n",
    "plt.ylabel(r'$n_{E}$',rotation=0)\n",
    "\n",
    "plt.title(r'$n_{E}$ circular orbit')\n",
    "plt.legend()\n",
    "#plt.savefig('ne-evolution-circular-0.001-3rt.png', bbox_inches='tight', dpi=300)#, dpi=300\n",
    "\n",
    "plt.show()"
   ]
  },
  {
   "cell_type": "code",
   "execution_count": null,
   "metadata": {},
   "outputs": [],
   "source": [
    "print(min(n_exco[1:]))\n",
    "print(max(n_exco))\n",
    "print(bh.eta)\n"
   ]
  },
  {
   "cell_type": "code",
   "execution_count": null,
   "metadata": {},
   "outputs": [],
   "source": [
    "np.where(n_e)"
   ]
  },
  {
   "cell_type": "code",
   "execution_count": null,
   "metadata": {},
   "outputs": [],
   "source": [
    "print(min(n_exco[1:]))\n",
    "print(max(n_exco))\n",
    "print(ns.ntide)"
   ]
  },
  {
   "cell_type": "code",
   "execution_count": null,
   "metadata": {},
   "outputs": [],
   "source": [
    "fig = plt.figure()\n",
    "ax = fig.gca(projection='3d')\n",
    "ax.plot(rwtco[0][0], rwtco[0][1], rwtco[0][2], 'c', linewidth=1)# Plot the BH orbit\n",
    "ax.plot(rwtco[1][0], rwtco[1][1], rwtco[1][2], 'm', linewidth=1)# Plot the star orbit\n",
    "ax.scatter3D(rwtco[0][0][-1], rwtco[0][1][-1], rwtco[0][2][-1], 'o', c='black') #s=100\n",
    "ax.scatter3D(rwtco[1][0][-1], rwtco[1][1][-1], rwtco[1][2][-1], '0', c='orange') #s=10\n",
    "ax.legend()\n",
    "#ax.set_xticks([])\n",
    "#ax.set_yticks([])\n",
    "#ax.set_zticks([])\n",
    "#ax.set_xlim3d(-1,1)\n",
    "#ax.set_ylim3d(-1,1)\n",
    "#ax.set_xlim3d(min(min(posbh1x), min(posbh2x)), max(max(posbh1x), max(posbh2x)))\n",
    "#ax.set_ylim3d(min(min(posbh1y), min(posbh2y)), max(max(posbh1y), max(posbh2y)))\n",
    "#ax.set_zlim3d(min(min(posbh1z), min(posbh2z)), max(max(posbh1z), max(posbh2z)))\n",
    "ax.set_xlabel('x')\n",
    "ax.set_ylabel('y')\n",
    "ax.set_zlabel('z')\n",
    "\n",
    "\n",
    "#plt.savefig('ne-circular10rt.png',bbox_inches='tight', dpi=300)#, dpi=300\n",
    "\n",
    "plt.show()"
   ]
  },
  {
   "cell_type": "code",
   "execution_count": null,
   "metadata": {},
   "outputs": [],
   "source": []
  },
  {
   "cell_type": "code",
   "execution_count": null,
   "metadata": {},
   "outputs": [],
   "source": []
  },
  {
   "cell_type": "code",
   "execution_count": null,
   "metadata": {},
   "outputs": [],
   "source": []
  },
  {
   "cell_type": "code",
   "execution_count": null,
   "metadata": {},
   "outputs": [],
   "source": []
  },
  {
   "cell_type": "code",
   "execution_count": null,
   "metadata": {},
   "outputs": [],
   "source": [
    "bh3.radi"
   ]
  },
  {
   "cell_type": "code",
   "execution_count": null,
   "metadata": {},
   "outputs": [],
   "source": [
    "#Define binary\n",
    "bh3ns10rt = md.Binary(bh3, ns, 4*ns.radi, 0)\n",
    "\n",
    "rt = 2\n",
    "\n",
    "bh3nsco = md.Binary(bh3, ns, rt*bh3ns10rt.tidalrsec, 0) ##primary, secondary, orbital distance (Rsun), eccentricity\n",
    "\n",
    "\n",
    "#bh3nsco.orbd = rt*bh3nsco.tidalrsec\n",
    "\n",
    "print(bh3nsco.orbd)\n",
    "print(bh3nsco.tideeffsec)\n",
    "\n",
    "print(ns.radi)\n",
    "print(bh3nsco.tidalrsec)\n"
   ]
  },
  {
   "cell_type": "code",
   "execution_count": null,
   "metadata": {},
   "outputs": [],
   "source": [
    "accu = 0.001 # Set accuracy parameter 0.0000000001  works good, try add another 0\n",
    "tl = 1*bh3nsco.periodct #Time of the simulation in [cpde units]\n",
    "timelimit = tl #\n",
    "dt = 0.0001 # 0.0001 working better \n",
    "Nsteps = int(tl/dt)#Number of timesteps with the guessed timestep \n",
    "\n",
    "\n",
    "#Better accuracy\n",
    "#accu = 0.00000000001 # Set accuracy parameter 0.0000000001  works good, try add another 0\n",
    "#tl = 0.15*bh3nsrt.periodct #Time of the simulation in [cpde units]\n",
    "#timelimit = tl #\n",
    "#dt = 0.0005 # 0.0001 working better \n",
    "#Nsteps = int(tl/dt)#Number of timesteps with the guessed timestep \n"
   ]
  },
  {
   "cell_type": "code",
   "execution_count": null,
   "metadata": {},
   "outputs": [],
   "source": [
    "rwtco,vwtco,aTco,adotTco,aNco,adotNco,dtpwtco,timewtco = Hermite4thtidedt(bh3,ns, bh3nsco, Nsteps, dt)"
   ]
  },
  {
   "cell_type": "code",
   "execution_count": null,
   "metadata": {},
   "outputs": [],
   "source": [
    "print(max(dtpwtco))\n",
    "print(min(dtpwtco[1:]))"
   ]
  },
  {
   "cell_type": "code",
   "execution_count": null,
   "metadata": {},
   "outputs": [],
   "source": [
    "aTcoc = aTco + adotTco*dtpwtco#Acceleration corrected\n",
    "aNcoc = aNco + adotNco*dtpwtco\n",
    "\n",
    "aratioco = np.zeros_like(aNco[1].T)\n",
    "for i in range(len(aNco[1].T)-1):\n",
    "    aratioco[i+1][0] = (aTcoc[1].T[i+1][0])/(aNcoc[1].T[i+1][0])\n",
    "    aratioco[i+1][1] = (aTcoc[1].T[i+1][1])/(aNcoc[1].T[i+1][1])\n",
    "    #print(aratio[i][1])\n",
    "    \n",
    "#define relative position\n",
    "relposTco = rwtco[1].T - rwtco[0].T \n",
    "#define relative velocity\n",
    "relvelTco = vwtco[1].T - vwtco[0].T\n",
    "\n",
    "normrelposTco = np.zeros([len(relposTco), 1]) \n",
    "normrelvelTco = np.zeros([len(relvelTco), 1]) \n",
    "\n",
    "for i in range(len(normrelposTco)):\n",
    "    normrelposTco[i] = np.sqrt(relposTco[i][0]**2 + relposTco[i][1]**2 + relposTco[i][2]**2)\n",
    "    normrelvelTco[i] = np.sqrt(relvelTco[i][0]**2 + relvelTco[i][1]**2 + relvelTco[i][2]**2)\n",
    "    \n",
    "print(len(normrelposTco.T[0]))\n",
    "print(min(normrelposTco))\n",
    "print(max(normrelposTco))"
   ]
  },
  {
   "cell_type": "code",
   "execution_count": null,
   "metadata": {},
   "outputs": [],
   "source": [
    "print(min(normrelposTco)/bh3nsco.tidalrsec)"
   ]
  },
  {
   "cell_type": "code",
   "execution_count": null,
   "metadata": {},
   "outputs": [],
   "source": [
    "n_exco = (normrelposTco.T[0]**6)*(1./9)*(1.*ns.mass/bh3.mass)*(aratioco.T[0] - 1) \n",
    "n_eyco = (normrelposTco.T[0]**6)*(1./9)*(1.*ns.mass/bh3.mass)*(aratioco.T[1] - 1)"
   ]
  },
  {
   "cell_type": "code",
   "execution_count": null,
   "metadata": {},
   "outputs": [],
   "source": [
    "plt.plot(timewtco[1:], n_exco[1:], 'c-', label = r'$n_{E}$', alpha = 1)\n",
    "#plt.plot(timearrayN.T[0][2:], n_ey[1:], 'b-', label = r'$n_{Ey}$', alpha = 0.5)\n",
    "#plt.plot(timearrayT[1:], posydif, 'b-', label = r'$\\Delta y$', alpha = 0.8)\n",
    "\n",
    "#plt.plot(timeave, dynstave.T[1], 'b-', label = r'$star$', alpha = 0.8)\n",
    "#plt.plot(time[1:], n_e.T[2], 'g-', label = r'$n_{ez}$', alpha = 0.8)\n",
    "#plt.xlim(0,30)\n",
    "#plt.ylim(0.0955,0.09555)\n",
    "plt.xlabel('code time')\n",
    "plt.ylabel(r'$n_{E}$',rotation=0)\n",
    "\n",
    "plt.title(r'$n_{E}$ circular orbit')\n",
    "plt.legend()\n",
    "plt.savefig('ne-evolution-circular-0.001-3rt.png', bbox_inches='tight', dpi=300)#, dpi=300\n",
    "\n",
    "plt.show()"
   ]
  },
  {
   "cell_type": "code",
   "execution_count": null,
   "metadata": {},
   "outputs": [],
   "source": [
    "print(min(n_exco[1:]))\n",
    "print(max(n_exco))\n",
    "print(ns.ntide)"
   ]
  },
  {
   "cell_type": "code",
   "execution_count": null,
   "metadata": {},
   "outputs": [],
   "source": [
    "print(min(n_exco[1:]))\n",
    "print(max(n_exco))\n",
    "print(ns.ntide)"
   ]
  },
  {
   "cell_type": "code",
   "execution_count": null,
   "metadata": {},
   "outputs": [],
   "source": [
    "fig = plt.figure()\n",
    "ax = fig.gca(projection='3d')\n",
    "ax.plot(rwtco[0][0], rwtco[0][1], rwtco[0][2], 'c', linewidth=1)# Plot the BH orbit\n",
    "ax.plot(rwtco[1][0], rwtco[1][1], rwtco[1][2], 'm', linewidth=1)# Plot the star orbit\n",
    "ax.scatter3D(rwtco[0][0][-1], rwtco[0][1][-1], rwtco[0][2][-1], 'o', c='black') #s=100\n",
    "ax.scatter3D(rwtco[1][0][-1], rwtco[1][1][-1], rwtco[1][2][-1], '0', c='orange') #s=10\n",
    "ax.legend()\n",
    "#ax.set_xticks([])\n",
    "#ax.set_yticks([])\n",
    "#ax.set_zticks([])\n",
    "#ax.set_xlim3d(-1,1)\n",
    "#ax.set_ylim3d(-1,1)\n",
    "#ax.set_xlim3d(min(min(posbh1x), min(posbh2x)), max(max(posbh1x), max(posbh2x)))\n",
    "#ax.set_ylim3d(min(min(posbh1y), min(posbh2y)), max(max(posbh1y), max(posbh2y)))\n",
    "#ax.set_zlim3d(min(min(posbh1z), min(posbh2z)), max(max(posbh1z), max(posbh2z)))\n",
    "ax.set_xlabel('x')\n",
    "ax.set_ylabel('y')\n",
    "ax.set_zlabel('z')\n",
    "\n",
    "\n",
    "#plt.savefig('ne-circular10rt.png',bbox_inches='tight', dpi=300)#, dpi=300\n",
    "\n",
    "plt.show()"
   ]
  },
  {
   "cell_type": "code",
   "execution_count": null,
   "metadata": {},
   "outputs": [],
   "source": []
  },
  {
   "cell_type": "markdown",
   "metadata": {},
   "source": [
    "# Parabolic Orbit "
   ]
  },
  {
   "cell_type": "code",
   "execution_count": null,
   "metadata": {},
   "outputs": [],
   "source": [
    "#Define ns\n",
    "ns = md.Particle(\"NS\",1.2,8.89,0) #stellar type, mass, radius, spin. At the momento for black holes choose r=0 and will set the Schwarzchild radius\n",
    "#Define bh\n",
    "bh3 = md.Particle(\"BH\",5,0,0) #stellar type, mass, radius, spin. At the momento for black holes choose r=0 and will set the Schwarzchild radius\n",
    "\n",
    "#Define binary\n",
    "nsns = md.Binary(ns, ns, ns.radi*10, 0) ##primary, secondary, orbital distance (Rsun), eccentricity \n",
    "bh3ns = md.Binary(ns, bh3, ns.radi*10, 0)\n",
    "\n",
    "bh3nsrt = md.Binary(bh3, ns, 15*bh3ns.tidalrsec, 0)\n",
    "\n",
    "#Define ns\n",
    "ns = md.Particle(\"NS\",1.2,8.89,0) #stellar type, mass, radius, spin. At the momento for black holes choose r=0 and will set the Schwarzchild radius\n",
    "#Define bh\n",
    "bh3 = md.Particle(\"BH\",5,0,0) #stellar type, mass, radius, spin. At the momento for black holes choose r=0 and will set the Schwarzchild radius\n",
    "\n",
    "bh3nsp = md.Binary(bh3, ns, 442, 0) #Orbital distance is changed\n",
    "\n",
    "#15 tidal radius distance\n",
    "bh3nsp.r[0] =np.array([24.26435111, 33.74222957, 0.])\n",
    "bh3nsp.r[1] = np.array([-101.10146295, -140.5926232, 0.])\n",
    "bh3nsp.v[0] = np.array([-0.04138964, -0.02121636, 0.])\n",
    "bh3nsp.v[1] = np.array([0.17245682, 0.08840148, 0.])\n",
    "\n",
    "#30 tidal radius distance\n",
    "#bh3nsp.r[0] = np.array([68.20417117, 51.56082482, 0. ])\n",
    "#bh3nsp.r[1] = np.array([-284.18404651, -214.83677007, 0.])\n",
    "\n",
    "#bh3nsp.v[0] = np.array([-0.03074346, -0.01031287, 0.])\n",
    "#bh3nsp.v[1] = np.array([0.12809776, 0.04297029, 0. ])\n",
    "\n",
    "print(bh3nsrt.orbd)\n",
    "print(bh3nsrt.tideeffsec)\n",
    "\n",
    "print(ns.radi)\n",
    "print(bh3ns.tidalrsec)"
   ]
  },
  {
   "cell_type": "code",
   "execution_count": null,
   "metadata": {},
   "outputs": [],
   "source": []
  },
  {
   "cell_type": "code",
   "execution_count": null,
   "metadata": {},
   "outputs": [],
   "source": [
    "accu = 0.0000000001 # Set accuracy parameter 0.0000000001  works good, try add another 0\n",
    "tl = 0.18*bh3nsrt.periodct #Time of the simulation in [cpde units]\n",
    "timelimit = tl #\n",
    "dt = 0.0001 # 0.0001 working better \n",
    "Nsteps = int(tl/dt)#Number of timesteps with the guessed timestep \n",
    "\n",
    "\n",
    "#Better accuracy\n",
    "#accu = 0.00000000001 # Set accuracy parameter 0.0000000001  works good, try add another 0\n",
    "#tl = 0.15*bh3nsrt.periodct #Time of the simulation in [cpde units]\n",
    "#timelimit = tl #\n",
    "#dt = 0.0005 # 0.0001 working better \n",
    "#Nsteps = int(tl/dt)#Number of timesteps with the guessed timestep \n"
   ]
  },
  {
   "cell_type": "code",
   "execution_count": null,
   "metadata": {},
   "outputs": [],
   "source": [
    "rwt,vwt,aT,adotT,aN,adotN,dtpwt,timewt = Hermite4thtidedt(bh3,ns, bh3nsp, Nsteps, dt)"
   ]
  },
  {
   "cell_type": "code",
   "execution_count": null,
   "metadata": {},
   "outputs": [],
   "source": [
    "print(max(dtpwt))\n",
    "print(min(dtpwt[1:]))"
   ]
  },
  {
   "cell_type": "code",
   "execution_count": null,
   "metadata": {},
   "outputs": [],
   "source": [
    "aTc = aT + adotT*dtpwt#Acceleration corrected\n",
    "aNc = aN + adotN*dtpwt\n",
    "\n",
    "aratio = np.zeros_like(aN[1].T)\n",
    "for i in range(len(aN[1].T)-1):\n",
    "    aratio[i+1][0] = (aTc[1].T[i+1][0])/(aNc[1].T[i+1][0])\n",
    "    aratio[i+1][1] = (aTc[1].T[i+1][1])/(aNc[1].T[i+1][1])\n",
    "    #print(aratio[i][1])\n",
    "    \n",
    "#define relative position\n",
    "relposT = rwt[1].T - rwt[0].T \n",
    "#define relative velocity\n",
    "relvelT = vwt[1].T - vwt[0].T\n",
    "\n",
    "normrelposT = np.zeros([len(relposT), 1]) \n",
    "normrelvelT = np.zeros([len(relvelT), 1]) \n",
    "\n",
    "for i in range(len(normrelposT)):\n",
    "    normrelposT[i] = np.sqrt(relposT[i][0]**2 + relposT[i][1]**2 + relposT[i][2]**2)\n",
    "    normrelvelT[i] = np.sqrt(relvelT[i][0]**2 + relvelT[i][1]**2 + relvelT[i][2]**2)\n",
    "    \n",
    "print(len(normrelposT.T[0]))\n",
    "print(min(normrelposT))\n",
    "print(max(normrelposT))"
   ]
  },
  {
   "cell_type": "code",
   "execution_count": null,
   "metadata": {},
   "outputs": [],
   "source": [
    "print(min(normrelposT))\n",
    "print(bh3ns.tidalrsec)\n",
    "print(min(normrelposT)/bh3ns.tidalrsec)"
   ]
  },
  {
   "cell_type": "code",
   "execution_count": null,
   "metadata": {},
   "outputs": [],
   "source": [
    "print(max(normrelposT))\n",
    "print(max(normrelposT)/bh3ns.tidalrsec)"
   ]
  },
  {
   "cell_type": "code",
   "execution_count": null,
   "metadata": {},
   "outputs": [],
   "source": []
  },
  {
   "cell_type": "code",
   "execution_count": null,
   "metadata": {},
   "outputs": [],
   "source": [
    "n_ex = (normrelposT.T[0]**5)*(1./9)*(1.*ns.mass/bh3.mass)*(aratio.T[0] - 1) \n",
    "n_ey = (normrelposT.T[0]**5)*(1./9)*(1.*ns.mass/bh3.mass)*(aratio.T[1] - 1)"
   ]
  },
  {
   "cell_type": "code",
   "execution_count": null,
   "metadata": {},
   "outputs": [],
   "source": [
    "plt.plot(timewt[1:], n_ex[1:], 'm-', label = r'$n_{E}$', alpha = 1)\n",
    "#plt.plot(timearrayN.T[0][2:], n_ey[1:], 'b-', label = r'$n_{Ey}$', alpha = 0.5)\n",
    "#plt.plot(timearrayT[1:], posydif, 'b-', label = r'$\\Delta y$', alpha = 0.8)\n",
    "\n",
    "#plt.plot(timeave, dynstave.T[1], 'b-', label = r'$star$', alpha = 0.8)\n",
    "#plt.plot(time[1:], n_e.T[2], 'g-', label = r'$n_{ez}$', alpha = 0.8)\n",
    "#plt.xlim(0,30)\n",
    "#plt.ylim(13917.5,13917.8)\n",
    "plt.xlabel('code time')\n",
    "plt.ylabel(r'$n_{E}$',rotation=0)\n",
    "\n",
    "plt.title(r'$n_{E}$ evolution in parabolic orbit')\n",
    "plt.legend()\n",
    "#plt.savefig('time-vs-ne-parabolicrp3rt.eps', bbox_inches='tight')#, dpi=300\n",
    "\n",
    "plt.show()"
   ]
  },
  {
   "cell_type": "code",
   "execution_count": null,
   "metadata": {},
   "outputs": [],
   "source": [
    "print(min(n_ex[1:]))\n",
    "print(max(n_ex))\n",
    "print(ns.ntide)"
   ]
  },
  {
   "cell_type": "code",
   "execution_count": null,
   "metadata": {},
   "outputs": [],
   "source": [
    "fig = plt.figure()\n",
    "ax = fig.gca(projection='3d')\n",
    "ax.plot(rwt[0][0], rwt[0][1], rwt[0][2], 'c', linewidth=1)# Plot the BH orbit\n",
    "ax.plot(rwt[1][0], rwt[1][1], rwt[1][2], 'm', linewidth=1)# Plot the star orbit\n",
    "ax.scatter3D(rwt[0][0][-1], rwt[0][1][-1], rwt[0][2][-1], 'o', c='black' ) #s=100\n",
    "ax.scatter3D(rwt[1][0][-1], rwt[1][1][-1], rwt[1][2][-1], 'o', c='orange') #s=10\n",
    "ax.legend()\n",
    "#ax.set_xticks([])\n",
    "#ax.set_yticks([])\n",
    "#ax.set_zticks([])\n",
    "#ax.set_xlim3d(-1,1)\n",
    "#ax.set_ylim3d(-1,1)\n",
    "#ax.set_xlim3d(min(min(posbh1x), min(posbh2x)), max(max(posbh1x), max(posbh2x)))\n",
    "#ax.set_ylim3d(min(min(posbh1y), min(posbh2y)), max(max(posbh1y), max(posbh2y)))\n",
    "#ax.set_zlim3d(min(min(posbh1z), min(posbh2z)), max(max(posbh1z), max(posbh2z)))\n",
    "ax.set_xlabel('x(m)')\n",
    "ax.set_ylabel('y(m)')\n",
    "ax.set_zlabel('z(m)')\n",
    "\n",
    "\n",
    "#plt.savefig('ne-parabolicrp3rt.eps', bbox_inches='tight')#, dpi=300\n",
    "\n",
    "plt.show()"
   ]
  },
  {
   "cell_type": "code",
   "execution_count": null,
   "metadata": {},
   "outputs": [],
   "source": [
    "bh3.radi\n",
    "ns.radi"
   ]
  }
 ],
 "metadata": {
  "kernelspec": {
   "display_name": "Python 3",
   "language": "python",
   "name": "python3"
  },
  "language_info": {
   "codemirror_mode": {
    "name": "ipython",
    "version": 3
   },
   "file_extension": ".py",
   "mimetype": "text/x-python",
   "name": "python",
   "nbconvert_exporter": "python",
   "pygments_lexer": "ipython3",
   "version": "3.7.6"
  }
 },
 "nbformat": 4,
 "nbformat_minor": 4
}
