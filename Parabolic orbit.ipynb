{
 "cells": [
  {
   "cell_type": "code",
   "execution_count": 132,
   "metadata": {},
   "outputs": [],
   "source": [
    "import numpy as np\n",
    "import time\n",
    "import math\n",
    "import modules as md\n",
    "import nbodysolver as nbs\n",
    "\n",
    "#------------------------------------------------------------------------------------------\n",
    "#Units and conversions:\n",
    "#------------------------------------------------------------------------------------------\n",
    "#code units: Rsun, Msun, G=1, ...\n",
    "c_SI       = 299792458.0        #m/s\n",
    "M_sun_SI   = 1.989*(10.**30.)   #kg\n",
    "R_sun_SI   = 695800000.         #m\n",
    "AU_SI      = 149597871000.      #m \n",
    "G_new_SI   = 6.67*(10.**(-11.)) #m**3 kg**(-1) s**(-2)\n",
    "AU_U       = AU_SI/R_sun_SI                             #from dist AU to code units (U)\n",
    "kmsec_U    = 1000./np.sqrt(G_new_SI*M_sun_SI/R_sun_SI)  #from vel km/sec to code units (U)\n",
    "time_U     = np.sqrt((R_sun_SI**3)/(G_new_SI*M_sun_SI)) #from code units(U) to time sec\n",
    "Rsch_1Msun_unitRsun = ((2.*G_new_SI*(1.*M_sun_SI))/(c_SI**2.))/R_sun_SI"
   ]
  },
  {
   "cell_type": "code",
   "execution_count": 133,
   "metadata": {},
   "outputs": [],
   "source": [
    "s1 = md.Particle(\"WD\",1,1, 0) #Type, mass, radius, spin\n",
    "bh2 = md.Particle(\"BH\",2,0,0)\n"
   ]
  },
  {
   "cell_type": "code",
   "execution_count": 134,
   "metadata": {},
   "outputs": [],
   "source": [
    "bh2s1 = md.Binary(bh2, s1, 10, 0 ) ##primary, secondary, orbital distance (Rsun), eccentricity \n",
    "dtidal = bh2s1.tidalrsec"
   ]
  },
  {
   "cell_type": "code",
   "execution_count": 135,
   "metadata": {},
   "outputs": [],
   "source": [
    "#Set tides and spin off"
   ]
  },
  {
   "cell_type": "code",
   "execution_count": 136,
   "metadata": {},
   "outputs": [],
   "source": [
    "#Set it in a circular orbit of the pericenter distance to evaluate the tidal effects at this point\n",
    "\n",
    "rt35rp = dtidal*3.5\n",
    "rt47rp = dtidal*4.7\n",
    "rt10 = dtidal*10.0\n",
    "\n",
    "bh2s1r3_5c = md.Binary(bh2, s1, rt35rp, 0)\n",
    "\n",
    "bh2s1r4_7c = md.Binary(bh2, s1, rt47rp, 0)\n"
   ]
  },
  {
   "cell_type": "code",
   "execution_count": 170,
   "metadata": {},
   "outputs": [
    {
     "data": {
      "text/plain": [
       "4.4097236746320565"
      ]
     },
     "execution_count": 170,
     "metadata": {},
     "output_type": "execute_result"
    }
   ],
   "source": [
    "rt35rp"
   ]
  },
  {
   "cell_type": "code",
   "execution_count": 137,
   "metadata": {},
   "outputs": [
    {
     "name": "stdout",
     "output_type": "stream",
     "text": [
      "0.001031114529562515\n",
      "0.0002361336274147283\n"
     ]
    }
   ],
   "source": [
    "print(bh2s1r3_5c.tideeffsec)\n",
    "print(bh2s1r4_7c.tideeffsec)"
   ]
  },
  {
   "cell_type": "code",
   "execution_count": 138,
   "metadata": {},
   "outputs": [
    {
     "name": "stdout",
     "output_type": "stream",
     "text": [
      "12.599210498948732\n"
     ]
    }
   ],
   "source": [
    "print(rt10)"
   ]
  },
  {
   "cell_type": "markdown",
   "metadata": {},
   "source": [
    "# Set up parabolic orbit\n",
    "We do it by setting an elliptic orbit with eccentricity 0.99999"
   ]
  },
  {
   "cell_type": "code",
   "execution_count": 139,
   "metadata": {},
   "outputs": [],
   "source": [
    "ecce = 0.99999\n",
    "mean = 0 #(1./2)*np.pi\n",
    "\n",
    "runsim = np.array([350000,470000])#Run sim at [3.5,4.7] tidal radius\n",
    "\n"
   ]
  },
  {
   "cell_type": "code",
   "execution_count": 140,
   "metadata": {},
   "outputs": [],
   "source": [
    "bh2s1r3_5e = md.Binaryecc(bh2, s1, dtidal*runsim[0], ecce, mean)\n",
    "\n",
    "bh2s1r4_7e = md.Binaryecc(bh2, s1, dtidal*runsim[1], ecce, mean)"
   ]
  },
  {
   "cell_type": "code",
   "execution_count": 141,
   "metadata": {},
   "outputs": [
    {
     "name": "stdout",
     "output_type": "stream",
     "text": [
      "[[ 1.46990789 -0.         -0.        ]\n",
      " [-2.93981578  0.          0.        ]]\n",
      "[[ 1.97387631 -0.         -0.        ]\n",
      " [-3.94775262  0.          0.        ]]\n"
     ]
    }
   ],
   "source": [
    "print(bh2s1r3_5e.r)\n",
    "print(bh2s1r4_7e.r)"
   ]
  },
  {
   "cell_type": "markdown",
   "metadata": {},
   "source": [
    "Check that the pericenter distance matches "
   ]
  },
  {
   "cell_type": "code",
   "execution_count": 142,
   "metadata": {},
   "outputs": [
    {
     "name": "stdout",
     "output_type": "stream",
     "text": [
      "4.409723674610163\n",
      "4.4097236746320565\n",
      "5.921628934476505\n",
      "5.921628934505904\n"
     ]
    }
   ],
   "source": [
    "print(np.linalg.norm(bh2s1r3_5e.r[0] - bh2s1r3_5e.r[1]))\n",
    "print(rt35rp)\n",
    "print(np.linalg.norm(bh2s1r4_7e.r[0] - bh2s1r4_7e.r[1]))\n",
    "print(rt47rp)"
   ]
  },
  {
   "cell_type": "markdown",
   "metadata": {},
   "source": [
    "Run a simulation with an accuracy of 10^-5"
   ]
  },
  {
   "cell_type": "code",
   "execution_count": 143,
   "metadata": {},
   "outputs": [],
   "source": [
    "NP = 0.7 #Number of periods in code units you want to simulate\n",
    "tfinal = NP*bh2s1r3_5c.periodct #Final time in code units\n",
    "Nsteps = int(1000*NP*tfinal) #Fix the first coefficient to change accuracy \n",
    "dt = tfinal/(Nsteps-1)  # fixed time step\n"
   ]
  },
  {
   "cell_type": "code",
   "execution_count": 144,
   "metadata": {},
   "outputs": [
    {
     "data": {
      "text/plain": [
       "16460"
      ]
     },
     "execution_count": 144,
     "metadata": {},
     "output_type": "execute_result"
    }
   ],
   "source": [
    "Nsteps"
   ]
  },
  {
   "cell_type": "code",
   "execution_count": 145,
   "metadata": {},
   "outputs": [
    {
     "name": "stdout",
     "output_type": "stream",
     "text": [
      "0.0014286666276846064\n"
     ]
    }
   ],
   "source": [
    "print(dt)"
   ]
  },
  {
   "cell_type": "code",
   "execution_count": 167,
   "metadata": {},
   "outputs": [
    {
     "data": {
      "text/plain": [
       "317480.21039364"
      ]
     },
     "execution_count": 167,
     "metadata": {},
     "output_type": "execute_result"
    }
   ],
   "source": [
    "rt10**5"
   ]
  },
  {
   "cell_type": "code",
   "execution_count": 169,
   "metadata": {},
   "outputs": [
    {
     "data": {
      "text/plain": [
       "1667.4655925268464"
      ]
     },
     "execution_count": 169,
     "metadata": {},
     "output_type": "execute_result"
    }
   ],
   "source": [
    "rt35rp**5"
   ]
  },
  {
   "cell_type": "code",
   "execution_count": 146,
   "metadata": {},
   "outputs": [],
   "source": [
    "r,v = nbs.Hermite4th(bh2,s1, bh2s1r3_5e, Nsteps, dt)"
   ]
  },
  {
   "cell_type": "code",
   "execution_count": 147,
   "metadata": {},
   "outputs": [
    {
     "name": "stderr",
     "output_type": "stream",
     "text": [
      "No handles with labels found to put in legend.\n"
     ]
    },
    {
     "data": {
      "image/png": "[encoded data removed]",
      "text/plain": [
       "<Figure size 432x288 with 1 Axes>"
      ]
     },
     "metadata": {
      "needs_background": "light"
     },
     "output_type": "display_data"
    }
   ],
   "source": [
    "%matplotlib inline\n",
    "import matplotlib.pyplot as plt\n",
    "import matplotlib as mpl\n",
    "from mpl_toolkits.mplot3d import Axes3D\n",
    "import matplotlib.pyplot as plt\n",
    "\n",
    "fig = plt.figure()\n",
    "ax = fig.gca(projection='3d')\n",
    "ax.plot(r[0][0], r[0][1], r[0][2], 'r', linewidth=1)# Plot the BH orbit\n",
    "ax.plot(r[1][0], r[1][1], r[1][2], 'b', linewidth=1)# Plot the star orbit\n",
    "#ax.scatter3D(simulation[0][0][0], simulation[0][0][1], simulation[0][0][2], 'o', c='black') #s=100\n",
    "#ax.scatter3D(simulation[2][0][0], simulation[2][0][1], simulation[2][0][2], 'o', c='black') #s=10\n",
    "ax.legend()\n",
    "#ax.set_xticks([])\n",
    "#ax.set_yticks([])\n",
    "#ax.set_zticks([])\n",
    "#ax.set_xlim3d(-1,1)\n",
    "#ax.set_ylim3d(-1,1)\n",
    "#ax.set_xlim3d(min(min(posbh1x), min(posbh2x)), max(max(posbh1x), max(posbh2x)))\n",
    "#ax.set_ylim3d(min(min(posbh1y), min(posbh2y)), max(max(posbh1y), max(posbh2y)))\n",
    "#ax.set_zlim3d(min(min(posbh1z), min(posbh2z)), max(max(posbh1z), max(posbh2z)))\n",
    "ax.set_xlabel('x')\n",
    "ax.set_ylabel('y')\n",
    "ax.set_zlabel('z')\n",
    "\n",
    "\n",
    "#plt.savefig('starbh-withoutspin.eps', format='eps')#, dpi=200\n",
    "\n",
    "plt.show()"
   ]
  },
  {
   "cell_type": "code",
   "execution_count": 148,
   "metadata": {},
   "outputs": [
    {
     "name": "stdout",
     "output_type": "stream",
     "text": [
      "16.26885506946414\n"
     ]
    }
   ],
   "source": [
    "nf = Nsteps -1\n",
    "print(np.linalg.norm(r[0].T[nf] - r[1].T[nf]))"
   ]
  },
  {
   "cell_type": "code",
   "execution_count": 149,
   "metadata": {},
   "outputs": [
    {
     "name": "stdout",
     "output_type": "stream",
     "text": [
      "12.599210498948732\n"
     ]
    }
   ],
   "source": [
    "print(rt10)"
   ]
  },
  {
   "cell_type": "code",
   "execution_count": 150,
   "metadata": {},
   "outputs": [
    {
     "name": "stdout",
     "output_type": "stream",
     "text": [
      "16459\n"
     ]
    }
   ],
   "source": [
    "print(nf)"
   ]
  },
  {
   "cell_type": "code",
   "execution_count": 151,
   "metadata": {},
   "outputs": [
    {
     "name": "stdout",
     "output_type": "stream",
     "text": [
      "23354\n"
     ]
    }
   ],
   "source": [
    "print(2*11677)"
   ]
  },
  {
   "cell_type": "code",
   "execution_count": 152,
   "metadata": {},
   "outputs": [
    {
     "name": "stdout",
     "output_type": "stream",
     "text": [
      "12.599326282897968\n"
     ]
    }
   ],
   "source": [
    "nf = 11677\n",
    "print(np.linalg.norm(r[0].T[nf] - r[1].T[nf]))"
   ]
  },
  {
   "cell_type": "markdown",
   "metadata": {},
   "source": [
    "Obtain the initial conditions from this point\n",
    "Change the the velocity with a minus sign so it heads to opposit direction"
   ]
  },
  {
   "cell_type": "code",
   "execution_count": 153,
   "metadata": {},
   "outputs": [
    {
     "name": "stdout",
     "output_type": "stream",
     "text": [
      "[-1.25998694  4.00631334  0.        ]\n",
      "[ 0.18545503 -0.13608291 -0.        ]\n",
      "[ 2.51997389 -8.01262667  0.        ]\n",
      "[-0.37091006  0.27216582 -0.        ]\n"
     ]
    }
   ],
   "source": [
    "print(r[0].T[nf])\n",
    "print(-v[0].T[nf])\n",
    "print(r[1].T[nf])\n",
    "print(-v[1].T[nf])"
   ]
  },
  {
   "cell_type": "code",
   "execution_count": 154,
   "metadata": {},
   "outputs": [],
   "source": [
    "r35IC = np.array([r[0].T[nf], r[1].T[nf]])\n",
    "v35IC = np.array([-v[0].T[nf], -v[1].T[nf]])\n",
    "t35IC = 2*nf*dt #(two times the time that it took the star to get to the IC)"
   ]
  },
  {
   "cell_type": "code",
   "execution_count": 155,
   "metadata": {},
   "outputs": [
    {
     "name": "stdout",
     "output_type": "stream",
     "text": [
      "[[-1.25998694  4.00631334  0.        ]\n",
      " [ 2.51997389 -8.01262667  0.        ]]\n",
      "[[ 0.18545503 -0.13608291 -0.        ]\n",
      " [-0.37091006  0.27216582 -0.        ]]\n",
      "33.3650804229463\n"
     ]
    }
   ],
   "source": [
    "print(r35IC)\n",
    "print(v35IC)\n",
    "print(t35IC)"
   ]
  },
  {
   "cell_type": "code",
   "execution_count": null,
   "metadata": {},
   "outputs": [],
   "source": []
  },
  {
   "cell_type": "code",
   "execution_count": null,
   "metadata": {},
   "outputs": [],
   "source": []
  },
  {
   "cell_type": "markdown",
   "metadata": {},
   "source": [
    "rp = 4.7rt"
   ]
  },
  {
   "cell_type": "code",
   "execution_count": 156,
   "metadata": {},
   "outputs": [],
   "source": [
    "NP = 0.7 #Number of periods in code units you want to simulate\n",
    "tfinal = NP*bh2s1r4_7c.periodct #Final time in code units\n",
    "Nsteps = int(1000*NP*tfinal) #Fix the first coefficient to change accuracy \n",
    "dt = tfinal/(Nsteps-1)  # fixed time step\n"
   ]
  },
  {
   "cell_type": "code",
   "execution_count": 157,
   "metadata": {},
   "outputs": [
    {
     "name": "stdout",
     "output_type": "stream",
     "text": [
      "0.0014286819984148595\n"
     ]
    }
   ],
   "source": [
    "print(dt)"
   ]
  },
  {
   "cell_type": "code",
   "execution_count": 158,
   "metadata": {},
   "outputs": [],
   "source": [
    "r,v = nbs.Hermite4th(bh2,s1, bh2s1r4_7e, Nsteps, dt)"
   ]
  },
  {
   "cell_type": "code",
   "execution_count": 159,
   "metadata": {},
   "outputs": [
    {
     "name": "stderr",
     "output_type": "stream",
     "text": [
      "No handles with labels found to put in legend.\n"
     ]
    },
    {
     "data": {
      "image/png": "[encoded data removed]",
      "text/plain": [
       "<Figure size 432x288 with 1 Axes>"
      ]
     },
     "metadata": {
      "needs_background": "light"
     },
     "output_type": "display_data"
    }
   ],
   "source": [
    "fig = plt.figure()\n",
    "ax = fig.gca(projection='3d')\n",
    "ax.plot(r[0][0], r[0][1], r[0][2], 'r', linewidth=1)# Plot the BH orbit\n",
    "ax.plot(r[1][0], r[1][1], r[1][2], 'b', linewidth=1)# Plot the star orbit\n",
    "#ax.scatter3D(simulation[0][0][0], simulation[0][0][1], simulation[0][0][2], 'o', c='black') #s=100\n",
    "#ax.scatter3D(simulation[2][0][0], simulation[2][0][1], simulation[2][0][2], 'o', c='black') #s=10\n",
    "ax.legend()\n",
    "#ax.set_xticks([])\n",
    "#ax.set_yticks([])\n",
    "#ax.set_zticks([])\n",
    "#ax.set_xlim3d(-1,1)\n",
    "#ax.set_ylim3d(-1,1)\n",
    "#ax.set_xlim3d(min(min(posbh1x), min(posbh2x)), max(max(posbh1x), max(posbh2x)))\n",
    "#ax.set_ylim3d(min(min(posbh1y), min(posbh2y)), max(max(posbh1y), max(posbh2y)))\n",
    "#ax.set_zlim3d(min(min(posbh1z), min(posbh2z)), max(max(posbh1z), max(posbh2z)))\n",
    "ax.set_xlabel('x')\n",
    "ax.set_ylabel('y')\n",
    "ax.set_zlabel('z')\n",
    "\n",
    "\n",
    "#plt.savefig('starbh-withoutspin.eps', format='eps')#, dpi=200\n",
    "\n",
    "plt.show()"
   ]
  },
  {
   "cell_type": "code",
   "execution_count": 160,
   "metadata": {},
   "outputs": [
    {
     "name": "stdout",
     "output_type": "stream",
     "text": [
      "21.84674824073899\n"
     ]
    }
   ],
   "source": [
    "nf = Nsteps -1\n",
    "print(np.linalg.norm(r[0].T[nf] - r[1].T[nf]))"
   ]
  },
  {
   "cell_type": "code",
   "execution_count": 161,
   "metadata": {},
   "outputs": [
    {
     "name": "stdout",
     "output_type": "stream",
     "text": [
      "12.599210498948732\n"
     ]
    }
   ],
   "source": [
    "print(rt10)"
   ]
  },
  {
   "cell_type": "code",
   "execution_count": 162,
   "metadata": {},
   "outputs": [
    {
     "data": {
      "text/plain": [
       "24066"
      ]
     },
     "execution_count": 162,
     "metadata": {},
     "output_type": "execute_result"
    }
   ],
   "source": [
    "2*12033"
   ]
  },
  {
   "cell_type": "code",
   "execution_count": 163,
   "metadata": {},
   "outputs": [
    {
     "name": "stdout",
     "output_type": "stream",
     "text": [
      "12.599589176917888\n"
     ]
    }
   ],
   "source": [
    "nf = 12033\n",
    "print(np.linalg.norm(r[0].T[nf] - r[1].T[nf]))"
   ]
  },
  {
   "cell_type": "code",
   "execution_count": 164,
   "metadata": {},
   "outputs": [],
   "source": [
    "r47IC = np.array([r[0].T[nf], r[1].T[nf]])\n",
    "v47IC = np.array([-v[0].T[nf], -v[1].T[nf]])\n",
    "t47IC = 2*nf*dt #(two times the time that it took the star to get to the IC)"
   ]
  },
  {
   "cell_type": "code",
   "execution_count": 165,
   "metadata": {},
   "outputs": [
    {
     "name": "stdout",
     "output_type": "stream",
     "text": [
      "34.382660973852005\n"
     ]
    }
   ],
   "source": [
    "print(t47IC)"
   ]
  },
  {
   "cell_type": "code",
   "execution_count": null,
   "metadata": {},
   "outputs": [],
   "source": []
  },
  {
   "cell_type": "markdown",
   "metadata": {},
   "source": [
    "Measure tidal effects at 10rt "
   ]
  },
  {
   "cell_type": "code",
   "execution_count": 91,
   "metadata": {},
   "outputs": [
    {
     "name": "stdout",
     "output_type": "stream",
     "text": [
      "5.4156068432366235e-06\n"
     ]
    }
   ],
   "source": [
    "bh2s1rt10 = md.Binary(bh2, s1, rt10, 0)\n",
    "print(bh2s1rt10.tideeffsec)"
   ]
  },
  {
   "cell_type": "code",
   "execution_count": 100,
   "metadata": {},
   "outputs": [
    {
     "name": "stdout",
     "output_type": "stream",
     "text": [
      "0.0014286819984148595\n"
     ]
    }
   ],
   "source": []
  },
  {
   "cell_type": "code",
   "execution_count": null,
   "metadata": {},
   "outputs": [],
   "source": []
  }
 ],
 "metadata": {
  "kernelspec": {
   "display_name": "Python 3",
   "language": "python",
   "name": "python3"
  },
  "language_info": {
   "codemirror_mode": {
    "name": "ipython",
    "version": 3
   },
   "file_extension": ".py",
   "mimetype": "text/x-python",
   "name": "python",
   "nbconvert_exporter": "python",
   "pygments_lexer": "ipython3",
   "version": "3.7.6"
  }
 },
 "nbformat": 4,
 "nbformat_minor": 4
}
